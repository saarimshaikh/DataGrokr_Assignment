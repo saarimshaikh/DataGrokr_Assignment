{
  "nbformat": 4,
  "nbformat_minor": 0,
  "metadata": {
    "colab": {
      "name": "DataGrokr1.ipynb",
      "provenance": [],
      "collapsed_sections": []
    },
    "kernelspec": {
      "name": "python3",
      "display_name": "Python 3"
    },
    "language_info": {
      "name": "python"
    }
  },
  "cells": [
    {
      "cell_type": "markdown",
      "source": [
        "#Section 1: Environment setup and data loading"
      ],
      "metadata": {
        "id": "UuoLWPEVuaQE"
      }
    },
    {
      "cell_type": "code",
      "source": [
        "!python --version"
      ],
      "metadata": {
        "colab": {
          "base_uri": "https://localhost:8080/"
        },
        "id": "dCsoUSMpv0nm",
        "outputId": "9e9d5f5f-2c9e-4e9d-97e9-2a57531494ef"
      },
      "execution_count": null,
      "outputs": [
        {
          "output_type": "stream",
          "name": "stdout",
          "text": [
            "Python 3.7.12\n"
          ]
        }
      ]
    },
    {
      "cell_type": "code",
      "source": [
        "!pwd"
      ],
      "metadata": {
        "colab": {
          "base_uri": "https://localhost:8080/"
        },
        "id": "nRAuHYaDw3WZ",
        "outputId": "6aebeebd-2923-4421-a809-e18d70d74e75"
      },
      "execution_count": null,
      "outputs": [
        {
          "output_type": "stream",
          "name": "stdout",
          "text": [
            "/content\n"
          ]
        }
      ]
    },
    {
      "cell_type": "code",
      "source": [
        "!apt-get install openjdk-8-jdk-headless -qq > /dev/null"
      ],
      "metadata": {
        "id": "NyGgMFmaxCtN"
      },
      "execution_count": null,
      "outputs": []
    },
    {
      "cell_type": "code",
      "source": [
        "!wget https://dlcdn.apache.org/spark/spark-3.2.1/spark-3.2.1-bin-hadoop3.2.tgz"
      ],
      "metadata": {
        "colab": {
          "base_uri": "https://localhost:8080/"
        },
        "id": "O_5bEryxxFLD",
        "outputId": "3af7e120-4261-4449-81d6-5813b4ed1015"
      },
      "execution_count": null,
      "outputs": [
        {
          "output_type": "stream",
          "name": "stdout",
          "text": [
            "--2022-02-22 22:36:33--  https://dlcdn.apache.org/spark/spark-3.2.1/spark-3.2.1-bin-hadoop3.2.tgz\n",
            "Resolving dlcdn.apache.org (dlcdn.apache.org)... 151.101.2.132, 2a04:4e42::644\n",
            "Connecting to dlcdn.apache.org (dlcdn.apache.org)|151.101.2.132|:443... connected.\n",
            "HTTP request sent, awaiting response... 200 OK\n",
            "Length: 300971569 (287M) [application/x-gzip]\n",
            "Saving to: ‘spark-3.2.1-bin-hadoop3.2.tgz.2’\n",
            "\n",
            "spark-3.2.1-bin-had 100%[===================>] 287.03M   319MB/s    in 0.9s    \n",
            "\n",
            "2022-02-22 22:36:34 (319 MB/s) - ‘spark-3.2.1-bin-hadoop3.2.tgz.2’ saved [300971569/300971569]\n",
            "\n"
          ]
        }
      ]
    },
    {
      "cell_type": "code",
      "source": [
        "!tar -xvzf spark-3.2.1-bin-hadoop3.2.tgz"
      ],
      "metadata": {
        "colab": {
          "base_uri": "https://localhost:8080/"
        },
        "id": "xVpu9wGJxjvW",
        "outputId": "f46a71c7-40eb-473e-86e9-0984b6c9db2d"
      },
      "execution_count": null,
      "outputs": [
        {
          "output_type": "stream",
          "name": "stdout",
          "text": [
            "spark-3.2.1-bin-hadoop3.2/\n",
            "spark-3.2.1-bin-hadoop3.2/LICENSE\n",
            "spark-3.2.1-bin-hadoop3.2/NOTICE\n",
            "spark-3.2.1-bin-hadoop3.2/R/\n",
            "spark-3.2.1-bin-hadoop3.2/R/lib/\n",
            "spark-3.2.1-bin-hadoop3.2/R/lib/SparkR/\n",
            "spark-3.2.1-bin-hadoop3.2/R/lib/SparkR/DESCRIPTION\n",
            "spark-3.2.1-bin-hadoop3.2/R/lib/SparkR/INDEX\n",
            "spark-3.2.1-bin-hadoop3.2/R/lib/SparkR/Meta/\n",
            "spark-3.2.1-bin-hadoop3.2/R/lib/SparkR/Meta/Rd.rds\n",
            "spark-3.2.1-bin-hadoop3.2/R/lib/SparkR/Meta/features.rds\n",
            "spark-3.2.1-bin-hadoop3.2/R/lib/SparkR/Meta/hsearch.rds\n",
            "spark-3.2.1-bin-hadoop3.2/R/lib/SparkR/Meta/links.rds\n",
            "spark-3.2.1-bin-hadoop3.2/R/lib/SparkR/Meta/nsInfo.rds\n",
            "spark-3.2.1-bin-hadoop3.2/R/lib/SparkR/Meta/package.rds\n",
            "spark-3.2.1-bin-hadoop3.2/R/lib/SparkR/Meta/vignette.rds\n",
            "spark-3.2.1-bin-hadoop3.2/R/lib/SparkR/NAMESPACE\n",
            "spark-3.2.1-bin-hadoop3.2/R/lib/SparkR/R/\n",
            "spark-3.2.1-bin-hadoop3.2/R/lib/SparkR/R/SparkR\n",
            "spark-3.2.1-bin-hadoop3.2/R/lib/SparkR/R/SparkR.rdb\n",
            "spark-3.2.1-bin-hadoop3.2/R/lib/SparkR/R/SparkR.rdx\n",
            "spark-3.2.1-bin-hadoop3.2/R/lib/SparkR/doc/\n",
            "spark-3.2.1-bin-hadoop3.2/R/lib/SparkR/doc/index.html\n",
            "spark-3.2.1-bin-hadoop3.2/R/lib/SparkR/doc/sparkr-vignettes.R\n",
            "spark-3.2.1-bin-hadoop3.2/R/lib/SparkR/doc/sparkr-vignettes.Rmd\n",
            "spark-3.2.1-bin-hadoop3.2/R/lib/SparkR/doc/sparkr-vignettes.html\n",
            "spark-3.2.1-bin-hadoop3.2/R/lib/SparkR/help/\n",
            "spark-3.2.1-bin-hadoop3.2/R/lib/SparkR/help/AnIndex\n",
            "spark-3.2.1-bin-hadoop3.2/R/lib/SparkR/help/SparkR.rdb\n",
            "spark-3.2.1-bin-hadoop3.2/R/lib/SparkR/help/SparkR.rdx\n",
            "spark-3.2.1-bin-hadoop3.2/R/lib/SparkR/help/aliases.rds\n",
            "spark-3.2.1-bin-hadoop3.2/R/lib/SparkR/help/paths.rds\n",
            "spark-3.2.1-bin-hadoop3.2/R/lib/SparkR/html/\n",
            "spark-3.2.1-bin-hadoop3.2/R/lib/SparkR/html/00Index.html\n",
            "spark-3.2.1-bin-hadoop3.2/R/lib/SparkR/html/R.css\n",
            "spark-3.2.1-bin-hadoop3.2/R/lib/SparkR/profile/\n",
            "spark-3.2.1-bin-hadoop3.2/R/lib/SparkR/profile/general.R\n",
            "spark-3.2.1-bin-hadoop3.2/R/lib/SparkR/profile/shell.R\n",
            "spark-3.2.1-bin-hadoop3.2/R/lib/SparkR/tests/\n",
            "spark-3.2.1-bin-hadoop3.2/R/lib/SparkR/tests/testthat/\n",
            "spark-3.2.1-bin-hadoop3.2/R/lib/SparkR/tests/testthat/test_basic.R\n",
            "spark-3.2.1-bin-hadoop3.2/R/lib/SparkR/worker/\n",
            "spark-3.2.1-bin-hadoop3.2/R/lib/SparkR/worker/daemon.R\n",
            "spark-3.2.1-bin-hadoop3.2/R/lib/SparkR/worker/worker.R\n",
            "spark-3.2.1-bin-hadoop3.2/R/lib/sparkr.zip\n",
            "spark-3.2.1-bin-hadoop3.2/README.md\n",
            "spark-3.2.1-bin-hadoop3.2/RELEASE\n",
            "spark-3.2.1-bin-hadoop3.2/bin/\n",
            "spark-3.2.1-bin-hadoop3.2/bin/beeline\n",
            "spark-3.2.1-bin-hadoop3.2/bin/beeline.cmd\n",
            "spark-3.2.1-bin-hadoop3.2/bin/docker-image-tool.sh\n",
            "spark-3.2.1-bin-hadoop3.2/bin/find-spark-home\n",
            "spark-3.2.1-bin-hadoop3.2/bin/find-spark-home.cmd\n",
            "spark-3.2.1-bin-hadoop3.2/bin/load-spark-env.cmd\n",
            "spark-3.2.1-bin-hadoop3.2/bin/load-spark-env.sh\n",
            "spark-3.2.1-bin-hadoop3.2/bin/pyspark\n",
            "spark-3.2.1-bin-hadoop3.2/bin/pyspark.cmd\n",
            "spark-3.2.1-bin-hadoop3.2/bin/pyspark2.cmd\n",
            "spark-3.2.1-bin-hadoop3.2/bin/run-example\n",
            "spark-3.2.1-bin-hadoop3.2/bin/run-example.cmd\n",
            "spark-3.2.1-bin-hadoop3.2/bin/spark-class\n",
            "spark-3.2.1-bin-hadoop3.2/bin/spark-class.cmd\n",
            "spark-3.2.1-bin-hadoop3.2/bin/spark-class2.cmd\n",
            "spark-3.2.1-bin-hadoop3.2/bin/spark-shell\n",
            "spark-3.2.1-bin-hadoop3.2/bin/spark-shell.cmd\n",
            "spark-3.2.1-bin-hadoop3.2/bin/spark-shell2.cmd\n",
            "spark-3.2.1-bin-hadoop3.2/bin/spark-sql\n",
            "spark-3.2.1-bin-hadoop3.2/bin/spark-sql.cmd\n",
            "spark-3.2.1-bin-hadoop3.2/bin/spark-sql2.cmd\n",
            "spark-3.2.1-bin-hadoop3.2/bin/spark-submit\n",
            "spark-3.2.1-bin-hadoop3.2/bin/spark-submit.cmd\n",
            "spark-3.2.1-bin-hadoop3.2/bin/spark-submit2.cmd\n",
            "spark-3.2.1-bin-hadoop3.2/bin/sparkR\n",
            "spark-3.2.1-bin-hadoop3.2/bin/sparkR.cmd\n",
            "spark-3.2.1-bin-hadoop3.2/bin/sparkR2.cmd\n",
            "spark-3.2.1-bin-hadoop3.2/conf/\n",
            "spark-3.2.1-bin-hadoop3.2/conf/fairscheduler.xml.template\n",
            "spark-3.2.1-bin-hadoop3.2/conf/log4j.properties.template\n",
            "spark-3.2.1-bin-hadoop3.2/conf/metrics.properties.template\n",
            "spark-3.2.1-bin-hadoop3.2/conf/spark-defaults.conf.template\n",
            "spark-3.2.1-bin-hadoop3.2/conf/spark-env.sh.template\n",
            "spark-3.2.1-bin-hadoop3.2/conf/workers.template\n",
            "spark-3.2.1-bin-hadoop3.2/data/\n",
            "spark-3.2.1-bin-hadoop3.2/data/graphx/\n",
            "spark-3.2.1-bin-hadoop3.2/data/graphx/followers.txt\n",
            "spark-3.2.1-bin-hadoop3.2/data/graphx/users.txt\n",
            "spark-3.2.1-bin-hadoop3.2/data/mllib/\n",
            "spark-3.2.1-bin-hadoop3.2/data/mllib/als/\n",
            "spark-3.2.1-bin-hadoop3.2/data/mllib/als/sample_movielens_ratings.txt\n",
            "spark-3.2.1-bin-hadoop3.2/data/mllib/als/test.data\n",
            "spark-3.2.1-bin-hadoop3.2/data/mllib/gmm_data.txt\n",
            "spark-3.2.1-bin-hadoop3.2/data/mllib/images/\n",
            "spark-3.2.1-bin-hadoop3.2/data/mllib/images/license.txt\n",
            "spark-3.2.1-bin-hadoop3.2/data/mllib/images/origin/\n",
            "spark-3.2.1-bin-hadoop3.2/data/mllib/images/origin/kittens/\n",
            "spark-3.2.1-bin-hadoop3.2/data/mllib/images/origin/kittens/29.5.a_b_EGDP022204.jpg\n",
            "spark-3.2.1-bin-hadoop3.2/data/mllib/images/origin/kittens/54893.jpg\n",
            "spark-3.2.1-bin-hadoop3.2/data/mllib/images/origin/kittens/DP153539.jpg\n",
            "spark-3.2.1-bin-hadoop3.2/data/mllib/images/origin/kittens/DP802813.jpg\n",
            "spark-3.2.1-bin-hadoop3.2/data/mllib/images/origin/kittens/not-image.txt\n",
            "spark-3.2.1-bin-hadoop3.2/data/mllib/images/origin/license.txt\n",
            "spark-3.2.1-bin-hadoop3.2/data/mllib/images/origin/multi-channel/\n",
            "spark-3.2.1-bin-hadoop3.2/data/mllib/images/origin/multi-channel/BGRA.png\n",
            "spark-3.2.1-bin-hadoop3.2/data/mllib/images/origin/multi-channel/BGRA_alpha_60.png\n",
            "spark-3.2.1-bin-hadoop3.2/data/mllib/images/origin/multi-channel/chr30.4.184.jpg\n",
            "spark-3.2.1-bin-hadoop3.2/data/mllib/images/origin/multi-channel/grayscale.jpg\n",
            "spark-3.2.1-bin-hadoop3.2/data/mllib/images/partitioned/\n",
            "spark-3.2.1-bin-hadoop3.2/data/mllib/images/partitioned/cls=kittens/\n",
            "spark-3.2.1-bin-hadoop3.2/data/mllib/images/partitioned/cls=kittens/date=2018-01/\n",
            "spark-3.2.1-bin-hadoop3.2/data/mllib/images/partitioned/cls=kittens/date=2018-01/29.5.a_b_EGDP022204.jpg\n",
            "spark-3.2.1-bin-hadoop3.2/data/mllib/images/partitioned/cls=kittens/date=2018-01/not-image.txt\n",
            "spark-3.2.1-bin-hadoop3.2/data/mllib/images/partitioned/cls=kittens/date=2018-02/\n",
            "spark-3.2.1-bin-hadoop3.2/data/mllib/images/partitioned/cls=kittens/date=2018-02/54893.jpg\n",
            "spark-3.2.1-bin-hadoop3.2/data/mllib/images/partitioned/cls=kittens/date=2018-02/DP153539.jpg\n",
            "spark-3.2.1-bin-hadoop3.2/data/mllib/images/partitioned/cls=kittens/date=2018-02/DP802813.jpg\n",
            "spark-3.2.1-bin-hadoop3.2/data/mllib/images/partitioned/cls=multichannel/\n",
            "spark-3.2.1-bin-hadoop3.2/data/mllib/images/partitioned/cls=multichannel/date=2018-01/\n",
            "spark-3.2.1-bin-hadoop3.2/data/mllib/images/partitioned/cls=multichannel/date=2018-01/BGRA.png\n",
            "spark-3.2.1-bin-hadoop3.2/data/mllib/images/partitioned/cls=multichannel/date=2018-01/BGRA_alpha_60.png\n",
            "spark-3.2.1-bin-hadoop3.2/data/mllib/images/partitioned/cls=multichannel/date=2018-02/\n",
            "spark-3.2.1-bin-hadoop3.2/data/mllib/images/partitioned/cls=multichannel/date=2018-02/chr30.4.184.jpg\n",
            "spark-3.2.1-bin-hadoop3.2/data/mllib/images/partitioned/cls=multichannel/date=2018-02/grayscale.jpg\n",
            "spark-3.2.1-bin-hadoop3.2/data/mllib/iris_libsvm.txt\n",
            "spark-3.2.1-bin-hadoop3.2/data/mllib/kmeans_data.txt\n",
            "spark-3.2.1-bin-hadoop3.2/data/mllib/pagerank_data.txt\n",
            "spark-3.2.1-bin-hadoop3.2/data/mllib/pic_data.txt\n",
            "spark-3.2.1-bin-hadoop3.2/data/mllib/ridge-data/\n",
            "spark-3.2.1-bin-hadoop3.2/data/mllib/ridge-data/lpsa.data\n",
            "spark-3.2.1-bin-hadoop3.2/data/mllib/sample_binary_classification_data.txt\n",
            "spark-3.2.1-bin-hadoop3.2/data/mllib/sample_fpgrowth.txt\n",
            "spark-3.2.1-bin-hadoop3.2/data/mllib/sample_isotonic_regression_libsvm_data.txt\n",
            "spark-3.2.1-bin-hadoop3.2/data/mllib/sample_kmeans_data.txt\n",
            "spark-3.2.1-bin-hadoop3.2/data/mllib/sample_lda_data.txt\n",
            "spark-3.2.1-bin-hadoop3.2/data/mllib/sample_lda_libsvm_data.txt\n",
            "spark-3.2.1-bin-hadoop3.2/data/mllib/sample_libsvm_data.txt\n",
            "spark-3.2.1-bin-hadoop3.2/data/mllib/sample_linear_regression_data.txt\n",
            "spark-3.2.1-bin-hadoop3.2/data/mllib/sample_movielens_data.txt\n",
            "spark-3.2.1-bin-hadoop3.2/data/mllib/sample_multiclass_classification_data.txt\n",
            "spark-3.2.1-bin-hadoop3.2/data/mllib/sample_svm_data.txt\n",
            "spark-3.2.1-bin-hadoop3.2/data/mllib/streaming_kmeans_data_test.txt\n",
            "spark-3.2.1-bin-hadoop3.2/data/streaming/\n",
            "spark-3.2.1-bin-hadoop3.2/data/streaming/AFINN-111.txt\n",
            "spark-3.2.1-bin-hadoop3.2/examples/\n",
            "spark-3.2.1-bin-hadoop3.2/examples/jars/\n",
            "spark-3.2.1-bin-hadoop3.2/examples/jars/scopt_2.12-3.7.1.jar\n",
            "spark-3.2.1-bin-hadoop3.2/examples/jars/spark-examples_2.12-3.2.1.jar\n",
            "spark-3.2.1-bin-hadoop3.2/examples/src/\n",
            "spark-3.2.1-bin-hadoop3.2/examples/src/main/\n",
            "spark-3.2.1-bin-hadoop3.2/examples/src/main/java/\n",
            "spark-3.2.1-bin-hadoop3.2/examples/src/main/java/org/\n",
            "spark-3.2.1-bin-hadoop3.2/examples/src/main/java/org/apache/\n",
            "spark-3.2.1-bin-hadoop3.2/examples/src/main/java/org/apache/spark/\n",
            "spark-3.2.1-bin-hadoop3.2/examples/src/main/java/org/apache/spark/examples/\n",
            "spark-3.2.1-bin-hadoop3.2/examples/src/main/java/org/apache/spark/examples/JavaHdfsLR.java\n",
            "spark-3.2.1-bin-hadoop3.2/examples/src/main/java/org/apache/spark/examples/JavaLogQuery.java\n",
            "spark-3.2.1-bin-hadoop3.2/examples/src/main/java/org/apache/spark/examples/JavaPageRank.java\n",
            "spark-3.2.1-bin-hadoop3.2/examples/src/main/java/org/apache/spark/examples/JavaSparkPi.java\n",
            "spark-3.2.1-bin-hadoop3.2/examples/src/main/java/org/apache/spark/examples/JavaStatusTrackerDemo.java\n",
            "spark-3.2.1-bin-hadoop3.2/examples/src/main/java/org/apache/spark/examples/JavaTC.java\n",
            "spark-3.2.1-bin-hadoop3.2/examples/src/main/java/org/apache/spark/examples/JavaWordCount.java\n",
            "spark-3.2.1-bin-hadoop3.2/examples/src/main/java/org/apache/spark/examples/ml/\n",
            "spark-3.2.1-bin-hadoop3.2/examples/src/main/java/org/apache/spark/examples/ml/JavaAFTSurvivalRegressionExample.java\n",
            "spark-3.2.1-bin-hadoop3.2/examples/src/main/java/org/apache/spark/examples/ml/JavaALSExample.java\n",
            "spark-3.2.1-bin-hadoop3.2/examples/src/main/java/org/apache/spark/examples/ml/JavaBinarizerExample.java\n",
            "spark-3.2.1-bin-hadoop3.2/examples/src/main/java/org/apache/spark/examples/ml/JavaBisectingKMeansExample.java\n",
            "spark-3.2.1-bin-hadoop3.2/examples/src/main/java/org/apache/spark/examples/ml/JavaBucketedRandomProjectionLSHExample.java\n",
            "spark-3.2.1-bin-hadoop3.2/examples/src/main/java/org/apache/spark/examples/ml/JavaBucketizerExample.java\n",
            "spark-3.2.1-bin-hadoop3.2/examples/src/main/java/org/apache/spark/examples/ml/JavaChiSqSelectorExample.java\n",
            "spark-3.2.1-bin-hadoop3.2/examples/src/main/java/org/apache/spark/examples/ml/JavaChiSquareTestExample.java\n",
            "spark-3.2.1-bin-hadoop3.2/examples/src/main/java/org/apache/spark/examples/ml/JavaCorrelationExample.java\n",
            "spark-3.2.1-bin-hadoop3.2/examples/src/main/java/org/apache/spark/examples/ml/JavaCountVectorizerExample.java\n",
            "spark-3.2.1-bin-hadoop3.2/examples/src/main/java/org/apache/spark/examples/ml/JavaDCTExample.java\n",
            "spark-3.2.1-bin-hadoop3.2/examples/src/main/java/org/apache/spark/examples/ml/JavaDecisionTreeClassificationExample.java\n",
            "spark-3.2.1-bin-hadoop3.2/examples/src/main/java/org/apache/spark/examples/ml/JavaDecisionTreeRegressionExample.java\n",
            "spark-3.2.1-bin-hadoop3.2/examples/src/main/java/org/apache/spark/examples/ml/JavaDocument.java\n",
            "spark-3.2.1-bin-hadoop3.2/examples/src/main/java/org/apache/spark/examples/ml/JavaElementwiseProductExample.java\n",
            "spark-3.2.1-bin-hadoop3.2/examples/src/main/java/org/apache/spark/examples/ml/JavaEstimatorTransformerParamExample.java\n",
            "spark-3.2.1-bin-hadoop3.2/examples/src/main/java/org/apache/spark/examples/ml/JavaFMClassifierExample.java\n",
            "spark-3.2.1-bin-hadoop3.2/examples/src/main/java/org/apache/spark/examples/ml/JavaFMRegressorExample.java\n",
            "spark-3.2.1-bin-hadoop3.2/examples/src/main/java/org/apache/spark/examples/ml/JavaFPGrowthExample.java\n",
            "spark-3.2.1-bin-hadoop3.2/examples/src/main/java/org/apache/spark/examples/ml/JavaFeatureHasherExample.java\n",
            "spark-3.2.1-bin-hadoop3.2/examples/src/main/java/org/apache/spark/examples/ml/JavaGaussianMixtureExample.java\n",
            "spark-3.2.1-bin-hadoop3.2/examples/src/main/java/org/apache/spark/examples/ml/JavaGeneralizedLinearRegressionExample.java\n",
            "spark-3.2.1-bin-hadoop3.2/examples/src/main/java/org/apache/spark/examples/ml/JavaGradientBoostedTreeClassifierExample.java\n",
            "spark-3.2.1-bin-hadoop3.2/examples/src/main/java/org/apache/spark/examples/ml/JavaGradientBoostedTreeRegressorExample.java\n",
            "spark-3.2.1-bin-hadoop3.2/examples/src/main/java/org/apache/spark/examples/ml/JavaImputerExample.java\n",
            "spark-3.2.1-bin-hadoop3.2/examples/src/main/java/org/apache/spark/examples/ml/JavaIndexToStringExample.java\n",
            "spark-3.2.1-bin-hadoop3.2/examples/src/main/java/org/apache/spark/examples/ml/JavaInteractionExample.java\n",
            "spark-3.2.1-bin-hadoop3.2/examples/src/main/java/org/apache/spark/examples/ml/JavaIsotonicRegressionExample.java\n",
            "spark-3.2.1-bin-hadoop3.2/examples/src/main/java/org/apache/spark/examples/ml/JavaKMeansExample.java\n",
            "spark-3.2.1-bin-hadoop3.2/examples/src/main/java/org/apache/spark/examples/ml/JavaLDAExample.java\n",
            "spark-3.2.1-bin-hadoop3.2/examples/src/main/java/org/apache/spark/examples/ml/JavaLabeledDocument.java\n",
            "spark-3.2.1-bin-hadoop3.2/examples/src/main/java/org/apache/spark/examples/ml/JavaLinearRegressionWithElasticNetExample.java\n",
            "spark-3.2.1-bin-hadoop3.2/examples/src/main/java/org/apache/spark/examples/ml/JavaLinearSVCExample.java\n",
            "spark-3.2.1-bin-hadoop3.2/examples/src/main/java/org/apache/spark/examples/ml/JavaLogisticRegressionSummaryExample.java\n",
            "spark-3.2.1-bin-hadoop3.2/examples/src/main/java/org/apache/spark/examples/ml/JavaLogisticRegressionWithElasticNetExample.java\n",
            "spark-3.2.1-bin-hadoop3.2/examples/src/main/java/org/apache/spark/examples/ml/JavaMaxAbsScalerExample.java\n",
            "spark-3.2.1-bin-hadoop3.2/examples/src/main/java/org/apache/spark/examples/ml/JavaMinHashLSHExample.java\n",
            "spark-3.2.1-bin-hadoop3.2/examples/src/main/java/org/apache/spark/examples/ml/JavaMinMaxScalerExample.java\n",
            "spark-3.2.1-bin-hadoop3.2/examples/src/main/java/org/apache/spark/examples/ml/JavaModelSelectionViaCrossValidationExample.java\n",
            "spark-3.2.1-bin-hadoop3.2/examples/src/main/java/org/apache/spark/examples/ml/JavaModelSelectionViaTrainValidationSplitExample.java\n",
            "spark-3.2.1-bin-hadoop3.2/examples/src/main/java/org/apache/spark/examples/ml/JavaMulticlassLogisticRegressionWithElasticNetExample.java\n",
            "spark-3.2.1-bin-hadoop3.2/examples/src/main/java/org/apache/spark/examples/ml/JavaMultilayerPerceptronClassifierExample.java\n",
            "spark-3.2.1-bin-hadoop3.2/examples/src/main/java/org/apache/spark/examples/ml/JavaNGramExample.java\n",
            "spark-3.2.1-bin-hadoop3.2/examples/src/main/java/org/apache/spark/examples/ml/JavaNaiveBayesExample.java\n",
            "spark-3.2.1-bin-hadoop3.2/examples/src/main/java/org/apache/spark/examples/ml/JavaNormalizerExample.java\n",
            "spark-3.2.1-bin-hadoop3.2/examples/src/main/java/org/apache/spark/examples/ml/JavaOneHotEncoderExample.java\n",
            "spark-3.2.1-bin-hadoop3.2/examples/src/main/java/org/apache/spark/examples/ml/JavaOneVsRestExample.java\n",
            "spark-3.2.1-bin-hadoop3.2/examples/src/main/java/org/apache/spark/examples/ml/JavaPCAExample.java\n",
            "spark-3.2.1-bin-hadoop3.2/examples/src/main/java/org/apache/spark/examples/ml/JavaPipelineExample.java\n",
            "spark-3.2.1-bin-hadoop3.2/examples/src/main/java/org/apache/spark/examples/ml/JavaPolynomialExpansionExample.java\n",
            "spark-3.2.1-bin-hadoop3.2/examples/src/main/java/org/apache/spark/examples/ml/JavaPowerIterationClusteringExample.java\n",
            "spark-3.2.1-bin-hadoop3.2/examples/src/main/java/org/apache/spark/examples/ml/JavaPrefixSpanExample.java\n",
            "spark-3.2.1-bin-hadoop3.2/examples/src/main/java/org/apache/spark/examples/ml/JavaQuantileDiscretizerExample.java\n",
            "spark-3.2.1-bin-hadoop3.2/examples/src/main/java/org/apache/spark/examples/ml/JavaRFormulaExample.java\n",
            "spark-3.2.1-bin-hadoop3.2/examples/src/main/java/org/apache/spark/examples/ml/JavaRandomForestClassifierExample.java\n",
            "spark-3.2.1-bin-hadoop3.2/examples/src/main/java/org/apache/spark/examples/ml/JavaRandomForestRegressorExample.java\n",
            "spark-3.2.1-bin-hadoop3.2/examples/src/main/java/org/apache/spark/examples/ml/JavaRobustScalerExample.java\n",
            "spark-3.2.1-bin-hadoop3.2/examples/src/main/java/org/apache/spark/examples/ml/JavaSQLTransformerExample.java\n",
            "spark-3.2.1-bin-hadoop3.2/examples/src/main/java/org/apache/spark/examples/ml/JavaStandardScalerExample.java\n",
            "spark-3.2.1-bin-hadoop3.2/examples/src/main/java/org/apache/spark/examples/ml/JavaStopWordsRemoverExample.java\n",
            "spark-3.2.1-bin-hadoop3.2/examples/src/main/java/org/apache/spark/examples/ml/JavaStringIndexerExample.java\n",
            "spark-3.2.1-bin-hadoop3.2/examples/src/main/java/org/apache/spark/examples/ml/JavaSummarizerExample.java\n",
            "spark-3.2.1-bin-hadoop3.2/examples/src/main/java/org/apache/spark/examples/ml/JavaTfIdfExample.java\n",
            "spark-3.2.1-bin-hadoop3.2/examples/src/main/java/org/apache/spark/examples/ml/JavaTokenizerExample.java\n",
            "spark-3.2.1-bin-hadoop3.2/examples/src/main/java/org/apache/spark/examples/ml/JavaUnivariateFeatureSelectorExample.java\n",
            "spark-3.2.1-bin-hadoop3.2/examples/src/main/java/org/apache/spark/examples/ml/JavaVarianceThresholdSelectorExample.java\n",
            "spark-3.2.1-bin-hadoop3.2/examples/src/main/java/org/apache/spark/examples/ml/JavaVectorAssemblerExample.java\n",
            "spark-3.2.1-bin-hadoop3.2/examples/src/main/java/org/apache/spark/examples/ml/JavaVectorIndexerExample.java\n",
            "spark-3.2.1-bin-hadoop3.2/examples/src/main/java/org/apache/spark/examples/ml/JavaVectorSizeHintExample.java\n",
            "spark-3.2.1-bin-hadoop3.2/examples/src/main/java/org/apache/spark/examples/ml/JavaVectorSlicerExample.java\n",
            "spark-3.2.1-bin-hadoop3.2/examples/src/main/java/org/apache/spark/examples/ml/JavaWord2VecExample.java\n",
            "spark-3.2.1-bin-hadoop3.2/examples/src/main/java/org/apache/spark/examples/mllib/\n",
            "spark-3.2.1-bin-hadoop3.2/examples/src/main/java/org/apache/spark/examples/mllib/JavaALS.java\n",
            "spark-3.2.1-bin-hadoop3.2/examples/src/main/java/org/apache/spark/examples/mllib/JavaAssociationRulesExample.java\n",
            "spark-3.2.1-bin-hadoop3.2/examples/src/main/java/org/apache/spark/examples/mllib/JavaBinaryClassificationMetricsExample.java\n",
            "spark-3.2.1-bin-hadoop3.2/examples/src/main/java/org/apache/spark/examples/mllib/JavaBisectingKMeansExample.java\n",
            "spark-3.2.1-bin-hadoop3.2/examples/src/main/java/org/apache/spark/examples/mllib/JavaChiSqSelectorExample.java\n",
            "spark-3.2.1-bin-hadoop3.2/examples/src/main/java/org/apache/spark/examples/mllib/JavaCorrelationsExample.java\n",
            "spark-3.2.1-bin-hadoop3.2/examples/src/main/java/org/apache/spark/examples/mllib/JavaDecisionTreeClassificationExample.java\n",
            "spark-3.2.1-bin-hadoop3.2/examples/src/main/java/org/apache/spark/examples/mllib/JavaDecisionTreeRegressionExample.java\n",
            "spark-3.2.1-bin-hadoop3.2/examples/src/main/java/org/apache/spark/examples/mllib/JavaElementwiseProductExample.java\n",
            "spark-3.2.1-bin-hadoop3.2/examples/src/main/java/org/apache/spark/examples/mllib/JavaGaussianMixtureExample.java\n",
            "spark-3.2.1-bin-hadoop3.2/examples/src/main/java/org/apache/spark/examples/mllib/JavaGradientBoostingClassificationExample.java\n",
            "spark-3.2.1-bin-hadoop3.2/examples/src/main/java/org/apache/spark/examples/mllib/JavaGradientBoostingRegressionExample.java\n",
            "spark-3.2.1-bin-hadoop3.2/examples/src/main/java/org/apache/spark/examples/mllib/JavaHypothesisTestingExample.java\n",
            "spark-3.2.1-bin-hadoop3.2/examples/src/main/java/org/apache/spark/examples/mllib/JavaHypothesisTestingKolmogorovSmirnovTestExample.java\n",
            "spark-3.2.1-bin-hadoop3.2/examples/src/main/java/org/apache/spark/examples/mllib/JavaIsotonicRegressionExample.java\n",
            "spark-3.2.1-bin-hadoop3.2/examples/src/main/java/org/apache/spark/examples/mllib/JavaKMeansExample.java\n",
            "spark-3.2.1-bin-hadoop3.2/examples/src/main/java/org/apache/spark/examples/mllib/JavaKernelDensityEstimationExample.java\n",
            "spark-3.2.1-bin-hadoop3.2/examples/src/main/java/org/apache/spark/examples/mllib/JavaLBFGSExample.java\n",
            "spark-3.2.1-bin-hadoop3.2/examples/src/main/java/org/apache/spark/examples/mllib/JavaLatentDirichletAllocationExample.java\n",
            "spark-3.2.1-bin-hadoop3.2/examples/src/main/java/org/apache/spark/examples/mllib/JavaLogisticRegressionWithLBFGSExample.java\n",
            "spark-3.2.1-bin-hadoop3.2/examples/src/main/java/org/apache/spark/examples/mllib/JavaMultiLabelClassificationMetricsExample.java\n",
            "spark-3.2.1-bin-hadoop3.2/examples/src/main/java/org/apache/spark/examples/mllib/JavaMulticlassClassificationMetricsExample.java\n",
            "spark-3.2.1-bin-hadoop3.2/examples/src/main/java/org/apache/spark/examples/mllib/JavaNaiveBayesExample.java\n",
            "spark-3.2.1-bin-hadoop3.2/examples/src/main/java/org/apache/spark/examples/mllib/JavaPCAExample.java\n",
            "spark-3.2.1-bin-hadoop3.2/examples/src/main/java/org/apache/spark/examples/mllib/JavaPowerIterationClusteringExample.java\n",
            "spark-3.2.1-bin-hadoop3.2/examples/src/main/java/org/apache/spark/examples/mllib/JavaPrefixSpanExample.java\n",
            "spark-3.2.1-bin-hadoop3.2/examples/src/main/java/org/apache/spark/examples/mllib/JavaRandomForestClassificationExample.java\n",
            "spark-3.2.1-bin-hadoop3.2/examples/src/main/java/org/apache/spark/examples/mllib/JavaRandomForestRegressionExample.java\n",
            "spark-3.2.1-bin-hadoop3.2/examples/src/main/java/org/apache/spark/examples/mllib/JavaRankingMetricsExample.java\n",
            "spark-3.2.1-bin-hadoop3.2/examples/src/main/java/org/apache/spark/examples/mllib/JavaRecommendationExample.java\n",
            "spark-3.2.1-bin-hadoop3.2/examples/src/main/java/org/apache/spark/examples/mllib/JavaSVDExample.java\n",
            "spark-3.2.1-bin-hadoop3.2/examples/src/main/java/org/apache/spark/examples/mllib/JavaSVMWithSGDExample.java\n",
            "spark-3.2.1-bin-hadoop3.2/examples/src/main/java/org/apache/spark/examples/mllib/JavaSimpleFPGrowth.java\n",
            "spark-3.2.1-bin-hadoop3.2/examples/src/main/java/org/apache/spark/examples/mllib/JavaStratifiedSamplingExample.java\n",
            "spark-3.2.1-bin-hadoop3.2/examples/src/main/java/org/apache/spark/examples/mllib/JavaStreamingTestExample.java\n",
            "spark-3.2.1-bin-hadoop3.2/examples/src/main/java/org/apache/spark/examples/mllib/JavaSummaryStatisticsExample.java\n",
            "spark-3.2.1-bin-hadoop3.2/examples/src/main/java/org/apache/spark/examples/sql/\n",
            "spark-3.2.1-bin-hadoop3.2/examples/src/main/java/org/apache/spark/examples/sql/JavaSQLDataSourceExample.java\n",
            "spark-3.2.1-bin-hadoop3.2/examples/src/main/java/org/apache/spark/examples/sql/JavaSparkSQLExample.java\n",
            "spark-3.2.1-bin-hadoop3.2/examples/src/main/java/org/apache/spark/examples/sql/JavaUserDefinedScalar.java\n",
            "spark-3.2.1-bin-hadoop3.2/examples/src/main/java/org/apache/spark/examples/sql/JavaUserDefinedTypedAggregation.java\n",
            "spark-3.2.1-bin-hadoop3.2/examples/src/main/java/org/apache/spark/examples/sql/JavaUserDefinedUntypedAggregation.java\n",
            "spark-3.2.1-bin-hadoop3.2/examples/src/main/java/org/apache/spark/examples/sql/hive/\n",
            "spark-3.2.1-bin-hadoop3.2/examples/src/main/java/org/apache/spark/examples/sql/hive/JavaSparkHiveExample.java\n",
            "spark-3.2.1-bin-hadoop3.2/examples/src/main/java/org/apache/spark/examples/sql/streaming/\n",
            "spark-3.2.1-bin-hadoop3.2/examples/src/main/java/org/apache/spark/examples/sql/streaming/JavaStructuredComplexSessionization.java\n",
            "spark-3.2.1-bin-hadoop3.2/examples/src/main/java/org/apache/spark/examples/sql/streaming/JavaStructuredKafkaWordCount.java\n",
            "spark-3.2.1-bin-hadoop3.2/examples/src/main/java/org/apache/spark/examples/sql/streaming/JavaStructuredKerberizedKafkaWordCount.java\n",
            "spark-3.2.1-bin-hadoop3.2/examples/src/main/java/org/apache/spark/examples/sql/streaming/JavaStructuredNetworkWordCount.java\n",
            "spark-3.2.1-bin-hadoop3.2/examples/src/main/java/org/apache/spark/examples/sql/streaming/JavaStructuredNetworkWordCountWindowed.java\n",
            "spark-3.2.1-bin-hadoop3.2/examples/src/main/java/org/apache/spark/examples/sql/streaming/JavaStructuredSessionization.java\n",
            "spark-3.2.1-bin-hadoop3.2/examples/src/main/java/org/apache/spark/examples/streaming/\n",
            "spark-3.2.1-bin-hadoop3.2/examples/src/main/java/org/apache/spark/examples/streaming/JavaCustomReceiver.java\n",
            "spark-3.2.1-bin-hadoop3.2/examples/src/main/java/org/apache/spark/examples/streaming/JavaDirectKafkaWordCount.java\n",
            "spark-3.2.1-bin-hadoop3.2/examples/src/main/java/org/apache/spark/examples/streaming/JavaDirectKerberizedKafkaWordCount.java\n",
            "spark-3.2.1-bin-hadoop3.2/examples/src/main/java/org/apache/spark/examples/streaming/JavaNetworkWordCount.java\n",
            "spark-3.2.1-bin-hadoop3.2/examples/src/main/java/org/apache/spark/examples/streaming/JavaQueueStream.java\n",
            "spark-3.2.1-bin-hadoop3.2/examples/src/main/java/org/apache/spark/examples/streaming/JavaRecord.java\n",
            "spark-3.2.1-bin-hadoop3.2/examples/src/main/java/org/apache/spark/examples/streaming/JavaRecoverableNetworkWordCount.java\n",
            "spark-3.2.1-bin-hadoop3.2/examples/src/main/java/org/apache/spark/examples/streaming/JavaSqlNetworkWordCount.java\n",
            "spark-3.2.1-bin-hadoop3.2/examples/src/main/java/org/apache/spark/examples/streaming/JavaStatefulNetworkWordCount.java\n",
            "spark-3.2.1-bin-hadoop3.2/examples/src/main/python/\n",
            "spark-3.2.1-bin-hadoop3.2/examples/src/main/python/als.py\n",
            "spark-3.2.1-bin-hadoop3.2/examples/src/main/python/avro_inputformat.py\n",
            "spark-3.2.1-bin-hadoop3.2/examples/src/main/python/kmeans.py\n",
            "spark-3.2.1-bin-hadoop3.2/examples/src/main/python/logistic_regression.py\n",
            "spark-3.2.1-bin-hadoop3.2/examples/src/main/python/ml/\n",
            "spark-3.2.1-bin-hadoop3.2/examples/src/main/python/ml/aft_survival_regression.py\n",
            "spark-3.2.1-bin-hadoop3.2/examples/src/main/python/ml/als_example.py\n",
            "spark-3.2.1-bin-hadoop3.2/examples/src/main/python/ml/binarizer_example.py\n",
            "spark-3.2.1-bin-hadoop3.2/examples/src/main/python/ml/bisecting_k_means_example.py\n",
            "spark-3.2.1-bin-hadoop3.2/examples/src/main/python/ml/bucketed_random_projection_lsh_example.py\n",
            "spark-3.2.1-bin-hadoop3.2/examples/src/main/python/ml/bucketizer_example.py\n",
            "spark-3.2.1-bin-hadoop3.2/examples/src/main/python/ml/chi_square_test_example.py\n",
            "spark-3.2.1-bin-hadoop3.2/examples/src/main/python/ml/chisq_selector_example.py\n",
            "spark-3.2.1-bin-hadoop3.2/examples/src/main/python/ml/correlation_example.py\n",
            "spark-3.2.1-bin-hadoop3.2/examples/src/main/python/ml/count_vectorizer_example.py\n",
            "spark-3.2.1-bin-hadoop3.2/examples/src/main/python/ml/cross_validator.py\n",
            "spark-3.2.1-bin-hadoop3.2/examples/src/main/python/ml/dataframe_example.py\n",
            "spark-3.2.1-bin-hadoop3.2/examples/src/main/python/ml/dct_example.py\n",
            "spark-3.2.1-bin-hadoop3.2/examples/src/main/python/ml/decision_tree_classification_example.py\n",
            "spark-3.2.1-bin-hadoop3.2/examples/src/main/python/ml/decision_tree_regression_example.py\n",
            "spark-3.2.1-bin-hadoop3.2/examples/src/main/python/ml/elementwise_product_example.py\n",
            "spark-3.2.1-bin-hadoop3.2/examples/src/main/python/ml/estimator_transformer_param_example.py\n",
            "spark-3.2.1-bin-hadoop3.2/examples/src/main/python/ml/feature_hasher_example.py\n",
            "spark-3.2.1-bin-hadoop3.2/examples/src/main/python/ml/fm_classifier_example.py\n",
            "spark-3.2.1-bin-hadoop3.2/examples/src/main/python/ml/fm_regressor_example.py\n",
            "spark-3.2.1-bin-hadoop3.2/examples/src/main/python/ml/fpgrowth_example.py\n",
            "spark-3.2.1-bin-hadoop3.2/examples/src/main/python/ml/gaussian_mixture_example.py\n",
            "spark-3.2.1-bin-hadoop3.2/examples/src/main/python/ml/generalized_linear_regression_example.py\n",
            "spark-3.2.1-bin-hadoop3.2/examples/src/main/python/ml/gradient_boosted_tree_classifier_example.py\n",
            "spark-3.2.1-bin-hadoop3.2/examples/src/main/python/ml/gradient_boosted_tree_regressor_example.py\n",
            "spark-3.2.1-bin-hadoop3.2/examples/src/main/python/ml/imputer_example.py\n",
            "spark-3.2.1-bin-hadoop3.2/examples/src/main/python/ml/index_to_string_example.py\n",
            "spark-3.2.1-bin-hadoop3.2/examples/src/main/python/ml/interaction_example.py\n",
            "spark-3.2.1-bin-hadoop3.2/examples/src/main/python/ml/isotonic_regression_example.py\n",
            "spark-3.2.1-bin-hadoop3.2/examples/src/main/python/ml/kmeans_example.py\n",
            "spark-3.2.1-bin-hadoop3.2/examples/src/main/python/ml/lda_example.py\n",
            "spark-3.2.1-bin-hadoop3.2/examples/src/main/python/ml/linear_regression_with_elastic_net.py\n",
            "spark-3.2.1-bin-hadoop3.2/examples/src/main/python/ml/linearsvc.py\n",
            "spark-3.2.1-bin-hadoop3.2/examples/src/main/python/ml/logistic_regression_summary_example.py\n",
            "spark-3.2.1-bin-hadoop3.2/examples/src/main/python/ml/logistic_regression_with_elastic_net.py\n",
            "spark-3.2.1-bin-hadoop3.2/examples/src/main/python/ml/max_abs_scaler_example.py\n",
            "spark-3.2.1-bin-hadoop3.2/examples/src/main/python/ml/min_hash_lsh_example.py\n",
            "spark-3.2.1-bin-hadoop3.2/examples/src/main/python/ml/min_max_scaler_example.py\n",
            "spark-3.2.1-bin-hadoop3.2/examples/src/main/python/ml/multiclass_logistic_regression_with_elastic_net.py\n",
            "spark-3.2.1-bin-hadoop3.2/examples/src/main/python/ml/multilayer_perceptron_classification.py\n",
            "spark-3.2.1-bin-hadoop3.2/examples/src/main/python/ml/n_gram_example.py\n",
            "spark-3.2.1-bin-hadoop3.2/examples/src/main/python/ml/naive_bayes_example.py\n",
            "spark-3.2.1-bin-hadoop3.2/examples/src/main/python/ml/normalizer_example.py\n",
            "spark-3.2.1-bin-hadoop3.2/examples/src/main/python/ml/one_vs_rest_example.py\n",
            "spark-3.2.1-bin-hadoop3.2/examples/src/main/python/ml/onehot_encoder_example.py\n",
            "spark-3.2.1-bin-hadoop3.2/examples/src/main/python/ml/pca_example.py\n",
            "spark-3.2.1-bin-hadoop3.2/examples/src/main/python/ml/pipeline_example.py\n",
            "spark-3.2.1-bin-hadoop3.2/examples/src/main/python/ml/polynomial_expansion_example.py\n",
            "spark-3.2.1-bin-hadoop3.2/examples/src/main/python/ml/power_iteration_clustering_example.py\n",
            "spark-3.2.1-bin-hadoop3.2/examples/src/main/python/ml/prefixspan_example.py\n",
            "spark-3.2.1-bin-hadoop3.2/examples/src/main/python/ml/quantile_discretizer_example.py\n",
            "spark-3.2.1-bin-hadoop3.2/examples/src/main/python/ml/random_forest_classifier_example.py\n",
            "spark-3.2.1-bin-hadoop3.2/examples/src/main/python/ml/random_forest_regressor_example.py\n",
            "spark-3.2.1-bin-hadoop3.2/examples/src/main/python/ml/rformula_example.py\n",
            "spark-3.2.1-bin-hadoop3.2/examples/src/main/python/ml/robust_scaler_example.py\n",
            "spark-3.2.1-bin-hadoop3.2/examples/src/main/python/ml/sql_transformer.py\n",
            "spark-3.2.1-bin-hadoop3.2/examples/src/main/python/ml/standard_scaler_example.py\n",
            "spark-3.2.1-bin-hadoop3.2/examples/src/main/python/ml/stopwords_remover_example.py\n",
            "spark-3.2.1-bin-hadoop3.2/examples/src/main/python/ml/string_indexer_example.py\n",
            "spark-3.2.1-bin-hadoop3.2/examples/src/main/python/ml/summarizer_example.py\n",
            "spark-3.2.1-bin-hadoop3.2/examples/src/main/python/ml/tf_idf_example.py\n",
            "spark-3.2.1-bin-hadoop3.2/examples/src/main/python/ml/tokenizer_example.py\n",
            "spark-3.2.1-bin-hadoop3.2/examples/src/main/python/ml/train_validation_split.py\n",
            "spark-3.2.1-bin-hadoop3.2/examples/src/main/python/ml/univariate_feature_selector_example.py\n",
            "spark-3.2.1-bin-hadoop3.2/examples/src/main/python/ml/variance_threshold_selector_example.py\n",
            "spark-3.2.1-bin-hadoop3.2/examples/src/main/python/ml/vector_assembler_example.py\n",
            "spark-3.2.1-bin-hadoop3.2/examples/src/main/python/ml/vector_indexer_example.py\n",
            "spark-3.2.1-bin-hadoop3.2/examples/src/main/python/ml/vector_size_hint_example.py\n",
            "spark-3.2.1-bin-hadoop3.2/examples/src/main/python/ml/vector_slicer_example.py\n",
            "spark-3.2.1-bin-hadoop3.2/examples/src/main/python/ml/word2vec_example.py\n",
            "spark-3.2.1-bin-hadoop3.2/examples/src/main/python/mllib/\n",
            "spark-3.2.1-bin-hadoop3.2/examples/src/main/python/mllib/binary_classification_metrics_example.py\n",
            "spark-3.2.1-bin-hadoop3.2/examples/src/main/python/mllib/bisecting_k_means_example.py\n",
            "spark-3.2.1-bin-hadoop3.2/examples/src/main/python/mllib/correlations.py\n",
            "spark-3.2.1-bin-hadoop3.2/examples/src/main/python/mllib/correlations_example.py\n",
            "spark-3.2.1-bin-hadoop3.2/examples/src/main/python/mllib/decision_tree_classification_example.py\n",
            "spark-3.2.1-bin-hadoop3.2/examples/src/main/python/mllib/decision_tree_regression_example.py\n",
            "spark-3.2.1-bin-hadoop3.2/examples/src/main/python/mllib/elementwise_product_example.py\n",
            "spark-3.2.1-bin-hadoop3.2/examples/src/main/python/mllib/fpgrowth_example.py\n",
            "spark-3.2.1-bin-hadoop3.2/examples/src/main/python/mllib/gaussian_mixture_example.py\n",
            "spark-3.2.1-bin-hadoop3.2/examples/src/main/python/mllib/gaussian_mixture_model.py\n",
            "spark-3.2.1-bin-hadoop3.2/examples/src/main/python/mllib/gradient_boosting_classification_example.py\n",
            "spark-3.2.1-bin-hadoop3.2/examples/src/main/python/mllib/gradient_boosting_regression_example.py\n",
            "spark-3.2.1-bin-hadoop3.2/examples/src/main/python/mllib/hypothesis_testing_example.py\n",
            "spark-3.2.1-bin-hadoop3.2/examples/src/main/python/mllib/hypothesis_testing_kolmogorov_smirnov_test_example.py\n",
            "spark-3.2.1-bin-hadoop3.2/examples/src/main/python/mllib/isotonic_regression_example.py\n",
            "spark-3.2.1-bin-hadoop3.2/examples/src/main/python/mllib/k_means_example.py\n",
            "spark-3.2.1-bin-hadoop3.2/examples/src/main/python/mllib/kernel_density_estimation_example.py\n",
            "spark-3.2.1-bin-hadoop3.2/examples/src/main/python/mllib/kmeans.py\n",
            "spark-3.2.1-bin-hadoop3.2/examples/src/main/python/mllib/latent_dirichlet_allocation_example.py\n",
            "spark-3.2.1-bin-hadoop3.2/examples/src/main/python/mllib/linear_regression_with_sgd_example.py\n",
            "spark-3.2.1-bin-hadoop3.2/examples/src/main/python/mllib/logistic_regression.py\n",
            "spark-3.2.1-bin-hadoop3.2/examples/src/main/python/mllib/logistic_regression_with_lbfgs_example.py\n",
            "spark-3.2.1-bin-hadoop3.2/examples/src/main/python/mllib/multi_class_metrics_example.py\n",
            "spark-3.2.1-bin-hadoop3.2/examples/src/main/python/mllib/multi_label_metrics_example.py\n",
            "spark-3.2.1-bin-hadoop3.2/examples/src/main/python/mllib/naive_bayes_example.py\n",
            "spark-3.2.1-bin-hadoop3.2/examples/src/main/python/mllib/normalizer_example.py\n",
            "spark-3.2.1-bin-hadoop3.2/examples/src/main/python/mllib/pca_rowmatrix_example.py\n",
            "spark-3.2.1-bin-hadoop3.2/examples/src/main/python/mllib/power_iteration_clustering_example.py\n",
            "spark-3.2.1-bin-hadoop3.2/examples/src/main/python/mllib/random_forest_classification_example.py\n",
            "spark-3.2.1-bin-hadoop3.2/examples/src/main/python/mllib/random_forest_regression_example.py\n",
            "spark-3.2.1-bin-hadoop3.2/examples/src/main/python/mllib/random_rdd_generation.py\n",
            "spark-3.2.1-bin-hadoop3.2/examples/src/main/python/mllib/ranking_metrics_example.py\n",
            "spark-3.2.1-bin-hadoop3.2/examples/src/main/python/mllib/recommendation_example.py\n",
            "spark-3.2.1-bin-hadoop3.2/examples/src/main/python/mllib/regression_metrics_example.py\n",
            "spark-3.2.1-bin-hadoop3.2/examples/src/main/python/mllib/sampled_rdds.py\n",
            "spark-3.2.1-bin-hadoop3.2/examples/src/main/python/mllib/standard_scaler_example.py\n",
            "spark-3.2.1-bin-hadoop3.2/examples/src/main/python/mllib/stratified_sampling_example.py\n",
            "spark-3.2.1-bin-hadoop3.2/examples/src/main/python/mllib/streaming_k_means_example.py\n",
            "spark-3.2.1-bin-hadoop3.2/examples/src/main/python/mllib/streaming_linear_regression_example.py\n",
            "spark-3.2.1-bin-hadoop3.2/examples/src/main/python/mllib/summary_statistics_example.py\n",
            "spark-3.2.1-bin-hadoop3.2/examples/src/main/python/mllib/svd_example.py\n",
            "spark-3.2.1-bin-hadoop3.2/examples/src/main/python/mllib/svm_with_sgd_example.py\n",
            "spark-3.2.1-bin-hadoop3.2/examples/src/main/python/mllib/tf_idf_example.py\n",
            "spark-3.2.1-bin-hadoop3.2/examples/src/main/python/mllib/word2vec.py\n",
            "spark-3.2.1-bin-hadoop3.2/examples/src/main/python/mllib/word2vec_example.py\n",
            "spark-3.2.1-bin-hadoop3.2/examples/src/main/python/pagerank.py\n",
            "spark-3.2.1-bin-hadoop3.2/examples/src/main/python/parquet_inputformat.py\n",
            "spark-3.2.1-bin-hadoop3.2/examples/src/main/python/pi.py\n",
            "spark-3.2.1-bin-hadoop3.2/examples/src/main/python/sort.py\n",
            "spark-3.2.1-bin-hadoop3.2/examples/src/main/python/sql/\n",
            "spark-3.2.1-bin-hadoop3.2/examples/src/main/python/sql/arrow.py\n",
            "spark-3.2.1-bin-hadoop3.2/examples/src/main/python/sql/basic.py\n",
            "spark-3.2.1-bin-hadoop3.2/examples/src/main/python/sql/datasource.py\n",
            "spark-3.2.1-bin-hadoop3.2/examples/src/main/python/sql/hive.py\n",
            "spark-3.2.1-bin-hadoop3.2/examples/src/main/python/sql/streaming/\n",
            "spark-3.2.1-bin-hadoop3.2/examples/src/main/python/sql/streaming/structured_kafka_wordcount.py\n",
            "spark-3.2.1-bin-hadoop3.2/examples/src/main/python/sql/streaming/structured_network_wordcount.py\n",
            "spark-3.2.1-bin-hadoop3.2/examples/src/main/python/sql/streaming/structured_network_wordcount_windowed.py\n",
            "spark-3.2.1-bin-hadoop3.2/examples/src/main/python/sql/streaming/structured_sessionization.py\n",
            "spark-3.2.1-bin-hadoop3.2/examples/src/main/python/status_api_demo.py\n",
            "spark-3.2.1-bin-hadoop3.2/examples/src/main/python/streaming/\n",
            "spark-3.2.1-bin-hadoop3.2/examples/src/main/python/streaming/hdfs_wordcount.py\n",
            "spark-3.2.1-bin-hadoop3.2/examples/src/main/python/streaming/network_wordcount.py\n",
            "spark-3.2.1-bin-hadoop3.2/examples/src/main/python/streaming/network_wordjoinsentiments.py\n",
            "spark-3.2.1-bin-hadoop3.2/examples/src/main/python/streaming/queue_stream.py\n",
            "spark-3.2.1-bin-hadoop3.2/examples/src/main/python/streaming/recoverable_network_wordcount.py\n",
            "spark-3.2.1-bin-hadoop3.2/examples/src/main/python/streaming/sql_network_wordcount.py\n",
            "spark-3.2.1-bin-hadoop3.2/examples/src/main/python/streaming/stateful_network_wordcount.py\n",
            "spark-3.2.1-bin-hadoop3.2/examples/src/main/python/transitive_closure.py\n",
            "spark-3.2.1-bin-hadoop3.2/examples/src/main/python/wordcount.py\n",
            "spark-3.2.1-bin-hadoop3.2/examples/src/main/r/\n",
            "spark-3.2.1-bin-hadoop3.2/examples/src/main/r/RSparkSQLExample.R\n",
            "spark-3.2.1-bin-hadoop3.2/examples/src/main/r/data-manipulation.R\n",
            "spark-3.2.1-bin-hadoop3.2/examples/src/main/r/dataframe.R\n",
            "spark-3.2.1-bin-hadoop3.2/examples/src/main/r/ml/\n",
            "spark-3.2.1-bin-hadoop3.2/examples/src/main/r/ml/als.R\n",
            "spark-3.2.1-bin-hadoop3.2/examples/src/main/r/ml/bisectingKmeans.R\n",
            "spark-3.2.1-bin-hadoop3.2/examples/src/main/r/ml/decisionTree.R\n",
            "spark-3.2.1-bin-hadoop3.2/examples/src/main/r/ml/fmClassifier.R\n",
            "spark-3.2.1-bin-hadoop3.2/examples/src/main/r/ml/fmRegressor.R\n",
            "spark-3.2.1-bin-hadoop3.2/examples/src/main/r/ml/fpm.R\n",
            "spark-3.2.1-bin-hadoop3.2/examples/src/main/r/ml/gaussianMixture.R\n",
            "spark-3.2.1-bin-hadoop3.2/examples/src/main/r/ml/gbt.R\n",
            "spark-3.2.1-bin-hadoop3.2/examples/src/main/r/ml/glm.R\n",
            "spark-3.2.1-bin-hadoop3.2/examples/src/main/r/ml/isoreg.R\n",
            "spark-3.2.1-bin-hadoop3.2/examples/src/main/r/ml/kmeans.R\n",
            "spark-3.2.1-bin-hadoop3.2/examples/src/main/r/ml/kstest.R\n",
            "spark-3.2.1-bin-hadoop3.2/examples/src/main/r/ml/lda.R\n",
            "spark-3.2.1-bin-hadoop3.2/examples/src/main/r/ml/lm_with_elastic_net.R\n",
            "spark-3.2.1-bin-hadoop3.2/examples/src/main/r/ml/logit.R\n",
            "spark-3.2.1-bin-hadoop3.2/examples/src/main/r/ml/ml.R\n",
            "spark-3.2.1-bin-hadoop3.2/examples/src/main/r/ml/mlp.R\n",
            "spark-3.2.1-bin-hadoop3.2/examples/src/main/r/ml/naiveBayes.R\n",
            "spark-3.2.1-bin-hadoop3.2/examples/src/main/r/ml/powerIterationClustering.R\n",
            "spark-3.2.1-bin-hadoop3.2/examples/src/main/r/ml/prefixSpan.R\n",
            "spark-3.2.1-bin-hadoop3.2/examples/src/main/r/ml/randomForest.R\n",
            "spark-3.2.1-bin-hadoop3.2/examples/src/main/r/ml/survreg.R\n",
            "spark-3.2.1-bin-hadoop3.2/examples/src/main/r/ml/svmLinear.R\n",
            "spark-3.2.1-bin-hadoop3.2/examples/src/main/r/streaming/\n",
            "spark-3.2.1-bin-hadoop3.2/examples/src/main/r/streaming/structured_network_wordcount.R\n",
            "spark-3.2.1-bin-hadoop3.2/examples/src/main/resources/\n",
            "spark-3.2.1-bin-hadoop3.2/examples/src/main/resources/META-INF/\n",
            "spark-3.2.1-bin-hadoop3.2/examples/src/main/resources/META-INF/services/\n",
            "spark-3.2.1-bin-hadoop3.2/examples/src/main/resources/META-INF/services/org.apache.spark.sql.SparkSessionExtensionsProvider\n",
            "spark-3.2.1-bin-hadoop3.2/examples/src/main/resources/META-INF/services/org.apache.spark.sql.jdbc.JdbcConnectionProvider\n",
            "spark-3.2.1-bin-hadoop3.2/examples/src/main/resources/dir1/\n",
            "spark-3.2.1-bin-hadoop3.2/examples/src/main/resources/dir1/dir2/\n",
            "spark-3.2.1-bin-hadoop3.2/examples/src/main/resources/dir1/dir2/file2.parquet\n",
            "spark-3.2.1-bin-hadoop3.2/examples/src/main/resources/dir1/file1.parquet\n",
            "spark-3.2.1-bin-hadoop3.2/examples/src/main/resources/dir1/file3.json\n",
            "spark-3.2.1-bin-hadoop3.2/examples/src/main/resources/employees.json\n",
            "spark-3.2.1-bin-hadoop3.2/examples/src/main/resources/full_user.avsc\n",
            "spark-3.2.1-bin-hadoop3.2/examples/src/main/resources/kv1.txt\n",
            "spark-3.2.1-bin-hadoop3.2/examples/src/main/resources/people.csv\n",
            "spark-3.2.1-bin-hadoop3.2/examples/src/main/resources/people.json\n",
            "spark-3.2.1-bin-hadoop3.2/examples/src/main/resources/people.txt\n",
            "spark-3.2.1-bin-hadoop3.2/examples/src/main/resources/user.avsc\n",
            "spark-3.2.1-bin-hadoop3.2/examples/src/main/resources/users.avro\n",
            "spark-3.2.1-bin-hadoop3.2/examples/src/main/resources/users.orc\n",
            "spark-3.2.1-bin-hadoop3.2/examples/src/main/resources/users.parquet\n",
            "spark-3.2.1-bin-hadoop3.2/examples/src/main/scala/\n",
            "spark-3.2.1-bin-hadoop3.2/examples/src/main/scala/org/\n",
            "spark-3.2.1-bin-hadoop3.2/examples/src/main/scala/org/apache/\n",
            "spark-3.2.1-bin-hadoop3.2/examples/src/main/scala/org/apache/spark/\n",
            "spark-3.2.1-bin-hadoop3.2/examples/src/main/scala/org/apache/spark/examples/\n",
            "spark-3.2.1-bin-hadoop3.2/examples/src/main/scala/org/apache/spark/examples/AccumulatorMetricsTest.scala\n",
            "spark-3.2.1-bin-hadoop3.2/examples/src/main/scala/org/apache/spark/examples/BroadcastTest.scala\n",
            "spark-3.2.1-bin-hadoop3.2/examples/src/main/scala/org/apache/spark/examples/DFSReadWriteTest.scala\n",
            "spark-3.2.1-bin-hadoop3.2/examples/src/main/scala/org/apache/spark/examples/DriverSubmissionTest.scala\n",
            "spark-3.2.1-bin-hadoop3.2/examples/src/main/scala/org/apache/spark/examples/ExceptionHandlingTest.scala\n",
            "spark-3.2.1-bin-hadoop3.2/examples/src/main/scala/org/apache/spark/examples/GroupByTest.scala\n",
            "spark-3.2.1-bin-hadoop3.2/examples/src/main/scala/org/apache/spark/examples/HdfsTest.scala\n",
            "spark-3.2.1-bin-hadoop3.2/examples/src/main/scala/org/apache/spark/examples/LocalALS.scala\n",
            "spark-3.2.1-bin-hadoop3.2/examples/src/main/scala/org/apache/spark/examples/LocalFileLR.scala\n",
            "spark-3.2.1-bin-hadoop3.2/examples/src/main/scala/org/apache/spark/examples/LocalKMeans.scala\n",
            "spark-3.2.1-bin-hadoop3.2/examples/src/main/scala/org/apache/spark/examples/LocalLR.scala\n",
            "spark-3.2.1-bin-hadoop3.2/examples/src/main/scala/org/apache/spark/examples/LocalPi.scala\n",
            "spark-3.2.1-bin-hadoop3.2/examples/src/main/scala/org/apache/spark/examples/LogQuery.scala\n",
            "spark-3.2.1-bin-hadoop3.2/examples/src/main/scala/org/apache/spark/examples/MultiBroadcastTest.scala\n",
            "spark-3.2.1-bin-hadoop3.2/examples/src/main/scala/org/apache/spark/examples/SimpleSkewedGroupByTest.scala\n",
            "spark-3.2.1-bin-hadoop3.2/examples/src/main/scala/org/apache/spark/examples/SkewedGroupByTest.scala\n",
            "spark-3.2.1-bin-hadoop3.2/examples/src/main/scala/org/apache/spark/examples/SparkALS.scala\n",
            "spark-3.2.1-bin-hadoop3.2/examples/src/main/scala/org/apache/spark/examples/SparkHdfsLR.scala\n",
            "spark-3.2.1-bin-hadoop3.2/examples/src/main/scala/org/apache/spark/examples/SparkKMeans.scala\n",
            "spark-3.2.1-bin-hadoop3.2/examples/src/main/scala/org/apache/spark/examples/SparkLR.scala\n",
            "spark-3.2.1-bin-hadoop3.2/examples/src/main/scala/org/apache/spark/examples/SparkPageRank.scala\n",
            "spark-3.2.1-bin-hadoop3.2/examples/src/main/scala/org/apache/spark/examples/SparkPi.scala\n",
            "spark-3.2.1-bin-hadoop3.2/examples/src/main/scala/org/apache/spark/examples/SparkRemoteFileTest.scala\n",
            "spark-3.2.1-bin-hadoop3.2/examples/src/main/scala/org/apache/spark/examples/SparkTC.scala\n",
            "spark-3.2.1-bin-hadoop3.2/examples/src/main/scala/org/apache/spark/examples/extensions/\n",
            "spark-3.2.1-bin-hadoop3.2/examples/src/main/scala/org/apache/spark/examples/extensions/AgeExample.scala\n",
            "spark-3.2.1-bin-hadoop3.2/examples/src/main/scala/org/apache/spark/examples/extensions/SessionExtensionsWithLoader.scala\n",
            "spark-3.2.1-bin-hadoop3.2/examples/src/main/scala/org/apache/spark/examples/extensions/SessionExtensionsWithoutLoader.scala\n",
            "spark-3.2.1-bin-hadoop3.2/examples/src/main/scala/org/apache/spark/examples/extensions/SparkSessionExtensionsTest.scala\n",
            "spark-3.2.1-bin-hadoop3.2/examples/src/main/scala/org/apache/spark/examples/graphx/\n",
            "spark-3.2.1-bin-hadoop3.2/examples/src/main/scala/org/apache/spark/examples/graphx/AggregateMessagesExample.scala\n",
            "spark-3.2.1-bin-hadoop3.2/examples/src/main/scala/org/apache/spark/examples/graphx/Analytics.scala\n",
            "spark-3.2.1-bin-hadoop3.2/examples/src/main/scala/org/apache/spark/examples/graphx/ComprehensiveExample.scala\n",
            "spark-3.2.1-bin-hadoop3.2/examples/src/main/scala/org/apache/spark/examples/graphx/ConnectedComponentsExample.scala\n",
            "spark-3.2.1-bin-hadoop3.2/examples/src/main/scala/org/apache/spark/examples/graphx/LiveJournalPageRank.scala\n",
            "spark-3.2.1-bin-hadoop3.2/examples/src/main/scala/org/apache/spark/examples/graphx/PageRankExample.scala\n",
            "spark-3.2.1-bin-hadoop3.2/examples/src/main/scala/org/apache/spark/examples/graphx/SSSPExample.scala\n",
            "spark-3.2.1-bin-hadoop3.2/examples/src/main/scala/org/apache/spark/examples/graphx/SynthBenchmark.scala\n",
            "spark-3.2.1-bin-hadoop3.2/examples/src/main/scala/org/apache/spark/examples/graphx/TriangleCountingExample.scala\n",
            "spark-3.2.1-bin-hadoop3.2/examples/src/main/scala/org/apache/spark/examples/ml/\n",
            "spark-3.2.1-bin-hadoop3.2/examples/src/main/scala/org/apache/spark/examples/ml/AFTSurvivalRegressionExample.scala\n",
            "spark-3.2.1-bin-hadoop3.2/examples/src/main/scala/org/apache/spark/examples/ml/ALSExample.scala\n",
            "spark-3.2.1-bin-hadoop3.2/examples/src/main/scala/org/apache/spark/examples/ml/BinarizerExample.scala\n",
            "spark-3.2.1-bin-hadoop3.2/examples/src/main/scala/org/apache/spark/examples/ml/BisectingKMeansExample.scala\n",
            "spark-3.2.1-bin-hadoop3.2/examples/src/main/scala/org/apache/spark/examples/ml/BucketedRandomProjectionLSHExample.scala\n",
            "spark-3.2.1-bin-hadoop3.2/examples/src/main/scala/org/apache/spark/examples/ml/BucketizerExample.scala\n",
            "spark-3.2.1-bin-hadoop3.2/examples/src/main/scala/org/apache/spark/examples/ml/ChiSqSelectorExample.scala\n",
            "spark-3.2.1-bin-hadoop3.2/examples/src/main/scala/org/apache/spark/examples/ml/ChiSquareTestExample.scala\n",
            "spark-3.2.1-bin-hadoop3.2/examples/src/main/scala/org/apache/spark/examples/ml/CorrelationExample.scala\n",
            "spark-3.2.1-bin-hadoop3.2/examples/src/main/scala/org/apache/spark/examples/ml/CountVectorizerExample.scala\n",
            "spark-3.2.1-bin-hadoop3.2/examples/src/main/scala/org/apache/spark/examples/ml/DCTExample.scala\n",
            "spark-3.2.1-bin-hadoop3.2/examples/src/main/scala/org/apache/spark/examples/ml/DataFrameExample.scala\n",
            "spark-3.2.1-bin-hadoop3.2/examples/src/main/scala/org/apache/spark/examples/ml/DecisionTreeClassificationExample.scala\n",
            "spark-3.2.1-bin-hadoop3.2/examples/src/main/scala/org/apache/spark/examples/ml/DecisionTreeExample.scala\n",
            "spark-3.2.1-bin-hadoop3.2/examples/src/main/scala/org/apache/spark/examples/ml/DecisionTreeRegressionExample.scala\n",
            "spark-3.2.1-bin-hadoop3.2/examples/src/main/scala/org/apache/spark/examples/ml/DeveloperApiExample.scala\n",
            "spark-3.2.1-bin-hadoop3.2/examples/src/main/scala/org/apache/spark/examples/ml/ElementwiseProductExample.scala\n",
            "spark-3.2.1-bin-hadoop3.2/examples/src/main/scala/org/apache/spark/examples/ml/EstimatorTransformerParamExample.scala\n",
            "spark-3.2.1-bin-hadoop3.2/examples/src/main/scala/org/apache/spark/examples/ml/FMClassifierExample.scala\n",
            "spark-3.2.1-bin-hadoop3.2/examples/src/main/scala/org/apache/spark/examples/ml/FMRegressorExample.scala\n",
            "spark-3.2.1-bin-hadoop3.2/examples/src/main/scala/org/apache/spark/examples/ml/FPGrowthExample.scala\n",
            "spark-3.2.1-bin-hadoop3.2/examples/src/main/scala/org/apache/spark/examples/ml/FeatureHasherExample.scala\n",
            "spark-3.2.1-bin-hadoop3.2/examples/src/main/scala/org/apache/spark/examples/ml/GBTExample.scala\n",
            "spark-3.2.1-bin-hadoop3.2/examples/src/main/scala/org/apache/spark/examples/ml/GaussianMixtureExample.scala\n",
            "spark-3.2.1-bin-hadoop3.2/examples/src/main/scala/org/apache/spark/examples/ml/GeneralizedLinearRegressionExample.scala\n",
            "spark-3.2.1-bin-hadoop3.2/examples/src/main/scala/org/apache/spark/examples/ml/GradientBoostedTreeClassifierExample.scala\n",
            "spark-3.2.1-bin-hadoop3.2/examples/src/main/scala/org/apache/spark/examples/ml/GradientBoostedTreeRegressorExample.scala\n",
            "spark-3.2.1-bin-hadoop3.2/examples/src/main/scala/org/apache/spark/examples/ml/ImputerExample.scala\n",
            "spark-3.2.1-bin-hadoop3.2/examples/src/main/scala/org/apache/spark/examples/ml/IndexToStringExample.scala\n",
            "spark-3.2.1-bin-hadoop3.2/examples/src/main/scala/org/apache/spark/examples/ml/InteractionExample.scala\n",
            "spark-3.2.1-bin-hadoop3.2/examples/src/main/scala/org/apache/spark/examples/ml/IsotonicRegressionExample.scala\n",
            "spark-3.2.1-bin-hadoop3.2/examples/src/main/scala/org/apache/spark/examples/ml/KMeansExample.scala\n",
            "spark-3.2.1-bin-hadoop3.2/examples/src/main/scala/org/apache/spark/examples/ml/LDAExample.scala\n",
            "spark-3.2.1-bin-hadoop3.2/examples/src/main/scala/org/apache/spark/examples/ml/LinearRegressionExample.scala\n",
            "spark-3.2.1-bin-hadoop3.2/examples/src/main/scala/org/apache/spark/examples/ml/LinearRegressionWithElasticNetExample.scala\n",
            "spark-3.2.1-bin-hadoop3.2/examples/src/main/scala/org/apache/spark/examples/ml/LinearSVCExample.scala\n",
            "spark-3.2.1-bin-hadoop3.2/examples/src/main/scala/org/apache/spark/examples/ml/LogisticRegressionExample.scala\n",
            "spark-3.2.1-bin-hadoop3.2/examples/src/main/scala/org/apache/spark/examples/ml/LogisticRegressionSummaryExample.scala\n",
            "spark-3.2.1-bin-hadoop3.2/examples/src/main/scala/org/apache/spark/examples/ml/LogisticRegressionWithElasticNetExample.scala\n",
            "spark-3.2.1-bin-hadoop3.2/examples/src/main/scala/org/apache/spark/examples/ml/MaxAbsScalerExample.scala\n",
            "spark-3.2.1-bin-hadoop3.2/examples/src/main/scala/org/apache/spark/examples/ml/MinHashLSHExample.scala\n",
            "spark-3.2.1-bin-hadoop3.2/examples/src/main/scala/org/apache/spark/examples/ml/MinMaxScalerExample.scala\n",
            "spark-3.2.1-bin-hadoop3.2/examples/src/main/scala/org/apache/spark/examples/ml/ModelSelectionViaCrossValidationExample.scala\n",
            "spark-3.2.1-bin-hadoop3.2/examples/src/main/scala/org/apache/spark/examples/ml/ModelSelectionViaTrainValidationSplitExample.scala\n",
            "spark-3.2.1-bin-hadoop3.2/examples/src/main/scala/org/apache/spark/examples/ml/MulticlassLogisticRegressionWithElasticNetExample.scala\n",
            "spark-3.2.1-bin-hadoop3.2/examples/src/main/scala/org/apache/spark/examples/ml/MultilayerPerceptronClassifierExample.scala\n",
            "spark-3.2.1-bin-hadoop3.2/examples/src/main/scala/org/apache/spark/examples/ml/NGramExample.scala\n",
            "spark-3.2.1-bin-hadoop3.2/examples/src/main/scala/org/apache/spark/examples/ml/NaiveBayesExample.scala\n",
            "spark-3.2.1-bin-hadoop3.2/examples/src/main/scala/org/apache/spark/examples/ml/NormalizerExample.scala\n",
            "spark-3.2.1-bin-hadoop3.2/examples/src/main/scala/org/apache/spark/examples/ml/OneHotEncoderExample.scala\n",
            "spark-3.2.1-bin-hadoop3.2/examples/src/main/scala/org/apache/spark/examples/ml/OneVsRestExample.scala\n",
            "spark-3.2.1-bin-hadoop3.2/examples/src/main/scala/org/apache/spark/examples/ml/PCAExample.scala\n",
            "spark-3.2.1-bin-hadoop3.2/examples/src/main/scala/org/apache/spark/examples/ml/PipelineExample.scala\n",
            "spark-3.2.1-bin-hadoop3.2/examples/src/main/scala/org/apache/spark/examples/ml/PolynomialExpansionExample.scala\n",
            "spark-3.2.1-bin-hadoop3.2/examples/src/main/scala/org/apache/spark/examples/ml/PowerIterationClusteringExample.scala\n",
            "spark-3.2.1-bin-hadoop3.2/examples/src/main/scala/org/apache/spark/examples/ml/PrefixSpanExample.scala\n",
            "spark-3.2.1-bin-hadoop3.2/examples/src/main/scala/org/apache/spark/examples/ml/QuantileDiscretizerExample.scala\n",
            "spark-3.2.1-bin-hadoop3.2/examples/src/main/scala/org/apache/spark/examples/ml/RFormulaExample.scala\n",
            "spark-3.2.1-bin-hadoop3.2/examples/src/main/scala/org/apache/spark/examples/ml/RandomForestClassifierExample.scala\n",
            "spark-3.2.1-bin-hadoop3.2/examples/src/main/scala/org/apache/spark/examples/ml/RandomForestExample.scala\n",
            "spark-3.2.1-bin-hadoop3.2/examples/src/main/scala/org/apache/spark/examples/ml/RandomForestRegressorExample.scala\n",
            "spark-3.2.1-bin-hadoop3.2/examples/src/main/scala/org/apache/spark/examples/ml/RobustScalerExample.scala\n",
            "spark-3.2.1-bin-hadoop3.2/examples/src/main/scala/org/apache/spark/examples/ml/SQLTransformerExample.scala\n",
            "spark-3.2.1-bin-hadoop3.2/examples/src/main/scala/org/apache/spark/examples/ml/StandardScalerExample.scala\n",
            "spark-3.2.1-bin-hadoop3.2/examples/src/main/scala/org/apache/spark/examples/ml/StopWordsRemoverExample.scala\n",
            "spark-3.2.1-bin-hadoop3.2/examples/src/main/scala/org/apache/spark/examples/ml/StringIndexerExample.scala\n",
            "spark-3.2.1-bin-hadoop3.2/examples/src/main/scala/org/apache/spark/examples/ml/SummarizerExample.scala\n",
            "spark-3.2.1-bin-hadoop3.2/examples/src/main/scala/org/apache/spark/examples/ml/TfIdfExample.scala\n",
            "spark-3.2.1-bin-hadoop3.2/examples/src/main/scala/org/apache/spark/examples/ml/TokenizerExample.scala\n",
            "spark-3.2.1-bin-hadoop3.2/examples/src/main/scala/org/apache/spark/examples/ml/UnaryTransformerExample.scala\n",
            "spark-3.2.1-bin-hadoop3.2/examples/src/main/scala/org/apache/spark/examples/ml/UnivariateFeatureSelectorExample.scala\n",
            "spark-3.2.1-bin-hadoop3.2/examples/src/main/scala/org/apache/spark/examples/ml/VarianceThresholdSelectorExample.scala\n",
            "spark-3.2.1-bin-hadoop3.2/examples/src/main/scala/org/apache/spark/examples/ml/VectorAssemblerExample.scala\n",
            "spark-3.2.1-bin-hadoop3.2/examples/src/main/scala/org/apache/spark/examples/ml/VectorIndexerExample.scala\n",
            "spark-3.2.1-bin-hadoop3.2/examples/src/main/scala/org/apache/spark/examples/ml/VectorSizeHintExample.scala\n",
            "spark-3.2.1-bin-hadoop3.2/examples/src/main/scala/org/apache/spark/examples/ml/VectorSlicerExample.scala\n",
            "spark-3.2.1-bin-hadoop3.2/examples/src/main/scala/org/apache/spark/examples/ml/Word2VecExample.scala\n",
            "spark-3.2.1-bin-hadoop3.2/examples/src/main/scala/org/apache/spark/examples/mllib/\n",
            "spark-3.2.1-bin-hadoop3.2/examples/src/main/scala/org/apache/spark/examples/mllib/AbstractParams.scala\n",
            "spark-3.2.1-bin-hadoop3.2/examples/src/main/scala/org/apache/spark/examples/mllib/AssociationRulesExample.scala\n",
            "spark-3.2.1-bin-hadoop3.2/examples/src/main/scala/org/apache/spark/examples/mllib/BinaryClassification.scala\n",
            "spark-3.2.1-bin-hadoop3.2/examples/src/main/scala/org/apache/spark/examples/mllib/BinaryClassificationMetricsExample.scala\n",
            "spark-3.2.1-bin-hadoop3.2/examples/src/main/scala/org/apache/spark/examples/mllib/BisectingKMeansExample.scala\n",
            "spark-3.2.1-bin-hadoop3.2/examples/src/main/scala/org/apache/spark/examples/mllib/ChiSqSelectorExample.scala\n",
            "spark-3.2.1-bin-hadoop3.2/examples/src/main/scala/org/apache/spark/examples/mllib/Correlations.scala\n",
            "spark-3.2.1-bin-hadoop3.2/examples/src/main/scala/org/apache/spark/examples/mllib/CorrelationsExample.scala\n",
            "spark-3.2.1-bin-hadoop3.2/examples/src/main/scala/org/apache/spark/examples/mllib/CosineSimilarity.scala\n",
            "spark-3.2.1-bin-hadoop3.2/examples/src/main/scala/org/apache/spark/examples/mllib/DecisionTreeClassificationExample.scala\n",
            "spark-3.2.1-bin-hadoop3.2/examples/src/main/scala/org/apache/spark/examples/mllib/DecisionTreeRegressionExample.scala\n",
            "spark-3.2.1-bin-hadoop3.2/examples/src/main/scala/org/apache/spark/examples/mllib/DecisionTreeRunner.scala\n",
            "spark-3.2.1-bin-hadoop3.2/examples/src/main/scala/org/apache/spark/examples/mllib/DenseKMeans.scala\n",
            "spark-3.2.1-bin-hadoop3.2/examples/src/main/scala/org/apache/spark/examples/mllib/ElementwiseProductExample.scala\n",
            "spark-3.2.1-bin-hadoop3.2/examples/src/main/scala/org/apache/spark/examples/mllib/FPGrowthExample.scala\n",
            "spark-3.2.1-bin-hadoop3.2/examples/src/main/scala/org/apache/spark/examples/mllib/GaussianMixtureExample.scala\n",
            "spark-3.2.1-bin-hadoop3.2/examples/src/main/scala/org/apache/spark/examples/mllib/GradientBoostedTreesRunner.scala\n",
            "spark-3.2.1-bin-hadoop3.2/examples/src/main/scala/org/apache/spark/examples/mllib/GradientBoostingClassificationExample.scala\n",
            "spark-3.2.1-bin-hadoop3.2/examples/src/main/scala/org/apache/spark/examples/mllib/GradientBoostingRegressionExample.scala\n",
            "spark-3.2.1-bin-hadoop3.2/examples/src/main/scala/org/apache/spark/examples/mllib/HypothesisTestingExample.scala\n",
            "spark-3.2.1-bin-hadoop3.2/examples/src/main/scala/org/apache/spark/examples/mllib/HypothesisTestingKolmogorovSmirnovTestExample.scala\n",
            "spark-3.2.1-bin-hadoop3.2/examples/src/main/scala/org/apache/spark/examples/mllib/IsotonicRegressionExample.scala\n",
            "spark-3.2.1-bin-hadoop3.2/examples/src/main/scala/org/apache/spark/examples/mllib/KMeansExample.scala\n",
            "spark-3.2.1-bin-hadoop3.2/examples/src/main/scala/org/apache/spark/examples/mllib/KernelDensityEstimationExample.scala\n",
            "spark-3.2.1-bin-hadoop3.2/examples/src/main/scala/org/apache/spark/examples/mllib/LBFGSExample.scala\n",
            "spark-3.2.1-bin-hadoop3.2/examples/src/main/scala/org/apache/spark/examples/mllib/LDAExample.scala\n",
            "spark-3.2.1-bin-hadoop3.2/examples/src/main/scala/org/apache/spark/examples/mllib/LatentDirichletAllocationExample.scala\n",
            "spark-3.2.1-bin-hadoop3.2/examples/src/main/scala/org/apache/spark/examples/mllib/LogisticRegressionWithLBFGSExample.scala\n",
            "spark-3.2.1-bin-hadoop3.2/examples/src/main/scala/org/apache/spark/examples/mllib/MovieLensALS.scala\n",
            "spark-3.2.1-bin-hadoop3.2/examples/src/main/scala/org/apache/spark/examples/mllib/MultiLabelMetricsExample.scala\n",
            "spark-3.2.1-bin-hadoop3.2/examples/src/main/scala/org/apache/spark/examples/mllib/MulticlassMetricsExample.scala\n",
            "spark-3.2.1-bin-hadoop3.2/examples/src/main/scala/org/apache/spark/examples/mllib/MultivariateSummarizer.scala\n",
            "spark-3.2.1-bin-hadoop3.2/examples/src/main/scala/org/apache/spark/examples/mllib/NaiveBayesExample.scala\n",
            "spark-3.2.1-bin-hadoop3.2/examples/src/main/scala/org/apache/spark/examples/mllib/NormalizerExample.scala\n",
            "spark-3.2.1-bin-hadoop3.2/examples/src/main/scala/org/apache/spark/examples/mllib/PCAOnRowMatrixExample.scala\n",
            "spark-3.2.1-bin-hadoop3.2/examples/src/main/scala/org/apache/spark/examples/mllib/PCAOnSourceVectorExample.scala\n",
            "spark-3.2.1-bin-hadoop3.2/examples/src/main/scala/org/apache/spark/examples/mllib/PMMLModelExportExample.scala\n",
            "spark-3.2.1-bin-hadoop3.2/examples/src/main/scala/org/apache/spark/examples/mllib/PowerIterationClusteringExample.scala\n",
            "spark-3.2.1-bin-hadoop3.2/examples/src/main/scala/org/apache/spark/examples/mllib/PrefixSpanExample.scala\n",
            "spark-3.2.1-bin-hadoop3.2/examples/src/main/scala/org/apache/spark/examples/mllib/RandomForestClassificationExample.scala\n",
            "spark-3.2.1-bin-hadoop3.2/examples/src/main/scala/org/apache/spark/examples/mllib/RandomForestRegressionExample.scala\n",
            "spark-3.2.1-bin-hadoop3.2/examples/src/main/scala/org/apache/spark/examples/mllib/RandomRDDGeneration.scala\n",
            "spark-3.2.1-bin-hadoop3.2/examples/src/main/scala/org/apache/spark/examples/mllib/RankingMetricsExample.scala\n",
            "spark-3.2.1-bin-hadoop3.2/examples/src/main/scala/org/apache/spark/examples/mllib/RecommendationExample.scala\n",
            "spark-3.2.1-bin-hadoop3.2/examples/src/main/scala/org/apache/spark/examples/mllib/SVDExample.scala\n",
            "spark-3.2.1-bin-hadoop3.2/examples/src/main/scala/org/apache/spark/examples/mllib/SVMWithSGDExample.scala\n",
            "spark-3.2.1-bin-hadoop3.2/examples/src/main/scala/org/apache/spark/examples/mllib/SampledRDDs.scala\n",
            "spark-3.2.1-bin-hadoop3.2/examples/src/main/scala/org/apache/spark/examples/mllib/SimpleFPGrowth.scala\n",
            "spark-3.2.1-bin-hadoop3.2/examples/src/main/scala/org/apache/spark/examples/mllib/SparseNaiveBayes.scala\n",
            "spark-3.2.1-bin-hadoop3.2/examples/src/main/scala/org/apache/spark/examples/mllib/StandardScalerExample.scala\n",
            "spark-3.2.1-bin-hadoop3.2/examples/src/main/scala/org/apache/spark/examples/mllib/StratifiedSamplingExample.scala\n",
            "spark-3.2.1-bin-hadoop3.2/examples/src/main/scala/org/apache/spark/examples/mllib/StreamingKMeansExample.scala\n",
            "spark-3.2.1-bin-hadoop3.2/examples/src/main/scala/org/apache/spark/examples/mllib/StreamingLinearRegressionExample.scala\n",
            "spark-3.2.1-bin-hadoop3.2/examples/src/main/scala/org/apache/spark/examples/mllib/StreamingLogisticRegression.scala\n",
            "spark-3.2.1-bin-hadoop3.2/examples/src/main/scala/org/apache/spark/examples/mllib/StreamingTestExample.scala\n",
            "spark-3.2.1-bin-hadoop3.2/examples/src/main/scala/org/apache/spark/examples/mllib/SummaryStatisticsExample.scala\n",
            "spark-3.2.1-bin-hadoop3.2/examples/src/main/scala/org/apache/spark/examples/mllib/TFIDFExample.scala\n",
            "spark-3.2.1-bin-hadoop3.2/examples/src/main/scala/org/apache/spark/examples/mllib/TallSkinnyPCA.scala\n",
            "spark-3.2.1-bin-hadoop3.2/examples/src/main/scala/org/apache/spark/examples/mllib/TallSkinnySVD.scala\n",
            "spark-3.2.1-bin-hadoop3.2/examples/src/main/scala/org/apache/spark/examples/mllib/Word2VecExample.scala\n",
            "spark-3.2.1-bin-hadoop3.2/examples/src/main/scala/org/apache/spark/examples/pythonconverters/\n",
            "spark-3.2.1-bin-hadoop3.2/examples/src/main/scala/org/apache/spark/examples/pythonconverters/AvroConverters.scala\n",
            "spark-3.2.1-bin-hadoop3.2/examples/src/main/scala/org/apache/spark/examples/sql/\n",
            "spark-3.2.1-bin-hadoop3.2/examples/src/main/scala/org/apache/spark/examples/sql/RDDRelation.scala\n",
            "spark-3.2.1-bin-hadoop3.2/examples/src/main/scala/org/apache/spark/examples/sql/SQLDataSourceExample.scala\n",
            "spark-3.2.1-bin-hadoop3.2/examples/src/main/scala/org/apache/spark/examples/sql/SimpleTypedAggregator.scala\n",
            "spark-3.2.1-bin-hadoop3.2/examples/src/main/scala/org/apache/spark/examples/sql/SparkSQLExample.scala\n",
            "spark-3.2.1-bin-hadoop3.2/examples/src/main/scala/org/apache/spark/examples/sql/UserDefinedScalar.scala\n",
            "spark-3.2.1-bin-hadoop3.2/examples/src/main/scala/org/apache/spark/examples/sql/UserDefinedTypedAggregation.scala\n",
            "spark-3.2.1-bin-hadoop3.2/examples/src/main/scala/org/apache/spark/examples/sql/UserDefinedUntypedAggregation.scala\n",
            "spark-3.2.1-bin-hadoop3.2/examples/src/main/scala/org/apache/spark/examples/sql/hive/\n",
            "spark-3.2.1-bin-hadoop3.2/examples/src/main/scala/org/apache/spark/examples/sql/hive/SparkHiveExample.scala\n",
            "spark-3.2.1-bin-hadoop3.2/examples/src/main/scala/org/apache/spark/examples/sql/jdbc/\n",
            "spark-3.2.1-bin-hadoop3.2/examples/src/main/scala/org/apache/spark/examples/sql/jdbc/ExampleJdbcConnectionProvider.scala\n",
            "spark-3.2.1-bin-hadoop3.2/examples/src/main/scala/org/apache/spark/examples/sql/streaming/\n",
            "spark-3.2.1-bin-hadoop3.2/examples/src/main/scala/org/apache/spark/examples/sql/streaming/StructuredComplexSessionization.scala\n",
            "spark-3.2.1-bin-hadoop3.2/examples/src/main/scala/org/apache/spark/examples/sql/streaming/StructuredKafkaWordCount.scala\n",
            "spark-3.2.1-bin-hadoop3.2/examples/src/main/scala/org/apache/spark/examples/sql/streaming/StructuredKerberizedKafkaWordCount.scala\n",
            "spark-3.2.1-bin-hadoop3.2/examples/src/main/scala/org/apache/spark/examples/sql/streaming/StructuredNetworkWordCount.scala\n",
            "spark-3.2.1-bin-hadoop3.2/examples/src/main/scala/org/apache/spark/examples/sql/streaming/StructuredNetworkWordCountWindowed.scala\n",
            "spark-3.2.1-bin-hadoop3.2/examples/src/main/scala/org/apache/spark/examples/sql/streaming/StructuredSessionization.scala\n",
            "spark-3.2.1-bin-hadoop3.2/examples/src/main/scala/org/apache/spark/examples/streaming/\n",
            "spark-3.2.1-bin-hadoop3.2/examples/src/main/scala/org/apache/spark/examples/streaming/CustomReceiver.scala\n",
            "spark-3.2.1-bin-hadoop3.2/examples/src/main/scala/org/apache/spark/examples/streaming/DirectKafkaWordCount.scala\n",
            "spark-3.2.1-bin-hadoop3.2/examples/src/main/scala/org/apache/spark/examples/streaming/DirectKerberizedKafkaWordCount.scala\n",
            "spark-3.2.1-bin-hadoop3.2/examples/src/main/scala/org/apache/spark/examples/streaming/HdfsWordCount.scala\n",
            "spark-3.2.1-bin-hadoop3.2/examples/src/main/scala/org/apache/spark/examples/streaming/NetworkWordCount.scala\n",
            "spark-3.2.1-bin-hadoop3.2/examples/src/main/scala/org/apache/spark/examples/streaming/QueueStream.scala\n",
            "spark-3.2.1-bin-hadoop3.2/examples/src/main/scala/org/apache/spark/examples/streaming/RawNetworkGrep.scala\n",
            "spark-3.2.1-bin-hadoop3.2/examples/src/main/scala/org/apache/spark/examples/streaming/RecoverableNetworkWordCount.scala\n",
            "spark-3.2.1-bin-hadoop3.2/examples/src/main/scala/org/apache/spark/examples/streaming/SqlNetworkWordCount.scala\n",
            "spark-3.2.1-bin-hadoop3.2/examples/src/main/scala/org/apache/spark/examples/streaming/StatefulNetworkWordCount.scala\n",
            "spark-3.2.1-bin-hadoop3.2/examples/src/main/scala/org/apache/spark/examples/streaming/StreamingExamples.scala\n",
            "spark-3.2.1-bin-hadoop3.2/examples/src/main/scala/org/apache/spark/examples/streaming/clickstream/\n",
            "spark-3.2.1-bin-hadoop3.2/examples/src/main/scala/org/apache/spark/examples/streaming/clickstream/PageViewGenerator.scala\n",
            "spark-3.2.1-bin-hadoop3.2/examples/src/main/scala/org/apache/spark/examples/streaming/clickstream/PageViewStream.scala\n",
            "spark-3.2.1-bin-hadoop3.2/examples/src/main/scripts/\n",
            "spark-3.2.1-bin-hadoop3.2/examples/src/main/scripts/getGpusResources.sh\n",
            "spark-3.2.1-bin-hadoop3.2/jars/\n",
            "spark-3.2.1-bin-hadoop3.2/jars/HikariCP-2.5.1.jar\n",
            "spark-3.2.1-bin-hadoop3.2/jars/JLargeArrays-1.5.jar\n",
            "spark-3.2.1-bin-hadoop3.2/jars/JTransforms-3.1.jar\n",
            "spark-3.2.1-bin-hadoop3.2/jars/RoaringBitmap-0.9.0.jar\n",
            "spark-3.2.1-bin-hadoop3.2/jars/ST4-4.0.4.jar\n",
            "spark-3.2.1-bin-hadoop3.2/jars/activation-1.1.1.jar\n",
            "spark-3.2.1-bin-hadoop3.2/jars/aircompressor-0.21.jar\n",
            "spark-3.2.1-bin-hadoop3.2/jars/algebra_2.12-2.0.1.jar\n",
            "spark-3.2.1-bin-hadoop3.2/jars/annotations-17.0.0.jar\n",
            "spark-3.2.1-bin-hadoop3.2/jars/antlr-runtime-3.5.2.jar\n",
            "spark-3.2.1-bin-hadoop3.2/jars/antlr4-runtime-4.8.jar\n",
            "spark-3.2.1-bin-hadoop3.2/jars/aopalliance-repackaged-2.6.1.jar\n",
            "spark-3.2.1-bin-hadoop3.2/jars/arpack-2.2.1.jar\n",
            "spark-3.2.1-bin-hadoop3.2/jars/arpack_combined_all-0.1.jar\n",
            "spark-3.2.1-bin-hadoop3.2/jars/arrow-format-2.0.0.jar\n",
            "spark-3.2.1-bin-hadoop3.2/jars/arrow-memory-core-2.0.0.jar\n",
            "spark-3.2.1-bin-hadoop3.2/jars/arrow-memory-netty-2.0.0.jar\n",
            "spark-3.2.1-bin-hadoop3.2/jars/arrow-vector-2.0.0.jar\n",
            "spark-3.2.1-bin-hadoop3.2/jars/audience-annotations-0.5.0.jar\n",
            "spark-3.2.1-bin-hadoop3.2/jars/automaton-1.11-8.jar\n",
            "spark-3.2.1-bin-hadoop3.2/jars/avro-1.10.2.jar\n",
            "spark-3.2.1-bin-hadoop3.2/jars/avro-ipc-1.10.2.jar\n",
            "spark-3.2.1-bin-hadoop3.2/jars/avro-mapred-1.10.2.jar\n",
            "spark-3.2.1-bin-hadoop3.2/jars/blas-2.2.1.jar\n",
            "spark-3.2.1-bin-hadoop3.2/jars/bonecp-0.8.0.RELEASE.jar\n",
            "spark-3.2.1-bin-hadoop3.2/jars/breeze-macros_2.12-1.2.jar\n",
            "spark-3.2.1-bin-hadoop3.2/jars/breeze_2.12-1.2.jar\n",
            "spark-3.2.1-bin-hadoop3.2/jars/cats-kernel_2.12-2.1.1.jar\n",
            "spark-3.2.1-bin-hadoop3.2/jars/chill-java-0.10.0.jar\n",
            "spark-3.2.1-bin-hadoop3.2/jars/chill_2.12-0.10.0.jar\n",
            "spark-3.2.1-bin-hadoop3.2/jars/commons-cli-1.2.jar\n",
            "spark-3.2.1-bin-hadoop3.2/jars/commons-codec-1.15.jar\n",
            "spark-3.2.1-bin-hadoop3.2/jars/commons-collections-3.2.2.jar\n",
            "spark-3.2.1-bin-hadoop3.2/jars/commons-compiler-3.0.16.jar\n",
            "spark-3.2.1-bin-hadoop3.2/jars/commons-compress-1.21.jar\n",
            "spark-3.2.1-bin-hadoop3.2/jars/commons-crypto-1.1.0.jar\n",
            "spark-3.2.1-bin-hadoop3.2/jars/commons-dbcp-1.4.jar\n",
            "spark-3.2.1-bin-hadoop3.2/jars/commons-io-2.8.0.jar\n",
            "spark-3.2.1-bin-hadoop3.2/jars/commons-lang-2.6.jar\n",
            "spark-3.2.1-bin-hadoop3.2/jars/commons-lang3-3.12.0.jar\n",
            "spark-3.2.1-bin-hadoop3.2/jars/commons-logging-1.1.3.jar\n",
            "spark-3.2.1-bin-hadoop3.2/jars/commons-math3-3.4.1.jar\n",
            "spark-3.2.1-bin-hadoop3.2/jars/commons-net-3.1.jar\n",
            "spark-3.2.1-bin-hadoop3.2/jars/commons-pool-1.5.4.jar\n",
            "spark-3.2.1-bin-hadoop3.2/jars/commons-text-1.6.jar\n",
            "spark-3.2.1-bin-hadoop3.2/jars/compress-lzf-1.0.3.jar\n",
            "spark-3.2.1-bin-hadoop3.2/jars/core-1.1.2.jar\n",
            "spark-3.2.1-bin-hadoop3.2/jars/curator-client-2.13.0.jar\n",
            "spark-3.2.1-bin-hadoop3.2/jars/curator-framework-2.13.0.jar\n",
            "spark-3.2.1-bin-hadoop3.2/jars/curator-recipes-2.13.0.jar\n",
            "spark-3.2.1-bin-hadoop3.2/jars/datanucleus-api-jdo-4.2.4.jar\n",
            "spark-3.2.1-bin-hadoop3.2/jars/datanucleus-core-4.1.17.jar\n",
            "spark-3.2.1-bin-hadoop3.2/jars/datanucleus-rdbms-4.1.19.jar\n",
            "spark-3.2.1-bin-hadoop3.2/jars/derby-10.14.2.0.jar\n",
            "spark-3.2.1-bin-hadoop3.2/jars/dropwizard-metrics-hadoop-metrics2-reporter-0.1.2.jar\n",
            "spark-3.2.1-bin-hadoop3.2/jars/flatbuffers-java-1.9.0.jar\n",
            "spark-3.2.1-bin-hadoop3.2/jars/generex-1.0.2.jar\n",
            "spark-3.2.1-bin-hadoop3.2/jars/gson-2.2.4.jar\n",
            "spark-3.2.1-bin-hadoop3.2/jars/guava-14.0.1.jar\n",
            "spark-3.2.1-bin-hadoop3.2/jars/hadoop-client-api-3.3.1.jar\n",
            "spark-3.2.1-bin-hadoop3.2/jars/hadoop-client-runtime-3.3.1.jar\n",
            "spark-3.2.1-bin-hadoop3.2/jars/hadoop-shaded-guava-1.1.1.jar\n",
            "spark-3.2.1-bin-hadoop3.2/jars/hadoop-yarn-server-web-proxy-3.3.1.jar\n",
            "spark-3.2.1-bin-hadoop3.2/jars/hive-beeline-2.3.9.jar\n",
            "spark-3.2.1-bin-hadoop3.2/jars/hive-cli-2.3.9.jar\n",
            "spark-3.2.1-bin-hadoop3.2/jars/hive-common-2.3.9.jar\n",
            "spark-3.2.1-bin-hadoop3.2/jars/hive-exec-2.3.9-core.jar\n",
            "spark-3.2.1-bin-hadoop3.2/jars/hive-jdbc-2.3.9.jar\n",
            "spark-3.2.1-bin-hadoop3.2/jars/hive-llap-common-2.3.9.jar\n",
            "spark-3.2.1-bin-hadoop3.2/jars/hive-metastore-2.3.9.jar\n",
            "spark-3.2.1-bin-hadoop3.2/jars/hive-serde-2.3.9.jar\n",
            "spark-3.2.1-bin-hadoop3.2/jars/hive-service-rpc-3.1.2.jar\n",
            "spark-3.2.1-bin-hadoop3.2/jars/hive-shims-0.23-2.3.9.jar\n",
            "spark-3.2.1-bin-hadoop3.2/jars/hive-shims-2.3.9.jar\n",
            "spark-3.2.1-bin-hadoop3.2/jars/hive-shims-common-2.3.9.jar\n",
            "spark-3.2.1-bin-hadoop3.2/jars/hive-shims-scheduler-2.3.9.jar\n",
            "spark-3.2.1-bin-hadoop3.2/jars/hive-storage-api-2.7.2.jar\n",
            "spark-3.2.1-bin-hadoop3.2/jars/hive-vector-code-gen-2.3.9.jar\n",
            "spark-3.2.1-bin-hadoop3.2/jars/hk2-api-2.6.1.jar\n",
            "spark-3.2.1-bin-hadoop3.2/jars/hk2-locator-2.6.1.jar\n",
            "spark-3.2.1-bin-hadoop3.2/jars/hk2-utils-2.6.1.jar\n",
            "spark-3.2.1-bin-hadoop3.2/jars/htrace-core4-4.1.0-incubating.jar\n",
            "spark-3.2.1-bin-hadoop3.2/jars/httpclient-4.5.13.jar\n",
            "spark-3.2.1-bin-hadoop3.2/jars/httpcore-4.4.14.jar\n",
            "spark-3.2.1-bin-hadoop3.2/jars/istack-commons-runtime-3.0.8.jar\n",
            "spark-3.2.1-bin-hadoop3.2/jars/ivy-2.5.0.jar\n",
            "spark-3.2.1-bin-hadoop3.2/jars/jackson-annotations-2.12.3.jar\n",
            "spark-3.2.1-bin-hadoop3.2/jars/jackson-core-2.12.3.jar\n",
            "spark-3.2.1-bin-hadoop3.2/jars/jackson-core-asl-1.9.13.jar\n",
            "spark-3.2.1-bin-hadoop3.2/jars/jackson-databind-2.12.3.jar\n",
            "spark-3.2.1-bin-hadoop3.2/jars/jackson-dataformat-yaml-2.12.3.jar\n",
            "spark-3.2.1-bin-hadoop3.2/jars/jackson-datatype-jsr310-2.11.2.jar\n",
            "spark-3.2.1-bin-hadoop3.2/jars/jackson-mapper-asl-1.9.13.jar\n",
            "spark-3.2.1-bin-hadoop3.2/jars/jackson-module-scala_2.12-2.12.3.jar\n",
            "spark-3.2.1-bin-hadoop3.2/jars/jakarta.annotation-api-1.3.5.jar\n",
            "spark-3.2.1-bin-hadoop3.2/jars/jakarta.inject-2.6.1.jar\n",
            "spark-3.2.1-bin-hadoop3.2/jars/jakarta.servlet-api-4.0.3.jar\n",
            "spark-3.2.1-bin-hadoop3.2/jars/jakarta.validation-api-2.0.2.jar\n",
            "spark-3.2.1-bin-hadoop3.2/jars/jakarta.ws.rs-api-2.1.6.jar\n",
            "spark-3.2.1-bin-hadoop3.2/jars/jakarta.xml.bind-api-2.3.2.jar\n",
            "spark-3.2.1-bin-hadoop3.2/jars/janino-3.0.16.jar\n",
            "spark-3.2.1-bin-hadoop3.2/jars/javassist-3.25.0-GA.jar\n",
            "spark-3.2.1-bin-hadoop3.2/jars/javax.jdo-3.2.0-m3.jar\n",
            "spark-3.2.1-bin-hadoop3.2/jars/javolution-5.5.1.jar\n",
            "spark-3.2.1-bin-hadoop3.2/jars/jaxb-api-2.2.11.jar\n",
            "spark-3.2.1-bin-hadoop3.2/jars/jaxb-runtime-2.3.2.jar\n",
            "spark-3.2.1-bin-hadoop3.2/jars/jcl-over-slf4j-1.7.30.jar\n",
            "spark-3.2.1-bin-hadoop3.2/jars/jdo-api-3.0.1.jar\n",
            "spark-3.2.1-bin-hadoop3.2/jars/jersey-client-2.34.jar\n",
            "spark-3.2.1-bin-hadoop3.2/jars/jersey-common-2.34.jar\n",
            "spark-3.2.1-bin-hadoop3.2/jars/jersey-container-servlet-2.34.jar\n",
            "spark-3.2.1-bin-hadoop3.2/jars/jersey-container-servlet-core-2.34.jar\n",
            "spark-3.2.1-bin-hadoop3.2/jars/jersey-hk2-2.34.jar\n",
            "spark-3.2.1-bin-hadoop3.2/jars/jersey-server-2.34.jar\n",
            "spark-3.2.1-bin-hadoop3.2/jars/jline-2.14.6.jar\n",
            "spark-3.2.1-bin-hadoop3.2/jars/joda-time-2.10.10.jar\n",
            "spark-3.2.1-bin-hadoop3.2/jars/jodd-core-3.5.2.jar\n",
            "spark-3.2.1-bin-hadoop3.2/jars/jpam-1.1.jar\n",
            "spark-3.2.1-bin-hadoop3.2/jars/json-1.8.jar\n",
            "spark-3.2.1-bin-hadoop3.2/jars/json4s-ast_2.12-3.7.0-M11.jar\n",
            "spark-3.2.1-bin-hadoop3.2/jars/json4s-core_2.12-3.7.0-M11.jar\n",
            "spark-3.2.1-bin-hadoop3.2/jars/json4s-jackson_2.12-3.7.0-M11.jar\n",
            "spark-3.2.1-bin-hadoop3.2/jars/json4s-scalap_2.12-3.7.0-M11.jar\n",
            "spark-3.2.1-bin-hadoop3.2/jars/jsr305-3.0.0.jar\n",
            "spark-3.2.1-bin-hadoop3.2/jars/jta-1.1.jar\n",
            "spark-3.2.1-bin-hadoop3.2/jars/jul-to-slf4j-1.7.30.jar\n",
            "spark-3.2.1-bin-hadoop3.2/jars/kryo-shaded-4.0.2.jar\n",
            "spark-3.2.1-bin-hadoop3.2/jars/kubernetes-client-5.4.1.jar\n",
            "spark-3.2.1-bin-hadoop3.2/jars/kubernetes-model-admissionregistration-5.4.1.jar\n",
            "spark-3.2.1-bin-hadoop3.2/jars/kubernetes-model-apiextensions-5.4.1.jar\n",
            "spark-3.2.1-bin-hadoop3.2/jars/kubernetes-model-apps-5.4.1.jar\n",
            "spark-3.2.1-bin-hadoop3.2/jars/kubernetes-model-autoscaling-5.4.1.jar\n",
            "spark-3.2.1-bin-hadoop3.2/jars/kubernetes-model-batch-5.4.1.jar\n",
            "spark-3.2.1-bin-hadoop3.2/jars/kubernetes-model-certificates-5.4.1.jar\n",
            "spark-3.2.1-bin-hadoop3.2/jars/kubernetes-model-common-5.4.1.jar\n",
            "spark-3.2.1-bin-hadoop3.2/jars/kubernetes-model-coordination-5.4.1.jar\n",
            "spark-3.2.1-bin-hadoop3.2/jars/kubernetes-model-core-5.4.1.jar\n",
            "spark-3.2.1-bin-hadoop3.2/jars/kubernetes-model-discovery-5.4.1.jar\n",
            "spark-3.2.1-bin-hadoop3.2/jars/kubernetes-model-events-5.4.1.jar\n",
            "spark-3.2.1-bin-hadoop3.2/jars/kubernetes-model-extensions-5.4.1.jar\n",
            "spark-3.2.1-bin-hadoop3.2/jars/kubernetes-model-flowcontrol-5.4.1.jar\n",
            "spark-3.2.1-bin-hadoop3.2/jars/kubernetes-model-metrics-5.4.1.jar\n",
            "spark-3.2.1-bin-hadoop3.2/jars/kubernetes-model-networking-5.4.1.jar\n",
            "spark-3.2.1-bin-hadoop3.2/jars/kubernetes-model-node-5.4.1.jar\n",
            "spark-3.2.1-bin-hadoop3.2/jars/kubernetes-model-policy-5.4.1.jar\n",
            "spark-3.2.1-bin-hadoop3.2/jars/kubernetes-model-rbac-5.4.1.jar\n",
            "spark-3.2.1-bin-hadoop3.2/jars/kubernetes-model-scheduling-5.4.1.jar\n",
            "spark-3.2.1-bin-hadoop3.2/jars/kubernetes-model-storageclass-5.4.1.jar\n",
            "spark-3.2.1-bin-hadoop3.2/jars/lapack-2.2.1.jar\n",
            "spark-3.2.1-bin-hadoop3.2/jars/leveldbjni-all-1.8.jar\n",
            "spark-3.2.1-bin-hadoop3.2/jars/libfb303-0.9.3.jar\n",
            "spark-3.2.1-bin-hadoop3.2/jars/libthrift-0.12.0.jar\n",
            "spark-3.2.1-bin-hadoop3.2/jars/log4j-1.2.17.jar\n",
            "spark-3.2.1-bin-hadoop3.2/jars/logging-interceptor-3.12.12.jar\n",
            "spark-3.2.1-bin-hadoop3.2/jars/lz4-java-1.7.1.jar\n",
            "spark-3.2.1-bin-hadoop3.2/jars/macro-compat_2.12-1.1.1.jar\n",
            "spark-3.2.1-bin-hadoop3.2/jars/mesos-1.4.0-shaded-protobuf.jar\n",
            "spark-3.2.1-bin-hadoop3.2/jars/metrics-core-4.2.0.jar\n",
            "spark-3.2.1-bin-hadoop3.2/jars/metrics-graphite-4.2.0.jar\n",
            "spark-3.2.1-bin-hadoop3.2/jars/metrics-jmx-4.2.0.jar\n",
            "spark-3.2.1-bin-hadoop3.2/jars/metrics-json-4.2.0.jar\n",
            "spark-3.2.1-bin-hadoop3.2/jars/metrics-jvm-4.2.0.jar\n",
            "spark-3.2.1-bin-hadoop3.2/jars/minlog-1.3.0.jar\n",
            "spark-3.2.1-bin-hadoop3.2/jars/netty-all-4.1.68.Final.jar\n",
            "spark-3.2.1-bin-hadoop3.2/jars/objenesis-2.6.jar\n",
            "spark-3.2.1-bin-hadoop3.2/jars/okhttp-3.12.12.jar\n",
            "spark-3.2.1-bin-hadoop3.2/jars/okio-1.14.0.jar\n",
            "spark-3.2.1-bin-hadoop3.2/jars/opencsv-2.3.jar\n",
            "spark-3.2.1-bin-hadoop3.2/jars/orc-core-1.6.12.jar\n",
            "spark-3.2.1-bin-hadoop3.2/jars/orc-mapreduce-1.6.12.jar\n",
            "spark-3.2.1-bin-hadoop3.2/jars/orc-shims-1.6.12.jar\n",
            "spark-3.2.1-bin-hadoop3.2/jars/oro-2.0.8.jar\n",
            "spark-3.2.1-bin-hadoop3.2/jars/osgi-resource-locator-1.0.3.jar\n",
            "spark-3.2.1-bin-hadoop3.2/jars/paranamer-2.8.jar\n",
            "spark-3.2.1-bin-hadoop3.2/jars/parquet-column-1.12.2.jar\n",
            "spark-3.2.1-bin-hadoop3.2/jars/parquet-common-1.12.2.jar\n",
            "spark-3.2.1-bin-hadoop3.2/jars/parquet-encoding-1.12.2.jar\n",
            "spark-3.2.1-bin-hadoop3.2/jars/parquet-format-structures-1.12.2.jar\n",
            "spark-3.2.1-bin-hadoop3.2/jars/parquet-hadoop-1.12.2.jar\n",
            "spark-3.2.1-bin-hadoop3.2/jars/parquet-jackson-1.12.2.jar\n",
            "spark-3.2.1-bin-hadoop3.2/jars/protobuf-java-2.5.0.jar\n",
            "spark-3.2.1-bin-hadoop3.2/jars/py4j-0.10.9.3.jar\n",
            "spark-3.2.1-bin-hadoop3.2/jars/pyrolite-4.30.jar\n",
            "spark-3.2.1-bin-hadoop3.2/jars/rocksdbjni-6.20.3.jar\n",
            "spark-3.2.1-bin-hadoop3.2/jars/scala-collection-compat_2.12-2.1.1.jar\n",
            "spark-3.2.1-bin-hadoop3.2/jars/scala-compiler-2.12.15.jar\n",
            "spark-3.2.1-bin-hadoop3.2/jars/scala-library-2.12.15.jar\n",
            "spark-3.2.1-bin-hadoop3.2/jars/scala-parser-combinators_2.12-1.1.2.jar\n",
            "spark-3.2.1-bin-hadoop3.2/jars/scala-reflect-2.12.15.jar\n",
            "spark-3.2.1-bin-hadoop3.2/jars/scala-xml_2.12-1.2.0.jar\n",
            "spark-3.2.1-bin-hadoop3.2/jars/shapeless_2.12-2.3.3.jar\n",
            "spark-3.2.1-bin-hadoop3.2/jars/shims-0.9.0.jar\n",
            "spark-3.2.1-bin-hadoop3.2/jars/slf4j-api-1.7.30.jar\n",
            "spark-3.2.1-bin-hadoop3.2/jars/slf4j-log4j12-1.7.30.jar\n",
            "spark-3.2.1-bin-hadoop3.2/jars/snakeyaml-1.27.jar\n",
            "spark-3.2.1-bin-hadoop3.2/jars/snappy-java-1.1.8.4.jar\n",
            "spark-3.2.1-bin-hadoop3.2/jars/spark-catalyst_2.12-3.2.1.jar\n",
            "spark-3.2.1-bin-hadoop3.2/jars/spark-core_2.12-3.2.1.jar\n",
            "spark-3.2.1-bin-hadoop3.2/jars/spark-graphx_2.12-3.2.1.jar\n",
            "spark-3.2.1-bin-hadoop3.2/jars/spark-hive-thriftserver_2.12-3.2.1.jar\n",
            "spark-3.2.1-bin-hadoop3.2/jars/spark-hive_2.12-3.2.1.jar\n",
            "spark-3.2.1-bin-hadoop3.2/jars/spark-kubernetes_2.12-3.2.1.jar\n",
            "spark-3.2.1-bin-hadoop3.2/jars/spark-kvstore_2.12-3.2.1.jar\n",
            "spark-3.2.1-bin-hadoop3.2/jars/spark-launcher_2.12-3.2.1.jar\n",
            "spark-3.2.1-bin-hadoop3.2/jars/spark-mesos_2.12-3.2.1.jar\n",
            "spark-3.2.1-bin-hadoop3.2/jars/spark-mllib-local_2.12-3.2.1.jar\n",
            "spark-3.2.1-bin-hadoop3.2/jars/spark-mllib_2.12-3.2.1.jar\n",
            "spark-3.2.1-bin-hadoop3.2/jars/spark-network-common_2.12-3.2.1.jar\n",
            "spark-3.2.1-bin-hadoop3.2/jars/spark-network-shuffle_2.12-3.2.1.jar\n",
            "spark-3.2.1-bin-hadoop3.2/jars/spark-repl_2.12-3.2.1.jar\n",
            "spark-3.2.1-bin-hadoop3.2/jars/spark-sketch_2.12-3.2.1.jar\n",
            "spark-3.2.1-bin-hadoop3.2/jars/spark-sql_2.12-3.2.1.jar\n",
            "spark-3.2.1-bin-hadoop3.2/jars/spark-streaming_2.12-3.2.1.jar\n",
            "spark-3.2.1-bin-hadoop3.2/jars/spark-tags_2.12-3.2.1-tests.jar\n",
            "spark-3.2.1-bin-hadoop3.2/jars/spark-tags_2.12-3.2.1.jar\n",
            "spark-3.2.1-bin-hadoop3.2/jars/spark-unsafe_2.12-3.2.1.jar\n",
            "spark-3.2.1-bin-hadoop3.2/jars/spark-yarn_2.12-3.2.1.jar\n",
            "spark-3.2.1-bin-hadoop3.2/jars/spire-macros_2.12-0.17.0.jar\n",
            "spark-3.2.1-bin-hadoop3.2/jars/spire-platform_2.12-0.17.0.jar\n",
            "spark-3.2.1-bin-hadoop3.2/jars/spire-util_2.12-0.17.0.jar\n",
            "spark-3.2.1-bin-hadoop3.2/jars/spire_2.12-0.17.0.jar\n",
            "spark-3.2.1-bin-hadoop3.2/jars/stax-api-1.0.1.jar\n",
            "spark-3.2.1-bin-hadoop3.2/jars/stream-2.9.6.jar\n",
            "spark-3.2.1-bin-hadoop3.2/jars/super-csv-2.2.0.jar\n",
            "spark-3.2.1-bin-hadoop3.2/jars/threeten-extra-1.5.0.jar\n",
            "spark-3.2.1-bin-hadoop3.2/jars/tink-1.6.0.jar\n",
            "spark-3.2.1-bin-hadoop3.2/jars/transaction-api-1.1.jar\n",
            "spark-3.2.1-bin-hadoop3.2/jars/univocity-parsers-2.9.1.jar\n",
            "spark-3.2.1-bin-hadoop3.2/jars/velocity-1.5.jar\n",
            "spark-3.2.1-bin-hadoop3.2/jars/xbean-asm9-shaded-4.20.jar\n",
            "spark-3.2.1-bin-hadoop3.2/jars/xz-1.8.jar\n",
            "spark-3.2.1-bin-hadoop3.2/jars/zjsonpatch-0.3.0.jar\n",
            "spark-3.2.1-bin-hadoop3.2/jars/zookeeper-3.6.2.jar\n",
            "spark-3.2.1-bin-hadoop3.2/jars/zookeeper-jute-3.6.2.jar\n",
            "spark-3.2.1-bin-hadoop3.2/jars/zstd-jni-1.5.0-4.jar\n",
            "spark-3.2.1-bin-hadoop3.2/kubernetes/\n",
            "spark-3.2.1-bin-hadoop3.2/kubernetes/dockerfiles/\n",
            "spark-3.2.1-bin-hadoop3.2/kubernetes/dockerfiles/spark/\n",
            "spark-3.2.1-bin-hadoop3.2/kubernetes/dockerfiles/spark/Dockerfile\n",
            "spark-3.2.1-bin-hadoop3.2/kubernetes/dockerfiles/spark/bindings/\n",
            "spark-3.2.1-bin-hadoop3.2/kubernetes/dockerfiles/spark/bindings/R/\n",
            "spark-3.2.1-bin-hadoop3.2/kubernetes/dockerfiles/spark/bindings/R/Dockerfile\n",
            "spark-3.2.1-bin-hadoop3.2/kubernetes/dockerfiles/spark/bindings/python/\n",
            "spark-3.2.1-bin-hadoop3.2/kubernetes/dockerfiles/spark/bindings/python/Dockerfile\n",
            "spark-3.2.1-bin-hadoop3.2/kubernetes/dockerfiles/spark/decom.sh\n",
            "spark-3.2.1-bin-hadoop3.2/kubernetes/dockerfiles/spark/entrypoint.sh\n",
            "spark-3.2.1-bin-hadoop3.2/kubernetes/tests/\n",
            "spark-3.2.1-bin-hadoop3.2/kubernetes/tests/autoscale.py\n",
            "spark-3.2.1-bin-hadoop3.2/kubernetes/tests/decommissioning.py\n",
            "spark-3.2.1-bin-hadoop3.2/kubernetes/tests/decommissioning_cleanup.py\n",
            "spark-3.2.1-bin-hadoop3.2/kubernetes/tests/py_container_checks.py\n",
            "spark-3.2.1-bin-hadoop3.2/kubernetes/tests/pyfiles.py\n",
            "spark-3.2.1-bin-hadoop3.2/kubernetes/tests/python_executable_check.py\n",
            "spark-3.2.1-bin-hadoop3.2/kubernetes/tests/worker_memory_check.py\n",
            "spark-3.2.1-bin-hadoop3.2/licenses/\n",
            "spark-3.2.1-bin-hadoop3.2/licenses/LICENSE-AnchorJS.txt\n",
            "spark-3.2.1-bin-hadoop3.2/licenses/LICENSE-CC0.txt\n",
            "spark-3.2.1-bin-hadoop3.2/licenses/LICENSE-JLargeArrays.txt\n",
            "spark-3.2.1-bin-hadoop3.2/licenses/LICENSE-JTransforms.txt\n",
            "spark-3.2.1-bin-hadoop3.2/licenses/LICENSE-antlr.txt\n",
            "spark-3.2.1-bin-hadoop3.2/licenses/LICENSE-arpack.txt\n",
            "spark-3.2.1-bin-hadoop3.2/licenses/LICENSE-automaton.txt\n",
            "spark-3.2.1-bin-hadoop3.2/licenses/LICENSE-blas.txt\n",
            "spark-3.2.1-bin-hadoop3.2/licenses/LICENSE-bootstrap.txt\n",
            "spark-3.2.1-bin-hadoop3.2/licenses/LICENSE-cloudpickle.txt\n",
            "spark-3.2.1-bin-hadoop3.2/licenses/LICENSE-d3.min.js.txt\n",
            "spark-3.2.1-bin-hadoop3.2/licenses/LICENSE-dagre-d3.txt\n",
            "spark-3.2.1-bin-hadoop3.2/licenses/LICENSE-datatables.txt\n",
            "spark-3.2.1-bin-hadoop3.2/licenses/LICENSE-dnsjava.txt\n",
            "spark-3.2.1-bin-hadoop3.2/licenses/LICENSE-f2j.txt\n",
            "spark-3.2.1-bin-hadoop3.2/licenses/LICENSE-graphlib-dot.txt\n",
            "spark-3.2.1-bin-hadoop3.2/licenses/LICENSE-istack-commons-runtime.txt\n",
            "spark-3.2.1-bin-hadoop3.2/licenses/LICENSE-jakarta-annotation-api\n",
            "spark-3.2.1-bin-hadoop3.2/licenses/LICENSE-jakarta-ws-rs-api\n",
            "spark-3.2.1-bin-hadoop3.2/licenses/LICENSE-jakarta.activation-api.txt\n",
            "spark-3.2.1-bin-hadoop3.2/licenses/LICENSE-jakarta.xml.bind-api.txt\n",
            "spark-3.2.1-bin-hadoop3.2/licenses/LICENSE-janino.txt\n",
            "spark-3.2.1-bin-hadoop3.2/licenses/LICENSE-javassist.html\n",
            "spark-3.2.1-bin-hadoop3.2/licenses/LICENSE-javax-transaction-transaction-api.txt\n",
            "spark-3.2.1-bin-hadoop3.2/licenses/LICENSE-javolution.txt\n",
            "spark-3.2.1-bin-hadoop3.2/licenses/LICENSE-jaxb-runtime.txt\n",
            "spark-3.2.1-bin-hadoop3.2/licenses/LICENSE-jline.txt\n",
            "spark-3.2.1-bin-hadoop3.2/licenses/LICENSE-jodd.txt\n",
            "spark-3.2.1-bin-hadoop3.2/licenses/LICENSE-join.txt\n",
            "spark-3.2.1-bin-hadoop3.2/licenses/LICENSE-jquery.txt\n",
            "spark-3.2.1-bin-hadoop3.2/licenses/LICENSE-json-formatter.txt\n",
            "spark-3.2.1-bin-hadoop3.2/licenses/LICENSE-jsp-api.txt\n",
            "spark-3.2.1-bin-hadoop3.2/licenses/LICENSE-kryo.txt\n",
            "spark-3.2.1-bin-hadoop3.2/licenses/LICENSE-leveldbjni.txt\n",
            "spark-3.2.1-bin-hadoop3.2/licenses/LICENSE-machinist.txt\n",
            "spark-3.2.1-bin-hadoop3.2/licenses/LICENSE-matchMedia-polyfill.txt\n",
            "spark-3.2.1-bin-hadoop3.2/licenses/LICENSE-minlog.txt\n",
            "spark-3.2.1-bin-hadoop3.2/licenses/LICENSE-modernizr.txt\n",
            "spark-3.2.1-bin-hadoop3.2/licenses/LICENSE-mustache.txt\n",
            "spark-3.2.1-bin-hadoop3.2/licenses/LICENSE-netlib.txt\n",
            "spark-3.2.1-bin-hadoop3.2/licenses/LICENSE-paranamer.txt\n",
            "spark-3.2.1-bin-hadoop3.2/licenses/LICENSE-pmml-model.txt\n",
            "spark-3.2.1-bin-hadoop3.2/licenses/LICENSE-protobuf.txt\n",
            "spark-3.2.1-bin-hadoop3.2/licenses/LICENSE-py4j.txt\n",
            "spark-3.2.1-bin-hadoop3.2/licenses/LICENSE-pyrolite.txt\n",
            "spark-3.2.1-bin-hadoop3.2/licenses/LICENSE-re2j.txt\n",
            "spark-3.2.1-bin-hadoop3.2/licenses/LICENSE-reflectasm.txt\n",
            "spark-3.2.1-bin-hadoop3.2/licenses/LICENSE-respond.txt\n",
            "spark-3.2.1-bin-hadoop3.2/licenses/LICENSE-sbt-launch-lib.txt\n",
            "spark-3.2.1-bin-hadoop3.2/licenses/LICENSE-scala.txt\n",
            "spark-3.2.1-bin-hadoop3.2/licenses/LICENSE-scopt.txt\n",
            "spark-3.2.1-bin-hadoop3.2/licenses/LICENSE-slf4j.txt\n",
            "spark-3.2.1-bin-hadoop3.2/licenses/LICENSE-sorttable.js.txt\n",
            "spark-3.2.1-bin-hadoop3.2/licenses/LICENSE-spire.txt\n",
            "spark-3.2.1-bin-hadoop3.2/licenses/LICENSE-vis-timeline.txt\n",
            "spark-3.2.1-bin-hadoop3.2/licenses/LICENSE-xmlenc.txt\n",
            "spark-3.2.1-bin-hadoop3.2/licenses/LICENSE-zstd-jni.txt\n",
            "spark-3.2.1-bin-hadoop3.2/licenses/LICENSE-zstd.txt\n",
            "spark-3.2.1-bin-hadoop3.2/python/\n",
            "spark-3.2.1-bin-hadoop3.2/python/.coveragerc\n",
            "spark-3.2.1-bin-hadoop3.2/python/.gitignore\n",
            "spark-3.2.1-bin-hadoop3.2/python/MANIFEST.in\n",
            "spark-3.2.1-bin-hadoop3.2/python/README.md\n",
            "spark-3.2.1-bin-hadoop3.2/python/dist/\n",
            "spark-3.2.1-bin-hadoop3.2/python/docs/\n",
            "spark-3.2.1-bin-hadoop3.2/python/docs/Makefile\n",
            "spark-3.2.1-bin-hadoop3.2/python/docs/make.bat\n",
            "spark-3.2.1-bin-hadoop3.2/python/docs/make2.bat\n",
            "spark-3.2.1-bin-hadoop3.2/python/docs/source/\n",
            "spark-3.2.1-bin-hadoop3.2/python/docs/source/_static/\n",
            "spark-3.2.1-bin-hadoop3.2/python/docs/source/_static/copybutton.js\n",
            "spark-3.2.1-bin-hadoop3.2/python/docs/source/_static/css/\n",
            "spark-3.2.1-bin-hadoop3.2/python/docs/source/_static/css/pyspark.css\n",
            "spark-3.2.1-bin-hadoop3.2/python/docs/source/_templates/\n",
            "spark-3.2.1-bin-hadoop3.2/python/docs/source/_templates/autosummary/\n",
            "spark-3.2.1-bin-hadoop3.2/python/docs/source/_templates/autosummary/class.rst\n",
            "spark-3.2.1-bin-hadoop3.2/python/docs/source/_templates/autosummary/class_with_docs.rst\n",
            "spark-3.2.1-bin-hadoop3.2/python/docs/source/conf.py\n",
            "spark-3.2.1-bin-hadoop3.2/python/docs/source/development/\n",
            "spark-3.2.1-bin-hadoop3.2/python/docs/source/development/contributing.rst\n",
            "spark-3.2.1-bin-hadoop3.2/python/docs/source/development/debugging.rst\n",
            "spark-3.2.1-bin-hadoop3.2/python/docs/source/development/index.rst\n",
            "spark-3.2.1-bin-hadoop3.2/python/docs/source/development/setting_ide.rst\n",
            "spark-3.2.1-bin-hadoop3.2/python/docs/source/development/testing.rst\n",
            "spark-3.2.1-bin-hadoop3.2/python/docs/source/getting_started/\n",
            "spark-3.2.1-bin-hadoop3.2/python/docs/source/getting_started/index.rst\n",
            "spark-3.2.1-bin-hadoop3.2/python/docs/source/getting_started/install.rst\n",
            "spark-3.2.1-bin-hadoop3.2/python/docs/source/getting_started/quickstart_df.ipynb\n",
            "spark-3.2.1-bin-hadoop3.2/python/docs/source/getting_started/quickstart_ps.ipynb\n",
            "spark-3.2.1-bin-hadoop3.2/python/docs/source/index.rst\n",
            "spark-3.2.1-bin-hadoop3.2/python/docs/source/migration_guide/\n",
            "spark-3.2.1-bin-hadoop3.2/python/docs/source/migration_guide/index.rst\n",
            "spark-3.2.1-bin-hadoop3.2/python/docs/source/migration_guide/koalas_to_pyspark.rst\n",
            "spark-3.2.1-bin-hadoop3.2/python/docs/source/migration_guide/pyspark_1.0_1.2_to_1.3.rst\n",
            "spark-3.2.1-bin-hadoop3.2/python/docs/source/migration_guide/pyspark_1.4_to_1.5.rst\n",
            "spark-3.2.1-bin-hadoop3.2/python/docs/source/migration_guide/pyspark_2.2_to_2.3.rst\n",
            "spark-3.2.1-bin-hadoop3.2/python/docs/source/migration_guide/pyspark_2.3.0_to_2.3.1_above.rst\n",
            "spark-3.2.1-bin-hadoop3.2/python/docs/source/migration_guide/pyspark_2.3_to_2.4.rst\n",
            "spark-3.2.1-bin-hadoop3.2/python/docs/source/migration_guide/pyspark_2.4_to_3.0.rst\n",
            "spark-3.2.1-bin-hadoop3.2/python/docs/source/migration_guide/pyspark_3.1_to_3.2.rst\n",
            "spark-3.2.1-bin-hadoop3.2/python/docs/source/reference/\n",
            "spark-3.2.1-bin-hadoop3.2/python/docs/source/reference/index.rst\n",
            "spark-3.2.1-bin-hadoop3.2/python/docs/source/reference/pyspark.ml.rst\n",
            "spark-3.2.1-bin-hadoop3.2/python/docs/source/reference/pyspark.mllib.rst\n",
            "spark-3.2.1-bin-hadoop3.2/python/docs/source/reference/pyspark.pandas/\n",
            "spark-3.2.1-bin-hadoop3.2/python/docs/source/reference/pyspark.pandas/extensions.rst\n",
            "spark-3.2.1-bin-hadoop3.2/python/docs/source/reference/pyspark.pandas/frame.rst\n",
            "spark-3.2.1-bin-hadoop3.2/python/docs/source/reference/pyspark.pandas/general_functions.rst\n",
            "spark-3.2.1-bin-hadoop3.2/python/docs/source/reference/pyspark.pandas/groupby.rst\n",
            "spark-3.2.1-bin-hadoop3.2/python/docs/source/reference/pyspark.pandas/index.rst\n",
            "spark-3.2.1-bin-hadoop3.2/python/docs/source/reference/pyspark.pandas/indexing.rst\n",
            "spark-3.2.1-bin-hadoop3.2/python/docs/source/reference/pyspark.pandas/io.rst\n",
            "spark-3.2.1-bin-hadoop3.2/python/docs/source/reference/pyspark.pandas/ml.rst\n",
            "spark-3.2.1-bin-hadoop3.2/python/docs/source/reference/pyspark.pandas/series.rst\n",
            "spark-3.2.1-bin-hadoop3.2/python/docs/source/reference/pyspark.pandas/window.rst\n",
            "spark-3.2.1-bin-hadoop3.2/python/docs/source/reference/pyspark.resource.rst\n",
            "spark-3.2.1-bin-hadoop3.2/python/docs/source/reference/pyspark.rst\n",
            "spark-3.2.1-bin-hadoop3.2/python/docs/source/reference/pyspark.sql.rst\n",
            "spark-3.2.1-bin-hadoop3.2/python/docs/source/reference/pyspark.ss.rst\n",
            "spark-3.2.1-bin-hadoop3.2/python/docs/source/reference/pyspark.streaming.rst\n",
            "spark-3.2.1-bin-hadoop3.2/python/docs/source/user_guide/\n",
            "spark-3.2.1-bin-hadoop3.2/python/docs/source/user_guide/arrow_pandas.rst\n",
            "spark-3.2.1-bin-hadoop3.2/python/docs/source/user_guide/index.rst\n",
            "spark-3.2.1-bin-hadoop3.2/python/docs/source/user_guide/pandas_on_spark/\n",
            "spark-3.2.1-bin-hadoop3.2/python/docs/source/user_guide/pandas_on_spark/best_practices.rst\n",
            "spark-3.2.1-bin-hadoop3.2/python/docs/source/user_guide/pandas_on_spark/faq.rst\n",
            "spark-3.2.1-bin-hadoop3.2/python/docs/source/user_guide/pandas_on_spark/from_to_dbms.rst\n",
            "spark-3.2.1-bin-hadoop3.2/python/docs/source/user_guide/pandas_on_spark/index.rst\n",
            "spark-3.2.1-bin-hadoop3.2/python/docs/source/user_guide/pandas_on_spark/options.rst\n",
            "spark-3.2.1-bin-hadoop3.2/python/docs/source/user_guide/pandas_on_spark/pandas_pyspark.rst\n",
            "spark-3.2.1-bin-hadoop3.2/python/docs/source/user_guide/pandas_on_spark/transform_apply.rst\n",
            "spark-3.2.1-bin-hadoop3.2/python/docs/source/user_guide/pandas_on_spark/typehints.rst\n",
            "spark-3.2.1-bin-hadoop3.2/python/docs/source/user_guide/pandas_on_spark/types.rst\n",
            "spark-3.2.1-bin-hadoop3.2/python/docs/source/user_guide/python_packaging.rst\n",
            "spark-3.2.1-bin-hadoop3.2/python/docs/source/user_guide/sql/\n",
            "spark-3.2.1-bin-hadoop3.2/python/docs/source/user_guide/sql/arrow_pandas.rst\n",
            "spark-3.2.1-bin-hadoop3.2/python/docs/source/user_guide/sql/index.rst\n",
            "spark-3.2.1-bin-hadoop3.2/python/lib/\n",
            "spark-3.2.1-bin-hadoop3.2/python/lib/PY4J_LICENSE.txt\n",
            "spark-3.2.1-bin-hadoop3.2/python/lib/py4j-0.10.9.3-src.zip\n",
            "spark-3.2.1-bin-hadoop3.2/python/lib/pyspark.zip\n",
            "spark-3.2.1-bin-hadoop3.2/python/mypy.ini\n",
            "spark-3.2.1-bin-hadoop3.2/python/pylintrc\n",
            "spark-3.2.1-bin-hadoop3.2/python/pyspark/\n",
            "spark-3.2.1-bin-hadoop3.2/python/pyspark/__init__.py\n",
            "spark-3.2.1-bin-hadoop3.2/python/pyspark/__init__.pyi\n",
            "spark-3.2.1-bin-hadoop3.2/python/pyspark/__pycache__/\n",
            "spark-3.2.1-bin-hadoop3.2/python/pyspark/__pycache__/install.cpython-38.pyc\n",
            "spark-3.2.1-bin-hadoop3.2/python/pyspark/_globals.py\n",
            "spark-3.2.1-bin-hadoop3.2/python/pyspark/_typing.pyi\n",
            "spark-3.2.1-bin-hadoop3.2/python/pyspark/accumulators.py\n",
            "spark-3.2.1-bin-hadoop3.2/python/pyspark/accumulators.pyi\n",
            "spark-3.2.1-bin-hadoop3.2/python/pyspark/broadcast.py\n",
            "spark-3.2.1-bin-hadoop3.2/python/pyspark/broadcast.pyi\n",
            "spark-3.2.1-bin-hadoop3.2/python/pyspark/cloudpickle/\n",
            "spark-3.2.1-bin-hadoop3.2/python/pyspark/cloudpickle/__init__.py\n",
            "spark-3.2.1-bin-hadoop3.2/python/pyspark/cloudpickle/cloudpickle.py\n",
            "spark-3.2.1-bin-hadoop3.2/python/pyspark/cloudpickle/cloudpickle_fast.py\n",
            "spark-3.2.1-bin-hadoop3.2/python/pyspark/cloudpickle/compat.py\n",
            "spark-3.2.1-bin-hadoop3.2/python/pyspark/conf.py\n",
            "spark-3.2.1-bin-hadoop3.2/python/pyspark/conf.pyi\n",
            "spark-3.2.1-bin-hadoop3.2/python/pyspark/context.py\n",
            "spark-3.2.1-bin-hadoop3.2/python/pyspark/context.pyi\n",
            "spark-3.2.1-bin-hadoop3.2/python/pyspark/daemon.py\n",
            "spark-3.2.1-bin-hadoop3.2/python/pyspark/files.py\n",
            "spark-3.2.1-bin-hadoop3.2/python/pyspark/files.pyi\n",
            "spark-3.2.1-bin-hadoop3.2/python/pyspark/find_spark_home.py\n",
            "spark-3.2.1-bin-hadoop3.2/python/pyspark/install.py\n",
            "spark-3.2.1-bin-hadoop3.2/python/pyspark/java_gateway.py\n",
            "spark-3.2.1-bin-hadoop3.2/python/pyspark/join.py\n",
            "spark-3.2.1-bin-hadoop3.2/python/pyspark/ml/\n",
            "spark-3.2.1-bin-hadoop3.2/python/pyspark/ml/__init__.py\n",
            "spark-3.2.1-bin-hadoop3.2/python/pyspark/ml/_typing.pyi\n",
            "spark-3.2.1-bin-hadoop3.2/python/pyspark/ml/base.py\n",
            "spark-3.2.1-bin-hadoop3.2/python/pyspark/ml/base.pyi\n",
            "spark-3.2.1-bin-hadoop3.2/python/pyspark/ml/classification.py\n",
            "spark-3.2.1-bin-hadoop3.2/python/pyspark/ml/classification.pyi\n",
            "spark-3.2.1-bin-hadoop3.2/python/pyspark/ml/clustering.py\n",
            "spark-3.2.1-bin-hadoop3.2/python/pyspark/ml/clustering.pyi\n",
            "spark-3.2.1-bin-hadoop3.2/python/pyspark/ml/common.py\n",
            "spark-3.2.1-bin-hadoop3.2/python/pyspark/ml/common.pyi\n",
            "spark-3.2.1-bin-hadoop3.2/python/pyspark/ml/evaluation.py\n",
            "spark-3.2.1-bin-hadoop3.2/python/pyspark/ml/evaluation.pyi\n",
            "spark-3.2.1-bin-hadoop3.2/python/pyspark/ml/feature.py\n",
            "spark-3.2.1-bin-hadoop3.2/python/pyspark/ml/feature.pyi\n",
            "spark-3.2.1-bin-hadoop3.2/python/pyspark/ml/fpm.py\n",
            "spark-3.2.1-bin-hadoop3.2/python/pyspark/ml/fpm.pyi\n",
            "spark-3.2.1-bin-hadoop3.2/python/pyspark/ml/functions.py\n",
            "spark-3.2.1-bin-hadoop3.2/python/pyspark/ml/functions.pyi\n",
            "spark-3.2.1-bin-hadoop3.2/python/pyspark/ml/image.py\n",
            "spark-3.2.1-bin-hadoop3.2/python/pyspark/ml/image.pyi\n",
            "spark-3.2.1-bin-hadoop3.2/python/pyspark/ml/linalg/\n",
            "spark-3.2.1-bin-hadoop3.2/python/pyspark/ml/linalg/__init__.py\n",
            "spark-3.2.1-bin-hadoop3.2/python/pyspark/ml/linalg/__init__.pyi\n",
            "spark-3.2.1-bin-hadoop3.2/python/pyspark/ml/param/\n",
            "spark-3.2.1-bin-hadoop3.2/python/pyspark/ml/param/__init__.py\n",
            "spark-3.2.1-bin-hadoop3.2/python/pyspark/ml/param/__init__.pyi\n",
            "spark-3.2.1-bin-hadoop3.2/python/pyspark/ml/param/_shared_params_code_gen.py\n",
            "spark-3.2.1-bin-hadoop3.2/python/pyspark/ml/param/_shared_params_code_gen.pyi\n",
            "spark-3.2.1-bin-hadoop3.2/python/pyspark/ml/param/shared.py\n",
            "spark-3.2.1-bin-hadoop3.2/python/pyspark/ml/param/shared.pyi\n",
            "spark-3.2.1-bin-hadoop3.2/python/pyspark/ml/pipeline.py\n",
            "spark-3.2.1-bin-hadoop3.2/python/pyspark/ml/pipeline.pyi\n",
            "spark-3.2.1-bin-hadoop3.2/python/pyspark/ml/recommendation.py\n",
            "spark-3.2.1-bin-hadoop3.2/python/pyspark/ml/recommendation.pyi\n",
            "spark-3.2.1-bin-hadoop3.2/python/pyspark/ml/regression.py\n",
            "spark-3.2.1-bin-hadoop3.2/python/pyspark/ml/regression.pyi\n",
            "spark-3.2.1-bin-hadoop3.2/python/pyspark/ml/stat.py\n",
            "spark-3.2.1-bin-hadoop3.2/python/pyspark/ml/stat.pyi\n",
            "spark-3.2.1-bin-hadoop3.2/python/pyspark/ml/tests/\n",
            "spark-3.2.1-bin-hadoop3.2/python/pyspark/ml/tests/__init__.py\n",
            "spark-3.2.1-bin-hadoop3.2/python/pyspark/ml/tests/test_algorithms.py\n",
            "spark-3.2.1-bin-hadoop3.2/python/pyspark/ml/tests/test_base.py\n",
            "spark-3.2.1-bin-hadoop3.2/python/pyspark/ml/tests/test_evaluation.py\n",
            "spark-3.2.1-bin-hadoop3.2/python/pyspark/ml/tests/test_feature.py\n",
            "spark-3.2.1-bin-hadoop3.2/python/pyspark/ml/tests/test_image.py\n",
            "spark-3.2.1-bin-hadoop3.2/python/pyspark/ml/tests/test_linalg.py\n",
            "spark-3.2.1-bin-hadoop3.2/python/pyspark/ml/tests/test_param.py\n",
            "spark-3.2.1-bin-hadoop3.2/python/pyspark/ml/tests/test_persistence.py\n",
            "spark-3.2.1-bin-hadoop3.2/python/pyspark/ml/tests/test_pipeline.py\n",
            "spark-3.2.1-bin-hadoop3.2/python/pyspark/ml/tests/test_stat.py\n",
            "spark-3.2.1-bin-hadoop3.2/python/pyspark/ml/tests/test_training_summary.py\n",
            "spark-3.2.1-bin-hadoop3.2/python/pyspark/ml/tests/test_tuning.py\n",
            "spark-3.2.1-bin-hadoop3.2/python/pyspark/ml/tests/test_util.py\n",
            "spark-3.2.1-bin-hadoop3.2/python/pyspark/ml/tests/test_wrapper.py\n",
            "spark-3.2.1-bin-hadoop3.2/python/pyspark/ml/tree.py\n",
            "spark-3.2.1-bin-hadoop3.2/python/pyspark/ml/tree.pyi\n",
            "spark-3.2.1-bin-hadoop3.2/python/pyspark/ml/tuning.py\n",
            "spark-3.2.1-bin-hadoop3.2/python/pyspark/ml/tuning.pyi\n",
            "spark-3.2.1-bin-hadoop3.2/python/pyspark/ml/util.py\n",
            "spark-3.2.1-bin-hadoop3.2/python/pyspark/ml/util.pyi\n",
            "spark-3.2.1-bin-hadoop3.2/python/pyspark/ml/wrapper.py\n",
            "spark-3.2.1-bin-hadoop3.2/python/pyspark/ml/wrapper.pyi\n",
            "spark-3.2.1-bin-hadoop3.2/python/pyspark/mllib/\n",
            "spark-3.2.1-bin-hadoop3.2/python/pyspark/mllib/__init__.py\n",
            "spark-3.2.1-bin-hadoop3.2/python/pyspark/mllib/_typing.pyi\n",
            "spark-3.2.1-bin-hadoop3.2/python/pyspark/mllib/classification.py\n",
            "spark-3.2.1-bin-hadoop3.2/python/pyspark/mllib/classification.pyi\n",
            "spark-3.2.1-bin-hadoop3.2/python/pyspark/mllib/clustering.py\n",
            "spark-3.2.1-bin-hadoop3.2/python/pyspark/mllib/clustering.pyi\n",
            "spark-3.2.1-bin-hadoop3.2/python/pyspark/mllib/common.py\n",
            "spark-3.2.1-bin-hadoop3.2/python/pyspark/mllib/common.pyi\n",
            "spark-3.2.1-bin-hadoop3.2/python/pyspark/mllib/evaluation.py\n",
            "spark-3.2.1-bin-hadoop3.2/python/pyspark/mllib/evaluation.pyi\n",
            "spark-3.2.1-bin-hadoop3.2/python/pyspark/mllib/feature.py\n",
            "spark-3.2.1-bin-hadoop3.2/python/pyspark/mllib/feature.pyi\n",
            "spark-3.2.1-bin-hadoop3.2/python/pyspark/mllib/fpm.py\n",
            "spark-3.2.1-bin-hadoop3.2/python/pyspark/mllib/fpm.pyi\n",
            "spark-3.2.1-bin-hadoop3.2/python/pyspark/mllib/linalg/\n",
            "spark-3.2.1-bin-hadoop3.2/python/pyspark/mllib/linalg/__init__.py\n",
            "spark-3.2.1-bin-hadoop3.2/python/pyspark/mllib/linalg/__init__.pyi\n",
            "spark-3.2.1-bin-hadoop3.2/python/pyspark/mllib/linalg/distributed.py\n",
            "spark-3.2.1-bin-hadoop3.2/python/pyspark/mllib/linalg/distributed.pyi\n",
            "spark-3.2.1-bin-hadoop3.2/python/pyspark/mllib/random.py\n",
            "spark-3.2.1-bin-hadoop3.2/python/pyspark/mllib/random.pyi\n",
            "spark-3.2.1-bin-hadoop3.2/python/pyspark/mllib/recommendation.py\n",
            "spark-3.2.1-bin-hadoop3.2/python/pyspark/mllib/recommendation.pyi\n",
            "spark-3.2.1-bin-hadoop3.2/python/pyspark/mllib/regression.py\n",
            "spark-3.2.1-bin-hadoop3.2/python/pyspark/mllib/regression.pyi\n",
            "spark-3.2.1-bin-hadoop3.2/python/pyspark/mllib/stat/\n",
            "spark-3.2.1-bin-hadoop3.2/python/pyspark/mllib/stat/KernelDensity.py\n",
            "spark-3.2.1-bin-hadoop3.2/python/pyspark/mllib/stat/KernelDensity.pyi\n",
            "spark-3.2.1-bin-hadoop3.2/python/pyspark/mllib/stat/__init__.py\n",
            "spark-3.2.1-bin-hadoop3.2/python/pyspark/mllib/stat/__init__.pyi\n",
            "spark-3.2.1-bin-hadoop3.2/python/pyspark/mllib/stat/_statistics.py\n",
            "spark-3.2.1-bin-hadoop3.2/python/pyspark/mllib/stat/_statistics.pyi\n",
            "spark-3.2.1-bin-hadoop3.2/python/pyspark/mllib/stat/distribution.py\n",
            "spark-3.2.1-bin-hadoop3.2/python/pyspark/mllib/stat/distribution.pyi\n",
            "spark-3.2.1-bin-hadoop3.2/python/pyspark/mllib/stat/test.py\n",
            "spark-3.2.1-bin-hadoop3.2/python/pyspark/mllib/stat/test.pyi\n",
            "spark-3.2.1-bin-hadoop3.2/python/pyspark/mllib/tests/\n",
            "spark-3.2.1-bin-hadoop3.2/python/pyspark/mllib/tests/__init__.py\n",
            "spark-3.2.1-bin-hadoop3.2/python/pyspark/mllib/tests/test_algorithms.py\n",
            "spark-3.2.1-bin-hadoop3.2/python/pyspark/mllib/tests/test_feature.py\n",
            "spark-3.2.1-bin-hadoop3.2/python/pyspark/mllib/tests/test_linalg.py\n",
            "spark-3.2.1-bin-hadoop3.2/python/pyspark/mllib/tests/test_stat.py\n",
            "spark-3.2.1-bin-hadoop3.2/python/pyspark/mllib/tests/test_streaming_algorithms.py\n",
            "spark-3.2.1-bin-hadoop3.2/python/pyspark/mllib/tests/test_util.py\n",
            "spark-3.2.1-bin-hadoop3.2/python/pyspark/mllib/tree.py\n",
            "spark-3.2.1-bin-hadoop3.2/python/pyspark/mllib/tree.pyi\n",
            "spark-3.2.1-bin-hadoop3.2/python/pyspark/mllib/util.py\n",
            "spark-3.2.1-bin-hadoop3.2/python/pyspark/mllib/util.pyi\n",
            "spark-3.2.1-bin-hadoop3.2/python/pyspark/pandas/\n",
            "spark-3.2.1-bin-hadoop3.2/python/pyspark/pandas/__init__.py\n",
            "spark-3.2.1-bin-hadoop3.2/python/pyspark/pandas/_typing.py\n",
            "spark-3.2.1-bin-hadoop3.2/python/pyspark/pandas/accessors.py\n",
            "spark-3.2.1-bin-hadoop3.2/python/pyspark/pandas/base.py\n",
            "spark-3.2.1-bin-hadoop3.2/python/pyspark/pandas/categorical.py\n",
            "spark-3.2.1-bin-hadoop3.2/python/pyspark/pandas/config.py\n",
            "spark-3.2.1-bin-hadoop3.2/python/pyspark/pandas/data_type_ops/\n",
            "spark-3.2.1-bin-hadoop3.2/python/pyspark/pandas/data_type_ops/__init__.py\n",
            "spark-3.2.1-bin-hadoop3.2/python/pyspark/pandas/data_type_ops/base.py\n",
            "spark-3.2.1-bin-hadoop3.2/python/pyspark/pandas/data_type_ops/binary_ops.py\n",
            "spark-3.2.1-bin-hadoop3.2/python/pyspark/pandas/data_type_ops/boolean_ops.py\n",
            "spark-3.2.1-bin-hadoop3.2/python/pyspark/pandas/data_type_ops/categorical_ops.py\n",
            "spark-3.2.1-bin-hadoop3.2/python/pyspark/pandas/data_type_ops/complex_ops.py\n",
            "spark-3.2.1-bin-hadoop3.2/python/pyspark/pandas/data_type_ops/date_ops.py\n",
            "spark-3.2.1-bin-hadoop3.2/python/pyspark/pandas/data_type_ops/datetime_ops.py\n",
            "spark-3.2.1-bin-hadoop3.2/python/pyspark/pandas/data_type_ops/null_ops.py\n",
            "spark-3.2.1-bin-hadoop3.2/python/pyspark/pandas/data_type_ops/num_ops.py\n",
            "spark-3.2.1-bin-hadoop3.2/python/pyspark/pandas/data_type_ops/string_ops.py\n",
            "spark-3.2.1-bin-hadoop3.2/python/pyspark/pandas/data_type_ops/udt_ops.py\n",
            "spark-3.2.1-bin-hadoop3.2/python/pyspark/pandas/datetimes.py\n",
            "spark-3.2.1-bin-hadoop3.2/python/pyspark/pandas/exceptions.py\n",
            "spark-3.2.1-bin-hadoop3.2/python/pyspark/pandas/extensions.py\n",
            "spark-3.2.1-bin-hadoop3.2/python/pyspark/pandas/frame.py\n",
            "spark-3.2.1-bin-hadoop3.2/python/pyspark/pandas/generic.py\n",
            "spark-3.2.1-bin-hadoop3.2/python/pyspark/pandas/groupby.py\n",
            "spark-3.2.1-bin-hadoop3.2/python/pyspark/pandas/indexes/\n",
            "spark-3.2.1-bin-hadoop3.2/python/pyspark/pandas/indexes/__init__.py\n",
            "spark-3.2.1-bin-hadoop3.2/python/pyspark/pandas/indexes/base.py\n",
            "spark-3.2.1-bin-hadoop3.2/python/pyspark/pandas/indexes/category.py\n",
            "spark-3.2.1-bin-hadoop3.2/python/pyspark/pandas/indexes/datetimes.py\n",
            "spark-3.2.1-bin-hadoop3.2/python/pyspark/pandas/indexes/multi.py\n",
            "spark-3.2.1-bin-hadoop3.2/python/pyspark/pandas/indexes/numeric.py\n",
            "spark-3.2.1-bin-hadoop3.2/python/pyspark/pandas/indexing.py\n",
            "spark-3.2.1-bin-hadoop3.2/python/pyspark/pandas/internal.py\n",
            "spark-3.2.1-bin-hadoop3.2/python/pyspark/pandas/missing/\n",
            "spark-3.2.1-bin-hadoop3.2/python/pyspark/pandas/missing/__init__.py\n",
            "spark-3.2.1-bin-hadoop3.2/python/pyspark/pandas/missing/common.py\n",
            "spark-3.2.1-bin-hadoop3.2/python/pyspark/pandas/missing/frame.py\n",
            "spark-3.2.1-bin-hadoop3.2/python/pyspark/pandas/missing/groupby.py\n",
            "spark-3.2.1-bin-hadoop3.2/python/pyspark/pandas/missing/indexes.py\n",
            "spark-3.2.1-bin-hadoop3.2/python/pyspark/pandas/missing/series.py\n",
            "spark-3.2.1-bin-hadoop3.2/python/pyspark/pandas/missing/window.py\n",
            "spark-3.2.1-bin-hadoop3.2/python/pyspark/pandas/ml.py\n",
            "spark-3.2.1-bin-hadoop3.2/python/pyspark/pandas/mlflow.py\n",
            "spark-3.2.1-bin-hadoop3.2/python/pyspark/pandas/namespace.py\n",
            "spark-3.2.1-bin-hadoop3.2/python/pyspark/pandas/numpy_compat.py\n",
            "spark-3.2.1-bin-hadoop3.2/python/pyspark/pandas/plot/\n",
            "spark-3.2.1-bin-hadoop3.2/python/pyspark/pandas/plot/__init__.py\n",
            "spark-3.2.1-bin-hadoop3.2/python/pyspark/pandas/plot/core.py\n",
            "spark-3.2.1-bin-hadoop3.2/python/pyspark/pandas/plot/matplotlib.py\n",
            "spark-3.2.1-bin-hadoop3.2/python/pyspark/pandas/plot/plotly.py\n",
            "spark-3.2.1-bin-hadoop3.2/python/pyspark/pandas/series.py\n",
            "spark-3.2.1-bin-hadoop3.2/python/pyspark/pandas/spark/\n",
            "spark-3.2.1-bin-hadoop3.2/python/pyspark/pandas/spark/__init__.py\n",
            "spark-3.2.1-bin-hadoop3.2/python/pyspark/pandas/spark/accessors.py\n",
            "spark-3.2.1-bin-hadoop3.2/python/pyspark/pandas/spark/functions.py\n",
            "spark-3.2.1-bin-hadoop3.2/python/pyspark/pandas/spark/utils.py\n",
            "spark-3.2.1-bin-hadoop3.2/python/pyspark/pandas/sql_processor.py\n",
            "spark-3.2.1-bin-hadoop3.2/python/pyspark/pandas/strings.py\n",
            "spark-3.2.1-bin-hadoop3.2/python/pyspark/pandas/tests/\n",
            "spark-3.2.1-bin-hadoop3.2/python/pyspark/pandas/tests/__init__.py\n",
            "spark-3.2.1-bin-hadoop3.2/python/pyspark/pandas/tests/data_type_ops/\n",
            "spark-3.2.1-bin-hadoop3.2/python/pyspark/pandas/tests/data_type_ops/__init__.py\n",
            "spark-3.2.1-bin-hadoop3.2/python/pyspark/pandas/tests/data_type_ops/test_base.py\n",
            "spark-3.2.1-bin-hadoop3.2/python/pyspark/pandas/tests/data_type_ops/test_binary_ops.py\n",
            "spark-3.2.1-bin-hadoop3.2/python/pyspark/pandas/tests/data_type_ops/test_boolean_ops.py\n",
            "spark-3.2.1-bin-hadoop3.2/python/pyspark/pandas/tests/data_type_ops/test_categorical_ops.py\n",
            "spark-3.2.1-bin-hadoop3.2/python/pyspark/pandas/tests/data_type_ops/test_complex_ops.py\n",
            "spark-3.2.1-bin-hadoop3.2/python/pyspark/pandas/tests/data_type_ops/test_date_ops.py\n",
            "spark-3.2.1-bin-hadoop3.2/python/pyspark/pandas/tests/data_type_ops/test_datetime_ops.py\n",
            "spark-3.2.1-bin-hadoop3.2/python/pyspark/pandas/tests/data_type_ops/test_null_ops.py\n",
            "spark-3.2.1-bin-hadoop3.2/python/pyspark/pandas/tests/data_type_ops/test_num_ops.py\n",
            "spark-3.2.1-bin-hadoop3.2/python/pyspark/pandas/tests/data_type_ops/test_string_ops.py\n",
            "spark-3.2.1-bin-hadoop3.2/python/pyspark/pandas/tests/data_type_ops/test_udt_ops.py\n",
            "spark-3.2.1-bin-hadoop3.2/python/pyspark/pandas/tests/data_type_ops/testing_utils.py\n",
            "spark-3.2.1-bin-hadoop3.2/python/pyspark/pandas/tests/indexes/\n",
            "spark-3.2.1-bin-hadoop3.2/python/pyspark/pandas/tests/indexes/__init__.py\n",
            "spark-3.2.1-bin-hadoop3.2/python/pyspark/pandas/tests/indexes/test_base.py\n",
            "spark-3.2.1-bin-hadoop3.2/python/pyspark/pandas/tests/indexes/test_category.py\n",
            "spark-3.2.1-bin-hadoop3.2/python/pyspark/pandas/tests/indexes/test_datetime.py\n",
            "spark-3.2.1-bin-hadoop3.2/python/pyspark/pandas/tests/plot/\n",
            "spark-3.2.1-bin-hadoop3.2/python/pyspark/pandas/tests/plot/__init__.py\n",
            "spark-3.2.1-bin-hadoop3.2/python/pyspark/pandas/tests/plot/test_frame_plot.py\n",
            "spark-3.2.1-bin-hadoop3.2/python/pyspark/pandas/tests/plot/test_frame_plot_matplotlib.py\n",
            "spark-3.2.1-bin-hadoop3.2/python/pyspark/pandas/tests/plot/test_frame_plot_plotly.py\n",
            "spark-3.2.1-bin-hadoop3.2/python/pyspark/pandas/tests/plot/test_series_plot.py\n",
            "spark-3.2.1-bin-hadoop3.2/python/pyspark/pandas/tests/plot/test_series_plot_matplotlib.py\n",
            "spark-3.2.1-bin-hadoop3.2/python/pyspark/pandas/tests/plot/test_series_plot_plotly.py\n",
            "spark-3.2.1-bin-hadoop3.2/python/pyspark/pandas/tests/test_categorical.py\n",
            "spark-3.2.1-bin-hadoop3.2/python/pyspark/pandas/tests/test_config.py\n",
            "spark-3.2.1-bin-hadoop3.2/python/pyspark/pandas/tests/test_csv.py\n",
            "spark-3.2.1-bin-hadoop3.2/python/pyspark/pandas/tests/test_dataframe.py\n",
            "spark-3.2.1-bin-hadoop3.2/python/pyspark/pandas/tests/test_dataframe_conversion.py\n",
            "spark-3.2.1-bin-hadoop3.2/python/pyspark/pandas/tests/test_dataframe_spark_io.py\n",
            "spark-3.2.1-bin-hadoop3.2/python/pyspark/pandas/tests/test_default_index.py\n",
            "spark-3.2.1-bin-hadoop3.2/python/pyspark/pandas/tests/test_expanding.py\n",
            "spark-3.2.1-bin-hadoop3.2/python/pyspark/pandas/tests/test_extension.py\n",
            "spark-3.2.1-bin-hadoop3.2/python/pyspark/pandas/tests/test_frame_spark.py\n",
            "spark-3.2.1-bin-hadoop3.2/python/pyspark/pandas/tests/test_groupby.py\n",
            "spark-3.2.1-bin-hadoop3.2/python/pyspark/pandas/tests/test_indexing.py\n",
            "spark-3.2.1-bin-hadoop3.2/python/pyspark/pandas/tests/test_indexops_spark.py\n",
            "spark-3.2.1-bin-hadoop3.2/python/pyspark/pandas/tests/test_internal.py\n",
            "spark-3.2.1-bin-hadoop3.2/python/pyspark/pandas/tests/test_namespace.py\n",
            "spark-3.2.1-bin-hadoop3.2/python/pyspark/pandas/tests/test_numpy_compat.py\n",
            "spark-3.2.1-bin-hadoop3.2/python/pyspark/pandas/tests/test_ops_on_diff_frames.py\n",
            "spark-3.2.1-bin-hadoop3.2/python/pyspark/pandas/tests/test_ops_on_diff_frames_groupby.py\n",
            "spark-3.2.1-bin-hadoop3.2/python/pyspark/pandas/tests/test_ops_on_diff_frames_groupby_expanding.py\n",
            "spark-3.2.1-bin-hadoop3.2/python/pyspark/pandas/tests/test_ops_on_diff_frames_groupby_rolling.py\n",
            "spark-3.2.1-bin-hadoop3.2/python/pyspark/pandas/tests/test_repr.py\n",
            "spark-3.2.1-bin-hadoop3.2/python/pyspark/pandas/tests/test_reshape.py\n",
            "spark-3.2.1-bin-hadoop3.2/python/pyspark/pandas/tests/test_rolling.py\n",
            "spark-3.2.1-bin-hadoop3.2/python/pyspark/pandas/tests/test_series.py\n",
            "spark-3.2.1-bin-hadoop3.2/python/pyspark/pandas/tests/test_series_conversion.py\n",
            "spark-3.2.1-bin-hadoop3.2/python/pyspark/pandas/tests/test_series_datetime.py\n",
            "spark-3.2.1-bin-hadoop3.2/python/pyspark/pandas/tests/test_series_string.py\n",
            "spark-3.2.1-bin-hadoop3.2/python/pyspark/pandas/tests/test_spark_functions.py\n",
            "spark-3.2.1-bin-hadoop3.2/python/pyspark/pandas/tests/test_sql.py\n",
            "spark-3.2.1-bin-hadoop3.2/python/pyspark/pandas/tests/test_stats.py\n",
            "spark-3.2.1-bin-hadoop3.2/python/pyspark/pandas/tests/test_typedef.py\n",
            "spark-3.2.1-bin-hadoop3.2/python/pyspark/pandas/tests/test_utils.py\n",
            "spark-3.2.1-bin-hadoop3.2/python/pyspark/pandas/tests/test_window.py\n",
            "spark-3.2.1-bin-hadoop3.2/python/pyspark/pandas/typedef/\n",
            "spark-3.2.1-bin-hadoop3.2/python/pyspark/pandas/typedef/__init__.py\n",
            "spark-3.2.1-bin-hadoop3.2/python/pyspark/pandas/typedef/string_typehints.py\n",
            "spark-3.2.1-bin-hadoop3.2/python/pyspark/pandas/typedef/typehints.py\n",
            "spark-3.2.1-bin-hadoop3.2/python/pyspark/pandas/usage_logging/\n",
            "spark-3.2.1-bin-hadoop3.2/python/pyspark/pandas/usage_logging/__init__.py\n",
            "spark-3.2.1-bin-hadoop3.2/python/pyspark/pandas/usage_logging/usage_logger.py\n",
            "spark-3.2.1-bin-hadoop3.2/python/pyspark/pandas/utils.py\n",
            "spark-3.2.1-bin-hadoop3.2/python/pyspark/pandas/window.py\n",
            "spark-3.2.1-bin-hadoop3.2/python/pyspark/profiler.py\n",
            "spark-3.2.1-bin-hadoop3.2/python/pyspark/profiler.pyi\n",
            "spark-3.2.1-bin-hadoop3.2/python/pyspark/py.typed\n",
            "spark-3.2.1-bin-hadoop3.2/python/pyspark/python/\n",
            "spark-3.2.1-bin-hadoop3.2/python/pyspark/python/pyspark/\n",
            "spark-3.2.1-bin-hadoop3.2/python/pyspark/python/pyspark/shell.py\n",
            "spark-3.2.1-bin-hadoop3.2/python/pyspark/rdd.py\n",
            "spark-3.2.1-bin-hadoop3.2/python/pyspark/rdd.pyi\n",
            "spark-3.2.1-bin-hadoop3.2/python/pyspark/rddsampler.py\n",
            "spark-3.2.1-bin-hadoop3.2/python/pyspark/resource/\n",
            "spark-3.2.1-bin-hadoop3.2/python/pyspark/resource/__init__.py\n",
            "spark-3.2.1-bin-hadoop3.2/python/pyspark/resource/information.py\n",
            "spark-3.2.1-bin-hadoop3.2/python/pyspark/resource/information.pyi\n",
            "spark-3.2.1-bin-hadoop3.2/python/pyspark/resource/profile.py\n",
            "spark-3.2.1-bin-hadoop3.2/python/pyspark/resource/profile.pyi\n",
            "spark-3.2.1-bin-hadoop3.2/python/pyspark/resource/requests.py\n",
            "spark-3.2.1-bin-hadoop3.2/python/pyspark/resource/requests.pyi\n",
            "spark-3.2.1-bin-hadoop3.2/python/pyspark/resource/tests/\n",
            "spark-3.2.1-bin-hadoop3.2/python/pyspark/resource/tests/__init__.py\n",
            "spark-3.2.1-bin-hadoop3.2/python/pyspark/resource/tests/test_resources.py\n",
            "spark-3.2.1-bin-hadoop3.2/python/pyspark/resultiterable.py\n",
            "spark-3.2.1-bin-hadoop3.2/python/pyspark/resultiterable.pyi\n",
            "spark-3.2.1-bin-hadoop3.2/python/pyspark/serializers.py\n",
            "spark-3.2.1-bin-hadoop3.2/python/pyspark/shell.py\n",
            "spark-3.2.1-bin-hadoop3.2/python/pyspark/shuffle.py\n",
            "spark-3.2.1-bin-hadoop3.2/python/pyspark/sql/\n",
            "spark-3.2.1-bin-hadoop3.2/python/pyspark/sql/__init__.py\n",
            "spark-3.2.1-bin-hadoop3.2/python/pyspark/sql/__init__.pyi\n",
            "spark-3.2.1-bin-hadoop3.2/python/pyspark/sql/_typing.pyi\n",
            "spark-3.2.1-bin-hadoop3.2/python/pyspark/sql/avro/\n",
            "spark-3.2.1-bin-hadoop3.2/python/pyspark/sql/avro/__init__.py\n",
            "spark-3.2.1-bin-hadoop3.2/python/pyspark/sql/avro/functions.py\n",
            "spark-3.2.1-bin-hadoop3.2/python/pyspark/sql/avro/functions.pyi\n",
            "spark-3.2.1-bin-hadoop3.2/python/pyspark/sql/catalog.py\n",
            "spark-3.2.1-bin-hadoop3.2/python/pyspark/sql/catalog.pyi\n",
            "spark-3.2.1-bin-hadoop3.2/python/pyspark/sql/column.py\n",
            "spark-3.2.1-bin-hadoop3.2/python/pyspark/sql/column.pyi\n",
            "spark-3.2.1-bin-hadoop3.2/python/pyspark/sql/conf.py\n",
            "spark-3.2.1-bin-hadoop3.2/python/pyspark/sql/conf.pyi\n",
            "spark-3.2.1-bin-hadoop3.2/python/pyspark/sql/context.py\n",
            "spark-3.2.1-bin-hadoop3.2/python/pyspark/sql/context.pyi\n",
            "spark-3.2.1-bin-hadoop3.2/python/pyspark/sql/dataframe.py\n",
            "spark-3.2.1-bin-hadoop3.2/python/pyspark/sql/dataframe.pyi\n",
            "spark-3.2.1-bin-hadoop3.2/python/pyspark/sql/functions.py\n",
            "spark-3.2.1-bin-hadoop3.2/python/pyspark/sql/functions.pyi\n",
            "spark-3.2.1-bin-hadoop3.2/python/pyspark/sql/group.py\n",
            "spark-3.2.1-bin-hadoop3.2/python/pyspark/sql/group.pyi\n",
            "spark-3.2.1-bin-hadoop3.2/python/pyspark/sql/pandas/\n",
            "spark-3.2.1-bin-hadoop3.2/python/pyspark/sql/pandas/__init__.py\n",
            "spark-3.2.1-bin-hadoop3.2/python/pyspark/sql/pandas/_typing/\n",
            "spark-3.2.1-bin-hadoop3.2/python/pyspark/sql/pandas/_typing/__init__.pyi\n",
            "spark-3.2.1-bin-hadoop3.2/python/pyspark/sql/pandas/_typing/protocols/\n",
            "spark-3.2.1-bin-hadoop3.2/python/pyspark/sql/pandas/_typing/protocols/__init__.pyi\n",
            "spark-3.2.1-bin-hadoop3.2/python/pyspark/sql/pandas/_typing/protocols/frame.pyi\n",
            "spark-3.2.1-bin-hadoop3.2/python/pyspark/sql/pandas/_typing/protocols/series.pyi\n",
            "spark-3.2.1-bin-hadoop3.2/python/pyspark/sql/pandas/conversion.py\n",
            "spark-3.2.1-bin-hadoop3.2/python/pyspark/sql/pandas/conversion.pyi\n",
            "spark-3.2.1-bin-hadoop3.2/python/pyspark/sql/pandas/functions.py\n",
            "spark-3.2.1-bin-hadoop3.2/python/pyspark/sql/pandas/functions.pyi\n",
            "spark-3.2.1-bin-hadoop3.2/python/pyspark/sql/pandas/group_ops.py\n",
            "spark-3.2.1-bin-hadoop3.2/python/pyspark/sql/pandas/group_ops.pyi\n",
            "spark-3.2.1-bin-hadoop3.2/python/pyspark/sql/pandas/map_ops.py\n",
            "spark-3.2.1-bin-hadoop3.2/python/pyspark/sql/pandas/map_ops.pyi\n",
            "spark-3.2.1-bin-hadoop3.2/python/pyspark/sql/pandas/serializers.py\n",
            "spark-3.2.1-bin-hadoop3.2/python/pyspark/sql/pandas/typehints.py\n",
            "spark-3.2.1-bin-hadoop3.2/python/pyspark/sql/pandas/types.py\n",
            "spark-3.2.1-bin-hadoop3.2/python/pyspark/sql/pandas/utils.py\n",
            "spark-3.2.1-bin-hadoop3.2/python/pyspark/sql/readwriter.py\n",
            "spark-3.2.1-bin-hadoop3.2/python/pyspark/sql/readwriter.pyi\n",
            "spark-3.2.1-bin-hadoop3.2/python/pyspark/sql/session.py\n",
            "spark-3.2.1-bin-hadoop3.2/python/pyspark/sql/session.pyi\n",
            "spark-3.2.1-bin-hadoop3.2/python/pyspark/sql/streaming.py\n",
            "spark-3.2.1-bin-hadoop3.2/python/pyspark/sql/streaming.pyi\n",
            "spark-3.2.1-bin-hadoop3.2/python/pyspark/sql/tests/\n",
            "spark-3.2.1-bin-hadoop3.2/python/pyspark/sql/tests/__init__.py\n",
            "spark-3.2.1-bin-hadoop3.2/python/pyspark/sql/tests/test_arrow.py\n",
            "spark-3.2.1-bin-hadoop3.2/python/pyspark/sql/tests/test_catalog.py\n",
            "spark-3.2.1-bin-hadoop3.2/python/pyspark/sql/tests/test_column.py\n",
            "spark-3.2.1-bin-hadoop3.2/python/pyspark/sql/tests/test_conf.py\n",
            "spark-3.2.1-bin-hadoop3.2/python/pyspark/sql/tests/test_context.py\n",
            "spark-3.2.1-bin-hadoop3.2/python/pyspark/sql/tests/test_dataframe.py\n",
            "spark-3.2.1-bin-hadoop3.2/python/pyspark/sql/tests/test_datasources.py\n",
            "spark-3.2.1-bin-hadoop3.2/python/pyspark/sql/tests/test_functions.py\n",
            "spark-3.2.1-bin-hadoop3.2/python/pyspark/sql/tests/test_group.py\n",
            "spark-3.2.1-bin-hadoop3.2/python/pyspark/sql/tests/test_pandas_cogrouped_map.py\n",
            "spark-3.2.1-bin-hadoop3.2/python/pyspark/sql/tests/test_pandas_grouped_map.py\n",
            "spark-3.2.1-bin-hadoop3.2/python/pyspark/sql/tests/test_pandas_map.py\n",
            "spark-3.2.1-bin-hadoop3.2/python/pyspark/sql/tests/test_pandas_udf.py\n",
            "spark-3.2.1-bin-hadoop3.2/python/pyspark/sql/tests/test_pandas_udf_grouped_agg.py\n",
            "spark-3.2.1-bin-hadoop3.2/python/pyspark/sql/tests/test_pandas_udf_scalar.py\n",
            "spark-3.2.1-bin-hadoop3.2/python/pyspark/sql/tests/test_pandas_udf_typehints.py\n",
            "spark-3.2.1-bin-hadoop3.2/python/pyspark/sql/tests/test_pandas_udf_window.py\n",
            "spark-3.2.1-bin-hadoop3.2/python/pyspark/sql/tests/test_readwriter.py\n",
            "spark-3.2.1-bin-hadoop3.2/python/pyspark/sql/tests/test_serde.py\n",
            "spark-3.2.1-bin-hadoop3.2/python/pyspark/sql/tests/test_session.py\n",
            "spark-3.2.1-bin-hadoop3.2/python/pyspark/sql/tests/test_streaming.py\n",
            "spark-3.2.1-bin-hadoop3.2/python/pyspark/sql/tests/test_types.py\n",
            "spark-3.2.1-bin-hadoop3.2/python/pyspark/sql/tests/test_udf.py\n",
            "spark-3.2.1-bin-hadoop3.2/python/pyspark/sql/tests/test_utils.py\n",
            "spark-3.2.1-bin-hadoop3.2/python/pyspark/sql/types.py\n",
            "spark-3.2.1-bin-hadoop3.2/python/pyspark/sql/types.pyi\n",
            "spark-3.2.1-bin-hadoop3.2/python/pyspark/sql/udf.py\n",
            "spark-3.2.1-bin-hadoop3.2/python/pyspark/sql/udf.pyi\n",
            "spark-3.2.1-bin-hadoop3.2/python/pyspark/sql/utils.py\n",
            "spark-3.2.1-bin-hadoop3.2/python/pyspark/sql/window.py\n",
            "spark-3.2.1-bin-hadoop3.2/python/pyspark/sql/window.pyi\n",
            "spark-3.2.1-bin-hadoop3.2/python/pyspark/statcounter.py\n",
            "spark-3.2.1-bin-hadoop3.2/python/pyspark/statcounter.pyi\n",
            "spark-3.2.1-bin-hadoop3.2/python/pyspark/status.py\n",
            "spark-3.2.1-bin-hadoop3.2/python/pyspark/status.pyi\n",
            "spark-3.2.1-bin-hadoop3.2/python/pyspark/storagelevel.py\n",
            "spark-3.2.1-bin-hadoop3.2/python/pyspark/storagelevel.pyi\n",
            "spark-3.2.1-bin-hadoop3.2/python/pyspark/streaming/\n",
            "spark-3.2.1-bin-hadoop3.2/python/pyspark/streaming/__init__.py\n",
            "spark-3.2.1-bin-hadoop3.2/python/pyspark/streaming/context.py\n",
            "spark-3.2.1-bin-hadoop3.2/python/pyspark/streaming/context.pyi\n",
            "spark-3.2.1-bin-hadoop3.2/python/pyspark/streaming/dstream.py\n",
            "spark-3.2.1-bin-hadoop3.2/python/pyspark/streaming/dstream.pyi\n",
            "spark-3.2.1-bin-hadoop3.2/python/pyspark/streaming/kinesis.py\n",
            "spark-3.2.1-bin-hadoop3.2/python/pyspark/streaming/kinesis.pyi\n",
            "spark-3.2.1-bin-hadoop3.2/python/pyspark/streaming/listener.py\n",
            "spark-3.2.1-bin-hadoop3.2/python/pyspark/streaming/listener.pyi\n",
            "spark-3.2.1-bin-hadoop3.2/python/pyspark/streaming/tests/\n",
            "spark-3.2.1-bin-hadoop3.2/python/pyspark/streaming/tests/__init__.py\n",
            "spark-3.2.1-bin-hadoop3.2/python/pyspark/streaming/tests/test_context.py\n",
            "spark-3.2.1-bin-hadoop3.2/python/pyspark/streaming/tests/test_dstream.py\n",
            "spark-3.2.1-bin-hadoop3.2/python/pyspark/streaming/tests/test_kinesis.py\n",
            "spark-3.2.1-bin-hadoop3.2/python/pyspark/streaming/tests/test_listener.py\n",
            "spark-3.2.1-bin-hadoop3.2/python/pyspark/streaming/util.py\n",
            "spark-3.2.1-bin-hadoop3.2/python/pyspark/taskcontext.py\n",
            "spark-3.2.1-bin-hadoop3.2/python/pyspark/taskcontext.pyi\n",
            "spark-3.2.1-bin-hadoop3.2/python/pyspark/testing/\n",
            "spark-3.2.1-bin-hadoop3.2/python/pyspark/testing/__init__.py\n",
            "spark-3.2.1-bin-hadoop3.2/python/pyspark/testing/mllibutils.py\n",
            "spark-3.2.1-bin-hadoop3.2/python/pyspark/testing/mlutils.py\n",
            "spark-3.2.1-bin-hadoop3.2/python/pyspark/testing/pandasutils.py\n",
            "spark-3.2.1-bin-hadoop3.2/python/pyspark/testing/sqlutils.py\n",
            "spark-3.2.1-bin-hadoop3.2/python/pyspark/testing/streamingutils.py\n",
            "spark-3.2.1-bin-hadoop3.2/python/pyspark/testing/utils.py\n",
            "spark-3.2.1-bin-hadoop3.2/python/pyspark/tests/\n",
            "spark-3.2.1-bin-hadoop3.2/python/pyspark/tests/__init__.py\n",
            "spark-3.2.1-bin-hadoop3.2/python/pyspark/tests/test_appsubmit.py\n",
            "spark-3.2.1-bin-hadoop3.2/python/pyspark/tests/test_broadcast.py\n",
            "spark-3.2.1-bin-hadoop3.2/python/pyspark/tests/test_conf.py\n",
            "spark-3.2.1-bin-hadoop3.2/python/pyspark/tests/test_context.py\n",
            "spark-3.2.1-bin-hadoop3.2/python/pyspark/tests/test_daemon.py\n",
            "spark-3.2.1-bin-hadoop3.2/python/pyspark/tests/test_install_spark.py\n",
            "spark-3.2.1-bin-hadoop3.2/python/pyspark/tests/test_join.py\n",
            "spark-3.2.1-bin-hadoop3.2/python/pyspark/tests/test_pin_thread.py\n",
            "spark-3.2.1-bin-hadoop3.2/python/pyspark/tests/test_profiler.py\n",
            "spark-3.2.1-bin-hadoop3.2/python/pyspark/tests/test_rdd.py\n",
            "spark-3.2.1-bin-hadoop3.2/python/pyspark/tests/test_rddbarrier.py\n",
            "spark-3.2.1-bin-hadoop3.2/python/pyspark/tests/test_readwrite.py\n",
            "spark-3.2.1-bin-hadoop3.2/python/pyspark/tests/test_serializers.py\n",
            "spark-3.2.1-bin-hadoop3.2/python/pyspark/tests/test_shuffle.py\n",
            "spark-3.2.1-bin-hadoop3.2/python/pyspark/tests/test_taskcontext.py\n",
            "spark-3.2.1-bin-hadoop3.2/python/pyspark/tests/test_util.py\n",
            "spark-3.2.1-bin-hadoop3.2/python/pyspark/tests/test_worker.py\n",
            "spark-3.2.1-bin-hadoop3.2/python/pyspark/traceback_utils.py\n",
            "spark-3.2.1-bin-hadoop3.2/python/pyspark/util.py\n",
            "spark-3.2.1-bin-hadoop3.2/python/pyspark/util.pyi\n",
            "spark-3.2.1-bin-hadoop3.2/python/pyspark/version.py\n",
            "spark-3.2.1-bin-hadoop3.2/python/pyspark/version.pyi\n",
            "spark-3.2.1-bin-hadoop3.2/python/pyspark/worker.py\n",
            "spark-3.2.1-bin-hadoop3.2/python/pyspark.egg-info/\n",
            "spark-3.2.1-bin-hadoop3.2/python/pyspark.egg-info/PKG-INFO\n",
            "spark-3.2.1-bin-hadoop3.2/python/pyspark.egg-info/SOURCES.txt\n",
            "spark-3.2.1-bin-hadoop3.2/python/pyspark.egg-info/dependency_links.txt\n",
            "spark-3.2.1-bin-hadoop3.2/python/pyspark.egg-info/requires.txt\n",
            "spark-3.2.1-bin-hadoop3.2/python/pyspark.egg-info/top_level.txt\n",
            "spark-3.2.1-bin-hadoop3.2/python/run-tests\n",
            "spark-3.2.1-bin-hadoop3.2/python/run-tests-with-coverage\n",
            "spark-3.2.1-bin-hadoop3.2/python/run-tests.py\n",
            "spark-3.2.1-bin-hadoop3.2/python/setup.cfg\n",
            "spark-3.2.1-bin-hadoop3.2/python/setup.py\n",
            "spark-3.2.1-bin-hadoop3.2/python/test_coverage/\n",
            "spark-3.2.1-bin-hadoop3.2/python/test_coverage/conf/\n",
            "spark-3.2.1-bin-hadoop3.2/python/test_coverage/conf/spark-defaults.conf\n",
            "spark-3.2.1-bin-hadoop3.2/python/test_coverage/coverage_daemon.py\n",
            "spark-3.2.1-bin-hadoop3.2/python/test_coverage/sitecustomize.py\n",
            "spark-3.2.1-bin-hadoop3.2/python/test_support/\n",
            "spark-3.2.1-bin-hadoop3.2/python/test_support/SimpleHTTPServer.py\n",
            "spark-3.2.1-bin-hadoop3.2/python/test_support/hello/\n",
            "spark-3.2.1-bin-hadoop3.2/python/test_support/hello/hello.txt\n",
            "spark-3.2.1-bin-hadoop3.2/python/test_support/hello/sub_hello/\n",
            "spark-3.2.1-bin-hadoop3.2/python/test_support/hello/sub_hello/sub_hello.txt\n",
            "spark-3.2.1-bin-hadoop3.2/python/test_support/sql/\n",
            "spark-3.2.1-bin-hadoop3.2/python/test_support/sql/ages.csv\n",
            "spark-3.2.1-bin-hadoop3.2/python/test_support/sql/ages_newlines.csv\n",
            "spark-3.2.1-bin-hadoop3.2/python/test_support/sql/orc_partitioned/\n",
            "spark-3.2.1-bin-hadoop3.2/python/test_support/sql/orc_partitioned/_SUCCESS\n",
            "spark-3.2.1-bin-hadoop3.2/python/test_support/sql/orc_partitioned/b=0/\n",
            "spark-3.2.1-bin-hadoop3.2/python/test_support/sql/orc_partitioned/b=0/c=0/\n",
            "spark-3.2.1-bin-hadoop3.2/python/test_support/sql/orc_partitioned/b=0/c=0/.part-r-00000-829af031-b970-49d6-ad39-30460a0be2c8.orc.crc\n",
            "spark-3.2.1-bin-hadoop3.2/python/test_support/sql/orc_partitioned/b=0/c=0/part-r-00000-829af031-b970-49d6-ad39-30460a0be2c8.orc\n",
            "spark-3.2.1-bin-hadoop3.2/python/test_support/sql/orc_partitioned/b=1/\n",
            "spark-3.2.1-bin-hadoop3.2/python/test_support/sql/orc_partitioned/b=1/c=1/\n",
            "spark-3.2.1-bin-hadoop3.2/python/test_support/sql/orc_partitioned/b=1/c=1/.part-r-00000-829af031-b970-49d6-ad39-30460a0be2c8.orc.crc\n",
            "spark-3.2.1-bin-hadoop3.2/python/test_support/sql/orc_partitioned/b=1/c=1/part-r-00000-829af031-b970-49d6-ad39-30460a0be2c8.orc\n",
            "spark-3.2.1-bin-hadoop3.2/python/test_support/sql/parquet_partitioned/\n",
            "spark-3.2.1-bin-hadoop3.2/python/test_support/sql/parquet_partitioned/_SUCCESS\n",
            "spark-3.2.1-bin-hadoop3.2/python/test_support/sql/parquet_partitioned/_common_metadata\n",
            "spark-3.2.1-bin-hadoop3.2/python/test_support/sql/parquet_partitioned/_metadata\n",
            "spark-3.2.1-bin-hadoop3.2/python/test_support/sql/parquet_partitioned/year=2014/\n",
            "spark-3.2.1-bin-hadoop3.2/python/test_support/sql/parquet_partitioned/year=2014/month=9/\n",
            "spark-3.2.1-bin-hadoop3.2/python/test_support/sql/parquet_partitioned/year=2014/month=9/day=1/\n",
            "spark-3.2.1-bin-hadoop3.2/python/test_support/sql/parquet_partitioned/year=2014/month=9/day=1/.part-r-00008.gz.parquet.crc\n",
            "spark-3.2.1-bin-hadoop3.2/python/test_support/sql/parquet_partitioned/year=2014/month=9/day=1/part-r-00008.gz.parquet\n",
            "spark-3.2.1-bin-hadoop3.2/python/test_support/sql/parquet_partitioned/year=2015/\n",
            "spark-3.2.1-bin-hadoop3.2/python/test_support/sql/parquet_partitioned/year=2015/month=10/\n",
            "spark-3.2.1-bin-hadoop3.2/python/test_support/sql/parquet_partitioned/year=2015/month=10/day=25/\n",
            "spark-3.2.1-bin-hadoop3.2/python/test_support/sql/parquet_partitioned/year=2015/month=10/day=25/.part-r-00002.gz.parquet.crc\n",
            "spark-3.2.1-bin-hadoop3.2/python/test_support/sql/parquet_partitioned/year=2015/month=10/day=25/.part-r-00004.gz.parquet.crc\n",
            "spark-3.2.1-bin-hadoop3.2/python/test_support/sql/parquet_partitioned/year=2015/month=10/day=25/part-r-00002.gz.parquet\n",
            "spark-3.2.1-bin-hadoop3.2/python/test_support/sql/parquet_partitioned/year=2015/month=10/day=25/part-r-00004.gz.parquet\n",
            "spark-3.2.1-bin-hadoop3.2/python/test_support/sql/parquet_partitioned/year=2015/month=10/day=26/\n",
            "spark-3.2.1-bin-hadoop3.2/python/test_support/sql/parquet_partitioned/year=2015/month=10/day=26/.part-r-00005.gz.parquet.crc\n",
            "spark-3.2.1-bin-hadoop3.2/python/test_support/sql/parquet_partitioned/year=2015/month=10/day=26/part-r-00005.gz.parquet\n",
            "spark-3.2.1-bin-hadoop3.2/python/test_support/sql/parquet_partitioned/year=2015/month=9/\n",
            "spark-3.2.1-bin-hadoop3.2/python/test_support/sql/parquet_partitioned/year=2015/month=9/day=1/\n",
            "spark-3.2.1-bin-hadoop3.2/python/test_support/sql/parquet_partitioned/year=2015/month=9/day=1/.part-r-00007.gz.parquet.crc\n",
            "spark-3.2.1-bin-hadoop3.2/python/test_support/sql/parquet_partitioned/year=2015/month=9/day=1/part-r-00007.gz.parquet\n",
            "spark-3.2.1-bin-hadoop3.2/python/test_support/sql/people.json\n",
            "spark-3.2.1-bin-hadoop3.2/python/test_support/sql/people1.json\n",
            "spark-3.2.1-bin-hadoop3.2/python/test_support/sql/people_array.json\n",
            "spark-3.2.1-bin-hadoop3.2/python/test_support/sql/people_array_utf16le.json\n",
            "spark-3.2.1-bin-hadoop3.2/python/test_support/sql/streaming/\n",
            "spark-3.2.1-bin-hadoop3.2/python/test_support/sql/streaming/text-test.txt\n",
            "spark-3.2.1-bin-hadoop3.2/python/test_support/sql/text-test.txt\n",
            "spark-3.2.1-bin-hadoop3.2/python/test_support/userlib-0.1.zip\n",
            "spark-3.2.1-bin-hadoop3.2/python/test_support/userlibrary.py\n",
            "spark-3.2.1-bin-hadoop3.2/sbin/\n",
            "spark-3.2.1-bin-hadoop3.2/sbin/decommission-slave.sh\n",
            "spark-3.2.1-bin-hadoop3.2/sbin/decommission-worker.sh\n",
            "spark-3.2.1-bin-hadoop3.2/sbin/slaves.sh\n",
            "spark-3.2.1-bin-hadoop3.2/sbin/spark-config.sh\n",
            "spark-3.2.1-bin-hadoop3.2/sbin/spark-daemon.sh\n",
            "spark-3.2.1-bin-hadoop3.2/sbin/spark-daemons.sh\n",
            "spark-3.2.1-bin-hadoop3.2/sbin/start-all.sh\n",
            "spark-3.2.1-bin-hadoop3.2/sbin/start-history-server.sh\n",
            "spark-3.2.1-bin-hadoop3.2/sbin/start-master.sh\n",
            "spark-3.2.1-bin-hadoop3.2/sbin/start-mesos-dispatcher.sh\n",
            "spark-3.2.1-bin-hadoop3.2/sbin/start-mesos-shuffle-service.sh\n",
            "spark-3.2.1-bin-hadoop3.2/sbin/start-slave.sh\n",
            "spark-3.2.1-bin-hadoop3.2/sbin/start-slaves.sh\n",
            "spark-3.2.1-bin-hadoop3.2/sbin/start-thriftserver.sh\n",
            "spark-3.2.1-bin-hadoop3.2/sbin/start-worker.sh\n",
            "spark-3.2.1-bin-hadoop3.2/sbin/start-workers.sh\n",
            "spark-3.2.1-bin-hadoop3.2/sbin/stop-all.sh\n",
            "spark-3.2.1-bin-hadoop3.2/sbin/stop-history-server.sh\n",
            "spark-3.2.1-bin-hadoop3.2/sbin/stop-master.sh\n",
            "spark-3.2.1-bin-hadoop3.2/sbin/stop-mesos-dispatcher.sh\n",
            "spark-3.2.1-bin-hadoop3.2/sbin/stop-mesos-shuffle-service.sh\n",
            "spark-3.2.1-bin-hadoop3.2/sbin/stop-slave.sh\n",
            "spark-3.2.1-bin-hadoop3.2/sbin/stop-slaves.sh\n",
            "spark-3.2.1-bin-hadoop3.2/sbin/stop-thriftserver.sh\n",
            "spark-3.2.1-bin-hadoop3.2/sbin/stop-worker.sh\n",
            "spark-3.2.1-bin-hadoop3.2/sbin/stop-workers.sh\n",
            "spark-3.2.1-bin-hadoop3.2/sbin/workers.sh\n",
            "spark-3.2.1-bin-hadoop3.2/yarn/\n",
            "spark-3.2.1-bin-hadoop3.2/yarn/spark-3.2.1-yarn-shuffle.jar\n"
          ]
        }
      ]
    },
    {
      "cell_type": "code",
      "source": [
        "!ls /content/spark-3.2.1-bin-hadoop3.2"
      ],
      "metadata": {
        "colab": {
          "base_uri": "https://localhost:8080/"
        },
        "id": "jaITvBTSyWJi",
        "outputId": "37af0b1e-60d8-4328-de56-2c308790dd41"
      },
      "execution_count": null,
      "outputs": [
        {
          "output_type": "stream",
          "name": "stdout",
          "text": [
            "bin   data\tjars\t    LICENSE   NOTICE  R\t\t RELEASE  yarn\n",
            "conf  examples\tkubernetes  licenses  python  README.md  sbin\n"
          ]
        }
      ]
    },
    {
      "cell_type": "code",
      "source": [
        "!pip install findspark"
      ],
      "metadata": {
        "colab": {
          "base_uri": "https://localhost:8080/"
        },
        "id": "svRiB_qAyuNj",
        "outputId": "a8167c55-1042-4519-daf7-0a05334cb915"
      },
      "execution_count": null,
      "outputs": [
        {
          "output_type": "stream",
          "name": "stdout",
          "text": [
            "Requirement already satisfied: findspark in /usr/local/lib/python3.7/dist-packages (2.0.1)\n"
          ]
        }
      ]
    },
    {
      "cell_type": "code",
      "source": [
        "import os\n",
        "os.environ[\"JAVA_HOME\"] = \"/usr/lib/jvm/java-8-openjdkamd64\"\n",
        "os.environ[\"SPARK_HOME\"] = \"/content/spark-3.2.1-bin-hadoop3.2\"\n",
        "import findspark\n",
        "findspark.init()"
      ],
      "metadata": {
        "id": "ZLtgVCzQzXL8"
      },
      "execution_count": null,
      "outputs": []
    },
    {
      "cell_type": "code",
      "source": [
        "import os       #importing os to set environment variable\n",
        "def install_java():\n",
        "  !apt-get install -y openjdk-8-jdk-headless -qq > /dev/null      #install openjdk\n",
        "  os.environ[\"JAVA_HOME\"] = \"/usr/lib/jvm/java-8-openjdk-amd64\"     #set environment variable\n",
        "  !java -version       #check java version\n",
        "install_java()"
      ],
      "metadata": {
        "colab": {
          "base_uri": "https://localhost:8080/"
        },
        "id": "BNUFDE0m5vA3",
        "outputId": "df8ce07e-df43-4482-dcdd-699907e3ccf5"
      },
      "execution_count": null,
      "outputs": [
        {
          "output_type": "stream",
          "name": "stdout",
          "text": [
            "openjdk version \"11.0.13\" 2021-10-19\n",
            "OpenJDK Runtime Environment (build 11.0.13+8-Ubuntu-0ubuntu1.18.04)\n",
            "OpenJDK 64-Bit Server VM (build 11.0.13+8-Ubuntu-0ubuntu1.18.04, mixed mode, sharing)\n"
          ]
        }
      ]
    },
    {
      "cell_type": "code",
      "source": [
        "from pyspark.sql import SparkSession\n",
        "spark = SparkSession.builder.appName(\"PySpark 3.2.1 Setup on Google Colab\").getOrCreate()\n"
      ],
      "metadata": {
        "id": "O9bslKRYzn9L"
      },
      "execution_count": null,
      "outputs": []
    },
    {
      "cell_type": "code",
      "source": [
        "ipl_ball_by_ball= spark.read.load(\"ipl_ball_by_ball.csv\",format=\"csv\", sep=\",\", inferSchema=\"true\", header=\"true\")\n",
        "ipl_ball_by_ball.printSchema()\n",
        "ipl_ball_by_ball.show()\n",
        "ipl_ball_by_ball.count()"
      ],
      "metadata": {
        "colab": {
          "base_uri": "https://localhost:8080/"
        },
        "id": "yhNxg0dA9klF",
        "outputId": "1ae9b034-1cfd-46a3-ce37-0790c877188e"
      },
      "execution_count": null,
      "outputs": [
        {
          "output_type": "stream",
          "name": "stdout",
          "text": [
            "root\n",
            " |-- match_id: integer (nullable = true)\n",
            " |-- inning: integer (nullable = true)\n",
            " |-- overs: integer (nullable = true)\n",
            " |-- ball: integer (nullable = true)\n",
            " |-- batsman: string (nullable = true)\n",
            " |-- non_striker: string (nullable = true)\n",
            " |-- bowler: string (nullable = true)\n",
            " |-- batsman_runs: integer (nullable = true)\n",
            " |-- extra_runs: integer (nullable = true)\n",
            " |-- total_runs: integer (nullable = true)\n",
            " |-- non_boundary: integer (nullable = true)\n",
            " |-- is_wicket: integer (nullable = true)\n",
            " |-- dismissal_kind: string (nullable = true)\n",
            " |-- player_dismissed: string (nullable = true)\n",
            " |-- fielder: string (nullable = true)\n",
            " |-- extras_type: string (nullable = true)\n",
            " |-- batting_team: string (nullable = true)\n",
            " |-- bowling_team: string (nullable = true)\n",
            "\n",
            "+--------+------+-----+----+-------------+-------------+------------+------------+----------+----------+------------+---------+--------------+----------------+-------+-----------+--------------------+--------------------+\n",
            "|match_id|inning|overs|ball|      batsman|  non_striker|      bowler|batsman_runs|extra_runs|total_runs|non_boundary|is_wicket|dismissal_kind|player_dismissed|fielder|extras_type|        batting_team|        bowling_team|\n",
            "+--------+------+-----+----+-------------+-------------+------------+------------+----------+----------+------------+---------+--------------+----------------+-------+-----------+--------------------+--------------------+\n",
            "|  419157|     2|   16|   4|      V Kohli|R Vinay Kumar|CRD Fernando|           0|         0|         0|           0|        0|            NA|              NA|     NA|         NA|Royal Challengers...|      Mumbai Indians|\n",
            "|  419157|     2|   16|   5|      V Kohli|R Vinay Kumar|CRD Fernando|           1|         0|         1|           0|        0|            NA|              NA|     NA|         NA|Royal Challengers...|      Mumbai Indians|\n",
            "|  419157|     2|   16|   6|R Vinay Kumar|      V Kohli|CRD Fernando|           1|         0|         1|           0|        0|            NA|              NA|     NA|         NA|Royal Challengers...|      Mumbai Indians|\n",
            "|  419157|     2|   17|   1|R Vinay Kumar|      V Kohli|   R McLaren|           1|         0|         1|           0|        0|            NA|              NA|     NA|         NA|Royal Challengers...|      Mumbai Indians|\n",
            "|  419157|     2|   17|   2|      V Kohli|R Vinay Kumar|   R McLaren|           1|         0|         1|           0|        0|            NA|              NA|     NA|         NA|Royal Challengers...|      Mumbai Indians|\n",
            "|  419157|     2|   17|   3|R Vinay Kumar|      V Kohli|   R McLaren|           0|         0|         0|           0|        0|            NA|              NA|     NA|         NA|Royal Challengers...|      Mumbai Indians|\n",
            "|  419157|     2|   17|   4|R Vinay Kumar|      V Kohli|   R McLaren|           0|         0|         0|           0|        0|            NA|              NA|     NA|         NA|Royal Challengers...|      Mumbai Indians|\n",
            "|  419157|     2|   17|   5|R Vinay Kumar|      V Kohli|   R McLaren|           1|         0|         1|           0|        0|            NA|              NA|     NA|         NA|Royal Challengers...|      Mumbai Indians|\n",
            "|  419157|     2|   17|   6|      V Kohli|R Vinay Kumar|   R McLaren|           1|         0|         1|           0|        0|            NA|              NA|     NA|         NA|Royal Challengers...|      Mumbai Indians|\n",
            "|  419157|     2|   18|   1|      V Kohli|R Vinay Kumar|  KA Pollard|           4|         0|         4|           0|        0|            NA|              NA|     NA|         NA|Royal Challengers...|      Mumbai Indians|\n",
            "|  419157|     2|   18|   2|      V Kohli|R Vinay Kumar|  KA Pollard|           0|         0|         0|           0|        1|        caught|         V Kohli|AP Tare|         NA|Royal Challengers...|      Mumbai Indians|\n",
            "|  419157|     2|   18|   3|R Vinay Kumar| Pankaj Singh|  KA Pollard|           0|         1|         1|           0|        0|            NA|              NA|     NA|      wides|Royal Challengers...|      Mumbai Indians|\n",
            "|  419157|     2|   18|   4|R Vinay Kumar| Pankaj Singh|  KA Pollard|           1|         0|         1|           0|        0|            NA|              NA|     NA|         NA|Royal Challengers...|      Mumbai Indians|\n",
            "|  419157|     2|   18|   5| Pankaj Singh|R Vinay Kumar|  KA Pollard|           1|         0|         1|           0|        0|            NA|              NA|     NA|         NA|Royal Challengers...|      Mumbai Indians|\n",
            "|  419157|     2|   18|   6|R Vinay Kumar| Pankaj Singh|  KA Pollard|           1|         0|         1|           0|        0|            NA|              NA|     NA|         NA|Royal Challengers...|      Mumbai Indians|\n",
            "|  419157|     2|   18|   7| Pankaj Singh|R Vinay Kumar|  KA Pollard|           0|         0|         0|           0|        1|        caught|    Pankaj Singh| Z Khan|         NA|Royal Challengers...|      Mumbai Indians|\n",
            "|  419157|     2|   19|   1|     A Kumble|R Vinay Kumar|   R McLaren|           0|         0|         0|           0|        0|            NA|              NA|     NA|         NA|Royal Challengers...|      Mumbai Indians|\n",
            "|  419157|     1|    0|   1|    R McLaren| SR Tendulkar|    DW Steyn|           1|         0|         1|           0|        0|            NA|              NA|     NA|         NA|      Mumbai Indians|Royal Challengers...|\n",
            "|  419157|     1|    0|   2| SR Tendulkar|    R McLaren|    DW Steyn|           0|         0|         0|           0|        0|            NA|              NA|     NA|         NA|      Mumbai Indians|Royal Challengers...|\n",
            "|  419157|     1|    0|   3| SR Tendulkar|    R McLaren|    DW Steyn|           1|         0|         1|           0|        0|            NA|              NA|     NA|         NA|      Mumbai Indians|Royal Challengers...|\n",
            "+--------+------+-----+----+-------------+-------------+------------+------------+----------+----------+------------+---------+--------------+----------------+-------+-----------+--------------------+--------------------+\n",
            "only showing top 20 rows\n",
            "\n"
          ]
        },
        {
          "output_type": "execute_result",
          "data": {
            "text/plain": [
              "193468"
            ]
          },
          "metadata": {},
          "execution_count": 11
        }
      ]
    },
    {
      "cell_type": "code",
      "source": [
        "ipl_matches= spark.read.load(\"ipl_matches.csv\",format=\"csv\", sep=\",\", inferSchema=\"true\", header=\"true\")\n",
        "ipl_matches.printSchema()\n",
        "ipl_matches.show()"
      ],
      "metadata": {
        "colab": {
          "base_uri": "https://localhost:8080/"
        },
        "id": "AKhFQJRQ_fhr",
        "outputId": "bbf32de3-dea4-42b7-928c-e5bd73fc2020"
      },
      "execution_count": null,
      "outputs": [
        {
          "output_type": "stream",
          "name": "stdout",
          "text": [
            "root\n",
            " |-- match_id: integer (nullable = true)\n",
            " |-- date: string (nullable = true)\n",
            " |-- player_of_match: string (nullable = true)\n",
            " |-- venue_id: integer (nullable = true)\n",
            " |-- neutral_venue: integer (nullable = true)\n",
            " |-- team1: string (nullable = true)\n",
            " |-- team2: string (nullable = true)\n",
            " |-- toss_winner: string (nullable = true)\n",
            " |-- toss_decision: string (nullable = true)\n",
            " |-- winner: string (nullable = true)\n",
            " |-- result: string (nullable = true)\n",
            " |-- result_margin: string (nullable = true)\n",
            " |-- eliminator: string (nullable = true)\n",
            " |-- method: string (nullable = true)\n",
            " |-- umpire1: string (nullable = true)\n",
            " |-- umpire2: string (nullable = true)\n",
            "\n",
            "+--------+----------+---------------+--------+-------------+--------------------+--------------------+--------------------+-------------+--------------------+-------+-------------+----------+------+-----------+--------------+\n",
            "|match_id|      date|player_of_match|venue_id|neutral_venue|               team1|               team2|         toss_winner|toss_decision|              winner| result|result_margin|eliminator|method|    umpire1|       umpire2|\n",
            "+--------+----------+---------------+--------+-------------+--------------------+--------------------+--------------------+-------------+--------------------+-------+-------------+----------+------+-----------+--------------+\n",
            "|  335982|2008-04-18|    BB McCullum|      35|            0|Royal Challengers...|Kolkata Knight Ri...|Royal Challengers...|        field|Kolkata Knight Ri...|   runs|          140|         N|    NA|  Asad Rauf|   RE Koertzen|\n",
            "|  335983|2008-04-19|     MEK Hussey|      31|            0|     Kings XI Punjab| Chennai Super Kings| Chennai Super Kings|          bat| Chennai Super Kings|   runs|           33|         N|    NA|  MR Benson|    SL Shastri|\n",
            "|  335984|2008-04-19|    MF Maharoof|      27|            0|    Delhi Daredevils|    Rajasthan Royals|    Rajasthan Royals|          bat|    Delhi Daredevils|wickets|            9|         N|    NA|  Aleem Dar|GA Pratapkumar|\n",
            "|  335985|2008-04-20|     MV Boucher|      14|            0|      Mumbai Indians|Royal Challengers...|      Mumbai Indians|          bat|Royal Challengers...|wickets|            5|         N|    NA|   SJ Davis|     DJ Harper|\n",
            "|  335986|2008-04-20|      DJ Hussey|      15|            0|Kolkata Knight Ri...|     Deccan Chargers|     Deccan Chargers|          bat|Kolkata Knight Ri...|wickets|            5|         N|    NA|  BF Bowden|   K Hariharan|\n",
            "|  335987|2008-04-21|      SR Watson|      20|            0|    Rajasthan Royals|     Kings XI Punjab|     Kings XI Punjab|          bat|    Rajasthan Royals|wickets|            6|         N|    NA|  Aleem Dar|     RB Tiffin|\n",
            "|  335988|2008-04-22|       V Sehwag|      22|            0|     Deccan Chargers|    Delhi Daredevils|     Deccan Chargers|          bat|    Delhi Daredevils|wickets|            9|         N|    NA|  IL Howell|     AM Saheba|\n",
            "|  335989|2008-04-23|      ML Hayden|      29|            0| Chennai Super Kings|      Mumbai Indians|      Mumbai Indians|        field| Chennai Super Kings|   runs|            6|         N|    NA|  DJ Harper|GA Pratapkumar|\n",
            "|  335990|2008-04-24|      YK Pathan|      22|            0|     Deccan Chargers|    Rajasthan Royals|    Rajasthan Royals|        field|    Rajasthan Royals|wickets|            3|         N|    NA|  Asad Rauf|     MR Benson|\n",
            "|  335991|2008-04-25|  KC Sangakkara|      31|            0|     Kings XI Punjab|      Mumbai Indians|      Mumbai Indians|        field|     Kings XI Punjab|   runs|           66|         N|    NA|  Aleem Dar|     AM Saheba|\n",
            "|  335992|2008-04-26|      SR Watson|      35|            0|Royal Challengers...|    Rajasthan Royals|    Rajasthan Royals|        field|    Rajasthan Royals|wickets|            7|         N|    NA|  MR Benson|     IL Howell|\n",
            "|  335993|2008-04-26|       JDP Oram|      29|            0| Chennai Super Kings|Kolkata Knight Ri...|Kolkata Knight Ri...|          bat| Chennai Super Kings|wickets|            9|         N|    NA|  BF Bowden|AV Jayaprakash|\n",
            "|  335994|2008-04-27|   AC Gilchrist|      13|            0|      Mumbai Indians|     Deccan Chargers|     Deccan Chargers|        field|     Deccan Chargers|wickets|           10|         N|    NA|  Asad Rauf|    SL Shastri|\n",
            "|  335995|2008-04-27|      SM Katich|      31|            0|     Kings XI Punjab|    Delhi Daredevils|    Delhi Daredevils|          bat|     Kings XI Punjab|wickets|            4|         N|    NA|RE Koertzen|     I Shivram|\n",
            "|  335996|2008-04-28|       MS Dhoni|      35|            0|Royal Challengers...| Chennai Super Kings| Chennai Super Kings|          bat| Chennai Super Kings|   runs|           13|         N|    NA|BR Doctrove|     RB Tiffin|\n",
            "|  335997|2008-04-29|  ST Jayasuriya|      15|            0|Kolkata Knight Ri...|      Mumbai Indians|Kolkata Knight Ri...|          bat|      Mumbai Indians|wickets|            7|         N|    NA|  BF Bowden|AV Jayaprakash|\n",
            "|  335998|2008-04-30|     GD McGrath|      27|            0|    Delhi Daredevils|Royal Challengers...|Royal Challengers...|        field|    Delhi Daredevils|   runs|           10|         N|    NA|  Aleem Dar|     I Shivram|\n",
            "|  335999|2008-05-01|       SE Marsh|      22|            0|     Deccan Chargers|     Kings XI Punjab|     Kings XI Punjab|        field|     Kings XI Punjab|wickets|            7|         N|    NA|BR Doctrove|     RB Tiffin|\n",
            "|  336000|2008-05-01|    SA Asnodkar|      20|            0|    Rajasthan Royals|Kolkata Knight Ri...|    Rajasthan Royals|          bat|    Rajasthan Royals|   runs|           45|         N|    NA|RE Koertzen|GA Pratapkumar|\n",
            "|  336001|2008-05-02|       V Sehwag|      29|            0| Chennai Super Kings|    Delhi Daredevils| Chennai Super Kings|          bat|    Delhi Daredevils|wickets|            8|         N|    NA|  BF Bowden|   K Hariharan|\n",
            "+--------+----------+---------------+--------+-------------+--------------------+--------------------+--------------------+-------------+--------------------+-------+-------------+----------+------+-----------+--------------+\n",
            "only showing top 20 rows\n",
            "\n"
          ]
        }
      ]
    },
    {
      "cell_type": "code",
      "source": [
        "ipl_venue= spark.read.load(\"ipl_venue.csv\",format=\"csv\", sep=\",\", inferSchema=\"true\", header=\"true\")\n",
        "ipl_venue.printSchema()\n",
        "ipl_venue.show()"
      ],
      "metadata": {
        "colab": {
          "base_uri": "https://localhost:8080/"
        },
        "id": "ARcRgtxW_zEL",
        "outputId": "c6adb18b-fb3c-4861-ed7b-a49a0e777b92"
      },
      "execution_count": null,
      "outputs": [
        {
          "output_type": "stream",
          "name": "stdout",
          "text": [
            "root\n",
            " |-- venue_id: integer (nullable = true)\n",
            " |-- venue: string (nullable = true)\n",
            " |-- city: string (nullable = true)\n",
            "\n",
            "+--------+--------------------+--------------+\n",
            "|venue_id|               venue|          city|\n",
            "+--------+--------------------+--------------+\n",
            "|       1|Dr. Y.S. Rajasekh...| Visakhapatnam|\n",
            "|       2|Sharjah Cricket S...|       Sharjah|\n",
            "|       3|JSCA Internationa...|        Ranchi|\n",
            "|       4|Saurashtra Cricke...|        Rajkot|\n",
            "|       5|Shaheed Veer Nara...|        Raipur|\n",
            "|       6|Maharashtra Crick...|          Pune|\n",
            "|       7|Subrata Roy Sahar...|          Pune|\n",
            "|       8|    St George's Park|Port Elizabeth|\n",
            "|       9|Vidarbha Cricket ...|        Nagpur|\n",
            "|      12|   Brabourne Stadium|        Mumbai|\n",
            "|      13|Dr DY Patil Sport...|        Mumbai|\n",
            "|      14|    Wankhede Stadium|        Mumbai|\n",
            "|      15|        Eden Gardens|       Kolkata|\n",
            "|      16|       Nehru Stadium|         Kochi|\n",
            "|      17|De Beers Diamond ...|     Kimberley|\n",
            "|      18|          Green Park|        Kanpur|\n",
            "|      19|New Wanderers Sta...|  Johannesburg|\n",
            "|      20|Sawai Mansingh St...|        Jaipur|\n",
            "|      21|Holkar Cricket St...|        Indore|\n",
            "|      22|Rajiv Gandhi Inte...|     Hyderabad|\n",
            "+--------+--------------------+--------------+\n",
            "only showing top 20 rows\n",
            "\n"
          ]
        }
      ]
    },
    {
      "cell_type": "code",
      "source": [
        "ReadMe= spark.read.text(\"ReadMe.txt\")\n",
        "ReadMe.show()"
      ],
      "metadata": {
        "colab": {
          "base_uri": "https://localhost:8080/"
        },
        "id": "2sr1usvOAUCo",
        "outputId": "7929acf8-717e-4bb8-8075-966b1a8357e5"
      },
      "execution_count": null,
      "outputs": [
        {
          "output_type": "stream",
          "name": "stdout",
          "text": [
            "+--------------------+\n",
            "|               value|\n",
            "+--------------------+\n",
            "|If you are faced ...|\n",
            "|                    |\n",
            "|The downstream er...|\n",
            "|One of the possib...|\n",
            "|After that you ca...|\n",
            "|to combine it int...|\n",
            "+--------------------+\n",
            "\n"
          ]
        }
      ]
    },
    {
      "cell_type": "code",
      "source": [
        "spark.catalog"
      ],
      "metadata": {
        "colab": {
          "base_uri": "https://localhost:8080/"
        },
        "id": "vYSiIQ63Blc6",
        "outputId": "31ccffe1-9b00-4a12-b7e8-3f017d797b01"
      },
      "execution_count": null,
      "outputs": [
        {
          "output_type": "execute_result",
          "data": {
            "text/plain": [
              "<pyspark.sql.catalog.Catalog at 0x7f853da916d0>"
            ]
          },
          "metadata": {},
          "execution_count": 15
        }
      ]
    },
    {
      "cell_type": "code",
      "source": [
        "spark.catalog.listDatabases()"
      ],
      "metadata": {
        "colab": {
          "base_uri": "https://localhost:8080/"
        },
        "id": "Gt363wzDH24I",
        "outputId": "e0ce3ed2-9c0e-48a6-ed4a-a9e1b72c7631"
      },
      "execution_count": null,
      "outputs": [
        {
          "output_type": "execute_result",
          "data": {
            "text/plain": [
              "[Database(name='default', description='default database', locationUri='file:/content/spark-warehouse')]"
            ]
          },
          "metadata": {},
          "execution_count": 16
        }
      ]
    },
    {
      "cell_type": "code",
      "source": [
        "spark.sql('show databases').show()"
      ],
      "metadata": {
        "colab": {
          "base_uri": "https://localhost:8080/"
        },
        "id": "JwTz9S2vIhSG",
        "outputId": "560d253e-83ca-48ff-d480-e7093796443e"
      },
      "execution_count": null,
      "outputs": [
        {
          "output_type": "stream",
          "name": "stdout",
          "text": [
            "+---------+\n",
            "|namespace|\n",
            "+---------+\n",
            "|  default|\n",
            "+---------+\n",
            "\n"
          ]
        }
      ]
    },
    {
      "cell_type": "code",
      "source": [
        "ipl_ball_by_ball.createOrReplaceTempView(\"ipl_ball_by_ball\")\n",
        "ipl_matches.createOrReplaceTempView(\"ipl_matches\")\n",
        "ipl_venue.createOrReplaceTempView(\"ipl_venue\")"
      ],
      "metadata": {
        "id": "PGe3uvtmKhli"
      },
      "execution_count": null,
      "outputs": []
    },
    {
      "cell_type": "code",
      "source": [
        "spark.catalog.listTables()"
      ],
      "metadata": {
        "colab": {
          "base_uri": "https://localhost:8080/"
        },
        "id": "1MWHtfAILaYc",
        "outputId": "111b51ce-3839-4442-e511-7fd46a677b0a"
      },
      "execution_count": null,
      "outputs": [
        {
          "output_type": "execute_result",
          "data": {
            "text/plain": [
              "[Table(name='ipl_ball_by_ball', database=None, description=None, tableType='TEMPORARY', isTemporary=True),\n",
              " Table(name='ipl_matches', database=None, description=None, tableType='TEMPORARY', isTemporary=True),\n",
              " Table(name='ipl_venue', database=None, description=None, tableType='TEMPORARY', isTemporary=True)]"
            ]
          },
          "metadata": {},
          "execution_count": 19
        }
      ]
    },
    {
      "cell_type": "code",
      "source": [
        "spark"
      ],
      "metadata": {
        "colab": {
          "base_uri": "https://localhost:8080/",
          "height": 222
        },
        "id": "x-2Gr0pqQLln",
        "outputId": "801f4e81-b780-45b9-cc7a-c9cf605cf058"
      },
      "execution_count": null,
      "outputs": [
        {
          "output_type": "execute_result",
          "data": {
            "text/html": [
              "\n",
              "            <div>\n",
              "                <p><b>SparkSession - in-memory</b></p>\n",
              "                \n",
              "        <div>\n",
              "            <p><b>SparkContext</b></p>\n",
              "\n",
              "            <p><a href=\"http://78532aab74b3:4040\">Spark UI</a></p>\n",
              "\n",
              "            <dl>\n",
              "              <dt>Version</dt>\n",
              "                <dd><code>v3.2.1</code></dd>\n",
              "              <dt>Master</dt>\n",
              "                <dd><code>local[*]</code></dd>\n",
              "              <dt>AppName</dt>\n",
              "                <dd><code>PySpark 3.2.1 Setup on Google Colab</code></dd>\n",
              "            </dl>\n",
              "        </div>\n",
              "        \n",
              "            </div>\n",
              "        "
            ],
            "text/plain": [
              "<pyspark.sql.session.SparkSession at 0x7f853daffb10>"
            ]
          },
          "metadata": {},
          "execution_count": 20
        }
      ]
    },
    {
      "cell_type": "markdown",
      "source": [
        "#Section 2: Analyze the given dataset and answer the question using Spark(pySpark)."
      ],
      "metadata": {
        "id": "DFek6KmjNSYM"
      }
    },
    {
      "cell_type": "code",
      "source": [
        "eliminator=ipl_matches.filter(ipl_matches.eliminator == \"Y\").groupBy('venue_id').count().sort('count',ascending=False).limit(3)\n",
        "top3=ipl_venue.join(eliminator,ipl_venue.venue_id== eliminator.venue_id,\"inner\")\\\n",
        ".sort('count',ascending=False).select(\"venue\",\"city\",\"count\")\n",
        "top3.show()"
      ],
      "metadata": {
        "colab": {
          "base_uri": "https://localhost:8080/"
        },
        "id": "Rvl1cHtVZ7qk",
        "outputId": "f671949f-5f46-4d29-a131-8d6aa62aff67"
      },
      "execution_count": null,
      "outputs": [
        {
          "output_type": "stream",
          "name": "stdout",
          "text": [
            "+--------------------+---------+-----+\n",
            "|               venue|     city|count|\n",
            "+--------------------+---------+-----+\n",
            "|Dubai Internation...|    Dubai|    3|\n",
            "|Sheikh Zayed Stadium|Abu Dhabi|    2|\n",
            "|    Feroz Shah Kotla|    Delhi|    1|\n",
            "+--------------------+---------+-----+\n",
            "\n"
          ]
        }
      ]
    },
    {
      "cell_type": "code",
      "source": [
        "caught=ipl_ball_by_ball.filter(ipl_ball_by_ball.dismissal_kind=='caught').groupBy('fielder').count()\\\n",
        ".sort('count',ascending=False).limit(1)\n",
        "caught.show()"
      ],
      "metadata": {
        "colab": {
          "base_uri": "https://localhost:8080/"
        },
        "id": "dyLXcrwjlddB",
        "outputId": "b97b0453-2d56-4035-dbe6-c2336fe924df"
      },
      "execution_count": null,
      "outputs": [
        {
          "output_type": "stream",
          "name": "stdout",
          "text": [
            "+----------+-----+\n",
            "|   fielder|count|\n",
            "+----------+-----+\n",
            "|KD Karthik|  118|\n",
            "+----------+-----+\n",
            "\n"
          ]
        }
      ]
    },
    {
      "cell_type": "code",
      "source": [
        "method=ipl_matches.filter(ipl_matches.method=='D/L')\n",
        "method.show()\n",
        "method.count()"
      ],
      "metadata": {
        "colab": {
          "base_uri": "https://localhost:8080/"
        },
        "id": "dnyVnVqeEwDd",
        "outputId": "8f004cf1-2aa4-4c60-f55e-3cdff12f0fa0"
      },
      "execution_count": null,
      "outputs": [
        {
          "output_type": "stream",
          "name": "stdout",
          "text": [
            "+--------+----------+----------------+--------+-------------+--------------------+--------------------+--------------------+-------------+--------------------+-------+-------------+----------+------+--------------------+---------------+\n",
            "|match_id|      date| player_of_match|venue_id|neutral_venue|               team1|               team2|         toss_winner|toss_decision|              winner| result|result_margin|eliminator|method|             umpire1|        umpire2|\n",
            "+--------+----------+----------------+--------+-------------+--------------------+--------------------+--------------------+-------------+--------------------+-------+-------------+----------+------+--------------------+---------------+\n",
            "|  336022|2008-05-17|DPMD Jayawardene|      27|            0|    Delhi Daredevils|     Kings XI Punjab|    Delhi Daredevils|          bat|     Kings XI Punjab|   runs|            6|         N|   D/L|      AV Jayaprakash|    RE Koertzen|\n",
            "|  336025|2008-05-18|         M Ntini|      15|            0|Kolkata Knight Ri...| Chennai Super Kings|Kolkata Knight Ri...|          bat| Chennai Super Kings|   runs|            3|         N|   D/L|           Asad Rauf|    K Hariharan|\n",
            "|  392183|2009-04-19|      DL Vettori|      33|            1|    Delhi Daredevils|     Kings XI Punjab|    Delhi Daredevils|        field|    Delhi Daredevils|wickets|           10|         N|   D/L|           MR Benson|      SD Ranade|\n",
            "|  392186|2009-04-21|        CH Gayle|      24|            1|     Kings XI Punjab|Kolkata Knight Ri...|Kolkata Knight Ri...|        field|Kolkata Knight Ri...|   runs|           11|         N|   D/L|           DJ Harper|      SD Ranade|\n",
            "|  392214|2009-05-07|       ML Hayden|      32|            1| Chennai Super Kings|     Kings XI Punjab| Chennai Super Kings|          bat| Chennai Super Kings|   runs|           12|         N|   D/L|           DJ Harper| TH Wijewardene|\n",
            "|  501215|2011-04-18|     BB McCullum|      16|            0|Kochi Tuskers Kerala| Chennai Super Kings|Kochi Tuskers Kerala|        field|Kochi Tuskers Kerala|wickets|            7|         N|   D/L|         K Hariharan|        AL Hill|\n",
            "|  501245|2011-05-07|   Iqbal Abdulla|      15|            0|Kolkata Knight Ri...| Chennai Super Kings| Chennai Super Kings|          bat|Kolkata Knight Ri...|   runs|           10|         N|   D/L|           Asad Rauf|     PR Reiffel|\n",
            "|  501255|2011-05-14|        CH Gayle|      35|            0|Royal Challengers...|Kolkata Knight Ri...|Royal Challengers...|        field|Royal Challengers...|wickets|            4|         N|   D/L|         RE Koertzen|      RB Tiffin|\n",
            "|  733993|2014-05-10|        DW Steyn|      27|            0|    Delhi Daredevils| Sunrisers Hyderabad| Sunrisers Hyderabad|        field| Sunrisers Hyderabad|wickets|            8|         N|   D/L|        RM Deshpande|   BNJ Oxenford|\n",
            "|  829743|2015-04-22|       DA Warner|       1|            0| Sunrisers Hyderabad|Kolkata Knight Ri...|Kolkata Knight Ri...|        field| Sunrisers Hyderabad|   runs|           16|         N|   D/L|      RK Illingworth|    VA Kulkarni|\n",
            "|  829807|2015-05-15|         V Kohli|      22|            0| Sunrisers Hyderabad|Royal Challengers...| Sunrisers Hyderabad|          bat|Royal Challengers...|wickets|            6|         N|   D/L|        AK Chaudhary|HDPK Dharmasena|\n",
            "|  980989|2016-05-14|       YK Pathan|      15|            0|Kolkata Knight Ri...|Rising Pune Super...|Rising Pune Super...|          bat|Kolkata Knight Ri...|wickets|            8|         N|   D/L|      A Nand Kishore|   BNJ Oxenford|\n",
            "|  980943|2016-04-26|        AB Dinda|      22|            0| Sunrisers Hyderabad|Rising Pune Super...|Rising Pune Super...|        field|Rising Pune Super...|   runs|           34|         N|   D/L|         AY Dandekar|      CK Nandan|\n",
            "|  980997|2016-05-17|        AB Dinda|       1|            0|Rising Pune Super...|    Delhi Daredevils|Rising Pune Super...|        field|Rising Pune Super...|   runs|           19|         N|   D/L|         Nitin Menon|  C Shamshuddin|\n",
            "|  980999|2016-05-18|         V Kohli|      35|            0|Royal Challengers...|     Kings XI Punjab|     Kings XI Punjab|        field|Royal Challengers...|   runs|           82|         N|   D/L|KN Ananthapadmana...|      M Erasmus|\n",
            "| 1136566|2018-04-11|       SV Samson|      20|            0|    Rajasthan Royals|    Delhi Daredevils|    Delhi Daredevils|        field|    Rajasthan Royals|   runs|           10|         N|   D/L|KN Ananthapadmana...|    Nitin Menon|\n",
            "| 1082648|2017-05-17| NM Coulter-Nile|      35|            0| Sunrisers Hyderabad|Kolkata Knight Ri...|Kolkata Knight Ri...|        field|Kolkata Knight Ri...|wickets|            7|         N|   D/L|        AK Chaudhary|    Nitin Menon|\n",
            "| 1136578|2018-04-21|        KL Rahul|      15|            0|Kolkata Knight Ri...|     Kings XI Punjab|     Kings XI Punjab|        field|     Kings XI Punjab|wickets|            9|         N|   D/L|       C Shamshuddin|     A Deshmukh|\n",
            "| 1136592|2018-05-02|         RR Pant|      27|            0|    Delhi Daredevils|    Rajasthan Royals|    Rajasthan Royals|        field|    Delhi Daredevils|   runs|            4|         N|   D/L|           VK Sharma|      CK Nandan|\n",
            "+--------+----------+----------------+--------+-------------+--------------------+--------------------+--------------------+-------------+--------------------+-------+-------------+----------+------+--------------------+---------------+\n",
            "\n"
          ]
        },
        {
          "output_type": "execute_result",
          "data": {
            "text/plain": [
              "19"
            ]
          },
          "metadata": {},
          "execution_count": 23
        }
      ]
    },
    {
      "cell_type": "code",
      "source": [
        "distinct_column_vals = ipl_ball_by_ball.select('dismissal_kind').distinct().collect()\n",
        "distinct_column_vals"
      ],
      "metadata": {
        "colab": {
          "base_uri": "https://localhost:8080/"
        },
        "id": "68GueBP__Oef",
        "outputId": "59f71a47-54ae-49d6-da3c-d702c5cb2911"
      },
      "execution_count": null,
      "outputs": [
        {
          "output_type": "execute_result",
          "data": {
            "text/plain": [
              "[Row(dismissal_kind='stumped'),\n",
              " Row(dismissal_kind='hit wicket'),\n",
              " Row(dismissal_kind='NA'),\n",
              " Row(dismissal_kind='bowled'),\n",
              " Row(dismissal_kind='lbw'),\n",
              " Row(dismissal_kind='obstructing the field'),\n",
              " Row(dismissal_kind='caught and bowled'),\n",
              " Row(dismissal_kind='retired hurt'),\n",
              " Row(dismissal_kind='caught'),\n",
              " Row(dismissal_kind='run out')]"
            ]
          },
          "metadata": {},
          "execution_count": 24
        }
      ]
    },
    {
      "cell_type": "code",
      "source": [
        "highest_wicket_taker=ipl_ball_by_ball.join(method,ipl_ball_by_ball.match_id== method.match_id,\"inner\")\\\n",
        ".filter((ipl_ball_by_ball.dismissal_kind!=\"NA\")&(ipl_ball_by_ball.dismissal_kind!=\"retired hurt\"))\\\n",
        ".groupBy(\"bowler\").count().sort('count',ascending=False).limit(1)\n",
        "highest_wicket_taker.show()"
      ],
      "metadata": {
        "colab": {
          "base_uri": "https://localhost:8080/"
        },
        "id": "sxlXcgwV062D",
        "outputId": "44430220-c745-4ddc-8bda-d578f4a0fc25"
      },
      "execution_count": null,
      "outputs": [
        {
          "output_type": "stream",
          "name": "stdout",
          "text": [
            "+--------+-----+\n",
            "|  bowler|count|\n",
            "+--------+-----+\n",
            "|R Ashwin|    8|\n",
            "+--------+-----+\n",
            "\n"
          ]
        }
      ]
    },
    {
      "cell_type": "code",
      "source": [
        "e=ipl_ball_by_ball.filter(ipl_ball_by_ball[\"overs\"]>=7)\\\n",
        ".filter((ipl_ball_by_ball.extras_type!='noballs') & (ipl_ball_by_ball.extras_type!='wides'))\n",
        "e.show()\n",
        "e.count()\n"
      ],
      "metadata": {
        "colab": {
          "base_uri": "https://localhost:8080/"
        },
        "id": "O97lXsVvwWdj",
        "outputId": "1c946ec8-c31c-46a7-9249-cd65a7c36ca0"
      },
      "execution_count": null,
      "outputs": [
        {
          "output_type": "stream",
          "name": "stdout",
          "text": [
            "+--------+------+-----+----+-------------+-------------+------------+------------+----------+----------+------------+---------+--------------+----------------+-------+-----------+--------------------+---------------+\n",
            "|match_id|inning|overs|ball|      batsman|  non_striker|      bowler|batsman_runs|extra_runs|total_runs|non_boundary|is_wicket|dismissal_kind|player_dismissed|fielder|extras_type|        batting_team|   bowling_team|\n",
            "+--------+------+-----+----+-------------+-------------+------------+------------+----------+----------+------------+---------+--------------+----------------+-------+-----------+--------------------+---------------+\n",
            "|  419157|     2|   16|   4|      V Kohli|R Vinay Kumar|CRD Fernando|           0|         0|         0|           0|        0|            NA|              NA|     NA|         NA|Royal Challengers...| Mumbai Indians|\n",
            "|  419157|     2|   16|   5|      V Kohli|R Vinay Kumar|CRD Fernando|           1|         0|         1|           0|        0|            NA|              NA|     NA|         NA|Royal Challengers...| Mumbai Indians|\n",
            "|  419157|     2|   16|   6|R Vinay Kumar|      V Kohli|CRD Fernando|           1|         0|         1|           0|        0|            NA|              NA|     NA|         NA|Royal Challengers...| Mumbai Indians|\n",
            "|  419157|     2|   17|   1|R Vinay Kumar|      V Kohli|   R McLaren|           1|         0|         1|           0|        0|            NA|              NA|     NA|         NA|Royal Challengers...| Mumbai Indians|\n",
            "|  419157|     2|   17|   2|      V Kohli|R Vinay Kumar|   R McLaren|           1|         0|         1|           0|        0|            NA|              NA|     NA|         NA|Royal Challengers...| Mumbai Indians|\n",
            "|  419157|     2|   17|   3|R Vinay Kumar|      V Kohli|   R McLaren|           0|         0|         0|           0|        0|            NA|              NA|     NA|         NA|Royal Challengers...| Mumbai Indians|\n",
            "|  419157|     2|   17|   4|R Vinay Kumar|      V Kohli|   R McLaren|           0|         0|         0|           0|        0|            NA|              NA|     NA|         NA|Royal Challengers...| Mumbai Indians|\n",
            "|  419157|     2|   17|   5|R Vinay Kumar|      V Kohli|   R McLaren|           1|         0|         1|           0|        0|            NA|              NA|     NA|         NA|Royal Challengers...| Mumbai Indians|\n",
            "|  419157|     2|   17|   6|      V Kohli|R Vinay Kumar|   R McLaren|           1|         0|         1|           0|        0|            NA|              NA|     NA|         NA|Royal Challengers...| Mumbai Indians|\n",
            "|  419157|     2|   18|   1|      V Kohli|R Vinay Kumar|  KA Pollard|           4|         0|         4|           0|        0|            NA|              NA|     NA|         NA|Royal Challengers...| Mumbai Indians|\n",
            "|  419157|     2|   18|   2|      V Kohli|R Vinay Kumar|  KA Pollard|           0|         0|         0|           0|        1|        caught|         V Kohli|AP Tare|         NA|Royal Challengers...| Mumbai Indians|\n",
            "|  419157|     2|   18|   4|R Vinay Kumar| Pankaj Singh|  KA Pollard|           1|         0|         1|           0|        0|            NA|              NA|     NA|         NA|Royal Challengers...| Mumbai Indians|\n",
            "|  419157|     2|   18|   5| Pankaj Singh|R Vinay Kumar|  KA Pollard|           1|         0|         1|           0|        0|            NA|              NA|     NA|         NA|Royal Challengers...| Mumbai Indians|\n",
            "|  419157|     2|   18|   6|R Vinay Kumar| Pankaj Singh|  KA Pollard|           1|         0|         1|           0|        0|            NA|              NA|     NA|         NA|Royal Challengers...| Mumbai Indians|\n",
            "|  419157|     2|   18|   7| Pankaj Singh|R Vinay Kumar|  KA Pollard|           0|         0|         0|           0|        1|        caught|    Pankaj Singh| Z Khan|         NA|Royal Challengers...| Mumbai Indians|\n",
            "|  419157|     2|   19|   1|     A Kumble|R Vinay Kumar|   R McLaren|           0|         0|         0|           0|        0|            NA|              NA|     NA|         NA|Royal Challengers...| Mumbai Indians|\n",
            "|  336007|     1|    9|   2|     MS Dhoni|     SK Raina|   SB Bangar|           0|         0|         0|           0|        0|            NA|              NA|     NA|         NA| Chennai Super Kings|Deccan Chargers|\n",
            "|  336007|     1|    9|   3|     MS Dhoni|     SK Raina|   SB Bangar|           2|         0|         2|           0|        0|            NA|              NA|     NA|         NA| Chennai Super Kings|Deccan Chargers|\n",
            "|  336007|     1|    9|   4|     MS Dhoni|     SK Raina|   SB Bangar|           2|         0|         2|           0|        0|            NA|              NA|     NA|         NA| Chennai Super Kings|Deccan Chargers|\n",
            "|  336007|     1|    9|   5|     MS Dhoni|     SK Raina|   SB Bangar|           0|         0|         0|           0|        0|            NA|              NA|     NA|         NA| Chennai Super Kings|Deccan Chargers|\n",
            "+--------+------+-----+----+-------------+-------------+------------+------------+----------+----------+------------+---------+--------------+----------------+-------+-----------+--------------------+---------------+\n",
            "only showing top 20 rows\n",
            "\n"
          ]
        },
        {
          "output_type": "execute_result",
          "data": {
            "text/plain": [
              "118532"
            ]
          },
          "metadata": {},
          "execution_count": 26
        }
      ]
    },
    {
      "cell_type": "code",
      "source": [
        "ball_face=e.groupBy(\"batsman\").count()\n",
        "ball_face=ball_face.withColumnRenamed(\"count\",\"No_of_ball_faced\")\n",
        "ball_face.show()"
      ],
      "metadata": {
        "colab": {
          "base_uri": "https://localhost:8080/"
        },
        "id": "b8a1OULf_CAO",
        "outputId": "91ea5ac3-b399-4d47-c347-196fde61003c"
      },
      "execution_count": null,
      "outputs": [
        {
          "output_type": "stream",
          "name": "stdout",
          "text": [
            "+---------------+----------------+\n",
            "|        batsman|No_of_ball_faced|\n",
            "+---------------+----------------+\n",
            "|  Kuldeep Yadav|              75|\n",
            "|     TM Dilshan|             498|\n",
            "|     S Anirudha|              81|\n",
            "|     KA Pollard|            1929|\n",
            "|        J Botha|             287|\n",
            "| M Muralitharan|              29|\n",
            "|  LA Carseldine|              27|\n",
            "|    SS Cottrell|               2|\n",
            "|      CA Ingram|             152|\n",
            "|       DR Smith|             663|\n",
            "|       M Manhas|             398|\n",
            "|     A Flintoff|              39|\n",
            "|      GR Napier|              16|\n",
            "|       AR Patel|             675|\n",
            "|       SA Yadav|             976|\n",
            "|          B Lee|              96|\n",
            "|    BMAJ Mendis|              20|\n",
            "|       A Mukund|               4|\n",
            "|     D du Preez|              13|\n",
            "|NM Coulter-Nile|              65|\n",
            "+---------------+----------------+\n",
            "only showing top 20 rows\n",
            "\n"
          ]
        }
      ]
    },
    {
      "cell_type": "code",
      "source": [
        "l=e.groupBy('batsman').sum()\n",
        "addcolumn=l.join(ball_face,l.batsman==ball_face.batsman,\"inner\").drop(ball_face.batsman).filter(ball_face[\"No_of_ball_faced\"]>1000)\\\n",
        ".sort(\"sum(batsman_runs)\",ascending=False)\n",
        "addcolumn.show()\n",
        "addcolumn.count()"
      ],
      "metadata": {
        "colab": {
          "base_uri": "https://localhost:8080/"
        },
        "id": "kvQwy_q9-295",
        "outputId": "ffb34baa-f698-4743-87dc-db5612c3f3c9"
      },
      "execution_count": null,
      "outputs": [
        {
          "output_type": "stream",
          "name": "stdout",
          "text": [
            "+-------------+-----------+----------+---------+-----------------+---------------+---------------+-----------------+--------------+--------------+----------------+\n",
            "|sum(match_id)|sum(inning)|sum(overs)|sum(ball)|sum(batsman_runs)|sum(extra_runs)|sum(total_runs)|sum(non_boundary)|sum(is_wicket)|       batsman|No_of_ball_faced|\n",
            "+-------------+-----------+----------+---------+-----------------+---------------+---------------+-----------------+--------------+--------------+----------------+\n",
            "|   2445212810|       4649|     45497|    11863|             4512|             88|           4600|                0|           123|      MS Dhoni|            3242|\n",
            "|   1925845852|       3392|     29632|     8560|             3894|             57|           3951|                0|            86|AB de Villiers|            2402|\n",
            "|   2107796227|       3937|     31889|     9372|             3880|             28|           3908|                1|           111|       V Kohli|            2708|\n",
            "|   1918945071|       4032|     33851|     9739|             3841|             37|           3878|                1|           128|     RG Sharma|            2770|\n",
            "|   1759765865|       3466|     28155|     8669|             3510|             44|           3554|                0|           112|      SK Raina|            2471|\n",
            "|   1842226748|       3391|     29105|     8421|             3239|             51|           3290|                0|           136|    KD Karthik|            2371|\n",
            "|   1593614039|       2711|     27707|     7225|             2942|             51|           2993|                0|           105|    KA Pollard|            1929|\n",
            "|   1679337141|       3099|     24906|     7192|             2746|             37|           2783|                0|            98|     AT Rayudu|            2040|\n",
            "|   1333434730|       2940|     24653|     6985|             2738|             37|           2775|                1|            95|     YK Pathan|            1910|\n",
            "|   1249773518|       2711|     22750|     6777|             2479|             29|           2508|                0|            95|  Yuvraj Singh|            1845|\n",
            "|   1279530919|       2785|     19862|     6389|             2453|             50|           2503|                0|           102|    RV Uthappa|            1790|\n",
            "|   1413687511|       2298|     18016|     5622|             2411|             38|           2449|                0|            65|     DA Warner|            1615|\n",
            "|   1392003004|       2346|     18755|     5954|             2246|             31|           2277|                0|            64|      S Dhawan|            1682|\n",
            "|   1020482222|       2135|     15361|     5010|             2210|             18|           2228|                0|            74|     SR Watson|            1363|\n",
            "|    978437074|       1801|     14490|     4601|             2205|             49|           2254|                0|            48|      CH Gayle|            1276|\n",
            "|   1509268792|       2455|     19223|     5771|             2087|             28|           2115|                0|            77|     MK Pandey|            1641|\n",
            "|   1188243535|       2383|     22358|     5812|             2074|             42|           2116|                0|            85|     RA Jadeja|            1613|\n",
            "|   1078922871|       2038|     15750|     4666|             1780|             23|           1803|                0|            55|     AM Rahane|            1356|\n",
            "|   1015865852|       1887|     15615|     4441|             1732|             51|           1783|                0|            50|     DA Miller|            1219|\n",
            "|    844945594|       1780|     17478|     4735|             1728|             31|           1759|                0|            41|     JP Duminy|            1328|\n",
            "+-------------+-----------+----------+---------+-----------------+---------------+---------------+-----------------+--------------+--------------+----------------+\n",
            "only showing top 20 rows\n",
            "\n"
          ]
        },
        {
          "output_type": "execute_result",
          "data": {
            "text/plain": [
              "27"
            ]
          },
          "metadata": {},
          "execution_count": 28
        }
      ]
    },
    {
      "cell_type": "code",
      "source": [
        "strike_rate =addcolumn.withColumn('Strike_rate', \\\n",
        "                                        100*((addcolumn['sum(batsman_runs)'])/(addcolumn['No_of_ball_faced'])))\\\n",
        "                                        .sort(\"Strike_rate\",ascending=False).limit(1).select(\"batsman\",\"Strike_rate\")\n",
        "strike_rate.show()"
      ],
      "metadata": {
        "colab": {
          "base_uri": "https://localhost:8080/"
        },
        "id": "Qqw_55Km0Z75",
        "outputId": "55eab128-e7ae-4bfd-8783-9b4c8659e550"
      },
      "execution_count": null,
      "outputs": [
        {
          "output_type": "stream",
          "name": "stdout",
          "text": [
            "+--------+------------------+\n",
            "| batsman|       Strike_rate|\n",
            "+--------+------------------+\n",
            "|CH Gayle|172.80564263322884|\n",
            "+--------+------------------+\n",
            "\n"
          ]
        }
      ]
    },
    {
      "cell_type": "code",
      "source": [
        "k=ipl_ball_by_ball.groupBy('match_id').sum().select(\"match_id\",\"sum(extra_runs)\").sort(\"sum(extra_runs)\",ascending=False).limit(1)\n",
        "id=k.first()['match_id']"
      ],
      "metadata": {
        "id": "3_vbIh8oDo-q"
      },
      "execution_count": null,
      "outputs": []
    },
    {
      "cell_type": "code",
      "source": [
        "v=ipl_matches.filter(ipl_matches.match_id==id)\n",
        "id1=v.first()['venue_id']"
      ],
      "metadata": {
        "id": "qzmyQmKiFMlo"
      },
      "execution_count": null,
      "outputs": []
    },
    {
      "cell_type": "code",
      "source": [
        "highestextraruns=ipl_venue.where(ipl_venue.venue_id==id1)\n",
        "highestextraruns.show()"
      ],
      "metadata": {
        "colab": {
          "base_uri": "https://localhost:8080/"
        },
        "id": "tQE8fN3SGLQ6",
        "outputId": "65a56637-10ab-4dcf-a27b-e0808c35e3d9"
      },
      "execution_count": null,
      "outputs": [
        {
          "output_type": "stream",
          "name": "stdout",
          "text": [
            "+--------+------------+-------+\n",
            "|venue_id|       venue|   city|\n",
            "+--------+------------+-------+\n",
            "|      15|Eden Gardens|Kolkata|\n",
            "+--------+------------+-------+\n",
            "\n"
          ]
        }
      ]
    },
    {
      "cell_type": "code",
      "source": [
        "ipl_matches.count()"
      ],
      "metadata": {
        "colab": {
          "base_uri": "https://localhost:8080/"
        },
        "id": "nP3mNIzE17ZN",
        "outputId": "0c445d23-543e-40b3-956f-71fb7bb0fd9a"
      },
      "execution_count": null,
      "outputs": [
        {
          "output_type": "execute_result",
          "data": {
            "text/plain": [
              "816"
            ]
          },
          "metadata": {},
          "execution_count": 33
        }
      ]
    },
    {
      "cell_type": "code",
      "source": [
        "ipl_matches.select(\"neutral_venue\").distinct().collect()"
      ],
      "metadata": {
        "colab": {
          "base_uri": "https://localhost:8080/"
        },
        "id": "l82J562v0Yed",
        "outputId": "22c5827f-5ba6-4a9c-8728-4afcc1c08d8e"
      },
      "execution_count": null,
      "outputs": [
        {
          "output_type": "execute_result",
          "data": {
            "text/plain": [
              "[Row(neutral_venue=1), Row(neutral_venue=0)]"
            ]
          },
          "metadata": {},
          "execution_count": 34
        }
      ]
    },
    {
      "cell_type": "code",
      "source": [
        "neutral=ipl_matches.filter(ipl_matches.neutral_venue==1).groupBy(\"player_of_match\").count().sort(\"count\",ascending=False).limit(5)\n",
        "neutral.show()"
      ],
      "metadata": {
        "colab": {
          "base_uri": "https://localhost:8080/"
        },
        "id": "UFqIdylV1UWG",
        "outputId": "6f57a9df-0c6c-4b46-f670-8bd5673c70ef"
      },
      "execution_count": null,
      "outputs": [
        {
          "output_type": "stream",
          "name": "stdout",
          "text": [
            "+---------------+-----+\n",
            "|player_of_match|count|\n",
            "+---------------+-----+\n",
            "|      YK Pathan|    3|\n",
            "|     GJ Maxwell|    3|\n",
            "|      JH Kallis|    3|\n",
            "|      JP Duminy|    3|\n",
            "|  KC Sangakkara|    2|\n",
            "+---------------+-----+\n",
            "\n"
          ]
        }
      ]
    },
    {
      "cell_type": "code",
      "source": [
        "no_of=ipl_ball_by_ball.filter(ipl_ball_by_ball[\"player_dismissed\"]!=\"NA\").groupBy('batsman').count()\n",
        "no_of.show()"
      ],
      "metadata": {
        "colab": {
          "base_uri": "https://localhost:8080/"
        },
        "id": "9oQFzDR_Q2uC",
        "outputId": "4f3f9086-3073-431b-f128-85b99324b0f6"
      },
      "execution_count": null,
      "outputs": [
        {
          "output_type": "stream",
          "name": "stdout",
          "text": [
            "+---------------+-----+\n",
            "|        batsman|count|\n",
            "+---------------+-----+\n",
            "|     TM Dilshan|   41|\n",
            "|     S Anirudha|    8|\n",
            "|  Kuldeep Yadav|    4|\n",
            "|     KA Pollard|  106|\n",
            "|        J Botha|   22|\n",
            "|  LA Carseldine|    3|\n",
            "| M Muralitharan|    6|\n",
            "|    SS Cottrell|    1|\n",
            "|      CA Ingram|   12|\n",
            "|       DR Smith|   81|\n",
            "|       M Manhas|   24|\n",
            "|     A Flintoff|    2|\n",
            "|      GR Napier|    1|\n",
            "|       SA Yadav|   65|\n",
            "|       AR Patel|   51|\n",
            "|          B Lee|   10|\n",
            "|    BMAJ Mendis|    3|\n",
            "|       A Mukund|    2|\n",
            "|     D du Preez|    1|\n",
            "|NM Coulter-Nile|    8|\n",
            "+---------------+-----+\n",
            "only showing top 20 rows\n",
            "\n"
          ]
        }
      ]
    },
    {
      "cell_type": "code",
      "source": [
        "batsman_runs=ipl_ball_by_ball.groupBy(\"batsman\").sum()\n",
        "batsman_runs=batsman_runs.join(no_of,batsman_runs.batsman==no_of.batsman,\"inner\").drop(no_of.batsman)\\\n",
        ".filter(batsman_runs[\"sum(batsman_runs)\"]>2000).sort(\"sum(batsman_runs)\",ascending=False)\n",
        "batsman_runs.show()\n",
        "batsman_runs.count()"
      ],
      "metadata": {
        "colab": {
          "base_uri": "https://localhost:8080/"
        },
        "id": "RnlA9h2B9upy",
        "outputId": "3d1d3cdc-2294-43cf-a483-238872e50bf1"
      },
      "execution_count": null,
      "outputs": [
        {
          "output_type": "stream",
          "name": "stdout",
          "text": [
            "+-------------+-----------+----------+---------+-----------------+---------------+---------------+-----------------+--------------+--------------+-----+\n",
            "|sum(match_id)|sum(inning)|sum(overs)|sum(ball)|sum(batsman_runs)|sum(extra_runs)|sum(total_runs)|sum(non_boundary)|sum(is_wicket)|       batsman|count|\n",
            "+-------------+-----------+----------+---------+-----------------+---------------+---------------+-----------------+--------------+--------------+-----+\n",
            "|   3719605062|       6738|     38763|    16161|             5878|            203|           6081|                2|           163|       V Kohli|  163|\n",
            "|   2927570409|       5746|     34807|    14665|             5368|            236|           5604|                0|           160|      SK Raina|  160|\n",
            "|   3317091772|       5569|     24079|    13410|             5254|            268|           5522|                0|           126|     DA Warner|  126|\n",
            "|   3075130460|       5906|     38747|    14441|             5230|            164|           5394|                1|           177|     RG Sharma|  177|\n",
            "|   3507304622|       5926|     25970|    14926|             5197|            255|           5452|                1|           152|      S Dhawan|  152|\n",
            "|   2644503976|       4661|     33813|    11847|             4849|            167|           5016|                0|           114|AB de Villiers|  114|\n",
            "|   2602674868|       4847|     20561|    12124|             4772|            331|           5103|                1|           116|      CH Gayle|  116|\n",
            "|   2655394847|       5029|     47965|    12871|             4632|            223|           4855|                0|           126|      MS Dhoni|  126|\n",
            "|   2758810425|       5741|     26019|    12936|             4607|            271|           4878|                0|           169|    RV Uthappa|  169|\n",
            "|   2367607772|       5640|     20573|    12619|             4217|            262|           4479|                0|           135|     G Gambhir|  135|\n",
            "|   2780594428|       4986|     21103|    11457|             3933|            171|           4104|                0|           125|     AM Rahane|  125|\n",
            "|   2310167261|       4460|     20107|    10556|             3874|            162|           4036|                0|           125|     SR Watson|  125|\n",
            "|   2330092212|       4350|     32464|    10939|             3823|            173|           3996|                0|           152|    KD Karthik|  152|\n",
            "|   2492782214|       4596|     29020|    10673|             3659|            139|           3798|                0|           123|     AT Rayudu|  123|\n",
            "|   2387706682|       4247|     23615|     9966|             3268|            150|           3418|                0|           109|     MK Pandey|  109|\n",
            "|   1599638697|       3623|     27032|     8589|             3204|            163|           3367|                1|           111|     YK Pathan|  111|\n",
            "|   1756607026|       3000|     29610|     7899|             3023|            165|           3188|                0|           106|    KA Pollard|  106|\n",
            "|   1591424501|       3206|     12504|     8070|             2880|            219|           3099|                0|           106|   BB McCullum|  106|\n",
            "|   1821738632|       3698|     11305|     8608|             2848|            193|           3041|                0|           127|      PA Patel|  127|\n",
            "|   1478273737|       3279|     25077|     8155|             2750|            130|           2880|                0|           109|  Yuvraj Singh|  109|\n",
            "+-------------+-----------+----------+---------+-----------------+---------------+---------------+-----------------+--------------+--------------+-----+\n",
            "only showing top 20 rows\n",
            "\n"
          ]
        },
        {
          "output_type": "execute_result",
          "data": {
            "text/plain": [
              "38"
            ]
          },
          "metadata": {},
          "execution_count": 37
        }
      ]
    },
    {
      "cell_type": "code",
      "source": [
        "bat_avg =batsman_runs.withColumn('bat_avg',((batsman_runs['sum(batsman_runs)'])/(batsman_runs['count']))).sort('bat_avg',ascending=False)\n",
        "top10=bat_avg.select(\"batsman\",\"bat_avg\").limit(10)\n",
        "top10.show()"
      ],
      "metadata": {
        "colab": {
          "base_uri": "https://localhost:8080/"
        },
        "id": "8XzeBvJW-Joi",
        "outputId": "58dd8d65-3185-4bc1-ab42-3d9eb1b1f3a5"
      },
      "execution_count": null,
      "outputs": [
        {
          "output_type": "stream",
          "name": "stdout",
          "text": [
            "+--------------+------------------+\n",
            "|       batsman|           bat_avg|\n",
            "+--------------+------------------+\n",
            "|      KL Rahul|42.693548387096776|\n",
            "|AB de Villiers| 42.53508771929825|\n",
            "|     DA Warner|41.698412698412696|\n",
            "|     JP Duminy| 41.40816326530612|\n",
            "|      CH Gayle| 41.13793103448276|\n",
            "|      SE Marsh|         38.703125|\n",
            "|      MS Dhoni| 36.76190476190476|\n",
            "|       V Kohli|36.061349693251536|\n",
            "|       RR Pant| 35.23728813559322|\n",
            "|  F du Plessis| 34.35820895522388|\n",
            "+--------------+------------------+\n",
            "\n"
          ]
        }
      ]
    },
    {
      "cell_type": "code",
      "source": [
        "ipl_matches.show()"
      ],
      "metadata": {
        "colab": {
          "base_uri": "https://localhost:8080/"
        },
        "id": "LTtHkdikEuXW",
        "outputId": "6fac48ab-6c8a-4ba9-ed30-8e2603ddc95d"
      },
      "execution_count": null,
      "outputs": [
        {
          "output_type": "stream",
          "name": "stdout",
          "text": [
            "+--------+----------+---------------+--------+-------------+--------------------+--------------------+--------------------+-------------+--------------------+-------+-------------+----------+------+-----------+--------------+\n",
            "|match_id|      date|player_of_match|venue_id|neutral_venue|               team1|               team2|         toss_winner|toss_decision|              winner| result|result_margin|eliminator|method|    umpire1|       umpire2|\n",
            "+--------+----------+---------------+--------+-------------+--------------------+--------------------+--------------------+-------------+--------------------+-------+-------------+----------+------+-----------+--------------+\n",
            "|  335982|2008-04-18|    BB McCullum|      35|            0|Royal Challengers...|Kolkata Knight Ri...|Royal Challengers...|        field|Kolkata Knight Ri...|   runs|          140|         N|    NA|  Asad Rauf|   RE Koertzen|\n",
            "|  335983|2008-04-19|     MEK Hussey|      31|            0|     Kings XI Punjab| Chennai Super Kings| Chennai Super Kings|          bat| Chennai Super Kings|   runs|           33|         N|    NA|  MR Benson|    SL Shastri|\n",
            "|  335984|2008-04-19|    MF Maharoof|      27|            0|    Delhi Daredevils|    Rajasthan Royals|    Rajasthan Royals|          bat|    Delhi Daredevils|wickets|            9|         N|    NA|  Aleem Dar|GA Pratapkumar|\n",
            "|  335985|2008-04-20|     MV Boucher|      14|            0|      Mumbai Indians|Royal Challengers...|      Mumbai Indians|          bat|Royal Challengers...|wickets|            5|         N|    NA|   SJ Davis|     DJ Harper|\n",
            "|  335986|2008-04-20|      DJ Hussey|      15|            0|Kolkata Knight Ri...|     Deccan Chargers|     Deccan Chargers|          bat|Kolkata Knight Ri...|wickets|            5|         N|    NA|  BF Bowden|   K Hariharan|\n",
            "|  335987|2008-04-21|      SR Watson|      20|            0|    Rajasthan Royals|     Kings XI Punjab|     Kings XI Punjab|          bat|    Rajasthan Royals|wickets|            6|         N|    NA|  Aleem Dar|     RB Tiffin|\n",
            "|  335988|2008-04-22|       V Sehwag|      22|            0|     Deccan Chargers|    Delhi Daredevils|     Deccan Chargers|          bat|    Delhi Daredevils|wickets|            9|         N|    NA|  IL Howell|     AM Saheba|\n",
            "|  335989|2008-04-23|      ML Hayden|      29|            0| Chennai Super Kings|      Mumbai Indians|      Mumbai Indians|        field| Chennai Super Kings|   runs|            6|         N|    NA|  DJ Harper|GA Pratapkumar|\n",
            "|  335990|2008-04-24|      YK Pathan|      22|            0|     Deccan Chargers|    Rajasthan Royals|    Rajasthan Royals|        field|    Rajasthan Royals|wickets|            3|         N|    NA|  Asad Rauf|     MR Benson|\n",
            "|  335991|2008-04-25|  KC Sangakkara|      31|            0|     Kings XI Punjab|      Mumbai Indians|      Mumbai Indians|        field|     Kings XI Punjab|   runs|           66|         N|    NA|  Aleem Dar|     AM Saheba|\n",
            "|  335992|2008-04-26|      SR Watson|      35|            0|Royal Challengers...|    Rajasthan Royals|    Rajasthan Royals|        field|    Rajasthan Royals|wickets|            7|         N|    NA|  MR Benson|     IL Howell|\n",
            "|  335993|2008-04-26|       JDP Oram|      29|            0| Chennai Super Kings|Kolkata Knight Ri...|Kolkata Knight Ri...|          bat| Chennai Super Kings|wickets|            9|         N|    NA|  BF Bowden|AV Jayaprakash|\n",
            "|  335994|2008-04-27|   AC Gilchrist|      13|            0|      Mumbai Indians|     Deccan Chargers|     Deccan Chargers|        field|     Deccan Chargers|wickets|           10|         N|    NA|  Asad Rauf|    SL Shastri|\n",
            "|  335995|2008-04-27|      SM Katich|      31|            0|     Kings XI Punjab|    Delhi Daredevils|    Delhi Daredevils|          bat|     Kings XI Punjab|wickets|            4|         N|    NA|RE Koertzen|     I Shivram|\n",
            "|  335996|2008-04-28|       MS Dhoni|      35|            0|Royal Challengers...| Chennai Super Kings| Chennai Super Kings|          bat| Chennai Super Kings|   runs|           13|         N|    NA|BR Doctrove|     RB Tiffin|\n",
            "|  335997|2008-04-29|  ST Jayasuriya|      15|            0|Kolkata Knight Ri...|      Mumbai Indians|Kolkata Knight Ri...|          bat|      Mumbai Indians|wickets|            7|         N|    NA|  BF Bowden|AV Jayaprakash|\n",
            "|  335998|2008-04-30|     GD McGrath|      27|            0|    Delhi Daredevils|Royal Challengers...|Royal Challengers...|        field|    Delhi Daredevils|   runs|           10|         N|    NA|  Aleem Dar|     I Shivram|\n",
            "|  335999|2008-05-01|       SE Marsh|      22|            0|     Deccan Chargers|     Kings XI Punjab|     Kings XI Punjab|        field|     Kings XI Punjab|wickets|            7|         N|    NA|BR Doctrove|     RB Tiffin|\n",
            "|  336000|2008-05-01|    SA Asnodkar|      20|            0|    Rajasthan Royals|Kolkata Knight Ri...|    Rajasthan Royals|          bat|    Rajasthan Royals|   runs|           45|         N|    NA|RE Koertzen|GA Pratapkumar|\n",
            "|  336001|2008-05-02|       V Sehwag|      29|            0| Chennai Super Kings|    Delhi Daredevils| Chennai Super Kings|          bat|    Delhi Daredevils|wickets|            8|         N|    NA|  BF Bowden|   K Hariharan|\n",
            "+--------+----------+---------------+--------+-------------+--------------------+--------------------+--------------------+-------------+--------------------+-------+-------------+----------+------+-----------+--------------+\n",
            "only showing top 20 rows\n",
            "\n"
          ]
        }
      ]
    },
    {
      "cell_type": "code",
      "source": [
        "umpire1=ipl_matches.groupBy(\"umpire1\").count().sort(\"umpire1\",ascending=False)\n",
        "umpire2=ipl_matches.groupBy(\"umpire2\").count().sort(\"umpire2\",ascending=False)\n",
        "umpire1=umpire1.withColumnRenamed(\"count\",\"count1\")\n",
        "umpire1.show()\n",
        "umpire2.show()"
      ],
      "metadata": {
        "colab": {
          "base_uri": "https://localhost:8080/"
        },
        "id": "cMA2VOxbEOH-",
        "outputId": "373e6789-0f28-432c-998b-539ad9d70cd5"
      },
      "execution_count": null,
      "outputs": [
        {
          "output_type": "stream",
          "name": "stdout",
          "text": [
            "+--------------+------+\n",
            "|       umpire1|count1|\n",
            "+--------------+------+\n",
            "|      YC Barde|    14|\n",
            "|     VK Sharma|     6|\n",
            "|   VA Kulkarni|    19|\n",
            "|     UV Gandhe|     8|\n",
            "|     SS Hazare|    11|\n",
            "|    SL Shastri|     1|\n",
            "|   SK Tarapore|     5|\n",
            "|    SJA Taufel|     1|\n",
            "|      SJ Davis|     6|\n",
            "|        SD Fry|     5|\n",
            "|        S Ravi|    37|\n",
            "|         S Das|    10|\n",
            "|      S Asnani|    19|\n",
            "|  RM Deshpande|     7|\n",
            "|RK Illingworth|    13|\n",
            "|     RJ Tucker|     5|\n",
            "|   RE Koertzen|    20|\n",
            "|    PR Reiffel|     5|\n",
            "|     PG Pathak|     4|\n",
            "|   Nitin Menon|    20|\n",
            "+--------------+------+\n",
            "only showing top 20 rows\n",
            "\n",
            "+--------------+-----+\n",
            "|       umpire2|count|\n",
            "+--------------+-----+\n",
            "|      YC Barde|    5|\n",
            "|     VK Sharma|   20|\n",
            "|   VA Kulkarni|   31|\n",
            "|TH Wijewardene|    5|\n",
            "|   Subroto Das|    1|\n",
            "|     SS Hazare|    6|\n",
            "|    SL Shastri|   13|\n",
            "|   SK Tarapore|   26|\n",
            "|    SJA Taufel|   54|\n",
            "|      SJ Davis|    1|\n",
            "|     SD Ranade|    2|\n",
            "|        SD Fry|    1|\n",
            "|        S Ravi|   84|\n",
            "|         S Das|    5|\n",
            "|      S Asnani|   11|\n",
            "|RK Illingworth|   18|\n",
            "|     RJ Tucker|   41|\n",
            "|   RE Koertzen|   21|\n",
            "|     RB Tiffin|   30|\n",
            "|    PR Reiffel|   19|\n",
            "+--------------+-----+\n",
            "only showing top 20 rows\n",
            "\n"
          ]
        }
      ]
    },
    {
      "cell_type": "code",
      "source": [
        "ta = umpire1.alias('umpire1')\n",
        "tb = umpire2.alias('umpire2')\n",
        "full_outer_join = ta.join(tb, ta.umpire1 == tb.umpire2,how='inner').drop(tb.umpire2) # Could also use 'full_outer'\n",
        "full_outer_join.show()"
      ],
      "metadata": {
        "colab": {
          "base_uri": "https://localhost:8080/"
        },
        "id": "WfiuhasxE1je",
        "outputId": "de97e4d9-632c-4fe2-92a6-73901b745754"
      },
      "execution_count": null,
      "outputs": [
        {
          "output_type": "stream",
          "name": "stdout",
          "text": [
            "+--------------+------+--------------+-----+\n",
            "|       umpire1|count1|       umpire2|count|\n",
            "+--------------+------+--------------+-----+\n",
            "|   RE Koertzen|    20|   RE Koertzen|   21|\n",
            "|      SJ Davis|     6|      SJ Davis|    1|\n",
            "|AV Jayaprakash|     2|AV Jayaprakash|    4|\n",
            "|   BR Doctrove|    34|   BR Doctrove|    8|\n",
            "|    SL Shastri|     1|    SL Shastri|   13|\n",
            "|     PG Pathak|     4|     PG Pathak|    7|\n",
            "|     DJ Harper|     9|     DJ Harper|   18|\n",
            "|        S Ravi|    37|        S Ravi|   84|\n",
            "|     JD Cloete|    16|     JD Cloete|    1|\n",
            "|     RJ Tucker|     5|     RJ Tucker|   41|\n",
            "|         S Das|    10|         S Das|    5|\n",
            "|RK Illingworth|    13|RK Illingworth|   18|\n",
            "|  BNJ Oxenford|    16|  BNJ Oxenford|   32|\n",
            "|  AK Chaudhary|    56|  AK Chaudhary|   31|\n",
            "|   K Hariharan|    10|   K Hariharan|   11|\n",
            "|    A Deshmukh|     5|    A Deshmukh|    7|\n",
            "|     AM Saheba|     3|     AM Saheba|   23|\n",
            "|      NJ Llong|    21|      NJ Llong|   16|\n",
            "|    BG Jerling|    13|    BG Jerling|    4|\n",
            "|     CK Nandan|     8|     CK Nandan|   49|\n",
            "+--------------+------+--------------+-----+\n",
            "only showing top 20 rows\n",
            "\n"
          ]
        }
      ]
    },
    {
      "cell_type": "code",
      "source": [
        "umpirecount=full_outer_join.withColumn(\"umpire_count\",(full_outer_join[\"count\"]+full_outer_join[\"count1\"])).sort(\"umpire_count\",ascending=False).select(\"umpire1\",\"umpire_count\").limit(1)\n",
        "umpirecount.show()"
      ],
      "metadata": {
        "colab": {
          "base_uri": "https://localhost:8080/"
        },
        "id": "sVq_syeXE1Vm",
        "outputId": "f932b44a-6eda-4384-c482-64d4c16ee967"
      },
      "execution_count": null,
      "outputs": [
        {
          "output_type": "stream",
          "name": "stdout",
          "text": [
            "+-------+------------+\n",
            "|umpire1|umpire_count|\n",
            "+-------+------------+\n",
            "| S Ravi|         121|\n",
            "+-------+------------+\n",
            "\n"
          ]
        }
      ]
    },
    {
      "cell_type": "code",
      "source": [
        "virat=ipl_ball_by_ball.filter(ipl_ball_by_ball.batsman==\"V Kohli\").groupBy(\"match_id\").sum().sort(\"sum(batsman_runs)\",ascending=False)\n",
        "matid=virat.collect()[0][\"match_id\"]\n",
        "matid"
      ],
      "metadata": {
        "id": "2zXf2XEOE1Gg",
        "colab": {
          "base_uri": "https://localhost:8080/"
        },
        "outputId": "f7563f3f-1934-4927-c23c-8950250059fb"
      },
      "execution_count": null,
      "outputs": [
        {
          "output_type": "execute_result",
          "data": {
            "text/plain": [
              "980999"
            ]
          },
          "metadata": {},
          "execution_count": 43
        }
      ]
    },
    {
      "cell_type": "code",
      "source": [
        "Vkohli_match=ipl_matches.filter(ipl_matches[\"match_id\"]==matid)\n",
        "venid=Vkohli_match.collect()[0][\"venue_id\"]\n",
        "venid"
      ],
      "metadata": {
        "colab": {
          "base_uri": "https://localhost:8080/"
        },
        "id": "526usbhN4jgq",
        "outputId": "9ff0ac1e-a20f-44a5-982e-8b3429d4928f"
      },
      "execution_count": null,
      "outputs": [
        {
          "output_type": "execute_result",
          "data": {
            "text/plain": [
              "35"
            ]
          },
          "metadata": {},
          "execution_count": 44
        }
      ]
    },
    {
      "cell_type": "code",
      "source": [
        "Vkohli=ipl_venue.filter(ipl_venue[\"venue_id\"]==venid)\n",
        "Vkohli.show()"
      ],
      "metadata": {
        "colab": {
          "base_uri": "https://localhost:8080/"
        },
        "id": "MjL0TLsi8Iv1",
        "outputId": "80132bb3-5fd4-4ea5-9e9b-79ae0c49bf46"
      },
      "execution_count": null,
      "outputs": [
        {
          "output_type": "stream",
          "name": "stdout",
          "text": [
            "+--------+--------------------+---------+\n",
            "|venue_id|               venue|     city|\n",
            "+--------+--------------------+---------+\n",
            "|      35|M.Chinnaswamy Sta...|Bengaluru|\n",
            "+--------+--------------------+---------+\n",
            "\n"
          ]
        }
      ]
    },
    {
      "cell_type": "code",
      "source": [
        "ipl_matches.show()\n",
        "ipl_matches.count()"
      ],
      "metadata": {
        "id": "Mp6x3vL3E1D5",
        "colab": {
          "base_uri": "https://localhost:8080/"
        },
        "outputId": "4175ea90-7895-4b7f-b10f-423ceab14daa"
      },
      "execution_count": null,
      "outputs": [
        {
          "output_type": "stream",
          "name": "stdout",
          "text": [
            "+--------+----------+---------------+--------+-------------+--------------------+--------------------+--------------------+-------------+--------------------+-------+-------------+----------+------+-----------+--------------+\n",
            "|match_id|      date|player_of_match|venue_id|neutral_venue|               team1|               team2|         toss_winner|toss_decision|              winner| result|result_margin|eliminator|method|    umpire1|       umpire2|\n",
            "+--------+----------+---------------+--------+-------------+--------------------+--------------------+--------------------+-------------+--------------------+-------+-------------+----------+------+-----------+--------------+\n",
            "|  335982|2008-04-18|    BB McCullum|      35|            0|Royal Challengers...|Kolkata Knight Ri...|Royal Challengers...|        field|Kolkata Knight Ri...|   runs|          140|         N|    NA|  Asad Rauf|   RE Koertzen|\n",
            "|  335983|2008-04-19|     MEK Hussey|      31|            0|     Kings XI Punjab| Chennai Super Kings| Chennai Super Kings|          bat| Chennai Super Kings|   runs|           33|         N|    NA|  MR Benson|    SL Shastri|\n",
            "|  335984|2008-04-19|    MF Maharoof|      27|            0|    Delhi Daredevils|    Rajasthan Royals|    Rajasthan Royals|          bat|    Delhi Daredevils|wickets|            9|         N|    NA|  Aleem Dar|GA Pratapkumar|\n",
            "|  335985|2008-04-20|     MV Boucher|      14|            0|      Mumbai Indians|Royal Challengers...|      Mumbai Indians|          bat|Royal Challengers...|wickets|            5|         N|    NA|   SJ Davis|     DJ Harper|\n",
            "|  335986|2008-04-20|      DJ Hussey|      15|            0|Kolkata Knight Ri...|     Deccan Chargers|     Deccan Chargers|          bat|Kolkata Knight Ri...|wickets|            5|         N|    NA|  BF Bowden|   K Hariharan|\n",
            "|  335987|2008-04-21|      SR Watson|      20|            0|    Rajasthan Royals|     Kings XI Punjab|     Kings XI Punjab|          bat|    Rajasthan Royals|wickets|            6|         N|    NA|  Aleem Dar|     RB Tiffin|\n",
            "|  335988|2008-04-22|       V Sehwag|      22|            0|     Deccan Chargers|    Delhi Daredevils|     Deccan Chargers|          bat|    Delhi Daredevils|wickets|            9|         N|    NA|  IL Howell|     AM Saheba|\n",
            "|  335989|2008-04-23|      ML Hayden|      29|            0| Chennai Super Kings|      Mumbai Indians|      Mumbai Indians|        field| Chennai Super Kings|   runs|            6|         N|    NA|  DJ Harper|GA Pratapkumar|\n",
            "|  335990|2008-04-24|      YK Pathan|      22|            0|     Deccan Chargers|    Rajasthan Royals|    Rajasthan Royals|        field|    Rajasthan Royals|wickets|            3|         N|    NA|  Asad Rauf|     MR Benson|\n",
            "|  335991|2008-04-25|  KC Sangakkara|      31|            0|     Kings XI Punjab|      Mumbai Indians|      Mumbai Indians|        field|     Kings XI Punjab|   runs|           66|         N|    NA|  Aleem Dar|     AM Saheba|\n",
            "|  335992|2008-04-26|      SR Watson|      35|            0|Royal Challengers...|    Rajasthan Royals|    Rajasthan Royals|        field|    Rajasthan Royals|wickets|            7|         N|    NA|  MR Benson|     IL Howell|\n",
            "|  335993|2008-04-26|       JDP Oram|      29|            0| Chennai Super Kings|Kolkata Knight Ri...|Kolkata Knight Ri...|          bat| Chennai Super Kings|wickets|            9|         N|    NA|  BF Bowden|AV Jayaprakash|\n",
            "|  335994|2008-04-27|   AC Gilchrist|      13|            0|      Mumbai Indians|     Deccan Chargers|     Deccan Chargers|        field|     Deccan Chargers|wickets|           10|         N|    NA|  Asad Rauf|    SL Shastri|\n",
            "|  335995|2008-04-27|      SM Katich|      31|            0|     Kings XI Punjab|    Delhi Daredevils|    Delhi Daredevils|          bat|     Kings XI Punjab|wickets|            4|         N|    NA|RE Koertzen|     I Shivram|\n",
            "|  335996|2008-04-28|       MS Dhoni|      35|            0|Royal Challengers...| Chennai Super Kings| Chennai Super Kings|          bat| Chennai Super Kings|   runs|           13|         N|    NA|BR Doctrove|     RB Tiffin|\n",
            "|  335997|2008-04-29|  ST Jayasuriya|      15|            0|Kolkata Knight Ri...|      Mumbai Indians|Kolkata Knight Ri...|          bat|      Mumbai Indians|wickets|            7|         N|    NA|  BF Bowden|AV Jayaprakash|\n",
            "|  335998|2008-04-30|     GD McGrath|      27|            0|    Delhi Daredevils|Royal Challengers...|Royal Challengers...|        field|    Delhi Daredevils|   runs|           10|         N|    NA|  Aleem Dar|     I Shivram|\n",
            "|  335999|2008-05-01|       SE Marsh|      22|            0|     Deccan Chargers|     Kings XI Punjab|     Kings XI Punjab|        field|     Kings XI Punjab|wickets|            7|         N|    NA|BR Doctrove|     RB Tiffin|\n",
            "|  336000|2008-05-01|    SA Asnodkar|      20|            0|    Rajasthan Royals|Kolkata Knight Ri...|    Rajasthan Royals|          bat|    Rajasthan Royals|   runs|           45|         N|    NA|RE Koertzen|GA Pratapkumar|\n",
            "|  336001|2008-05-02|       V Sehwag|      29|            0| Chennai Super Kings|    Delhi Daredevils| Chennai Super Kings|          bat|    Delhi Daredevils|wickets|            8|         N|    NA|  BF Bowden|   K Hariharan|\n",
            "+--------+----------+---------------+--------+-------------+--------------------+--------------------+--------------------+-------------+--------------------+-------+-------------+----------+------+-----------+--------------+\n",
            "only showing top 20 rows\n",
            "\n"
          ]
        },
        {
          "output_type": "execute_result",
          "data": {
            "text/plain": [
              "816"
            ]
          },
          "metadata": {},
          "execution_count": 46
        }
      ]
    },
    {
      "cell_type": "code",
      "source": [
        "from pyspark.sql.functions import when\n",
        "toss_lose=ipl_matches.withColumn(\"toss_loser\",when(ipl_matches.team1!= ipl_matches.toss_winner,ipl_matches.team1).when(ipl_matches.team2!= ipl_matches.toss_winner,ipl_matches.team2))\n",
        "toss_lose.show()"
      ],
      "metadata": {
        "colab": {
          "base_uri": "https://localhost:8080/"
        },
        "id": "ySkbJHWqvc_M",
        "outputId": "2869acac-5d77-4fc2-a2bb-a4611d9ec3b2"
      },
      "execution_count": null,
      "outputs": [
        {
          "output_type": "stream",
          "name": "stdout",
          "text": [
            "+--------+----------+---------------+--------+-------------+--------------------+--------------------+--------------------+-------------+--------------------+-------+-------------+----------+------+-----------+--------------+--------------------+\n",
            "|match_id|      date|player_of_match|venue_id|neutral_venue|               team1|               team2|         toss_winner|toss_decision|              winner| result|result_margin|eliminator|method|    umpire1|       umpire2|          toss_loser|\n",
            "+--------+----------+---------------+--------+-------------+--------------------+--------------------+--------------------+-------------+--------------------+-------+-------------+----------+------+-----------+--------------+--------------------+\n",
            "|  335982|2008-04-18|    BB McCullum|      35|            0|Royal Challengers...|Kolkata Knight Ri...|Royal Challengers...|        field|Kolkata Knight Ri...|   runs|          140|         N|    NA|  Asad Rauf|   RE Koertzen|Kolkata Knight Ri...|\n",
            "|  335983|2008-04-19|     MEK Hussey|      31|            0|     Kings XI Punjab| Chennai Super Kings| Chennai Super Kings|          bat| Chennai Super Kings|   runs|           33|         N|    NA|  MR Benson|    SL Shastri|     Kings XI Punjab|\n",
            "|  335984|2008-04-19|    MF Maharoof|      27|            0|    Delhi Daredevils|    Rajasthan Royals|    Rajasthan Royals|          bat|    Delhi Daredevils|wickets|            9|         N|    NA|  Aleem Dar|GA Pratapkumar|    Delhi Daredevils|\n",
            "|  335985|2008-04-20|     MV Boucher|      14|            0|      Mumbai Indians|Royal Challengers...|      Mumbai Indians|          bat|Royal Challengers...|wickets|            5|         N|    NA|   SJ Davis|     DJ Harper|Royal Challengers...|\n",
            "|  335986|2008-04-20|      DJ Hussey|      15|            0|Kolkata Knight Ri...|     Deccan Chargers|     Deccan Chargers|          bat|Kolkata Knight Ri...|wickets|            5|         N|    NA|  BF Bowden|   K Hariharan|Kolkata Knight Ri...|\n",
            "|  335987|2008-04-21|      SR Watson|      20|            0|    Rajasthan Royals|     Kings XI Punjab|     Kings XI Punjab|          bat|    Rajasthan Royals|wickets|            6|         N|    NA|  Aleem Dar|     RB Tiffin|    Rajasthan Royals|\n",
            "|  335988|2008-04-22|       V Sehwag|      22|            0|     Deccan Chargers|    Delhi Daredevils|     Deccan Chargers|          bat|    Delhi Daredevils|wickets|            9|         N|    NA|  IL Howell|     AM Saheba|    Delhi Daredevils|\n",
            "|  335989|2008-04-23|      ML Hayden|      29|            0| Chennai Super Kings|      Mumbai Indians|      Mumbai Indians|        field| Chennai Super Kings|   runs|            6|         N|    NA|  DJ Harper|GA Pratapkumar| Chennai Super Kings|\n",
            "|  335990|2008-04-24|      YK Pathan|      22|            0|     Deccan Chargers|    Rajasthan Royals|    Rajasthan Royals|        field|    Rajasthan Royals|wickets|            3|         N|    NA|  Asad Rauf|     MR Benson|     Deccan Chargers|\n",
            "|  335991|2008-04-25|  KC Sangakkara|      31|            0|     Kings XI Punjab|      Mumbai Indians|      Mumbai Indians|        field|     Kings XI Punjab|   runs|           66|         N|    NA|  Aleem Dar|     AM Saheba|     Kings XI Punjab|\n",
            "|  335992|2008-04-26|      SR Watson|      35|            0|Royal Challengers...|    Rajasthan Royals|    Rajasthan Royals|        field|    Rajasthan Royals|wickets|            7|         N|    NA|  MR Benson|     IL Howell|Royal Challengers...|\n",
            "|  335993|2008-04-26|       JDP Oram|      29|            0| Chennai Super Kings|Kolkata Knight Ri...|Kolkata Knight Ri...|          bat| Chennai Super Kings|wickets|            9|         N|    NA|  BF Bowden|AV Jayaprakash| Chennai Super Kings|\n",
            "|  335994|2008-04-27|   AC Gilchrist|      13|            0|      Mumbai Indians|     Deccan Chargers|     Deccan Chargers|        field|     Deccan Chargers|wickets|           10|         N|    NA|  Asad Rauf|    SL Shastri|      Mumbai Indians|\n",
            "|  335995|2008-04-27|      SM Katich|      31|            0|     Kings XI Punjab|    Delhi Daredevils|    Delhi Daredevils|          bat|     Kings XI Punjab|wickets|            4|         N|    NA|RE Koertzen|     I Shivram|     Kings XI Punjab|\n",
            "|  335996|2008-04-28|       MS Dhoni|      35|            0|Royal Challengers...| Chennai Super Kings| Chennai Super Kings|          bat| Chennai Super Kings|   runs|           13|         N|    NA|BR Doctrove|     RB Tiffin|Royal Challengers...|\n",
            "|  335997|2008-04-29|  ST Jayasuriya|      15|            0|Kolkata Knight Ri...|      Mumbai Indians|Kolkata Knight Ri...|          bat|      Mumbai Indians|wickets|            7|         N|    NA|  BF Bowden|AV Jayaprakash|      Mumbai Indians|\n",
            "|  335998|2008-04-30|     GD McGrath|      27|            0|    Delhi Daredevils|Royal Challengers...|Royal Challengers...|        field|    Delhi Daredevils|   runs|           10|         N|    NA|  Aleem Dar|     I Shivram|    Delhi Daredevils|\n",
            "|  335999|2008-05-01|       SE Marsh|      22|            0|     Deccan Chargers|     Kings XI Punjab|     Kings XI Punjab|        field|     Kings XI Punjab|wickets|            7|         N|    NA|BR Doctrove|     RB Tiffin|     Deccan Chargers|\n",
            "|  336000|2008-05-01|    SA Asnodkar|      20|            0|    Rajasthan Royals|Kolkata Knight Ri...|    Rajasthan Royals|          bat|    Rajasthan Royals|   runs|           45|         N|    NA|RE Koertzen|GA Pratapkumar|Kolkata Knight Ri...|\n",
            "|  336001|2008-05-02|       V Sehwag|      29|            0| Chennai Super Kings|    Delhi Daredevils| Chennai Super Kings|          bat|    Delhi Daredevils|wickets|            8|         N|    NA|  BF Bowden|   K Hariharan|    Delhi Daredevils|\n",
            "+--------+----------+---------------+--------+-------------+--------------------+--------------------+--------------------+-------------+--------------------+-------+-------------+----------+------+-----------+--------------+--------------------+\n",
            "only showing top 20 rows\n",
            "\n"
          ]
        }
      ]
    },
    {
      "cell_type": "code",
      "source": [
        "from pyspark.sql.functions import when\n",
        "loser=toss_lose.withColumn(\"loser\",when(toss_lose.team1!= toss_lose.winner,toss_lose.team1).when(toss_lose.team2!= toss_lose.winner,toss_lose.team2))\n",
        "loser.show()\n",
        "loser.count()"
      ],
      "metadata": {
        "colab": {
          "base_uri": "https://localhost:8080/"
        },
        "id": "ZpxXcQ8sz2YY",
        "outputId": "98720d52-3781-461e-cf6d-23f47fcfc8d6"
      },
      "execution_count": null,
      "outputs": [
        {
          "output_type": "stream",
          "name": "stdout",
          "text": [
            "+--------+----------+---------------+--------+-------------+--------------------+--------------------+--------------------+-------------+--------------------+-------+-------------+----------+------+-----------+--------------+--------------------+--------------------+\n",
            "|match_id|      date|player_of_match|venue_id|neutral_venue|               team1|               team2|         toss_winner|toss_decision|              winner| result|result_margin|eliminator|method|    umpire1|       umpire2|          toss_loser|               loser|\n",
            "+--------+----------+---------------+--------+-------------+--------------------+--------------------+--------------------+-------------+--------------------+-------+-------------+----------+------+-----------+--------------+--------------------+--------------------+\n",
            "|  335982|2008-04-18|    BB McCullum|      35|            0|Royal Challengers...|Kolkata Knight Ri...|Royal Challengers...|        field|Kolkata Knight Ri...|   runs|          140|         N|    NA|  Asad Rauf|   RE Koertzen|Kolkata Knight Ri...|Royal Challengers...|\n",
            "|  335983|2008-04-19|     MEK Hussey|      31|            0|     Kings XI Punjab| Chennai Super Kings| Chennai Super Kings|          bat| Chennai Super Kings|   runs|           33|         N|    NA|  MR Benson|    SL Shastri|     Kings XI Punjab|     Kings XI Punjab|\n",
            "|  335984|2008-04-19|    MF Maharoof|      27|            0|    Delhi Daredevils|    Rajasthan Royals|    Rajasthan Royals|          bat|    Delhi Daredevils|wickets|            9|         N|    NA|  Aleem Dar|GA Pratapkumar|    Delhi Daredevils|    Rajasthan Royals|\n",
            "|  335985|2008-04-20|     MV Boucher|      14|            0|      Mumbai Indians|Royal Challengers...|      Mumbai Indians|          bat|Royal Challengers...|wickets|            5|         N|    NA|   SJ Davis|     DJ Harper|Royal Challengers...|      Mumbai Indians|\n",
            "|  335986|2008-04-20|      DJ Hussey|      15|            0|Kolkata Knight Ri...|     Deccan Chargers|     Deccan Chargers|          bat|Kolkata Knight Ri...|wickets|            5|         N|    NA|  BF Bowden|   K Hariharan|Kolkata Knight Ri...|     Deccan Chargers|\n",
            "|  335987|2008-04-21|      SR Watson|      20|            0|    Rajasthan Royals|     Kings XI Punjab|     Kings XI Punjab|          bat|    Rajasthan Royals|wickets|            6|         N|    NA|  Aleem Dar|     RB Tiffin|    Rajasthan Royals|     Kings XI Punjab|\n",
            "|  335988|2008-04-22|       V Sehwag|      22|            0|     Deccan Chargers|    Delhi Daredevils|     Deccan Chargers|          bat|    Delhi Daredevils|wickets|            9|         N|    NA|  IL Howell|     AM Saheba|    Delhi Daredevils|     Deccan Chargers|\n",
            "|  335989|2008-04-23|      ML Hayden|      29|            0| Chennai Super Kings|      Mumbai Indians|      Mumbai Indians|        field| Chennai Super Kings|   runs|            6|         N|    NA|  DJ Harper|GA Pratapkumar| Chennai Super Kings|      Mumbai Indians|\n",
            "|  335990|2008-04-24|      YK Pathan|      22|            0|     Deccan Chargers|    Rajasthan Royals|    Rajasthan Royals|        field|    Rajasthan Royals|wickets|            3|         N|    NA|  Asad Rauf|     MR Benson|     Deccan Chargers|     Deccan Chargers|\n",
            "|  335991|2008-04-25|  KC Sangakkara|      31|            0|     Kings XI Punjab|      Mumbai Indians|      Mumbai Indians|        field|     Kings XI Punjab|   runs|           66|         N|    NA|  Aleem Dar|     AM Saheba|     Kings XI Punjab|      Mumbai Indians|\n",
            "|  335992|2008-04-26|      SR Watson|      35|            0|Royal Challengers...|    Rajasthan Royals|    Rajasthan Royals|        field|    Rajasthan Royals|wickets|            7|         N|    NA|  MR Benson|     IL Howell|Royal Challengers...|Royal Challengers...|\n",
            "|  335993|2008-04-26|       JDP Oram|      29|            0| Chennai Super Kings|Kolkata Knight Ri...|Kolkata Knight Ri...|          bat| Chennai Super Kings|wickets|            9|         N|    NA|  BF Bowden|AV Jayaprakash| Chennai Super Kings|Kolkata Knight Ri...|\n",
            "|  335994|2008-04-27|   AC Gilchrist|      13|            0|      Mumbai Indians|     Deccan Chargers|     Deccan Chargers|        field|     Deccan Chargers|wickets|           10|         N|    NA|  Asad Rauf|    SL Shastri|      Mumbai Indians|      Mumbai Indians|\n",
            "|  335995|2008-04-27|      SM Katich|      31|            0|     Kings XI Punjab|    Delhi Daredevils|    Delhi Daredevils|          bat|     Kings XI Punjab|wickets|            4|         N|    NA|RE Koertzen|     I Shivram|     Kings XI Punjab|    Delhi Daredevils|\n",
            "|  335996|2008-04-28|       MS Dhoni|      35|            0|Royal Challengers...| Chennai Super Kings| Chennai Super Kings|          bat| Chennai Super Kings|   runs|           13|         N|    NA|BR Doctrove|     RB Tiffin|Royal Challengers...|Royal Challengers...|\n",
            "|  335997|2008-04-29|  ST Jayasuriya|      15|            0|Kolkata Knight Ri...|      Mumbai Indians|Kolkata Knight Ri...|          bat|      Mumbai Indians|wickets|            7|         N|    NA|  BF Bowden|AV Jayaprakash|      Mumbai Indians|Kolkata Knight Ri...|\n",
            "|  335998|2008-04-30|     GD McGrath|      27|            0|    Delhi Daredevils|Royal Challengers...|Royal Challengers...|        field|    Delhi Daredevils|   runs|           10|         N|    NA|  Aleem Dar|     I Shivram|    Delhi Daredevils|Royal Challengers...|\n",
            "|  335999|2008-05-01|       SE Marsh|      22|            0|     Deccan Chargers|     Kings XI Punjab|     Kings XI Punjab|        field|     Kings XI Punjab|wickets|            7|         N|    NA|BR Doctrove|     RB Tiffin|     Deccan Chargers|     Deccan Chargers|\n",
            "|  336000|2008-05-01|    SA Asnodkar|      20|            0|    Rajasthan Royals|Kolkata Knight Ri...|    Rajasthan Royals|          bat|    Rajasthan Royals|   runs|           45|         N|    NA|RE Koertzen|GA Pratapkumar|Kolkata Knight Ri...|Kolkata Knight Ri...|\n",
            "|  336001|2008-05-02|       V Sehwag|      29|            0| Chennai Super Kings|    Delhi Daredevils| Chennai Super Kings|          bat|    Delhi Daredevils|wickets|            8|         N|    NA|  BF Bowden|   K Hariharan|    Delhi Daredevils| Chennai Super Kings|\n",
            "+--------+----------+---------------+--------+-------------+--------------------+--------------------+--------------------+-------------+--------------------+-------+-------------+----------+------+-----------+--------------+--------------------+--------------------+\n",
            "only showing top 20 rows\n",
            "\n"
          ]
        },
        {
          "output_type": "execute_result",
          "data": {
            "text/plain": [
              "816"
            ]
          },
          "metadata": {},
          "execution_count": 48
        }
      ]
    },
    {
      "cell_type": "code",
      "source": [
        "toss_loser=loser.groupBy(\"toss_loser\").count()\n",
        "toss_loser=toss_loser.withColumnRenamed(\"count\",\"toss_loser_count\")\n",
        "toss_loser.show()"
      ],
      "metadata": {
        "colab": {
          "base_uri": "https://localhost:8080/"
        },
        "id": "7CapsAabD1yX",
        "outputId": "658fb083-1530-4755-e20c-6b0abfbd606c"
      },
      "execution_count": null,
      "outputs": [
        {
          "output_type": "stream",
          "name": "stdout",
          "text": [
            "+--------------------+----------------+\n",
            "|          toss_loser|toss_loser_count|\n",
            "+--------------------+----------------+\n",
            "| Sunrisers Hyderabad|              67|\n",
            "| Chennai Super Kings|              81|\n",
            "|Rising Pune Super...|              10|\n",
            "|     Deccan Chargers|              32|\n",
            "|Kochi Tuskers Kerala|               6|\n",
            "|    Rajasthan Royals|              74|\n",
            "|       Gujarat Lions|              15|\n",
            "|Royal Challengers...|             108|\n",
            "|Kolkata Knight Ri...|              94|\n",
            "|Rising Pune Super...|               7|\n",
            "|     Kings XI Punjab|             105|\n",
            "|       Pune Warriors|              26|\n",
            "|    Delhi Daredevils|              81|\n",
            "|      Delhi Capitals|              13|\n",
            "|      Mumbai Indians|              97|\n",
            "+--------------------+----------------+\n",
            "\n"
          ]
        }
      ]
    },
    {
      "cell_type": "code",
      "source": [
        "toss_winner=loser.groupBy(\"toss_winner\").count()\n",
        "toss_winner=toss_winner.withColumnRenamed(\"count\",\"toss_winner_count\")\n",
        "toss_winner.show()\n",
        "tosswinnercount=toss_winner.join(toss_loser,toss_winner.toss_winner == toss_loser.toss_loser,\"inner\").drop(toss_loser.toss_loser)\n",
        "tosswinnercount.show(truncate=False)"
      ],
      "metadata": {
        "colab": {
          "base_uri": "https://localhost:8080/"
        },
        "id": "6WbcBYwXAwT7",
        "outputId": "84352f0e-b562-4fb5-89c8-c2f7f0e8c561"
      },
      "execution_count": null,
      "outputs": [
        {
          "output_type": "stream",
          "name": "stdout",
          "text": [
            "+--------------------+-----------------+\n",
            "|         toss_winner|toss_winner_count|\n",
            "+--------------------+-----------------+\n",
            "| Sunrisers Hyderabad|               57|\n",
            "| Chennai Super Kings|               97|\n",
            "|Rising Pune Super...|                6|\n",
            "|     Deccan Chargers|               43|\n",
            "|Kochi Tuskers Kerala|                8|\n",
            "|    Rajasthan Royals|               87|\n",
            "|       Gujarat Lions|               15|\n",
            "|Royal Challengers...|               87|\n",
            "|Kolkata Knight Ri...|               98|\n",
            "|Rising Pune Super...|                7|\n",
            "|     Kings XI Punjab|               85|\n",
            "|       Pune Warriors|               20|\n",
            "|    Delhi Daredevils|               80|\n",
            "|      Delhi Capitals|               20|\n",
            "|      Mumbai Indians|              106|\n",
            "+--------------------+-----------------+\n",
            "\n",
            "+---------------------------+-----------------+----------------+\n",
            "|toss_winner                |toss_winner_count|toss_loser_count|\n",
            "+---------------------------+-----------------+----------------+\n",
            "|Sunrisers Hyderabad        |57               |67              |\n",
            "|Chennai Super Kings        |97               |81              |\n",
            "|Rising Pune Supergiant     |6                |10              |\n",
            "|Deccan Chargers            |43               |32              |\n",
            "|Kochi Tuskers Kerala       |8                |6               |\n",
            "|Rajasthan Royals           |87               |74              |\n",
            "|Gujarat Lions              |15               |15              |\n",
            "|Royal Challengers Bangalore|87               |108             |\n",
            "|Kolkata Knight Riders      |98               |94              |\n",
            "|Rising Pune Supergiants    |7                |7               |\n",
            "|Kings XI Punjab            |85               |105             |\n",
            "|Pune Warriors              |20               |26              |\n",
            "|Delhi Daredevils           |80               |81              |\n",
            "|Delhi Capitals             |20               |13              |\n",
            "|Mumbai Indians             |106              |97              |\n",
            "+---------------------------+-----------------+----------------+\n",
            "\n"
          ]
        }
      ]
    },
    {
      "cell_type": "code",
      "source": [
        "toss_loss_match_win=loser.filter(loser.toss_loser==loser.winner)\n",
        "toss_loss_match_win.show()"
      ],
      "metadata": {
        "colab": {
          "base_uri": "https://localhost:8080/"
        },
        "id": "ZQ9D7ylfw99h",
        "outputId": "c5a745f0-5b9e-4c5f-c6e5-d94cb7a2af32"
      },
      "execution_count": null,
      "outputs": [
        {
          "output_type": "stream",
          "name": "stdout",
          "text": [
            "+--------+----------+---------------+--------+-------------+--------------------+--------------------+--------------------+-------------+--------------------+-------+-------------+----------+------+--------------+--------------+--------------------+--------------------+\n",
            "|match_id|      date|player_of_match|venue_id|neutral_venue|               team1|               team2|         toss_winner|toss_decision|              winner| result|result_margin|eliminator|method|       umpire1|       umpire2|          toss_loser|               loser|\n",
            "+--------+----------+---------------+--------+-------------+--------------------+--------------------+--------------------+-------------+--------------------+-------+-------------+----------+------+--------------+--------------+--------------------+--------------------+\n",
            "|  335982|2008-04-18|    BB McCullum|      35|            0|Royal Challengers...|Kolkata Knight Ri...|Royal Challengers...|        field|Kolkata Knight Ri...|   runs|          140|         N|    NA|     Asad Rauf|   RE Koertzen|Kolkata Knight Ri...|Royal Challengers...|\n",
            "|  335984|2008-04-19|    MF Maharoof|      27|            0|    Delhi Daredevils|    Rajasthan Royals|    Rajasthan Royals|          bat|    Delhi Daredevils|wickets|            9|         N|    NA|     Aleem Dar|GA Pratapkumar|    Delhi Daredevils|    Rajasthan Royals|\n",
            "|  335985|2008-04-20|     MV Boucher|      14|            0|      Mumbai Indians|Royal Challengers...|      Mumbai Indians|          bat|Royal Challengers...|wickets|            5|         N|    NA|      SJ Davis|     DJ Harper|Royal Challengers...|      Mumbai Indians|\n",
            "|  335986|2008-04-20|      DJ Hussey|      15|            0|Kolkata Knight Ri...|     Deccan Chargers|     Deccan Chargers|          bat|Kolkata Knight Ri...|wickets|            5|         N|    NA|     BF Bowden|   K Hariharan|Kolkata Knight Ri...|     Deccan Chargers|\n",
            "|  335987|2008-04-21|      SR Watson|      20|            0|    Rajasthan Royals|     Kings XI Punjab|     Kings XI Punjab|          bat|    Rajasthan Royals|wickets|            6|         N|    NA|     Aleem Dar|     RB Tiffin|    Rajasthan Royals|     Kings XI Punjab|\n",
            "|  335988|2008-04-22|       V Sehwag|      22|            0|     Deccan Chargers|    Delhi Daredevils|     Deccan Chargers|          bat|    Delhi Daredevils|wickets|            9|         N|    NA|     IL Howell|     AM Saheba|    Delhi Daredevils|     Deccan Chargers|\n",
            "|  335989|2008-04-23|      ML Hayden|      29|            0| Chennai Super Kings|      Mumbai Indians|      Mumbai Indians|        field| Chennai Super Kings|   runs|            6|         N|    NA|     DJ Harper|GA Pratapkumar| Chennai Super Kings|      Mumbai Indians|\n",
            "|  335991|2008-04-25|  KC Sangakkara|      31|            0|     Kings XI Punjab|      Mumbai Indians|      Mumbai Indians|        field|     Kings XI Punjab|   runs|           66|         N|    NA|     Aleem Dar|     AM Saheba|     Kings XI Punjab|      Mumbai Indians|\n",
            "|  335993|2008-04-26|       JDP Oram|      29|            0| Chennai Super Kings|Kolkata Knight Ri...|Kolkata Knight Ri...|          bat| Chennai Super Kings|wickets|            9|         N|    NA|     BF Bowden|AV Jayaprakash| Chennai Super Kings|Kolkata Knight Ri...|\n",
            "|  335995|2008-04-27|      SM Katich|      31|            0|     Kings XI Punjab|    Delhi Daredevils|    Delhi Daredevils|          bat|     Kings XI Punjab|wickets|            4|         N|    NA|   RE Koertzen|     I Shivram|     Kings XI Punjab|    Delhi Daredevils|\n",
            "|  335997|2008-04-29|  ST Jayasuriya|      15|            0|Kolkata Knight Ri...|      Mumbai Indians|Kolkata Knight Ri...|          bat|      Mumbai Indians|wickets|            7|         N|    NA|     BF Bowden|AV Jayaprakash|      Mumbai Indians|Kolkata Knight Ri...|\n",
            "|  335998|2008-04-30|     GD McGrath|      27|            0|    Delhi Daredevils|Royal Challengers...|Royal Challengers...|        field|    Delhi Daredevils|   runs|           10|         N|    NA|     Aleem Dar|     I Shivram|    Delhi Daredevils|Royal Challengers...|\n",
            "|  336001|2008-05-02|       V Sehwag|      29|            0| Chennai Super Kings|    Delhi Daredevils| Chennai Super Kings|          bat|    Delhi Daredevils|wickets|            8|         N|    NA|     BF Bowden|   K Hariharan|    Delhi Daredevils| Chennai Super Kings|\n",
            "|  336002|2008-05-25|  R Vinay Kumar|      22|            0|     Deccan Chargers|Royal Challengers...|     Deccan Chargers|          bat|Royal Challengers...|wickets|            5|         N|    NA|     Asad Rauf|   RE Koertzen|Royal Challengers...|     Deccan Chargers|\n",
            "|  336004|2008-05-04|     SM Pollock|      13|            0|      Mumbai Indians|    Delhi Daredevils|    Delhi Daredevils|        field|      Mumbai Indians|   runs|           29|         N|    NA|     IL Howell|   RE Koertzen|      Mumbai Indians|    Delhi Daredevils|\n",
            "|  336005|2008-05-04|  Sohail Tanvir|      20|            0|    Rajasthan Royals| Chennai Super Kings| Chennai Super Kings|          bat|    Rajasthan Royals|wickets|            8|         N|    NA|     Asad Rauf|AV Jayaprakash|    Rajasthan Royals| Chennai Super Kings|\n",
            "|  336013|2008-05-10|       L Balaji|      29|            0| Chennai Super Kings|     Kings XI Punjab|     Kings XI Punjab|        field| Chennai Super Kings|   runs|           18|         N|    NA|AV Jayaprakash|    BG Jerling| Chennai Super Kings|     Kings XI Punjab|\n",
            "|  336016|2008-05-12|       SE Marsh|      31|            0|     Kings XI Punjab|Royal Challengers...|Royal Challengers...|          bat|     Kings XI Punjab|wickets|            9|         N|    NA|   BR Doctrove|     I Shivram|     Kings XI Punjab|Royal Challengers...|\n",
            "|  336019|2008-05-28|       SE Marsh|      31|            0|     Kings XI Punjab|    Rajasthan Royals|    Rajasthan Royals|        field|     Kings XI Punjab|   runs|           41|         N|    NA|      SJ Davis|   K Hariharan|     Kings XI Punjab|    Rajasthan Royals|\n",
            "|  336020|2008-05-15|       A Mishra|      27|            0|    Delhi Daredevils|     Deccan Chargers|     Deccan Chargers|        field|    Delhi Daredevils|   runs|           12|         N|    NA|    BG Jerling|GA Pratapkumar|    Delhi Daredevils|     Deccan Chargers|\n",
            "+--------+----------+---------------+--------+-------------+--------------------+--------------------+--------------------+-------------+--------------------+-------+-------------+----------+------+--------------+--------------+--------------------+--------------------+\n",
            "only showing top 20 rows\n",
            "\n"
          ]
        }
      ]
    },
    {
      "cell_type": "code",
      "source": [
        "toss_loss_match_lose=loser.filter(loser.toss_loser!=loser.winner)\n",
        "toss_loss_match_lose.show()"
      ],
      "metadata": {
        "colab": {
          "base_uri": "https://localhost:8080/"
        },
        "id": "n4LMrO2FyGm9",
        "outputId": "eb7d3535-5e02-4e6b-f24e-fe3a30724e56"
      },
      "execution_count": null,
      "outputs": [
        {
          "output_type": "stream",
          "name": "stdout",
          "text": [
            "+--------+----------+---------------+--------+-------------+--------------------+--------------------+--------------------+-------------+--------------------+-------+-------------+----------+------+-----------+--------------+--------------------+--------------------+\n",
            "|match_id|      date|player_of_match|venue_id|neutral_venue|               team1|               team2|         toss_winner|toss_decision|              winner| result|result_margin|eliminator|method|    umpire1|       umpire2|          toss_loser|               loser|\n",
            "+--------+----------+---------------+--------+-------------+--------------------+--------------------+--------------------+-------------+--------------------+-------+-------------+----------+------+-----------+--------------+--------------------+--------------------+\n",
            "|  335983|2008-04-19|     MEK Hussey|      31|            0|     Kings XI Punjab| Chennai Super Kings| Chennai Super Kings|          bat| Chennai Super Kings|   runs|           33|         N|    NA|  MR Benson|    SL Shastri|     Kings XI Punjab|     Kings XI Punjab|\n",
            "|  335990|2008-04-24|      YK Pathan|      22|            0|     Deccan Chargers|    Rajasthan Royals|    Rajasthan Royals|        field|    Rajasthan Royals|wickets|            3|         N|    NA|  Asad Rauf|     MR Benson|     Deccan Chargers|     Deccan Chargers|\n",
            "|  335992|2008-04-26|      SR Watson|      35|            0|Royal Challengers...|    Rajasthan Royals|    Rajasthan Royals|        field|    Rajasthan Royals|wickets|            7|         N|    NA|  MR Benson|     IL Howell|Royal Challengers...|Royal Challengers...|\n",
            "|  335994|2008-04-27|   AC Gilchrist|      13|            0|      Mumbai Indians|     Deccan Chargers|     Deccan Chargers|        field|     Deccan Chargers|wickets|           10|         N|    NA|  Asad Rauf|    SL Shastri|      Mumbai Indians|      Mumbai Indians|\n",
            "|  335996|2008-04-28|       MS Dhoni|      35|            0|Royal Challengers...| Chennai Super Kings| Chennai Super Kings|          bat| Chennai Super Kings|   runs|           13|         N|    NA|BR Doctrove|     RB Tiffin|Royal Challengers...|Royal Challengers...|\n",
            "|  335999|2008-05-01|       SE Marsh|      22|            0|     Deccan Chargers|     Kings XI Punjab|     Kings XI Punjab|        field|     Kings XI Punjab|wickets|            7|         N|    NA|BR Doctrove|     RB Tiffin|     Deccan Chargers|     Deccan Chargers|\n",
            "|  336000|2008-05-01|    SA Asnodkar|      20|            0|    Rajasthan Royals|Kolkata Knight Ri...|    Rajasthan Royals|          bat|    Rajasthan Royals|   runs|           45|         N|    NA|RE Koertzen|GA Pratapkumar|Kolkata Knight Ri...|Kolkata Knight Ri...|\n",
            "|  336003|2008-05-03|      IK Pathan|      31|            0|     Kings XI Punjab|Kolkata Knight Ri...|     Kings XI Punjab|          bat|     Kings XI Punjab|   runs|            9|         N|    NA|  DJ Harper|     I Shivram|Kolkata Knight Ri...|Kolkata Knight Ri...|\n",
            "|  336006|2008-05-05|    S Sreesanth|      35|            0|Royal Challengers...|     Kings XI Punjab|     Kings XI Punjab|        field|     Kings XI Punjab|wickets|            6|         N|    NA|   SJ Davis|   BR Doctrove|Royal Challengers...|Royal Challengers...|\n",
            "|  336007|2008-05-06|   AC Gilchrist|      29|            0| Chennai Super Kings|     Deccan Chargers|     Deccan Chargers|        field|     Deccan Chargers|wickets|            7|         N|    NA|  MR Benson|     RB Tiffin| Chennai Super Kings| Chennai Super Kings|\n",
            "|  336008|2008-05-07|        A Nehra|      13|            0|      Mumbai Indians|    Rajasthan Royals|      Mumbai Indians|        field|      Mumbai Indians|wickets|            7|         N|    NA|  DJ Harper|   RE Koertzen|    Rajasthan Royals|    Rajasthan Royals|\n",
            "|  336009|2008-05-08|       MS Dhoni|      27|            0|    Delhi Daredevils| Chennai Super Kings| Chennai Super Kings|        field| Chennai Super Kings|wickets|            4|         N|    NA|  Aleem Dar|     RB Tiffin|    Delhi Daredevils|    Delhi Daredevils|\n",
            "|  336010|2008-05-08|     SC Ganguly|      15|            0|Kolkata Knight Ri...|Royal Challengers...|Kolkata Knight Ri...|          bat|Kolkata Knight Ri...|   runs|            5|         N|    NA|  Asad Rauf|     IL Howell|Royal Challengers...|Royal Challengers...|\n",
            "|  336011|2008-05-09|      YK Pathan|      20|            0|    Rajasthan Royals|     Deccan Chargers|    Rajasthan Royals|        field|    Rajasthan Royals|wickets|            8|         N|    NA|  MR Benson|     AM Saheba|     Deccan Chargers|     Deccan Chargers|\n",
            "|  336012|2008-05-28|   CRD Fernando|      35|            0|Royal Challengers...|      Mumbai Indians|      Mumbai Indians|        field|      Mumbai Indians|wickets|            9|         N|    NA|  BF Bowden|AV Jayaprakash|Royal Challengers...|Royal Challengers...|\n",
            "|  336014|2008-05-11|     SC Ganguly|      22|            0|     Deccan Chargers|Kolkata Knight Ri...|Kolkata Knight Ri...|          bat|Kolkata Knight Ri...|   runs|           23|         N|    NA|  IL Howell|     AM Saheba|     Deccan Chargers|     Deccan Chargers|\n",
            "|  336015|2008-05-11|      SR Watson|      20|            0|    Rajasthan Royals|    Delhi Daredevils|    Rajasthan Royals|        field|    Rajasthan Royals|wickets|            3|         N|    NA|   SJ Davis|   RE Koertzen|    Delhi Daredevils|    Delhi Daredevils|\n",
            "|  336017|2008-05-13|  Shoaib Akhtar|      15|            0|Kolkata Knight Ri...|    Delhi Daredevils|Kolkata Knight Ri...|          bat|Kolkata Knight Ri...|   runs|           23|         N|    NA|  Asad Rauf|     IL Howell|    Delhi Daredevils|    Delhi Daredevils|\n",
            "|  336018|2008-05-14|  ST Jayasuriya|      14|            0|      Mumbai Indians| Chennai Super Kings|      Mumbai Indians|        field|      Mumbai Indians|wickets|            9|         N|    NA|BR Doctrove|     AM Saheba| Chennai Super Kings| Chennai Super Kings|\n",
            "|  336021|2008-05-16|     SM Pollock|      14|            0|      Mumbai Indians|Kolkata Knight Ri...|      Mumbai Indians|        field|      Mumbai Indians|wickets|            8|         N|    NA|BR Doctrove|     DJ Harper|Kolkata Knight Ri...|Kolkata Knight Ri...|\n",
            "+--------+----------+---------------+--------+-------------+--------------------+--------------------+--------------------+-------------+--------------------+-------+-------------+----------+------+-----------+--------------+--------------------+--------------------+\n",
            "only showing top 20 rows\n",
            "\n"
          ]
        }
      ]
    },
    {
      "cell_type": "code",
      "source": [
        "toss_win_match_win=ipl_matches.filter(ipl_matches.toss_winner==ipl_matches.winner)\n",
        "toss_win_match_win.show()"
      ],
      "metadata": {
        "colab": {
          "base_uri": "https://localhost:8080/"
        },
        "id": "PYZKuPbqWV5s",
        "outputId": "0e92fcbb-a9b1-4476-99bc-3bd5b1f832e8"
      },
      "execution_count": null,
      "outputs": [
        {
          "output_type": "stream",
          "name": "stdout",
          "text": [
            "+--------+----------+---------------+--------+-------------+--------------------+--------------------+--------------------+-------------+--------------------+-------+-------------+----------+------+-----------+--------------+\n",
            "|match_id|      date|player_of_match|venue_id|neutral_venue|               team1|               team2|         toss_winner|toss_decision|              winner| result|result_margin|eliminator|method|    umpire1|       umpire2|\n",
            "+--------+----------+---------------+--------+-------------+--------------------+--------------------+--------------------+-------------+--------------------+-------+-------------+----------+------+-----------+--------------+\n",
            "|  335983|2008-04-19|     MEK Hussey|      31|            0|     Kings XI Punjab| Chennai Super Kings| Chennai Super Kings|          bat| Chennai Super Kings|   runs|           33|         N|    NA|  MR Benson|    SL Shastri|\n",
            "|  335990|2008-04-24|      YK Pathan|      22|            0|     Deccan Chargers|    Rajasthan Royals|    Rajasthan Royals|        field|    Rajasthan Royals|wickets|            3|         N|    NA|  Asad Rauf|     MR Benson|\n",
            "|  335992|2008-04-26|      SR Watson|      35|            0|Royal Challengers...|    Rajasthan Royals|    Rajasthan Royals|        field|    Rajasthan Royals|wickets|            7|         N|    NA|  MR Benson|     IL Howell|\n",
            "|  335994|2008-04-27|   AC Gilchrist|      13|            0|      Mumbai Indians|     Deccan Chargers|     Deccan Chargers|        field|     Deccan Chargers|wickets|           10|         N|    NA|  Asad Rauf|    SL Shastri|\n",
            "|  335996|2008-04-28|       MS Dhoni|      35|            0|Royal Challengers...| Chennai Super Kings| Chennai Super Kings|          bat| Chennai Super Kings|   runs|           13|         N|    NA|BR Doctrove|     RB Tiffin|\n",
            "|  335999|2008-05-01|       SE Marsh|      22|            0|     Deccan Chargers|     Kings XI Punjab|     Kings XI Punjab|        field|     Kings XI Punjab|wickets|            7|         N|    NA|BR Doctrove|     RB Tiffin|\n",
            "|  336000|2008-05-01|    SA Asnodkar|      20|            0|    Rajasthan Royals|Kolkata Knight Ri...|    Rajasthan Royals|          bat|    Rajasthan Royals|   runs|           45|         N|    NA|RE Koertzen|GA Pratapkumar|\n",
            "|  336003|2008-05-03|      IK Pathan|      31|            0|     Kings XI Punjab|Kolkata Knight Ri...|     Kings XI Punjab|          bat|     Kings XI Punjab|   runs|            9|         N|    NA|  DJ Harper|     I Shivram|\n",
            "|  336006|2008-05-05|    S Sreesanth|      35|            0|Royal Challengers...|     Kings XI Punjab|     Kings XI Punjab|        field|     Kings XI Punjab|wickets|            6|         N|    NA|   SJ Davis|   BR Doctrove|\n",
            "|  336007|2008-05-06|   AC Gilchrist|      29|            0| Chennai Super Kings|     Deccan Chargers|     Deccan Chargers|        field|     Deccan Chargers|wickets|            7|         N|    NA|  MR Benson|     RB Tiffin|\n",
            "|  336008|2008-05-07|        A Nehra|      13|            0|      Mumbai Indians|    Rajasthan Royals|      Mumbai Indians|        field|      Mumbai Indians|wickets|            7|         N|    NA|  DJ Harper|   RE Koertzen|\n",
            "|  336009|2008-05-08|       MS Dhoni|      27|            0|    Delhi Daredevils| Chennai Super Kings| Chennai Super Kings|        field| Chennai Super Kings|wickets|            4|         N|    NA|  Aleem Dar|     RB Tiffin|\n",
            "|  336010|2008-05-08|     SC Ganguly|      15|            0|Kolkata Knight Ri...|Royal Challengers...|Kolkata Knight Ri...|          bat|Kolkata Knight Ri...|   runs|            5|         N|    NA|  Asad Rauf|     IL Howell|\n",
            "|  336011|2008-05-09|      YK Pathan|      20|            0|    Rajasthan Royals|     Deccan Chargers|    Rajasthan Royals|        field|    Rajasthan Royals|wickets|            8|         N|    NA|  MR Benson|     AM Saheba|\n",
            "|  336012|2008-05-28|   CRD Fernando|      35|            0|Royal Challengers...|      Mumbai Indians|      Mumbai Indians|        field|      Mumbai Indians|wickets|            9|         N|    NA|  BF Bowden|AV Jayaprakash|\n",
            "|  336014|2008-05-11|     SC Ganguly|      22|            0|     Deccan Chargers|Kolkata Knight Ri...|Kolkata Knight Ri...|          bat|Kolkata Knight Ri...|   runs|           23|         N|    NA|  IL Howell|     AM Saheba|\n",
            "|  336015|2008-05-11|      SR Watson|      20|            0|    Rajasthan Royals|    Delhi Daredevils|    Rajasthan Royals|        field|    Rajasthan Royals|wickets|            3|         N|    NA|   SJ Davis|   RE Koertzen|\n",
            "|  336017|2008-05-13|  Shoaib Akhtar|      15|            0|Kolkata Knight Ri...|    Delhi Daredevils|Kolkata Knight Ri...|          bat|Kolkata Knight Ri...|   runs|           23|         N|    NA|  Asad Rauf|     IL Howell|\n",
            "|  336018|2008-05-14|  ST Jayasuriya|      14|            0|      Mumbai Indians| Chennai Super Kings|      Mumbai Indians|        field|      Mumbai Indians|wickets|            9|         N|    NA|BR Doctrove|     AM Saheba|\n",
            "|  336021|2008-05-16|     SM Pollock|      14|            0|      Mumbai Indians|Kolkata Knight Ri...|      Mumbai Indians|        field|      Mumbai Indians|wickets|            8|         N|    NA|BR Doctrove|     DJ Harper|\n",
            "+--------+----------+---------------+--------+-------------+--------------------+--------------------+--------------------+-------------+--------------------+-------+-------------+----------+------+-----------+--------------+\n",
            "only showing top 20 rows\n",
            "\n"
          ]
        }
      ]
    },
    {
      "cell_type": "code",
      "source": [
        "toss_win_match_loss=ipl_matches.filter(ipl_matches.toss_winner!=ipl_matches.winner)\n",
        "toss_win_match_loss.show()"
      ],
      "metadata": {
        "colab": {
          "base_uri": "https://localhost:8080/"
        },
        "id": "LFcUK_KIXkQE",
        "outputId": "58c813b9-9f7e-4d37-fa1e-311bf2af1210"
      },
      "execution_count": null,
      "outputs": [
        {
          "output_type": "stream",
          "name": "stdout",
          "text": [
            "+--------+----------+---------------+--------+-------------+--------------------+--------------------+--------------------+-------------+--------------------+-------+-------------+----------+------+--------------+--------------+\n",
            "|match_id|      date|player_of_match|venue_id|neutral_venue|               team1|               team2|         toss_winner|toss_decision|              winner| result|result_margin|eliminator|method|       umpire1|       umpire2|\n",
            "+--------+----------+---------------+--------+-------------+--------------------+--------------------+--------------------+-------------+--------------------+-------+-------------+----------+------+--------------+--------------+\n",
            "|  335982|2008-04-18|    BB McCullum|      35|            0|Royal Challengers...|Kolkata Knight Ri...|Royal Challengers...|        field|Kolkata Knight Ri...|   runs|          140|         N|    NA|     Asad Rauf|   RE Koertzen|\n",
            "|  335984|2008-04-19|    MF Maharoof|      27|            0|    Delhi Daredevils|    Rajasthan Royals|    Rajasthan Royals|          bat|    Delhi Daredevils|wickets|            9|         N|    NA|     Aleem Dar|GA Pratapkumar|\n",
            "|  335985|2008-04-20|     MV Boucher|      14|            0|      Mumbai Indians|Royal Challengers...|      Mumbai Indians|          bat|Royal Challengers...|wickets|            5|         N|    NA|      SJ Davis|     DJ Harper|\n",
            "|  335986|2008-04-20|      DJ Hussey|      15|            0|Kolkata Knight Ri...|     Deccan Chargers|     Deccan Chargers|          bat|Kolkata Knight Ri...|wickets|            5|         N|    NA|     BF Bowden|   K Hariharan|\n",
            "|  335987|2008-04-21|      SR Watson|      20|            0|    Rajasthan Royals|     Kings XI Punjab|     Kings XI Punjab|          bat|    Rajasthan Royals|wickets|            6|         N|    NA|     Aleem Dar|     RB Tiffin|\n",
            "|  335988|2008-04-22|       V Sehwag|      22|            0|     Deccan Chargers|    Delhi Daredevils|     Deccan Chargers|          bat|    Delhi Daredevils|wickets|            9|         N|    NA|     IL Howell|     AM Saheba|\n",
            "|  335989|2008-04-23|      ML Hayden|      29|            0| Chennai Super Kings|      Mumbai Indians|      Mumbai Indians|        field| Chennai Super Kings|   runs|            6|         N|    NA|     DJ Harper|GA Pratapkumar|\n",
            "|  335991|2008-04-25|  KC Sangakkara|      31|            0|     Kings XI Punjab|      Mumbai Indians|      Mumbai Indians|        field|     Kings XI Punjab|   runs|           66|         N|    NA|     Aleem Dar|     AM Saheba|\n",
            "|  335993|2008-04-26|       JDP Oram|      29|            0| Chennai Super Kings|Kolkata Knight Ri...|Kolkata Knight Ri...|          bat| Chennai Super Kings|wickets|            9|         N|    NA|     BF Bowden|AV Jayaprakash|\n",
            "|  335995|2008-04-27|      SM Katich|      31|            0|     Kings XI Punjab|    Delhi Daredevils|    Delhi Daredevils|          bat|     Kings XI Punjab|wickets|            4|         N|    NA|   RE Koertzen|     I Shivram|\n",
            "|  335997|2008-04-29|  ST Jayasuriya|      15|            0|Kolkata Knight Ri...|      Mumbai Indians|Kolkata Knight Ri...|          bat|      Mumbai Indians|wickets|            7|         N|    NA|     BF Bowden|AV Jayaprakash|\n",
            "|  335998|2008-04-30|     GD McGrath|      27|            0|    Delhi Daredevils|Royal Challengers...|Royal Challengers...|        field|    Delhi Daredevils|   runs|           10|         N|    NA|     Aleem Dar|     I Shivram|\n",
            "|  336001|2008-05-02|       V Sehwag|      29|            0| Chennai Super Kings|    Delhi Daredevils| Chennai Super Kings|          bat|    Delhi Daredevils|wickets|            8|         N|    NA|     BF Bowden|   K Hariharan|\n",
            "|  336002|2008-05-25|  R Vinay Kumar|      22|            0|     Deccan Chargers|Royal Challengers...|     Deccan Chargers|          bat|Royal Challengers...|wickets|            5|         N|    NA|     Asad Rauf|   RE Koertzen|\n",
            "|  336004|2008-05-04|     SM Pollock|      13|            0|      Mumbai Indians|    Delhi Daredevils|    Delhi Daredevils|        field|      Mumbai Indians|   runs|           29|         N|    NA|     IL Howell|   RE Koertzen|\n",
            "|  336005|2008-05-04|  Sohail Tanvir|      20|            0|    Rajasthan Royals| Chennai Super Kings| Chennai Super Kings|          bat|    Rajasthan Royals|wickets|            8|         N|    NA|     Asad Rauf|AV Jayaprakash|\n",
            "|  336013|2008-05-10|       L Balaji|      29|            0| Chennai Super Kings|     Kings XI Punjab|     Kings XI Punjab|        field| Chennai Super Kings|   runs|           18|         N|    NA|AV Jayaprakash|    BG Jerling|\n",
            "|  336016|2008-05-12|       SE Marsh|      31|            0|     Kings XI Punjab|Royal Challengers...|Royal Challengers...|          bat|     Kings XI Punjab|wickets|            9|         N|    NA|   BR Doctrove|     I Shivram|\n",
            "|  336019|2008-05-28|       SE Marsh|      31|            0|     Kings XI Punjab|    Rajasthan Royals|    Rajasthan Royals|        field|     Kings XI Punjab|   runs|           41|         N|    NA|      SJ Davis|   K Hariharan|\n",
            "|  336020|2008-05-15|       A Mishra|      27|            0|    Delhi Daredevils|     Deccan Chargers|     Deccan Chargers|        field|    Delhi Daredevils|   runs|           12|         N|    NA|    BG Jerling|GA Pratapkumar|\n",
            "+--------+----------+---------------+--------+-------------+--------------------+--------------------+--------------------+-------------+--------------------+-------+-------------+----------+------+--------------+--------------+\n",
            "only showing top 20 rows\n",
            "\n"
          ]
        }
      ]
    },
    {
      "cell_type": "code",
      "source": [
        "team1=ipl_matches.groupBy(\"team1\").count()\n",
        "team2=ipl_matches.groupBy(\"team2\").count()\n",
        "team1=team1.withColumnRenamed(\"count\",\"count1\")\n",
        "team1.show()\n",
        "team2.show()\n"
      ],
      "metadata": {
        "colab": {
          "base_uri": "https://localhost:8080/"
        },
        "id": "-mj0X-FbYWDi",
        "outputId": "ea1be3bb-8451-4cfd-af0c-3eb26389396e"
      },
      "execution_count": null,
      "outputs": [
        {
          "output_type": "stream",
          "name": "stdout",
          "text": [
            "+--------------------+------+\n",
            "|               team1|count1|\n",
            "+--------------------+------+\n",
            "| Sunrisers Hyderabad|    59|\n",
            "| Chennai Super Kings|    94|\n",
            "|Rising Pune Super...|     7|\n",
            "|     Deccan Chargers|    39|\n",
            "|Kochi Tuskers Kerala|     7|\n",
            "|    Rajasthan Royals|    70|\n",
            "|       Gujarat Lions|    16|\n",
            "|Royal Challengers...|   108|\n",
            "|Kolkata Knight Ri...|    95|\n",
            "|Rising Pune Super...|     7|\n",
            "|     Kings XI Punjab|    92|\n",
            "|       Pune Warriors|    23|\n",
            "|    Delhi Daredevils|    83|\n",
            "|      Delhi Capitals|    19|\n",
            "|      Mumbai Indians|    97|\n",
            "+--------------------+------+\n",
            "\n",
            "+--------------------+-----+\n",
            "|               team2|count|\n",
            "+--------------------+-----+\n",
            "| Sunrisers Hyderabad|   65|\n",
            "| Chennai Super Kings|   84|\n",
            "|Rising Pune Super...|    9|\n",
            "|     Deccan Chargers|   36|\n",
            "|Kochi Tuskers Kerala|    7|\n",
            "|    Rajasthan Royals|   91|\n",
            "|       Gujarat Lions|   14|\n",
            "|Royal Challengers...|   87|\n",
            "|Kolkata Knight Ri...|   97|\n",
            "|Rising Pune Super...|    7|\n",
            "|     Kings XI Punjab|   98|\n",
            "|       Pune Warriors|   23|\n",
            "|    Delhi Daredevils|   78|\n",
            "|      Delhi Capitals|   14|\n",
            "|      Mumbai Indians|  106|\n",
            "+--------------------+-----+\n",
            "\n"
          ]
        }
      ]
    },
    {
      "cell_type": "code",
      "source": [
        "ts = team1.alias('team1')\n",
        "tc = team2.alias('team2')\n",
        "full_outer_join_1 = ts.join(tc, ts.team1 == tc.team2,how='full') # Could also use 'full_outer'\n",
        "full_outer_join_1.show()"
      ],
      "metadata": {
        "colab": {
          "base_uri": "https://localhost:8080/"
        },
        "id": "ZBNJ9-fWaL1r",
        "outputId": "78426250-fa63-48ad-c806-3010ee70d608"
      },
      "execution_count": null,
      "outputs": [
        {
          "output_type": "stream",
          "name": "stdout",
          "text": [
            "+--------------------+------+--------------------+-----+\n",
            "|               team1|count1|               team2|count|\n",
            "+--------------------+------+--------------------+-----+\n",
            "| Chennai Super Kings|    94| Chennai Super Kings|   84|\n",
            "|     Deccan Chargers|    39|     Deccan Chargers|   36|\n",
            "|      Delhi Capitals|    19|      Delhi Capitals|   14|\n",
            "|    Delhi Daredevils|    83|    Delhi Daredevils|   78|\n",
            "|       Gujarat Lions|    16|       Gujarat Lions|   14|\n",
            "|     Kings XI Punjab|    92|     Kings XI Punjab|   98|\n",
            "|Kochi Tuskers Kerala|     7|Kochi Tuskers Kerala|    7|\n",
            "|Kolkata Knight Ri...|    95|Kolkata Knight Ri...|   97|\n",
            "|      Mumbai Indians|    97|      Mumbai Indians|  106|\n",
            "|       Pune Warriors|    23|       Pune Warriors|   23|\n",
            "|    Rajasthan Royals|    70|    Rajasthan Royals|   91|\n",
            "|Rising Pune Super...|     7|Rising Pune Super...|    9|\n",
            "|Rising Pune Super...|     7|Rising Pune Super...|    7|\n",
            "|Royal Challengers...|   108|Royal Challengers...|   87|\n",
            "| Sunrisers Hyderabad|    59| Sunrisers Hyderabad|   65|\n",
            "+--------------------+------+--------------------+-----+\n",
            "\n"
          ]
        }
      ]
    },
    {
      "cell_type": "code",
      "source": [
        "tocount=full_outer_join_1.withColumn(\"total_match_count\",(full_outer_join_1[\"count1\"])+(full_outer_join_1[\"count1\"])).sort(\"team1\",ascending=True)\n",
        "tocount=tocount.select(tocount[\"team1\"],tocount[\"total_match_count\"])\n",
        "tocount.show()"
      ],
      "metadata": {
        "colab": {
          "base_uri": "https://localhost:8080/"
        },
        "id": "w-445q0eeLGs",
        "outputId": "174aef7b-5fb4-4f7a-c96b-32e45b9821d0"
      },
      "execution_count": null,
      "outputs": [
        {
          "output_type": "stream",
          "name": "stdout",
          "text": [
            "+--------------------+-----------------+\n",
            "|               team1|total_match_count|\n",
            "+--------------------+-----------------+\n",
            "| Chennai Super Kings|              188|\n",
            "|     Deccan Chargers|               78|\n",
            "|      Delhi Capitals|               38|\n",
            "|    Delhi Daredevils|              166|\n",
            "|       Gujarat Lions|               32|\n",
            "|     Kings XI Punjab|              184|\n",
            "|Kochi Tuskers Kerala|               14|\n",
            "|Kolkata Knight Ri...|              190|\n",
            "|      Mumbai Indians|              194|\n",
            "|       Pune Warriors|               46|\n",
            "|    Rajasthan Royals|              140|\n",
            "|Rising Pune Super...|               14|\n",
            "|Rising Pune Super...|               14|\n",
            "|Royal Challengers...|              216|\n",
            "| Sunrisers Hyderabad|              118|\n",
            "+--------------------+-----------------+\n",
            "\n"
          ]
        }
      ]
    },
    {
      "cell_type": "code",
      "source": [
        "toss_lose_match_win_count=toss_loss_match_win.groupBy(\"winner\").count().sort(\"winner\",ascending=True)\n",
        "toss_lose_match_win_count=toss_lose_match_win_count.withColumnRenamed(\"count\",\"toss_lose_match_win_count\")\n",
        "toss_lose_match_win_count.show()"
      ],
      "metadata": {
        "colab": {
          "base_uri": "https://localhost:8080/"
        },
        "id": "vHysTsDg0yC1",
        "outputId": "203dcbdb-f3a2-46a3-d68c-fb5283923f6e"
      },
      "execution_count": null,
      "outputs": [
        {
          "output_type": "stream",
          "name": "stdout",
          "text": [
            "+--------------------+-------------------------+\n",
            "|              winner|toss_lose_match_win_count|\n",
            "+--------------------+-------------------------+\n",
            "| Chennai Super Kings|                       45|\n",
            "|     Deccan Chargers|                       10|\n",
            "|      Delhi Capitals|                        9|\n",
            "|    Delhi Daredevils|                       32|\n",
            "|       Gujarat Lions|                        3|\n",
            "|     Kings XI Punjab|                       52|\n",
            "|Kochi Tuskers Kerala|                        2|\n",
            "|Kolkata Knight Ri...|                       44|\n",
            "|      Mumbai Indians|                       59|\n",
            "|       Pune Warriors|                        9|\n",
            "|    Rajasthan Royals|                       37|\n",
            "|Rising Pune Super...|                        5|\n",
            "|Rising Pune Super...|                        2|\n",
            "|Royal Challengers...|                       48|\n",
            "| Sunrisers Hyderabad|                       37|\n",
            "+--------------------+-------------------------+\n",
            "\n"
          ]
        }
      ]
    },
    {
      "cell_type": "code",
      "source": [
        "toss_lose_match_lose_count=toss_loss_match_lose.groupBy(\"loser\").count().sort(\"loser\",ascending=True)\n",
        "toss_lose_match_lose_count=toss_lose_match_lose_count.withColumnRenamed(\"count\",\"toss_lose_match_lose_count\")\n",
        "toss_lose_match_lose_count.show()"
      ],
      "metadata": {
        "colab": {
          "base_uri": "https://localhost:8080/"
        },
        "id": "QMh0ZGwN1dHN",
        "outputId": "9f492913-4b08-4f66-82c8-5a9909a5db78"
      },
      "execution_count": null,
      "outputs": [
        {
          "output_type": "stream",
          "name": "stdout",
          "text": [
            "+--------------------+--------------------------+\n",
            "|               loser|toss_lose_match_lose_count|\n",
            "+--------------------+--------------------------+\n",
            "| Chennai Super Kings|                        36|\n",
            "|     Deccan Chargers|                        22|\n",
            "|      Delhi Capitals|                         4|\n",
            "|    Delhi Daredevils|                        49|\n",
            "|       Gujarat Lions|                        12|\n",
            "|     Kings XI Punjab|                        53|\n",
            "|Kochi Tuskers Kerala|                         4|\n",
            "|Kolkata Knight Ri...|                        50|\n",
            "|      Mumbai Indians|                        38|\n",
            "|       Pune Warriors|                        16|\n",
            "|    Rajasthan Royals|                        37|\n",
            "|Rising Pune Super...|                         5|\n",
            "|Rising Pune Super...|                         5|\n",
            "|Royal Challengers...|                        61|\n",
            "| Sunrisers Hyderabad|                        30|\n",
            "+--------------------+--------------------------+\n",
            "\n"
          ]
        }
      ]
    },
    {
      "cell_type": "code",
      "source": [
        "toss_win_match_win_count=toss_win_match_win.groupBy(\"winner\").count().sort(\"winner\",ascending=True)\n",
        "toss_win_match_win_count=toss_win_match_win_count.withColumnRenamed(\"count\",\"toss_win_match_win_count\")\n",
        "toss_win_match_win_count.show()"
      ],
      "metadata": {
        "colab": {
          "base_uri": "https://localhost:8080/"
        },
        "id": "ll_BOxt_eLDm",
        "outputId": "9474e07c-6457-4198-eac6-040ad8b87183"
      },
      "execution_count": null,
      "outputs": [
        {
          "output_type": "stream",
          "name": "stdout",
          "text": [
            "+--------------------+------------------------+\n",
            "|              winner|toss_win_match_win_count|\n",
            "+--------------------+------------------------+\n",
            "| Chennai Super Kings|                      61|\n",
            "|     Deccan Chargers|                      19|\n",
            "|      Delhi Capitals|                      10|\n",
            "|    Delhi Daredevils|                      35|\n",
            "|       Gujarat Lions|                      10|\n",
            "|     Kings XI Punjab|                      36|\n",
            "|Kochi Tuskers Kerala|                       4|\n",
            "|Kolkata Knight Ri...|                      55|\n",
            "|      Mumbai Indians|                      61|\n",
            "|       Pune Warriors|                       3|\n",
            "|    Rajasthan Royals|                      44|\n",
            "|Rising Pune Super...|                       5|\n",
            "|Rising Pune Super...|                       3|\n",
            "|Royal Challengers...|                      43|\n",
            "| Sunrisers Hyderabad|                      29|\n",
            "+--------------------+------------------------+\n",
            "\n"
          ]
        }
      ]
    },
    {
      "cell_type": "code",
      "source": [
        "toss_win_match_loss_count=toss_win_match_loss.groupBy(\"winner\").count().sort(\"winner\",ascending=True)\n",
        "toss_win_match_loss_count=toss_win_match_loss_count.withColumnRenamed(\"count\",\"toss_win_match_loss_count\")\n",
        "toss_win_match_loss_count.show()"
      ],
      "metadata": {
        "colab": {
          "base_uri": "https://localhost:8080/"
        },
        "id": "hiSrsDJQl35D",
        "outputId": "bfe8547b-c2f2-45f2-92f5-54d7d271fddb"
      },
      "execution_count": null,
      "outputs": [
        {
          "output_type": "stream",
          "name": "stdout",
          "text": [
            "+--------------------+-------------------------+\n",
            "|              winner|toss_win_match_loss_count|\n",
            "+--------------------+-------------------------+\n",
            "| Chennai Super Kings|                       45|\n",
            "|     Deccan Chargers|                       10|\n",
            "|      Delhi Capitals|                        9|\n",
            "|    Delhi Daredevils|                       32|\n",
            "|       Gujarat Lions|                        3|\n",
            "|     Kings XI Punjab|                       52|\n",
            "|Kochi Tuskers Kerala|                        2|\n",
            "|Kolkata Knight Ri...|                       44|\n",
            "|      Mumbai Indians|                       59|\n",
            "|                  NA|                        4|\n",
            "|       Pune Warriors|                        9|\n",
            "|    Rajasthan Royals|                       37|\n",
            "|Rising Pune Super...|                        5|\n",
            "|Rising Pune Super...|                        2|\n",
            "|Royal Challengers...|                       48|\n",
            "| Sunrisers Hyderabad|                       37|\n",
            "+--------------------+-------------------------+\n",
            "\n"
          ]
        }
      ]
    },
    {
      "cell_type": "code",
      "source": [
        "to = tocount.alias('tocount')\n",
        "ti = toss_lose_match_win_count.alias('toss_lose_match_win_count')\n",
        "full_outer_join_8 = to.join(ti, to.team1 == ti.winner,how='full') # Could also use 'full_outer'\n",
        "full_outer_join_8.show()"
      ],
      "metadata": {
        "colab": {
          "base_uri": "https://localhost:8080/"
        },
        "id": "_vkFNU6w4HKR",
        "outputId": "5602348b-7a3a-4caa-d023-d46be004433e"
      },
      "execution_count": null,
      "outputs": [
        {
          "output_type": "stream",
          "name": "stdout",
          "text": [
            "+--------------------+-----------------+--------------------+-------------------------+\n",
            "|               team1|total_match_count|              winner|toss_lose_match_win_count|\n",
            "+--------------------+-----------------+--------------------+-------------------------+\n",
            "| Chennai Super Kings|              188| Chennai Super Kings|                       45|\n",
            "|     Deccan Chargers|               78|     Deccan Chargers|                       10|\n",
            "|      Delhi Capitals|               38|      Delhi Capitals|                        9|\n",
            "|    Delhi Daredevils|              166|    Delhi Daredevils|                       32|\n",
            "|       Gujarat Lions|               32|       Gujarat Lions|                        3|\n",
            "|     Kings XI Punjab|              184|     Kings XI Punjab|                       52|\n",
            "|Kochi Tuskers Kerala|               14|Kochi Tuskers Kerala|                        2|\n",
            "|Kolkata Knight Ri...|              190|Kolkata Knight Ri...|                       44|\n",
            "|      Mumbai Indians|              194|      Mumbai Indians|                       59|\n",
            "|       Pune Warriors|               46|       Pune Warriors|                        9|\n",
            "|    Rajasthan Royals|              140|    Rajasthan Royals|                       37|\n",
            "|Rising Pune Super...|               14|Rising Pune Super...|                        5|\n",
            "|Rising Pune Super...|               14|Rising Pune Super...|                        2|\n",
            "|Royal Challengers...|              216|Royal Challengers...|                       48|\n",
            "| Sunrisers Hyderabad|              118| Sunrisers Hyderabad|                       37|\n",
            "+--------------------+-----------------+--------------------+-------------------------+\n",
            "\n"
          ]
        }
      ]
    },
    {
      "cell_type": "code",
      "source": [
        "tu = tocount.alias('tocount')\n",
        "ty = toss_lose_match_lose_count.alias('toss_lose_match_lose_count')\n",
        "full_outer_join_9 = tu.join(ty, tu.team1 == ty.loser,how='full') # Could also use 'full_outer'\n",
        "full_outer_join_9.show()"
      ],
      "metadata": {
        "colab": {
          "base_uri": "https://localhost:8080/"
        },
        "id": "6AQTA8Hq4usp",
        "outputId": "288eb6f1-1305-42a8-c988-dbcfa8b02132"
      },
      "execution_count": null,
      "outputs": [
        {
          "output_type": "stream",
          "name": "stdout",
          "text": [
            "+--------------------+-----------------+--------------------+--------------------------+\n",
            "|               team1|total_match_count|               loser|toss_lose_match_lose_count|\n",
            "+--------------------+-----------------+--------------------+--------------------------+\n",
            "| Chennai Super Kings|              188| Chennai Super Kings|                        36|\n",
            "|     Deccan Chargers|               78|     Deccan Chargers|                        22|\n",
            "|      Delhi Capitals|               38|      Delhi Capitals|                         4|\n",
            "|    Delhi Daredevils|              166|    Delhi Daredevils|                        49|\n",
            "|       Gujarat Lions|               32|       Gujarat Lions|                        12|\n",
            "|     Kings XI Punjab|              184|     Kings XI Punjab|                        53|\n",
            "|Kochi Tuskers Kerala|               14|Kochi Tuskers Kerala|                         4|\n",
            "|Kolkata Knight Ri...|              190|Kolkata Knight Ri...|                        50|\n",
            "|      Mumbai Indians|              194|      Mumbai Indians|                        38|\n",
            "|       Pune Warriors|               46|       Pune Warriors|                        16|\n",
            "|    Rajasthan Royals|              140|    Rajasthan Royals|                        37|\n",
            "|Rising Pune Super...|               14|Rising Pune Super...|                         5|\n",
            "|Rising Pune Super...|               14|Rising Pune Super...|                         5|\n",
            "|Royal Challengers...|              216|Royal Challengers...|                        61|\n",
            "| Sunrisers Hyderabad|              118| Sunrisers Hyderabad|                        30|\n",
            "+--------------------+-----------------+--------------------+--------------------------+\n",
            "\n"
          ]
        }
      ]
    },
    {
      "cell_type": "code",
      "source": [
        "tl = tocount.alias('tocount')\n",
        "tp = toss_win_match_win_count.alias('toss_win_match_win_count')\n",
        "full_outer_join_2 = tl.join(tp, tl.team1 == tp.winner,how='full') # Could also use 'full_outer'\n",
        "full_outer_join_2.show()"
      ],
      "metadata": {
        "colab": {
          "base_uri": "https://localhost:8080/"
        },
        "id": "ViTT34s-mY-p",
        "outputId": "be8d531b-6ff1-44bc-d6ea-b43b1a846b69"
      },
      "execution_count": null,
      "outputs": [
        {
          "output_type": "stream",
          "name": "stdout",
          "text": [
            "+--------------------+-----------------+--------------------+------------------------+\n",
            "|               team1|total_match_count|              winner|toss_win_match_win_count|\n",
            "+--------------------+-----------------+--------------------+------------------------+\n",
            "| Chennai Super Kings|              188| Chennai Super Kings|                      61|\n",
            "|     Deccan Chargers|               78|     Deccan Chargers|                      19|\n",
            "|      Delhi Capitals|               38|      Delhi Capitals|                      10|\n",
            "|    Delhi Daredevils|              166|    Delhi Daredevils|                      35|\n",
            "|       Gujarat Lions|               32|       Gujarat Lions|                      10|\n",
            "|     Kings XI Punjab|              184|     Kings XI Punjab|                      36|\n",
            "|Kochi Tuskers Kerala|               14|Kochi Tuskers Kerala|                       4|\n",
            "|Kolkata Knight Ri...|              190|Kolkata Knight Ri...|                      55|\n",
            "|      Mumbai Indians|              194|      Mumbai Indians|                      61|\n",
            "|       Pune Warriors|               46|       Pune Warriors|                       3|\n",
            "|    Rajasthan Royals|              140|    Rajasthan Royals|                      44|\n",
            "|Rising Pune Super...|               14|Rising Pune Super...|                       5|\n",
            "|Rising Pune Super...|               14|Rising Pune Super...|                       3|\n",
            "|Royal Challengers...|              216|Royal Challengers...|                      43|\n",
            "| Sunrisers Hyderabad|              118| Sunrisers Hyderabad|                      29|\n",
            "+--------------------+-----------------+--------------------+------------------------+\n",
            "\n"
          ]
        }
      ]
    },
    {
      "cell_type": "code",
      "source": [
        "t1 =full_outer_join_2.alias('full_outer_join_2')\n",
        "t2 = toss_win_match_loss_count.alias('toss_win_match_loss_count')\n",
        "full_outer_join_3 = t1.join(t2, t1.team1 == t2.winner,how='full') # Could also use 'full_outer'\n",
        "full_outer_join_3.show()"
      ],
      "metadata": {
        "colab": {
          "base_uri": "https://localhost:8080/"
        },
        "id": "CUCaC1S_nfSL",
        "outputId": "aee950e6-44ae-46b0-d9cf-2c89d3b323b2"
      },
      "execution_count": null,
      "outputs": [
        {
          "output_type": "stream",
          "name": "stdout",
          "text": [
            "+--------------------+-----------------+--------------------+------------------------+--------------------+-------------------------+\n",
            "|               team1|total_match_count|              winner|toss_win_match_win_count|              winner|toss_win_match_loss_count|\n",
            "+--------------------+-----------------+--------------------+------------------------+--------------------+-------------------------+\n",
            "| Chennai Super Kings|              188| Chennai Super Kings|                      61| Chennai Super Kings|                       45|\n",
            "|     Deccan Chargers|               78|     Deccan Chargers|                      19|     Deccan Chargers|                       10|\n",
            "|      Delhi Capitals|               38|      Delhi Capitals|                      10|      Delhi Capitals|                        9|\n",
            "|    Delhi Daredevils|              166|    Delhi Daredevils|                      35|    Delhi Daredevils|                       32|\n",
            "|       Gujarat Lions|               32|       Gujarat Lions|                      10|       Gujarat Lions|                        3|\n",
            "|     Kings XI Punjab|              184|     Kings XI Punjab|                      36|     Kings XI Punjab|                       52|\n",
            "|Kochi Tuskers Kerala|               14|Kochi Tuskers Kerala|                       4|Kochi Tuskers Kerala|                        2|\n",
            "|Kolkata Knight Ri...|              190|Kolkata Knight Ri...|                      55|Kolkata Knight Ri...|                       44|\n",
            "|      Mumbai Indians|              194|      Mumbai Indians|                      61|      Mumbai Indians|                       59|\n",
            "|                null|             null|                null|                    null|                  NA|                        4|\n",
            "|       Pune Warriors|               46|       Pune Warriors|                       3|       Pune Warriors|                        9|\n",
            "|    Rajasthan Royals|              140|    Rajasthan Royals|                      44|    Rajasthan Royals|                       37|\n",
            "|Rising Pune Super...|               14|Rising Pune Super...|                       5|Rising Pune Super...|                        5|\n",
            "|Rising Pune Super...|               14|Rising Pune Super...|                       3|Rising Pune Super...|                        2|\n",
            "|Royal Challengers...|              216|Royal Challengers...|                      43|Royal Challengers...|                       48|\n",
            "| Sunrisers Hyderabad|              118| Sunrisers Hyderabad|                      29| Sunrisers Hyderabad|                       37|\n",
            "+--------------------+-----------------+--------------------+------------------------+--------------------+-------------------------+\n",
            "\n"
          ]
        }
      ]
    },
    {
      "cell_type": "code",
      "source": [
        "t1 =full_outer_join_3.alias('full_outer_join_3')\n",
        "t2 = toss_lose_match_win_count.alias('toss_lose_match_win_count')\n",
        "full_outer_join_11 = t1.join(t2, t1.team1 == t2.winner,how='full') # Could also use 'full_outer'\n",
        "full_outer_join_11.show()"
      ],
      "metadata": {
        "colab": {
          "base_uri": "https://localhost:8080/"
        },
        "id": "RxaJi4_c5z5e",
        "outputId": "bc34f238-876b-47cb-b266-98a6d891b4d9"
      },
      "execution_count": null,
      "outputs": [
        {
          "output_type": "stream",
          "name": "stdout",
          "text": [
            "+--------------------+-----------------+--------------------+------------------------+--------------------+-------------------------+--------------------+-------------------------+\n",
            "|               team1|total_match_count|              winner|toss_win_match_win_count|              winner|toss_win_match_loss_count|              winner|toss_lose_match_win_count|\n",
            "+--------------------+-----------------+--------------------+------------------------+--------------------+-------------------------+--------------------+-------------------------+\n",
            "|                null|             null|                null|                    null|                  NA|                        4|                null|                     null|\n",
            "| Chennai Super Kings|              188| Chennai Super Kings|                      61| Chennai Super Kings|                       45| Chennai Super Kings|                       45|\n",
            "|     Deccan Chargers|               78|     Deccan Chargers|                      19|     Deccan Chargers|                       10|     Deccan Chargers|                       10|\n",
            "|      Delhi Capitals|               38|      Delhi Capitals|                      10|      Delhi Capitals|                        9|      Delhi Capitals|                        9|\n",
            "|    Delhi Daredevils|              166|    Delhi Daredevils|                      35|    Delhi Daredevils|                       32|    Delhi Daredevils|                       32|\n",
            "|       Gujarat Lions|               32|       Gujarat Lions|                      10|       Gujarat Lions|                        3|       Gujarat Lions|                        3|\n",
            "|     Kings XI Punjab|              184|     Kings XI Punjab|                      36|     Kings XI Punjab|                       52|     Kings XI Punjab|                       52|\n",
            "|Kochi Tuskers Kerala|               14|Kochi Tuskers Kerala|                       4|Kochi Tuskers Kerala|                        2|Kochi Tuskers Kerala|                        2|\n",
            "|Kolkata Knight Ri...|              190|Kolkata Knight Ri...|                      55|Kolkata Knight Ri...|                       44|Kolkata Knight Ri...|                       44|\n",
            "|      Mumbai Indians|              194|      Mumbai Indians|                      61|      Mumbai Indians|                       59|      Mumbai Indians|                       59|\n",
            "|       Pune Warriors|               46|       Pune Warriors|                       3|       Pune Warriors|                        9|       Pune Warriors|                        9|\n",
            "|    Rajasthan Royals|              140|    Rajasthan Royals|                      44|    Rajasthan Royals|                       37|    Rajasthan Royals|                       37|\n",
            "|Rising Pune Super...|               14|Rising Pune Super...|                       5|Rising Pune Super...|                        5|Rising Pune Super...|                        5|\n",
            "|Rising Pune Super...|               14|Rising Pune Super...|                       3|Rising Pune Super...|                        2|Rising Pune Super...|                        2|\n",
            "|Royal Challengers...|              216|Royal Challengers...|                      43|Royal Challengers...|                       48|Royal Challengers...|                       48|\n",
            "| Sunrisers Hyderabad|              118| Sunrisers Hyderabad|                      29| Sunrisers Hyderabad|                       37| Sunrisers Hyderabad|                       37|\n",
            "+--------------------+-----------------+--------------------+------------------------+--------------------+-------------------------+--------------------+-------------------------+\n",
            "\n"
          ]
        }
      ]
    },
    {
      "cell_type": "code",
      "source": [
        "t1 =full_outer_join_11.alias('full_outer_join_11')\n",
        "t2 = toss_lose_match_lose_count.alias('toss_lose_match_lose_count')\n",
        "full_outer_join_12 = t1.join(t2, t1.team1 == t2.loser,how='full') # Could also use 'full_outer'\n",
        "full_outer_join_12.show()"
      ],
      "metadata": {
        "colab": {
          "base_uri": "https://localhost:8080/"
        },
        "id": "fqvNATSv6vnn",
        "outputId": "125be31c-fdd5-4671-a595-cb1286649503"
      },
      "execution_count": null,
      "outputs": [
        {
          "output_type": "stream",
          "name": "stdout",
          "text": [
            "+--------------------+-----------------+--------------------+------------------------+--------------------+-------------------------+--------------------+-------------------------+--------------------+--------------------------+\n",
            "|               team1|total_match_count|              winner|toss_win_match_win_count|              winner|toss_win_match_loss_count|              winner|toss_lose_match_win_count|               loser|toss_lose_match_lose_count|\n",
            "+--------------------+-----------------+--------------------+------------------------+--------------------+-------------------------+--------------------+-------------------------+--------------------+--------------------------+\n",
            "|                null|             null|                null|                    null|                  NA|                        4|                null|                     null|                null|                      null|\n",
            "| Chennai Super Kings|              188| Chennai Super Kings|                      61| Chennai Super Kings|                       45| Chennai Super Kings|                       45| Chennai Super Kings|                        36|\n",
            "|     Deccan Chargers|               78|     Deccan Chargers|                      19|     Deccan Chargers|                       10|     Deccan Chargers|                       10|     Deccan Chargers|                        22|\n",
            "|      Delhi Capitals|               38|      Delhi Capitals|                      10|      Delhi Capitals|                        9|      Delhi Capitals|                        9|      Delhi Capitals|                         4|\n",
            "|    Delhi Daredevils|              166|    Delhi Daredevils|                      35|    Delhi Daredevils|                       32|    Delhi Daredevils|                       32|    Delhi Daredevils|                        49|\n",
            "|       Gujarat Lions|               32|       Gujarat Lions|                      10|       Gujarat Lions|                        3|       Gujarat Lions|                        3|       Gujarat Lions|                        12|\n",
            "|     Kings XI Punjab|              184|     Kings XI Punjab|                      36|     Kings XI Punjab|                       52|     Kings XI Punjab|                       52|     Kings XI Punjab|                        53|\n",
            "|Kochi Tuskers Kerala|               14|Kochi Tuskers Kerala|                       4|Kochi Tuskers Kerala|                        2|Kochi Tuskers Kerala|                        2|Kochi Tuskers Kerala|                         4|\n",
            "|Kolkata Knight Ri...|              190|Kolkata Knight Ri...|                      55|Kolkata Knight Ri...|                       44|Kolkata Knight Ri...|                       44|Kolkata Knight Ri...|                        50|\n",
            "|      Mumbai Indians|              194|      Mumbai Indians|                      61|      Mumbai Indians|                       59|      Mumbai Indians|                       59|      Mumbai Indians|                        38|\n",
            "|       Pune Warriors|               46|       Pune Warriors|                       3|       Pune Warriors|                        9|       Pune Warriors|                        9|       Pune Warriors|                        16|\n",
            "|    Rajasthan Royals|              140|    Rajasthan Royals|                      44|    Rajasthan Royals|                       37|    Rajasthan Royals|                       37|    Rajasthan Royals|                        37|\n",
            "|Rising Pune Super...|               14|Rising Pune Super...|                       5|Rising Pune Super...|                        5|Rising Pune Super...|                        5|Rising Pune Super...|                         5|\n",
            "|Rising Pune Super...|               14|Rising Pune Super...|                       3|Rising Pune Super...|                        2|Rising Pune Super...|                        2|Rising Pune Super...|                         5|\n",
            "|Royal Challengers...|              216|Royal Challengers...|                      43|Royal Challengers...|                       48|Royal Challengers...|                       48|Royal Challengers...|                        61|\n",
            "| Sunrisers Hyderabad|              118| Sunrisers Hyderabad|                      29| Sunrisers Hyderabad|                       37| Sunrisers Hyderabad|                       37| Sunrisers Hyderabad|                        30|\n",
            "+--------------------+-----------------+--------------------+------------------------+--------------------+-------------------------+--------------------+-------------------------+--------------------+--------------------------+\n",
            "\n"
          ]
        }
      ]
    },
    {
      "cell_type": "code",
      "source": [
        "full_outer_join_12=full_outer_join_12.join(tosswinnercount,full_outer_join_12.team1==tosswinnercount.toss_winner,\"inner\").drop(tosswinnercount.toss_winner)\n",
        "full_outer_join_12.show()"
      ],
      "metadata": {
        "colab": {
          "base_uri": "https://localhost:8080/"
        },
        "id": "OvpT2L1nFh6V",
        "outputId": "48c80909-4e5b-4191-d722-81e6fe5a5ff0"
      },
      "execution_count": null,
      "outputs": [
        {
          "output_type": "stream",
          "name": "stdout",
          "text": [
            "+--------------------+-----------------+--------------------+------------------------+--------------------+-------------------------+--------------------+-------------------------+--------------------+--------------------------+--------------------+-----------------+----------------+\n",
            "|               team1|total_match_count|              winner|toss_win_match_win_count|              winner|toss_win_match_loss_count|              winner|toss_lose_match_win_count|               loser|toss_lose_match_lose_count|         toss_winner|toss_winner_count|toss_loser_count|\n",
            "+--------------------+-----------------+--------------------+------------------------+--------------------+-------------------------+--------------------+-------------------------+--------------------+--------------------------+--------------------+-----------------+----------------+\n",
            "| Chennai Super Kings|              188| Chennai Super Kings|                      61| Chennai Super Kings|                       45| Chennai Super Kings|                       45| Chennai Super Kings|                        36| Chennai Super Kings|               97|              81|\n",
            "|     Deccan Chargers|               78|     Deccan Chargers|                      19|     Deccan Chargers|                       10|     Deccan Chargers|                       10|     Deccan Chargers|                        22|     Deccan Chargers|               43|              32|\n",
            "|      Delhi Capitals|               38|      Delhi Capitals|                      10|      Delhi Capitals|                        9|      Delhi Capitals|                        9|      Delhi Capitals|                         4|      Delhi Capitals|               20|              13|\n",
            "|    Delhi Daredevils|              166|    Delhi Daredevils|                      35|    Delhi Daredevils|                       32|    Delhi Daredevils|                       32|    Delhi Daredevils|                        49|    Delhi Daredevils|               80|              81|\n",
            "|       Gujarat Lions|               32|       Gujarat Lions|                      10|       Gujarat Lions|                        3|       Gujarat Lions|                        3|       Gujarat Lions|                        12|       Gujarat Lions|               15|              15|\n",
            "|     Kings XI Punjab|              184|     Kings XI Punjab|                      36|     Kings XI Punjab|                       52|     Kings XI Punjab|                       52|     Kings XI Punjab|                        53|     Kings XI Punjab|               85|             105|\n",
            "|Kochi Tuskers Kerala|               14|Kochi Tuskers Kerala|                       4|Kochi Tuskers Kerala|                        2|Kochi Tuskers Kerala|                        2|Kochi Tuskers Kerala|                         4|Kochi Tuskers Kerala|                8|               6|\n",
            "|Kolkata Knight Ri...|              190|Kolkata Knight Ri...|                      55|Kolkata Knight Ri...|                       44|Kolkata Knight Ri...|                       44|Kolkata Knight Ri...|                        50|Kolkata Knight Ri...|               98|              94|\n",
            "|      Mumbai Indians|              194|      Mumbai Indians|                      61|      Mumbai Indians|                       59|      Mumbai Indians|                       59|      Mumbai Indians|                        38|      Mumbai Indians|              106|              97|\n",
            "|       Pune Warriors|               46|       Pune Warriors|                       3|       Pune Warriors|                        9|       Pune Warriors|                        9|       Pune Warriors|                        16|       Pune Warriors|               20|              26|\n",
            "|    Rajasthan Royals|              140|    Rajasthan Royals|                      44|    Rajasthan Royals|                       37|    Rajasthan Royals|                       37|    Rajasthan Royals|                        37|    Rajasthan Royals|               87|              74|\n",
            "|Rising Pune Super...|               14|Rising Pune Super...|                       5|Rising Pune Super...|                        5|Rising Pune Super...|                        5|Rising Pune Super...|                         5|Rising Pune Super...|                6|              10|\n",
            "|Rising Pune Super...|               14|Rising Pune Super...|                       3|Rising Pune Super...|                        2|Rising Pune Super...|                        2|Rising Pune Super...|                         5|Rising Pune Super...|                7|               7|\n",
            "|Royal Challengers...|              216|Royal Challengers...|                      43|Royal Challengers...|                       48|Royal Challengers...|                       48|Royal Challengers...|                        61|Royal Challengers...|               87|             108|\n",
            "| Sunrisers Hyderabad|              118| Sunrisers Hyderabad|                      29| Sunrisers Hyderabad|                       37| Sunrisers Hyderabad|                       37| Sunrisers Hyderabad|                        30| Sunrisers Hyderabad|               57|              67|\n",
            "+--------------------+-----------------+--------------------+------------------------+--------------------+-------------------------+--------------------+-------------------------+--------------------+--------------------------+--------------------+-----------------+----------------+\n",
            "\n"
          ]
        }
      ]
    },
    {
      "cell_type": "code",
      "source": [
        "probability_win=full_outer_join_12.withColumn(\"percentage_of_win_when_toss_win\",100*(full_outer_join_12[\"toss_win_match_win_count\"])/(full_outer_join_12[\"toss_winner_count\"])).sort(\"percentage_of_win_when_toss_win\",ascending=False)\n",
        "probability_win.show()"
      ],
      "metadata": {
        "colab": {
          "base_uri": "https://localhost:8080/"
        },
        "id": "AgBg5twCqPfj",
        "outputId": "f87507b5-c22f-428c-a39a-abd9cd209b6c"
      },
      "execution_count": null,
      "outputs": [
        {
          "output_type": "stream",
          "name": "stdout",
          "text": [
            "+--------------------+-----------------+--------------------+------------------------+--------------------+-------------------------+--------------------+-------------------------+--------------------+--------------------------+--------------------+-----------------+----------------+-------------------------------+\n",
            "|               team1|total_match_count|              winner|toss_win_match_win_count|              winner|toss_win_match_loss_count|              winner|toss_lose_match_win_count|               loser|toss_lose_match_lose_count|         toss_winner|toss_winner_count|toss_loser_count|percentage_of_win_when_toss_win|\n",
            "+--------------------+-----------------+--------------------+------------------------+--------------------+-------------------------+--------------------+-------------------------+--------------------+--------------------------+--------------------+-----------------+----------------+-------------------------------+\n",
            "|Rising Pune Super...|               14|Rising Pune Super...|                       5|Rising Pune Super...|                        5|Rising Pune Super...|                        5|Rising Pune Super...|                         5|Rising Pune Super...|                6|              10|              83.33333333333333|\n",
            "|       Gujarat Lions|               32|       Gujarat Lions|                      10|       Gujarat Lions|                        3|       Gujarat Lions|                        3|       Gujarat Lions|                        12|       Gujarat Lions|               15|              15|              66.66666666666667|\n",
            "| Chennai Super Kings|              188| Chennai Super Kings|                      61| Chennai Super Kings|                       45| Chennai Super Kings|                       45| Chennai Super Kings|                        36| Chennai Super Kings|               97|              81|              62.88659793814433|\n",
            "|      Mumbai Indians|              194|      Mumbai Indians|                      61|      Mumbai Indians|                       59|      Mumbai Indians|                       59|      Mumbai Indians|                        38|      Mumbai Indians|              106|              97|              57.54716981132076|\n",
            "|Kolkata Knight Ri...|              190|Kolkata Knight Ri...|                      55|Kolkata Knight Ri...|                       44|Kolkata Knight Ri...|                       44|Kolkata Knight Ri...|                        50|Kolkata Knight Ri...|               98|              94|              56.12244897959184|\n",
            "| Sunrisers Hyderabad|              118| Sunrisers Hyderabad|                      29| Sunrisers Hyderabad|                       37| Sunrisers Hyderabad|                       37| Sunrisers Hyderabad|                        30| Sunrisers Hyderabad|               57|              67|              50.87719298245614|\n",
            "|    Rajasthan Royals|              140|    Rajasthan Royals|                      44|    Rajasthan Royals|                       37|    Rajasthan Royals|                       37|    Rajasthan Royals|                        37|    Rajasthan Royals|               87|              74|              50.57471264367816|\n",
            "|      Delhi Capitals|               38|      Delhi Capitals|                      10|      Delhi Capitals|                        9|      Delhi Capitals|                        9|      Delhi Capitals|                         4|      Delhi Capitals|               20|              13|                           50.0|\n",
            "|Kochi Tuskers Kerala|               14|Kochi Tuskers Kerala|                       4|Kochi Tuskers Kerala|                        2|Kochi Tuskers Kerala|                        2|Kochi Tuskers Kerala|                         4|Kochi Tuskers Kerala|                8|               6|                           50.0|\n",
            "|Royal Challengers...|              216|Royal Challengers...|                      43|Royal Challengers...|                       48|Royal Challengers...|                       48|Royal Challengers...|                        61|Royal Challengers...|               87|             108|              49.42528735632184|\n",
            "|     Deccan Chargers|               78|     Deccan Chargers|                      19|     Deccan Chargers|                       10|     Deccan Chargers|                       10|     Deccan Chargers|                        22|     Deccan Chargers|               43|              32|              44.18604651162791|\n",
            "|    Delhi Daredevils|              166|    Delhi Daredevils|                      35|    Delhi Daredevils|                       32|    Delhi Daredevils|                       32|    Delhi Daredevils|                        49|    Delhi Daredevils|               80|              81|                          43.75|\n",
            "|Rising Pune Super...|               14|Rising Pune Super...|                       3|Rising Pune Super...|                        2|Rising Pune Super...|                        2|Rising Pune Super...|                         5|Rising Pune Super...|                7|               7|             42.857142857142854|\n",
            "|     Kings XI Punjab|              184|     Kings XI Punjab|                      36|     Kings XI Punjab|                       52|     Kings XI Punjab|                       52|     Kings XI Punjab|                        53|     Kings XI Punjab|               85|             105|              42.35294117647059|\n",
            "|       Pune Warriors|               46|       Pune Warriors|                       3|       Pune Warriors|                        9|       Pune Warriors|                        9|       Pune Warriors|                        16|       Pune Warriors|               20|              26|                           15.0|\n",
            "+--------------------+-----------------+--------------------+------------------------+--------------------+-------------------------+--------------------+-------------------------+--------------------+--------------------------+--------------------+-----------------+----------------+-------------------------------+\n",
            "\n"
          ]
        }
      ]
    },
    {
      "cell_type": "code",
      "source": [
        "probability_loss=probability_win.withColumn(\"percentage_of_loss_when_toss_win\",100*(probability_win[\"toss_win_match_loss_count\"])/(probability_win[\"toss_winner_count\"])).sort(\"percentage_of_loss_when_toss_win\",ascending=False)\n",
        "probability_loss.show()"
      ],
      "metadata": {
        "colab": {
          "base_uri": "https://localhost:8080/"
        },
        "id": "323WrJubrT2D",
        "outputId": "ea8dde25-7d03-45d1-cea6-a32fc1976dac"
      },
      "execution_count": null,
      "outputs": [
        {
          "output_type": "stream",
          "name": "stdout",
          "text": [
            "+--------------------+-----------------+--------------------+------------------------+--------------------+-------------------------+--------------------+-------------------------+--------------------+--------------------------+--------------------+-----------------+----------------+-------------------------------+--------------------------------+\n",
            "|               team1|total_match_count|              winner|toss_win_match_win_count|              winner|toss_win_match_loss_count|              winner|toss_lose_match_win_count|               loser|toss_lose_match_lose_count|         toss_winner|toss_winner_count|toss_loser_count|percentage_of_win_when_toss_win|percentage_of_loss_when_toss_win|\n",
            "+--------------------+-----------------+--------------------+------------------------+--------------------+-------------------------+--------------------+-------------------------+--------------------+--------------------------+--------------------+-----------------+----------------+-------------------------------+--------------------------------+\n",
            "|Rising Pune Super...|               14|Rising Pune Super...|                       5|Rising Pune Super...|                        5|Rising Pune Super...|                        5|Rising Pune Super...|                         5|Rising Pune Super...|                6|              10|              83.33333333333333|               83.33333333333333|\n",
            "| Sunrisers Hyderabad|              118| Sunrisers Hyderabad|                      29| Sunrisers Hyderabad|                       37| Sunrisers Hyderabad|                       37| Sunrisers Hyderabad|                        30| Sunrisers Hyderabad|               57|              67|              50.87719298245614|               64.91228070175438|\n",
            "|     Kings XI Punjab|              184|     Kings XI Punjab|                      36|     Kings XI Punjab|                       52|     Kings XI Punjab|                       52|     Kings XI Punjab|                        53|     Kings XI Punjab|               85|             105|              42.35294117647059|                61.1764705882353|\n",
            "|      Mumbai Indians|              194|      Mumbai Indians|                      61|      Mumbai Indians|                       59|      Mumbai Indians|                       59|      Mumbai Indians|                        38|      Mumbai Indians|              106|              97|              57.54716981132076|              55.660377358490564|\n",
            "|Royal Challengers...|              216|Royal Challengers...|                      43|Royal Challengers...|                       48|Royal Challengers...|                       48|Royal Challengers...|                        61|Royal Challengers...|               87|             108|              49.42528735632184|              55.172413793103445|\n",
            "| Chennai Super Kings|              188| Chennai Super Kings|                      61| Chennai Super Kings|                       45| Chennai Super Kings|                       45| Chennai Super Kings|                        36| Chennai Super Kings|               97|              81|              62.88659793814433|              46.391752577319586|\n",
            "|       Pune Warriors|               46|       Pune Warriors|                       3|       Pune Warriors|                        9|       Pune Warriors|                        9|       Pune Warriors|                        16|       Pune Warriors|               20|              26|                           15.0|                            45.0|\n",
            "|      Delhi Capitals|               38|      Delhi Capitals|                      10|      Delhi Capitals|                        9|      Delhi Capitals|                        9|      Delhi Capitals|                         4|      Delhi Capitals|               20|              13|                           50.0|                            45.0|\n",
            "|Kolkata Knight Ri...|              190|Kolkata Knight Ri...|                      55|Kolkata Knight Ri...|                       44|Kolkata Knight Ri...|                       44|Kolkata Knight Ri...|                        50|Kolkata Knight Ri...|               98|              94|              56.12244897959184|               44.89795918367347|\n",
            "|    Rajasthan Royals|              140|    Rajasthan Royals|                      44|    Rajasthan Royals|                       37|    Rajasthan Royals|                       37|    Rajasthan Royals|                        37|    Rajasthan Royals|               87|              74|              50.57471264367816|               42.52873563218391|\n",
            "|    Delhi Daredevils|              166|    Delhi Daredevils|                      35|    Delhi Daredevils|                       32|    Delhi Daredevils|                       32|    Delhi Daredevils|                        49|    Delhi Daredevils|               80|              81|                          43.75|                            40.0|\n",
            "|Rising Pune Super...|               14|Rising Pune Super...|                       3|Rising Pune Super...|                        2|Rising Pune Super...|                        2|Rising Pune Super...|                         5|Rising Pune Super...|                7|               7|             42.857142857142854|              28.571428571428573|\n",
            "|Kochi Tuskers Kerala|               14|Kochi Tuskers Kerala|                       4|Kochi Tuskers Kerala|                        2|Kochi Tuskers Kerala|                        2|Kochi Tuskers Kerala|                         4|Kochi Tuskers Kerala|                8|               6|                           50.0|                            25.0|\n",
            "|     Deccan Chargers|               78|     Deccan Chargers|                      19|     Deccan Chargers|                       10|     Deccan Chargers|                       10|     Deccan Chargers|                        22|     Deccan Chargers|               43|              32|              44.18604651162791|               23.25581395348837|\n",
            "|       Gujarat Lions|               32|       Gujarat Lions|                      10|       Gujarat Lions|                        3|       Gujarat Lions|                        3|       Gujarat Lions|                        12|       Gujarat Lions|               15|              15|              66.66666666666667|                            20.0|\n",
            "+--------------------+-----------------+--------------------+------------------------+--------------------+-------------------------+--------------------+-------------------------+--------------------+--------------------------+--------------------+-----------------+----------------+-------------------------------+--------------------------------+\n",
            "\n"
          ]
        }
      ]
    },
    {
      "cell_type": "code",
      "source": [
        "result=probability_loss.select(\"team1\",\"total_match_count\",\"toss_win_match_win_count\",\"toss_win_match_loss_count\",\"toss_lose_match_win_count\",\"toss_lose_match_lose_count\",\"toss_winner_count\",\"toss_loser_count\",\"percentage_of_win_when_toss_win\",\"percentage_of_loss_when_toss_win\")\n",
        "result=result.na.drop()\n",
        "result.show()"
      ],
      "metadata": {
        "colab": {
          "base_uri": "https://localhost:8080/"
        },
        "id": "_Si5rfIjOWXm",
        "outputId": "2c1d250a-25eb-4634-d747-fdf5f481fc8a"
      },
      "execution_count": null,
      "outputs": [
        {
          "output_type": "stream",
          "name": "stdout",
          "text": [
            "+--------------------+-----------------+------------------------+-------------------------+-------------------------+--------------------------+-----------------+----------------+-------------------------------+--------------------------------+\n",
            "|               team1|total_match_count|toss_win_match_win_count|toss_win_match_loss_count|toss_lose_match_win_count|toss_lose_match_lose_count|toss_winner_count|toss_loser_count|percentage_of_win_when_toss_win|percentage_of_loss_when_toss_win|\n",
            "+--------------------+-----------------+------------------------+-------------------------+-------------------------+--------------------------+-----------------+----------------+-------------------------------+--------------------------------+\n",
            "|Rising Pune Super...|               14|                       5|                        5|                        5|                         5|                6|              10|              83.33333333333333|               83.33333333333333|\n",
            "| Sunrisers Hyderabad|              118|                      29|                       37|                       37|                        30|               57|              67|              50.87719298245614|               64.91228070175438|\n",
            "|     Kings XI Punjab|              184|                      36|                       52|                       52|                        53|               85|             105|              42.35294117647059|                61.1764705882353|\n",
            "|      Mumbai Indians|              194|                      61|                       59|                       59|                        38|              106|              97|              57.54716981132076|              55.660377358490564|\n",
            "|Royal Challengers...|              216|                      43|                       48|                       48|                        61|               87|             108|              49.42528735632184|              55.172413793103445|\n",
            "| Chennai Super Kings|              188|                      61|                       45|                       45|                        36|               97|              81|              62.88659793814433|              46.391752577319586|\n",
            "|       Pune Warriors|               46|                       3|                        9|                        9|                        16|               20|              26|                           15.0|                            45.0|\n",
            "|      Delhi Capitals|               38|                      10|                        9|                        9|                         4|               20|              13|                           50.0|                            45.0|\n",
            "|Kolkata Knight Ri...|              190|                      55|                       44|                       44|                        50|               98|              94|              56.12244897959184|               44.89795918367347|\n",
            "|    Rajasthan Royals|              140|                      44|                       37|                       37|                        37|               87|              74|              50.57471264367816|               42.52873563218391|\n",
            "|    Delhi Daredevils|              166|                      35|                       32|                       32|                        49|               80|              81|                          43.75|                            40.0|\n",
            "|Rising Pune Super...|               14|                       3|                        2|                        2|                         5|                7|               7|             42.857142857142854|              28.571428571428573|\n",
            "|Kochi Tuskers Kerala|               14|                       4|                        2|                        2|                         4|                8|               6|                           50.0|                            25.0|\n",
            "|     Deccan Chargers|               78|                      19|                       10|                       10|                        22|               43|              32|              44.18604651162791|               23.25581395348837|\n",
            "|       Gujarat Lions|               32|                      10|                        3|                        3|                        12|               15|              15|              66.66666666666667|                            20.0|\n",
            "+--------------------+-----------------+------------------------+-------------------------+-------------------------+--------------------------+-----------------+----------------+-------------------------------+--------------------------------+\n",
            "\n"
          ]
        }
      ]
    },
    {
      "cell_type": "code",
      "source": [
        "probability_win1=result.withColumn(\"percentage_of_win_when_toss_lose\",100*(result[\"toss_lose_match_win_count\"])/(result[\"toss_loser_count\"])).sort(\"percentage_of_win_when_toss_lose\",ascending=False)\n",
        "probability_win1.show()"
      ],
      "metadata": {
        "colab": {
          "base_uri": "https://localhost:8080/"
        },
        "id": "EN6XlhwZ85Vf",
        "outputId": "f56cf449-13d8-4012-ba93-1a6db154e416"
      },
      "execution_count": null,
      "outputs": [
        {
          "output_type": "stream",
          "name": "stdout",
          "text": [
            "+--------------------+-----------------+------------------------+-------------------------+-------------------------+--------------------------+-----------------+----------------+-------------------------------+--------------------------------+--------------------------------+\n",
            "|               team1|total_match_count|toss_win_match_win_count|toss_win_match_loss_count|toss_lose_match_win_count|toss_lose_match_lose_count|toss_winner_count|toss_loser_count|percentage_of_win_when_toss_win|percentage_of_loss_when_toss_win|percentage_of_win_when_toss_lose|\n",
            "+--------------------+-----------------+------------------------+-------------------------+-------------------------+--------------------------+-----------------+----------------+-------------------------------+--------------------------------+--------------------------------+\n",
            "|      Delhi Capitals|               38|                      10|                        9|                        9|                         4|               20|              13|                           50.0|                            45.0|               69.23076923076923|\n",
            "|      Mumbai Indians|              194|                      61|                       59|                       59|                        38|              106|              97|              57.54716981132076|              55.660377358490564|              60.824742268041234|\n",
            "| Chennai Super Kings|              188|                      61|                       45|                       45|                        36|               97|              81|              62.88659793814433|              46.391752577319586|               55.55555555555556|\n",
            "| Sunrisers Hyderabad|              118|                      29|                       37|                       37|                        30|               57|              67|              50.87719298245614|               64.91228070175438|              55.223880597014926|\n",
            "|    Rajasthan Royals|              140|                      44|                       37|                       37|                        37|               87|              74|              50.57471264367816|               42.52873563218391|                            50.0|\n",
            "|Rising Pune Super...|               14|                       5|                        5|                        5|                         5|                6|              10|              83.33333333333333|               83.33333333333333|                            50.0|\n",
            "|     Kings XI Punjab|              184|                      36|                       52|                       52|                        53|               85|             105|              42.35294117647059|                61.1764705882353|              49.523809523809526|\n",
            "|Kolkata Knight Ri...|              190|                      55|                       44|                       44|                        50|               98|              94|              56.12244897959184|               44.89795918367347|              46.808510638297875|\n",
            "|Royal Challengers...|              216|                      43|                       48|                       48|                        61|               87|             108|              49.42528735632184|              55.172413793103445|               44.44444444444444|\n",
            "|    Delhi Daredevils|              166|                      35|                       32|                       32|                        49|               80|              81|                          43.75|                            40.0|               39.50617283950617|\n",
            "|       Pune Warriors|               46|                       3|                        9|                        9|                        16|               20|              26|                           15.0|                            45.0|               34.61538461538461|\n",
            "|Kochi Tuskers Kerala|               14|                       4|                        2|                        2|                         4|                8|               6|                           50.0|                            25.0|              33.333333333333336|\n",
            "|     Deccan Chargers|               78|                      19|                       10|                       10|                        22|               43|              32|              44.18604651162791|               23.25581395348837|                           31.25|\n",
            "|Rising Pune Super...|               14|                       3|                        2|                        2|                         5|                7|               7|             42.857142857142854|              28.571428571428573|              28.571428571428573|\n",
            "|       Gujarat Lions|               32|                      10|                        3|                        3|                        12|               15|              15|              66.66666666666667|                            20.0|                            20.0|\n",
            "+--------------------+-----------------+------------------------+-------------------------+-------------------------+--------------------------+-----------------+----------------+-------------------------------+--------------------------------+--------------------------------+\n",
            "\n"
          ]
        }
      ]
    },
    {
      "cell_type": "code",
      "source": [
        "probability_win2=probability_win1.withColumn(\"percentage_of_lose_when_toss_lose\",100*(probability_win1[\"toss_lose_match_lose_count\"])/(probability_win1[\"toss_loser_count\"])).sort(\"percentage_of_lose_when_toss_lose\",ascending=False)\n",
        "probability_win2.show()"
      ],
      "metadata": {
        "colab": {
          "base_uri": "https://localhost:8080/"
        },
        "id": "Ye9T9Gnd9P3o",
        "outputId": "929aedb5-2984-420d-a5a8-55351fec7ce3"
      },
      "execution_count": null,
      "outputs": [
        {
          "output_type": "stream",
          "name": "stdout",
          "text": [
            "+--------------------+-----------------+------------------------+-------------------------+-------------------------+--------------------------+-----------------+----------------+-------------------------------+--------------------------------+--------------------------------+---------------------------------+\n",
            "|               team1|total_match_count|toss_win_match_win_count|toss_win_match_loss_count|toss_lose_match_win_count|toss_lose_match_lose_count|toss_winner_count|toss_loser_count|percentage_of_win_when_toss_win|percentage_of_loss_when_toss_win|percentage_of_win_when_toss_lose|percentage_of_lose_when_toss_lose|\n",
            "+--------------------+-----------------+------------------------+-------------------------+-------------------------+--------------------------+-----------------+----------------+-------------------------------+--------------------------------+--------------------------------+---------------------------------+\n",
            "|       Gujarat Lions|               32|                      10|                        3|                        3|                        12|               15|              15|              66.66666666666667|                            20.0|                            20.0|                             80.0|\n",
            "|Rising Pune Super...|               14|                       3|                        2|                        2|                         5|                7|               7|             42.857142857142854|              28.571428571428573|              28.571428571428573|                71.42857142857143|\n",
            "|     Deccan Chargers|               78|                      19|                       10|                       10|                        22|               43|              32|              44.18604651162791|               23.25581395348837|                           31.25|                            68.75|\n",
            "|Kochi Tuskers Kerala|               14|                       4|                        2|                        2|                         4|                8|               6|                           50.0|                            25.0|              33.333333333333336|                66.66666666666667|\n",
            "|       Pune Warriors|               46|                       3|                        9|                        9|                        16|               20|              26|                           15.0|                            45.0|               34.61538461538461|                61.53846153846154|\n",
            "|    Delhi Daredevils|              166|                      35|                       32|                       32|                        49|               80|              81|                          43.75|                            40.0|               39.50617283950617|                60.49382716049383|\n",
            "|Royal Challengers...|              216|                      43|                       48|                       48|                        61|               87|             108|              49.42528735632184|              55.172413793103445|               44.44444444444444|                56.48148148148148|\n",
            "|Kolkata Knight Ri...|              190|                      55|                       44|                       44|                        50|               98|              94|              56.12244897959184|               44.89795918367347|              46.808510638297875|               53.191489361702125|\n",
            "|     Kings XI Punjab|              184|                      36|                       52|                       52|                        53|               85|             105|              42.35294117647059|                61.1764705882353|              49.523809523809526|               50.476190476190474|\n",
            "|Rising Pune Super...|               14|                       5|                        5|                        5|                         5|                6|              10|              83.33333333333333|               83.33333333333333|                            50.0|                             50.0|\n",
            "|    Rajasthan Royals|              140|                      44|                       37|                       37|                        37|               87|              74|              50.57471264367816|               42.52873563218391|                            50.0|                             50.0|\n",
            "| Sunrisers Hyderabad|              118|                      29|                       37|                       37|                        30|               57|              67|              50.87719298245614|               64.91228070175438|              55.223880597014926|               44.776119402985074|\n",
            "| Chennai Super Kings|              188|                      61|                       45|                       45|                        36|               97|              81|              62.88659793814433|              46.391752577319586|               55.55555555555556|                44.44444444444444|\n",
            "|      Mumbai Indians|              194|                      61|                       59|                       59|                        38|              106|              97|              57.54716981132076|              55.660377358490564|              60.824742268041234|               39.175257731958766|\n",
            "|      Delhi Capitals|               38|                      10|                        9|                        9|                         4|               20|              13|                           50.0|                            45.0|               69.23076923076923|                30.76923076923077|\n",
            "+--------------------+-----------------+------------------------+-------------------------+-------------------------+--------------------------+-----------------+----------------+-------------------------------+--------------------------------+--------------------------------+---------------------------------+\n",
            "\n"
          ]
        }
      ]
    },
    {
      "cell_type": "code",
      "source": [
        "pdf_1=probability_win2.toPandas()\n",
        "pdf_1.plot(x=\"team1\", y=[\"percentage_of_win_when_toss_win\"], kind=\"bar\")"
      ],
      "metadata": {
        "id": "MBofPfYJE09Q",
        "colab": {
          "base_uri": "https://localhost:8080/",
          "height": 431
        },
        "outputId": "eb856a12-8dcf-4bd1-d462-493bd2f204e8"
      },
      "execution_count": null,
      "outputs": [
        {
          "output_type": "execute_result",
          "data": {
            "text/plain": [
              "<matplotlib.axes._subplots.AxesSubplot at 0x7f853d8ba550>"
            ]
          },
          "metadata": {},
          "execution_count": 74
        },
        {
          "output_type": "display_data",
          "data": {
            "image/png": "[encoded data removed]",
            "text/plain": [
              "<Figure size 432x288 with 1 Axes>"
            ]
          },
          "metadata": {
            "needs_background": "light"
          }
        }
      ]
    },
    {
      "cell_type": "code",
      "source": [
        "pdf_1.plot(x=\"team1\", y=[\"percentage_of_loss_when_toss_win\"], kind=\"bar\")"
      ],
      "metadata": {
        "colab": {
          "base_uri": "https://localhost:8080/",
          "height": 431
        },
        "id": "cxAFElvKKvE8",
        "outputId": "604d36f1-e1c8-430b-844b-ce94bc7e9c28"
      },
      "execution_count": null,
      "outputs": [
        {
          "output_type": "execute_result",
          "data": {
            "text/plain": [
              "<matplotlib.axes._subplots.AxesSubplot at 0x7f853d7707d0>"
            ]
          },
          "metadata": {},
          "execution_count": 75
        },
        {
          "output_type": "display_data",
          "data": {
            "image/png": "[encoded data removed]",
            "text/plain": [
              "<Figure size 432x288 with 1 Axes>"
            ]
          },
          "metadata": {
            "needs_background": "light"
          }
        }
      ]
    },
    {
      "cell_type": "code",
      "source": [
        "pdf_2=probability_win2.toPandas()\n",
        "pdf_2.plot(x=\"team1\", y=[\"percentage_of_win_when_toss_lose\"], kind=\"bar\")"
      ],
      "metadata": {
        "colab": {
          "base_uri": "https://localhost:8080/",
          "height": 431
        },
        "id": "7emC9Kfo94J_",
        "outputId": "1e75038d-eed8-48a6-9941-9e779476cbbb"
      },
      "execution_count": null,
      "outputs": [
        {
          "output_type": "execute_result",
          "data": {
            "text/plain": [
              "<matplotlib.axes._subplots.AxesSubplot at 0x7f853d2709d0>"
            ]
          },
          "metadata": {},
          "execution_count": 76
        },
        {
          "output_type": "display_data",
          "data": {
            "image/png": "[encoded data removed]",
            "text/plain": [
              "<Figure size 432x288 with 1 Axes>"
            ]
          },
          "metadata": {
            "needs_background": "light"
          }
        }
      ]
    },
    {
      "cell_type": "code",
      "source": [
        "pdf_2.plot(x=\"team1\", y=[\"percentage_of_lose_when_toss_lose\"], kind=\"bar\")"
      ],
      "metadata": {
        "colab": {
          "base_uri": "https://localhost:8080/",
          "height": 431
        },
        "id": "Wk4P9GnsK7P1",
        "outputId": "44216184-91c9-4313-f21f-1ca95cc85da9"
      },
      "execution_count": null,
      "outputs": [
        {
          "output_type": "execute_result",
          "data": {
            "text/plain": [
              "<matplotlib.axes._subplots.AxesSubplot at 0x7f853d1a2410>"
            ]
          },
          "metadata": {},
          "execution_count": 77
        },
        {
          "output_type": "display_data",
          "data": {
            "image/png": "[encoded data removed]",
            "text/plain": [
              "<Figure size 432x288 with 1 Axes>"
            ]
          },
          "metadata": {
            "needs_background": "light"
          }
        }
      ]
    },
    {
      "cell_type": "code",
      "source": [
        "ipl_matches.select(\"winner\").distinct().collect()"
      ],
      "metadata": {
        "colab": {
          "base_uri": "https://localhost:8080/"
        },
        "id": "1a5cMjvwI-Bi",
        "outputId": "90b1c678-81e0-480c-a3a5-92b05222736a"
      },
      "execution_count": null,
      "outputs": [
        {
          "output_type": "execute_result",
          "data": {
            "text/plain": [
              "[Row(winner='Sunrisers Hyderabad'),\n",
              " Row(winner='Chennai Super Kings'),\n",
              " Row(winner='NA'),\n",
              " Row(winner='Rising Pune Supergiant'),\n",
              " Row(winner='Deccan Chargers'),\n",
              " Row(winner='Kochi Tuskers Kerala'),\n",
              " Row(winner='Rajasthan Royals'),\n",
              " Row(winner='Gujarat Lions'),\n",
              " Row(winner='Royal Challengers Bangalore'),\n",
              " Row(winner='Kolkata Knight Riders'),\n",
              " Row(winner='Rising Pune Supergiants'),\n",
              " Row(winner='Kings XI Punjab'),\n",
              " Row(winner='Pune Warriors'),\n",
              " Row(winner='Delhi Daredevils'),\n",
              " Row(winner='Delhi Capitals'),\n",
              " Row(winner='Mumbai Indians')]"
            ]
          },
          "metadata": {},
          "execution_count": 78
        }
      ]
    },
    {
      "cell_type": "code",
      "source": [
        "noresult_match=ipl_matches.filter(ipl_matches.winner==\"NA\")\n",
        "noresult_match.count()"
      ],
      "metadata": {
        "colab": {
          "base_uri": "https://localhost:8080/"
        },
        "id": "vuzBx-M7JWPC",
        "outputId": "b0b0a562-f5b0-48e7-ee8c-b3842ffd84e3"
      },
      "execution_count": null,
      "outputs": [
        {
          "output_type": "execute_result",
          "data": {
            "text/plain": [
              "4"
            ]
          },
          "metadata": {},
          "execution_count": 79
        }
      ]
    },
    {
      "cell_type": "markdown",
      "source": [
        "#Section 3: Expose Data"
      ],
      "metadata": {
        "id": "PEo-g9WTKQPQ"
      }
    },
    {
      "cell_type": "code",
      "source": [
        "##Example Colab\n",
        "\n",
        "from pyspark.sql import SparkSession\n",
        "\n",
        "class Database:\n",
        "  #Constructor \n",
        "  #   Takes value from either a url if url provided or takes the data from the csv file\n",
        "  def __init__(self, appName = 'TEST', matchesURL = \"\", venueURL = \"\", BallbyBallURL = \"\"):\n",
        "    ##Creating a spark session whose name is given as appName\n",
        "    self.spark = (SparkSession\n",
        "    .builder\n",
        "    .appName(appName)\n",
        "    .getOrCreate())\n",
        "    try:\n",
        "       #Loading the matches dataset\n",
        "      if matchesURL == \"\":\n",
        "        self.ipl_matches = self.spark.read.load(\"ipl_matches.csv\",format=\"csv\", sep=\",\", inferSchema=\"true\", header=\"true\")\n",
        "      \n",
        "      if venueURL == \"\":\n",
        "        self.ipl_venue = self.spark.read.load(\"ipl_venue.csv\",format=\"csv\", sep=\",\", inferSchema=\"true\", header=\"true\")\n",
        "      if BallbyBallURL == \"\":\n",
        "        self.ipl_ball_by_ball = self.spark.read.load(\"ipl_ball_by_ball.csv\",format=\"csv\", sep=\",\", inferSchema=\"true\", header=\"true\")\n",
        "\n",
        "      \n",
        "    \n",
        "    #self.df_ball_by_ball = self.spark.read.load(\"ipl_ball_by_ball.csv\", format=\"csv\", sep=\",\", inferSchema=\"true\", header=\"true\"\n",
        "    \n",
        "      self.ipl_venue = self.spark.read.load(\"ipl_venue.csv\",format=\"csv\", sep=\",\", inferSchema=\"true\", header=\"true\")\n",
        "      self.ipl_matches = self.spark.read.load(\"ipl_matches.csv\",format=\"csv\", sep=\",\", inferSchema=\"true\", header=\"true\")\n",
        "      self.ipl_ball_by_ball = self.spark.read.load(\"ipl_ball_by_ball.csv\",format=\"csv\", sep=\",\", inferSchema=\"true\", header=\"true\")\n",
        "      self.ipl_matches.createOrReplaceTempView(\"ipl_matches\") \n",
        "      self.ipl_venue.createOrReplaceTempView(\"ipl_venues\") \n",
        "      self.ipl_ball_by_ball.createOrReplaceTempView(\"ipl_ball_by_ball\")\n",
        "    except:\n",
        "      print(\"Dataset not found\")\n",
        "\n",
        "  def get_query1_result(self):\n",
        "    try:\n",
        "      self.eliminator=self.ipl_matches.filter(self.ipl_matches.eliminator == \"Y\").groupBy('venue_id').count().sort('count',ascending=False).limit(3)\n",
        "      self.top3=self.ipl_venue.join(self.eliminator,self.ipl_venue.venue_id== self.eliminator.venue_id,\"inner\").sort('count',ascending=False).select(\"venue\").toPandas()\n",
        "      return {\"Q1\" : list(self.top3.venue.values)[:3]}\n",
        "    except:\n",
        "      print(\"Something wrong in your code\")\n",
        "  def get_query2_result(self):\n",
        "    try:\n",
        "      self.caught=self.ipl_ball_by_ball.filter(self.ipl_ball_by_ball.dismissal_kind=='caught').groupBy('fielder').count().sort('count',ascending=False).limit(1)\n",
        "      self.caught=self.caught.toPandas().to_json\n",
        "      return self.caught\n",
        "    except:\n",
        "      print(\"Something wrong in your code\")\n",
        "\n",
        "  def get_query3_result(self):\n",
        "    try:\n",
        "      self.method=self.ipl_matches.filter(self.ipl_matches.method=='D/L')\n",
        "      self.highest_wicket_taker=self.ipl_ball_by_ball.join(self.method,self.ipl_ball_by_ball.match_id== self.method.match_id,\"inner\")\\\n",
        "      .filter((self.ipl_ball_by_ball.dismissal_kind!=\"NA\")&(self.ipl_ball_by_ball.dismissal_kind!=\"retired hurt\"))\\\n",
        "      .groupBy(\"bowler\").count().sort('count',ascending=False).limit(1)\n",
        "      self.highest_wicket_taker=self.highest_wicket_taker.toPandas().to_json\n",
        "      return self.highest_wicket_taker\n",
        "    except:\n",
        "      print(\"Something wrong in your code\")\n",
        "  def get_query4_result(self):\n",
        "    try:\n",
        "      self.e=self.ipl_ball_by_ball.filter(self.ipl_ball_by_ball[\"overs\"]>=7)\\\n",
        "      .filter((self.ipl_ball_by_ball.extras_type!='noballs') & (self.ipl_ball_by_ball.extras_type!='wides'))\n",
        "      self.ball_face=self.e.groupBy(\"batsman\").count()\n",
        "      self.ball_face=self.ball_face.withColumnRenamed(\"count\",\"No_of_ball_faced\")\n",
        "      self.l=self.e.groupBy('batsman').sum()\n",
        "      self.addcolumn=self.l.join(self.ball_face,self.l.batsman==self.ball_face.batsman,\"inner\").drop(self.ball_face.batsman).filter(self.ball_face[\"No_of_ball_faced\"]>1000)\\\n",
        "      .sort(\"sum(batsman_runs)\",ascending=False)\n",
        "      self.strike_rate =self.addcolumn.withColumn('Strike_rate', \\\n",
        "                                        100*((self.addcolumn['sum(batsman_runs)'])/(self.addcolumn['No_of_ball_faced'])))\\\n",
        "                                        .sort(\"Strike_rate\",ascending=False).limit(1).select(\"batsman\",\"Strike_rate\").toPandas().to_json\n",
        "      return self.strike_rate\n",
        "    except:\n",
        "      print(\"Something wrong in your code\")\n",
        "  def get_query5_result(self):\n",
        "    try:\n",
        "      self.k=self.ipl_ball_by_ball.groupBy('match_id').sum().select(\"match_id\",\"sum(extra_runs)\").sort(\"sum(extra_runs)\",ascending=False).limit(1)\n",
        "      self.id=self.k.first()['match_id']\n",
        "      self.v=self.ipl_matches.filter(self.ipl_matches.match_id==self.id)\n",
        "      self.id1=self.v.first()['venue_id']\n",
        "      self.highestextraruns=self.ipl_venue.where(self.ipl_venue.venue_id==self.id1).toPandas().to_json\n",
        "      return self.highestextraruns\n",
        "    except:\n",
        "      print(\"Something wrong in your code\")\n",
        "  def get_query6_result(self):\n",
        "    try:\n",
        "      self.neutral=self.ipl_matches.filter(self.ipl_matches.neutral_venue==1).groupBy(\"player_of_match\").count().sort(\"count\",ascending=False).limit(5).toPandas().to_json\n",
        "      return self.neutral\n",
        "    except:\n",
        "      print(\"Something wrong in your code\")\n",
        "  def get_query7_result(self):\n",
        "    try:\n",
        "      self.no_of=self.ipl_ball_by_ball.filter(self.ipl_ball_by_ball[\"player_dismissed\"]!=\"NA\").groupBy('batsman').count()\n",
        "      self.batsman_runs=self.ipl_ball_by_ball.groupBy(\"batsman\").sum()\n",
        "      self.batsman_runs=self.batsman_runs.join(self.no_of,self.batsman_runs.batsman==self.no_of.batsman,\"inner\").drop(self.no_of.batsman)\\\n",
        "      .filter(self.batsman_runs[\"sum(batsman_runs)\"]>2000).sort(\"sum(batsman_runs)\",ascending=False)\n",
        "      self.bat_avg =self.batsman_runs.withColumn('bat_avg',((self.batsman_runs['sum(batsman_runs)'])/(self.batsman_runs['count']))).sort('bat_avg',ascending=False)\n",
        "      self.top10=self.bat_avg.select(\"batsman\",\"bat_avg\").limit(10).toPandas().to_json\n",
        "      return self.top10\n",
        "    except:\n",
        "      print(\"Something wrong in your code\")\n",
        "  def get_query8_result(self):\n",
        "    try:\n",
        "      self.umpire1=self.ipl_matches.groupBy(\"umpire1\").count().sort(\"umpire1\",ascending=False)\n",
        "      self.umpire2=self.ipl_matches.groupBy(\"umpire2\").count().sort(\"umpire2\",ascending=False)\n",
        "      self.umpire1=self.umpire1.withColumnRenamed(\"count\",\"count1\")\n",
        "      self.ta = self.umpire1.alias('umpire1')\n",
        "      self.tb = self.umpire2.alias('umpire2')\n",
        "      self.full_outer_join = self.ta.join(self.tb, self.ta.umpire1 == self.tb.umpire2,how='inner').drop(self.tb.umpire2)\n",
        "      self.umpirecount=self.full_outer_join.withColumn(\"umpire_count\",\\\n",
        "                                                       (self.full_outer_join[\"count\"]+self.full_outer_join[\"count1\"]))\\\n",
        "                                                       .sort(\"umpire_count\",ascending=False).select(\"umpire1\",\"umpire_count\")\\\n",
        "                                                       .limit(1).toPandas().to_json\n",
        "      return self.umpirecount\n",
        "    except:\n",
        "      print(\"Something wrong in your code\")\n",
        "  def get_query9_result(self):\n",
        "    try:\n",
        "      self.virat=self.ipl_ball_by_ball.filter(self.ipl_ball_by_ball.batsman==\"V Kohli\").groupBy(\"match_id\").sum()\\\n",
        "      .sort(\"sum(batsman_runs)\",ascending=False)\n",
        "      self.matid=self.virat.collect()[0][\"match_id\"]\n",
        "      self.Vkohli_match=self.ipl_matches.filter(self.ipl_matches[\"match_id\"]==matid)\n",
        "      self.venid=self.Vkohli_match.collect()[0][\"venue_id\"]\n",
        "      self.Vkohli=self.ipl_venue.filter(self.ipl_venue[\"venue_id\"]==self.venid).toPandas().to_json\n",
        "      return self.Vkohli\n",
        "    except:\n",
        "      print(\"Something wrong in your code\")\n",
        "  def get_query10_result(self):\n",
        "    try:\n",
        "      from pyspark.sql.functions import when\n",
        "      self.toss_lose=self.ipl_matches.withColumn(\"toss_loser\",when(self.ipl_matches.team1!= self.ipl_matches.toss_winner,self.ipl_matches.team1).when(self.ipl_matches.team2!= self.ipl_matches.toss_winner,self.ipl_matches.team2))\n",
        "      self.loser=self.toss_lose.withColumn(\"loser\",when(self.toss_lose.team1!= self.toss_lose.winner,self.toss_lose.team1).when(self.toss_lose.team2!= self.toss_lose.winner,self.toss_lose.team2))\n",
        "      self.toss_loser=self.loser.groupBy(\"toss_loser\").count()\n",
        "      self.toss_loser=self.toss_loser.withColumnRenamed(\"count\",\"toss_loser_count\")\n",
        "      self.toss_winner=self.loser.groupBy(\"toss_winner\").count()\n",
        "      self.toss_winner=self.toss_winner.withColumnRenamed(\"count\",\"toss_winner_count\")\n",
        "      self.tosswinnercount=self.toss_winner.join(self.toss_loser,self.toss_winner.toss_winner == self.toss_loser.toss_loser,\"inner\").drop(self.toss_loser.toss_loser)\n",
        "      self.toss_loss_match_win=self.loser.filter(self.loser.toss_loser==self.loser.winner)\n",
        "      self.toss_loss_match_lose=self.loser.filter(self.loser.toss_loser!=self.loser.winner)\n",
        "      self.toss_win_match_win=self.ipl_matches.filter(self.ipl_matches.toss_winner==self.ipl_matches.winner)\n",
        "      self.toss_win_match_loss=self.ipl_matches.filter(self.ipl_matches.toss_winner!=self.ipl_matches.winner)\n",
        "      self.team1=self.ipl_matches.groupBy(\"team1\").count()\n",
        "      self.team2=self.ipl_matches.groupBy(\"team2\").count()\n",
        "      self.team1=self.team1.withColumnRenamed(\"count\",\"count1\")\n",
        "      self.ts = self.team1.alias('team1')\n",
        "      self.tc = self.team2.alias('team2')\n",
        "      self.full_outer_join_1 = self.ts.join(self.tc, self.ts.team1 == self.tc.team2,how='full') # Could also use 'full_outer'\n",
        "      self.tocount=self.full_outer_join_1.withColumn(\"total_match_count\",(self.full_outer_join_1[\"count1\"])+(self.full_outer_join_1[\"count1\"])).sort(\"team1\",ascending=True)\n",
        "      self.tocount=self.tocount.select(self.tocount[\"team1\"],self.tocount[\"total_match_count\"])\n",
        "      self.toss_lose_match_win_count=self.toss_loss_match_win.groupBy(\"winner\").count().sort(\"winner\",ascending=True)\n",
        "      self.toss_lose_match_win_count=self.toss_lose_match_win_count.withColumnRenamed(\"count\",\"toss_lose_match_win_count\")\n",
        "      self.toss_lose_match_lose_count=self.toss_loss_match_lose.groupBy(\"loser\").count().sort(\"loser\",ascending=True)\n",
        "      self.toss_lose_match_lose_count=self.toss_lose_match_lose_count.withColumnRenamed(\"count\",\"toss_lose_match_lose_count\")\n",
        "      self.toss_win_match_win_count=self.toss_win_match_win.groupBy(\"winner\").count().sort(\"winner\",ascending=True)\n",
        "      self.toss_win_match_win_count=self.toss_win_match_win_count.withColumnRenamed(\"count\",\"toss_win_match_win_count\")\n",
        "      self.toss_win_match_loss_count=self.toss_win_match_loss.groupBy(\"winner\").count().sort(\"winner\",ascending=True)\n",
        "      self.toss_win_match_loss_count=self.toss_win_match_loss_count.withColumnRenamed(\"count\",\"toss_win_match_loss_count\")\n",
        "      self.to = self.tocount.alias('tocount')\n",
        "      self.ti = self.toss_lose_match_win_count.alias('toss_lose_match_win_count')\n",
        "      self.full_outer_join_8 = self.to.join(self.ti, self.to.team1 == self.ti.winner,how='full') \n",
        "      self.tu = self.tocount.alias('tocount')\n",
        "      self.ty = self.toss_lose_match_lose_count.alias('toss_lose_match_lose_count')\n",
        "      self.full_outer_join_9 = self.tu.join(self.ty, self.tu.team1 == self.ty.loser,how='full')\n",
        "      self.tl = self.tocount.alias('tocount')\n",
        "      self.tp = self.toss_win_match_win_count.alias('toss_win_match_win_count')\n",
        "      self.full_outer_join_2 = self.tl.join(self.tp, self.tl.team1 == self.tp.winner,how='full')\n",
        "      self.t1 =self.full_outer_join_2.alias('full_outer_join_2')\n",
        "      self.t2 = self.toss_win_match_loss_count.alias('toss_win_match_loss_count')\n",
        "      self.full_outer_join_3 = self.t1.join(self.t2, self.t1.team1 == self.t2.winner,how='full')\n",
        "      self.t1 =self.full_outer_join_3.alias('full_outer_join_3')\n",
        "      self.t2 = self.toss_lose_match_win_count.alias('toss_lose_match_win_count')\n",
        "      self.full_outer_join_11 = self.t1.join(self.t2, self.t1.team1 == self.t2.winner,how='full')\n",
        "      self.t1 =self.full_outer_join_11.alias('full_outer_join_11')\n",
        "      self.t2 = self.toss_lose_match_lose_count.alias('toss_lose_match_lose_count')\n",
        "      self.full_outer_join_12 = self.t1.join(self.t2, self.t1.team1 == self.t2.loser,how='full')\n",
        "      self.full_outer_join_12=self.full_outer_join_12.join(self.tosswinnercount,self.full_outer_join_12.team1==self.tosswinnercount.toss_winner,\"inner\").drop(self.tosswinnercount.toss_winner)\n",
        "      self.probability_win=self.full_outer_join_12.withColumn(\"percentage_of_win_when_toss_win\",100*(self.full_outer_join_12[\"toss_win_match_win_count\"])/(self.full_outer_join_12[\"toss_winner_count\"])).sort(\"percentage_of_win_when_toss_win\",ascending=False)\n",
        "      self.probability_loss=self.probability_win.withColumn(\"percentage_of_loss_when_toss_win\",100*(self.probability_win[\"toss_win_match_loss_count\"])/(self.probability_win[\"toss_winner_count\"])).sort(\"percentage_of_loss_when_toss_win\",ascending=False) \n",
        "      self.result=self.probability_loss.select(\"team1\",\"total_match_count\",\"toss_win_match_win_count\",\"toss_win_match_loss_count\",\"toss_lose_match_win_count\",\"toss_lose_match_lose_count\",\"toss_winner_count\",\"toss_loser_count\",\"percentage_of_win_when_toss_win\",\"percentage_of_loss_when_toss_win\")\n",
        "      self.result=self.result.na.drop()\n",
        "      self.probability_win1=self.result.withColumn(\"percentage_of_win_when_toss_lose\",100*(self.result[\"toss_lose_match_win_count\"])/(self.result[\"toss_loser_count\"])).sort(\"percentage_of_win_when_toss_lose\",ascending=False)\n",
        "      self.probability_win2=self.probability_win1.withColumn(\"percentage_of_lose_when_toss_lose\",100*(self.probability_win1[\"toss_lose_match_lose_count\"])/(self.probability_win1[\"toss_loser_count\"])).sort(\"percentage_of_lose_when_toss_lose\",ascending=False)\n",
        "      self.pdf_1=self.probability_win2.toPandas()\n",
        "      self.pdf_1.plot(x=\"team1\", y=[\"percentage_of_win_when_toss_win\"], kind=\"bar\")\n",
        "      self.pdf_1.plot(x=\"team1\", y=[\"percentage_of_loss_when_toss_win\"], kind=\"bar\")\n",
        "      self.pdf_1.plot(x=\"team1\", y=[\"percentage_of_win_when_toss_lose\"], kind=\"bar\")\n",
        "      self.pdf_1.plot(x=\"team1\", y=[\"percentage_of_lose_when_toss_lose\"], kind=\"bar\")\n",
        "    except:\n",
        "      print(\"Something wrong in your code\")\n",
        "\n",
        "  "
      ],
      "metadata": {
        "id": "nhpcFrHn-Oeh"
      },
      "execution_count": null,
      "outputs": []
    },
    {
      "cell_type": "code",
      "source": [
        "db = Database()\n",
        "db.get_query1_result()"
      ],
      "metadata": {
        "colab": {
          "base_uri": "https://localhost:8080/"
        },
        "id": "01S6MKnaEym2",
        "outputId": "c00910e2-d040-4a59-f9df-2ec8fe7eb496"
      },
      "execution_count": null,
      "outputs": [
        {
          "output_type": "execute_result",
          "data": {
            "text/plain": [
              "{'Q1': ['Dubai International Cricket Stadium',\n",
              "  'Sheikh Zayed Stadium',\n",
              "  'Feroz Shah Kotla']}"
            ]
          },
          "metadata": {},
          "execution_count": 81
        }
      ]
    },
    {
      "cell_type": "code",
      "source": [
        "db.get_query2_result()"
      ],
      "metadata": {
        "colab": {
          "base_uri": "https://localhost:8080/"
        },
        "id": "WX_XUtBTIN99",
        "outputId": "2b8eada4-b94e-46f7-98b7-b3eae5ab2745"
      },
      "execution_count": null,
      "outputs": [
        {
          "output_type": "execute_result",
          "data": {
            "text/plain": [
              "<bound method NDFrame.to_json of       fielder  count\n",
              "0  KD Karthik    118>"
            ]
          },
          "metadata": {},
          "execution_count": 82
        }
      ]
    },
    {
      "cell_type": "code",
      "source": [
        "db.get_query3_result()"
      ],
      "metadata": {
        "colab": {
          "base_uri": "https://localhost:8080/"
        },
        "id": "w__MtQv0I4u1",
        "outputId": "c559fae6-ad2f-42ed-e873-e03c4c846c53"
      },
      "execution_count": null,
      "outputs": [
        {
          "output_type": "execute_result",
          "data": {
            "text/plain": [
              "<bound method NDFrame.to_json of      bowler  count\n",
              "0  R Ashwin      8>"
            ]
          },
          "metadata": {},
          "execution_count": 83
        }
      ]
    },
    {
      "cell_type": "code",
      "source": [
        "db.get_query4_result()"
      ],
      "metadata": {
        "colab": {
          "base_uri": "https://localhost:8080/"
        },
        "id": "T4xslkuoLcjB",
        "outputId": "47f457c6-ecda-4603-d8d3-aef45f985f46"
      },
      "execution_count": null,
      "outputs": [
        {
          "output_type": "execute_result",
          "data": {
            "text/plain": [
              "<bound method NDFrame.to_json of     batsman  Strike_rate\n",
              "0  CH Gayle   172.805643>"
            ]
          },
          "metadata": {},
          "execution_count": 84
        }
      ]
    },
    {
      "cell_type": "code",
      "source": [
        "db.get_query5_result()"
      ],
      "metadata": {
        "colab": {
          "base_uri": "https://localhost:8080/"
        },
        "id": "jW0bZgIXODS-",
        "outputId": "0554ef86-335c-4af2-bca9-1d772d362e6b"
      },
      "execution_count": null,
      "outputs": [
        {
          "output_type": "execute_result",
          "data": {
            "text/plain": [
              "<bound method NDFrame.to_json of    venue_id         venue     city\n",
              "0        15  Eden Gardens  Kolkata>"
            ]
          },
          "metadata": {},
          "execution_count": 85
        }
      ]
    },
    {
      "cell_type": "code",
      "source": [
        "db.get_query6_result()"
      ],
      "metadata": {
        "colab": {
          "base_uri": "https://localhost:8080/"
        },
        "id": "55d6bI0DQSuw",
        "outputId": "36ef1a02-b2bf-401b-93b8-4f2ca32875e2"
      },
      "execution_count": null,
      "outputs": [
        {
          "output_type": "execute_result",
          "data": {
            "text/plain": [
              "<bound method NDFrame.to_json of   player_of_match  count\n",
              "0       YK Pathan      3\n",
              "1       JH Kallis      3\n",
              "2       JP Duminy      3\n",
              "3      GJ Maxwell      3\n",
              "4   KC Sangakkara      2>"
            ]
          },
          "metadata": {},
          "execution_count": 86
        }
      ]
    },
    {
      "cell_type": "code",
      "source": [
        "db.get_query7_result()"
      ],
      "metadata": {
        "colab": {
          "base_uri": "https://localhost:8080/"
        },
        "id": "pPVcVxdsRfC-",
        "outputId": "501a1e70-f2d1-492e-ff78-b1b317033ec7"
      },
      "execution_count": null,
      "outputs": [
        {
          "output_type": "execute_result",
          "data": {
            "text/plain": [
              "<bound method NDFrame.to_json of           batsman    bat_avg\n",
              "0        KL Rahul  42.693548\n",
              "1  AB de Villiers  42.535088\n",
              "2       DA Warner  41.698413\n",
              "3       JP Duminy  41.408163\n",
              "4        CH Gayle  41.137931\n",
              "5        SE Marsh  38.703125\n",
              "6        MS Dhoni  36.761905\n",
              "7         V Kohli  36.061350\n",
              "8         RR Pant  35.237288\n",
              "9    F du Plessis  34.358209>"
            ]
          },
          "metadata": {},
          "execution_count": 87
        }
      ]
    },
    {
      "cell_type": "code",
      "source": [
        "db.get_query8_result()"
      ],
      "metadata": {
        "colab": {
          "base_uri": "https://localhost:8080/"
        },
        "id": "Gwt7tNrjSodP",
        "outputId": "7c8fed5d-1073-4b1c-eb93-3e5ee802519c"
      },
      "execution_count": null,
      "outputs": [
        {
          "output_type": "execute_result",
          "data": {
            "text/plain": [
              "<bound method NDFrame.to_json of   umpire1  umpire_count\n",
              "0  S Ravi           121>"
            ]
          },
          "metadata": {},
          "execution_count": 88
        }
      ]
    },
    {
      "cell_type": "code",
      "source": [
        "db.get_query9_result()"
      ],
      "metadata": {
        "colab": {
          "base_uri": "https://localhost:8080/"
        },
        "id": "xBeu5u5oT0-Q",
        "outputId": "6b1fea3f-fa92-4af0-9d85-cc106d010633"
      },
      "execution_count": null,
      "outputs": [
        {
          "output_type": "execute_result",
          "data": {
            "text/plain": [
              "<bound method NDFrame.to_json of    venue_id                  venue       city\n",
              "0        35  M.Chinnaswamy Stadium  Bengaluru>"
            ]
          },
          "metadata": {},
          "execution_count": 89
        }
      ]
    },
    {
      "cell_type": "code",
      "source": [
        "db.get_query10_result()"
      ],
      "metadata": {
        "colab": {
          "base_uri": "https://localhost:8080/",
          "height": 1000
        },
        "id": "nvAbsSbMXxWS",
        "outputId": "677d0a35-021c-4adc-aa79-4c7c61e0eb91"
      },
      "execution_count": null,
      "outputs": [
        {
          "output_type": "display_data",
          "data": {
            "image/png": "[encoded data removed]",
            "text/plain": [
              "<Figure size 432x288 with 1 Axes>"
            ]
          },
          "metadata": {
            "needs_background": "light"
          }
        },
        {
          "output_type": "display_data",
          "data": {
            "image/png": "[encoded data removed]",
            "text/plain": [
              "<Figure size 432x288 with 1 Axes>"
            ]
          },
          "metadata": {
            "needs_background": "light"
          }
        },
        {
          "output_type": "display_data",
          "data": {
            "image/png": "[encoded data removed]",
            "text/plain": [
              "<Figure size 432x288 with 1 Axes>"
            ]
          },
          "metadata": {
            "needs_background": "light"
          }
        },
        {
          "output_type": "display_data",
          "data": {
            "image/png": "[encoded data removed]",
            "text/plain": [
              "<Figure size 432x288 with 1 Axes>"
            ]
          },
          "metadata": {
            "needs_background": "light"
          }
        }
      ]
    }
  ]
}